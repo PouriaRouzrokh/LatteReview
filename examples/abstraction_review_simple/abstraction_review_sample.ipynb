{
 "cells": [
  {
   "cell_type": "markdown",
   "metadata": {},
   "source": [
    "## Setting up the notebook"
   ]
  },
  {
   "cell_type": "markdown",
   "metadata": {},
   "source": [
    "High-level configs"
   ]
  },
  {
   "cell_type": "code",
   "execution_count": 1,
   "metadata": {},
   "outputs": [],
   "source": [
    "%reload_ext autoreload\n",
    "%autoreload 2\n",
    "\n",
    "from dotenv import load_dotenv\n",
    "\n",
    "# Load environment variables from .env file. Adjust the path to the .env file as needed.\n",
    "load_dotenv(dotenv_path='../.env')\n",
    "\n",
    "# Enable asyncio in Jupyter\n",
    "import asyncio\n",
    "import nest_asyncio\n",
    "\n",
    "nest_asyncio.apply()\n",
    "\n",
    "#  Add the package to the path (required if you are running this notebook from the examples folder)\n",
    "import sys\n",
    "sys.path.append('../../')\n"
   ]
  },
  {
   "cell_type": "markdown",
   "metadata": {},
   "source": [
    "Import required packages"
   ]
  },
  {
   "cell_type": "code",
   "execution_count": 6,
   "metadata": {},
   "outputs": [],
   "source": [
    "import json\n",
    "import pandas as pd\n",
    "from pydantic import BaseModel\n",
    "from tqdm.auto import tqdm\n",
    "\n",
    "from lattereview.providers import OpenAIProvider\n",
    "from lattereview.providers import LiteLLMProvider\n",
    "from lattereview.agents import AbstractionReviewer\n",
    "from lattereview.workflows import ReviewWorkflow"
   ]
  },
  {
   "cell_type": "markdown",
   "metadata": {},
   "source": [
    "## Data"
   ]
  },
  {
   "cell_type": "markdown",
   "metadata": {},
   "source": [
    "Building five example stories and dummy question-answering pairs from each story:"
   ]
  },
  {
   "cell_type": "code",
   "execution_count": 3,
   "metadata": {},
   "outputs": [
    {
     "name": "stderr",
     "output_type": "stream",
     "text": [
      "100%|██████████| 5/5 [00:13<00:00,  2.61s/it]\n"
     ]
    },
    {
     "data": {
      "text/html": [
       "<div>\n",
       "<style scoped>\n",
       "    .dataframe tbody tr th:only-of-type {\n",
       "        vertical-align: middle;\n",
       "    }\n",
       "\n",
       "    .dataframe tbody tr th {\n",
       "        vertical-align: top;\n",
       "    }\n",
       "\n",
       "    .dataframe thead th {\n",
       "        text-align: right;\n",
       "    }\n",
       "</style>\n",
       "<table border=\"1\" class=\"dataframe\">\n",
       "  <thead>\n",
       "    <tr style=\"text-align: right;\">\n",
       "      <th></th>\n",
       "      <th>story</th>\n",
       "      <th>location</th>\n",
       "      <th>characters</th>\n",
       "    </tr>\n",
       "  </thead>\n",
       "  <tbody>\n",
       "    <tr>\n",
       "      <th>0</th>\n",
       "      <td>In the mystical town of Elderia, nestled deep ...</td>\n",
       "      <td>Elderia</td>\n",
       "      <td>[Alaric, Luminara]</td>\n",
       "    </tr>\n",
       "    <tr>\n",
       "      <th>1</th>\n",
       "      <td>On the edge of the serene Lake Eldoria, the ec...</td>\n",
       "      <td>Lake Eldoria</td>\n",
       "      <td>[Milo Gearston, Elara, Oliver]</td>\n",
       "    </tr>\n",
       "    <tr>\n",
       "      <th>2</th>\n",
       "      <td>In the heart of the ancient, whispering forest...</td>\n",
       "      <td>Eldergreen Forest</td>\n",
       "      <td>[Dr. Mabel Tintwhistle, Whiskers, Simon Sprocket]</td>\n",
       "    </tr>\n",
       "    <tr>\n",
       "      <th>3</th>\n",
       "      <td>In the heart of the Enchanted Forest, where th...</td>\n",
       "      <td>Enchanted Forest</td>\n",
       "      <td>[Elara, Finn, Orin]</td>\n",
       "    </tr>\n",
       "    <tr>\n",
       "      <th>4</th>\n",
       "      <td>In the heart of the Verdant Wood, a magical fo...</td>\n",
       "      <td>Verdant Wood</td>\n",
       "      <td>[Lyra, Oliver]</td>\n",
       "    </tr>\n",
       "  </tbody>\n",
       "</table>\n",
       "</div>"
      ],
      "text/plain": [
       "                                               story           location  \\\n",
       "0  In the mystical town of Elderia, nestled deep ...            Elderia   \n",
       "1  On the edge of the serene Lake Eldoria, the ec...       Lake Eldoria   \n",
       "2  In the heart of the ancient, whispering forest...  Eldergreen Forest   \n",
       "3  In the heart of the Enchanted Forest, where th...   Enchanted Forest   \n",
       "4  In the heart of the Verdant Wood, a magical fo...       Verdant Wood   \n",
       "\n",
       "                                          characters  \n",
       "0                                 [Alaric, Luminara]  \n",
       "1                     [Milo Gearston, Elara, Oliver]  \n",
       "2  [Dr. Mabel Tintwhistle, Whiskers, Simon Sprocket]  \n",
       "3                                [Elara, Finn, Orin]  \n",
       "4                                     [Lyra, Oliver]  "
      ]
     },
     "execution_count": 3,
     "metadata": {},
     "output_type": "execute_result"
    }
   ],
   "source": [
    "class BuildStoryOutput(BaseModel):\n",
    "    story: str\n",
    "    location: str\n",
    "    characters: list[str]\n",
    "\n",
    "async def build_story():\n",
    "    prompt = \"\"\"\n",
    "    Write a one-paragraph story with whatever realistic or imaginary theme you like,  \n",
    "    then create a list of all characters you named in your story.\n",
    "    Return your story, the main location that your story happens in, and a Python list of your characters as your output.\n",
    "    \"\"\"\n",
    "    provider = OpenAIProvider(model=\"gpt-4o\", response_format_class=BuildStoryOutput)\n",
    "    return await provider.get_json_response(prompt, temperature=0.9)\n",
    "\n",
    "def run_build_story():\n",
    "    response =  asyncio.run(build_story())[0]\n",
    "    return response\n",
    "\n",
    "data = {\n",
    "    \"story\": [],\n",
    "    \"location\": [],\n",
    "    \"characters\": [],\n",
    "}\n",
    "for i in tqdm(range(5)):\n",
    "    out = json.loads(run_build_story())\n",
    "    data[\"characters\"].append(out[\"characters\"])\n",
    "    data[\"location\"].append(out[\"location\"])\n",
    "    data[\"story\"].append(out[\"story\"])\n",
    "\n",
    "\n",
    "data = pd.DataFrame(data)\n",
    "data.to_csv(\"data.csv\", index=False)\n",
    "data"
   ]
  },
  {
   "cell_type": "markdown",
   "metadata": {},
   "source": [
    "## Abstraction with a single agent"
   ]
  },
  {
   "cell_type": "code",
   "execution_count": 4,
   "metadata": {},
   "outputs": [
    {
     "name": "stdout",
     "output_type": "stream",
     "text": [
      "====== Inputs ======\n",
      "\n",
      " in the mystical town of elderia, nestled deep within the whispering pines, lived an eccentric inventor named alaric. alaric spent his days and nights in his cluttered workshop, tinkering with peculiar gadgets and magical contraptions. one rainy evening, as alaric was experimenting with a device designed to capture moonbeams, he accidentally summoned a sprite named luminara. the tiny, glowing creature fluttered around the workshop, bringing to life alaric's collection of automaton birds. confused but intrigued, alaric and luminara struck a friendship, promising adventures that would unravel the hidden secrets of elderia.\n",
      "on the edge of the serene lake eldoria, the eccentric inventor milo gearston unveiled his latest creation: a clockwork bird that sang like the morning sun. as the townspeople gathered to witness this marvel, young elara, the curious daughter of the mayor, tiptoed closer to get a better view. suddenly, the bird sprang to life, its gears whirring gently as it took off into the sky, leaving a trail of golden sparks in its wake. enchanted by the sight, elara made a silent promise to follow her dreams of becoming an inventor one day. meanwhile, her best friend, the practical-minded oliver, skeptically noted how the bird might need adjustments to its flight path. as the crowd applauded milo's ingenuity, the once quiet lakeside hummed with newfound wonder and aspirations.\n",
      "in the heart of the ancient, whispering forest of eldergreen, there lived a quirky inventor named dr. mabel tintwhistle. she was an eccentric genius renowned for her peculiar creations that often seemed to defy the laws of nature. one chilly autumn morning, as golden leaves tumbled from the treetops, dr. tintwhistle stumbled upon a mysterious map tucked inside an old book. intrigued, she decided to follow its cryptic clues. along the way, she was joined by her faithful cat, whiskers, and a dashing young adventurer named simon sprocket. the journey led them deep into the heart of the forest, where they discovered a hidden grotto filled with luminescent crystals and ancient artifacts. together, they uncovered the secrets of eldergreen, realizing that some stories are best kept as mysteries of the wild.\n",
      "in the heart of the enchanted forest, where the canopy was a kaleidoscope of colors, lived a young elf named elara. she was known for her talent in crafting potions that could heal any ailment. one day, as she was gathering herbs by the brook, she met a mischievous sprite named finn. finn was notorious for playing pranks on the forest dwellers, but he had a good heart and secretly admired elara's kindness. as they chatted, a wise old owl named orin watched them from the branches above, occasionally offering cryptic advice. together, they discovered a hidden grove where time seemed to stand still, and there they found a mysterious glowing stone that glowed with the light of a thousand stars. elara knew that this stone held a secret that could change the fate of the forest forever.\n",
      "in the heart of the verdant wood, a magical forest hidden from the world, there lived a gentle faun named lyra who had an extraordinary gift. she could coax flowers to bloom with her sweet, melodious voice, a skill few possessed in these lands. one day, as she wandered through the fragrant meadows, she met a curious human child named oliver who had somehow stumbled into this enchanted realm. captivated by the beauty around him, oliver befriended lyra and learned the wonders of the forest. together, they roamed the dappled glades, sharing tales of their worlds, until the sun dipped below the horizon, and it was time for oliver to return, carrying with him the magic of friendship he discovered that day.\n"
     ]
    },
    {
     "name": "stderr",
     "output_type": "stream",
     "text": [
      "Reviewing 5 items - 2024-12-28 14:32:02: 100%|██████████| 5/5 [00:05<00:00,  1.02s/it]"
     ]
    },
    {
     "name": "stdout",
     "output_type": "stream",
     "text": [
      "\n",
      "====== Outputs ======\n",
      "{'location': 'the mystical town of elderia', 'characters': ['alaric', 'luminara']}\n",
      "{'location': 'the serene lake Eldoria', 'characters': ['Milo Gearston', 'Elara', 'Oliver']}\n",
      "{'location': 'the heart of the ancient, whispering forest of eldergreen', 'characters': ['dr. mabel tintwhistle', 'whiskers', 'simon sprocket']}\n",
      "{'location': 'the heart of the enchanted forest', 'characters': ['elara', 'finn', 'orin']}\n",
      "{'location': 'the heart of the verdant wood, a magical forest', 'characters': ['lyra', 'oliver']}\n",
      "\n",
      "====== Costs ======\n",
      "\n",
      "Cost for item 0: 6.434999999999999e-05\n",
      "Cost for item 1: 7.11e-05\n",
      "Cost for item 2: 7.965e-05\n",
      "Cost for item 3: 7.065e-05\n",
      "Cost for item 4: 7.035e-05\n",
      "\n",
      "Total cost: 7.035e-05\n"
     ]
    },
    {
     "name": "stderr",
     "output_type": "stream",
     "text": [
      "\n"
     ]
    }
   ],
   "source": [
    "Albert = AbstractionReviewer(\n",
    "    provider=LiteLLMProvider(model=\"gpt-4o-mini\"),\n",
    "    name=\"Albert\",\n",
    "    max_concurrent_requests=1, \n",
    "    backstory=\"an expert reviewer!\",\n",
    "    input_description = \"stories\",\n",
    "    model_args={\"max_tokens\": 200, \"temperature\": 0.1},\n",
    "    abstraction_keys = {\n",
    "        \"location\": str, \n",
    "        \"characters\": list[str]\n",
    "    },\n",
    "    key_descriptions = {\n",
    "        \"location\": \"The main location that the story happens in.\", \n",
    "        \"characters\": \"The name of the characters mentioned in the story.\"\n",
    "    }\n",
    ")\n",
    "\n",
    "\n",
    "# Dummy input\n",
    "input_list = data.story.str.lower().tolist()\n",
    "print(\"====== Inputs ======\\n\\n\", '\\n'.join(input_list))\n",
    "\n",
    "# Dummy review\n",
    "results, total_cost = asyncio.run(Albert.review_items(input_list))\n",
    "print(\"\\n====== Outputs ======\")\n",
    "for result in results:\n",
    "    print(result)\n",
    "\n",
    "# Dummy costs\n",
    "print(\"\\n====== Costs ======\\n\")\n",
    "for i, item in enumerate(Albert.memory):\n",
    "    print(f\"Cost for item {i}: {item['cost']}\")\n",
    "\n",
    "print(f\"\\nTotal cost: {total_cost}\")"
   ]
  },
  {
   "cell_type": "markdown",
   "metadata": {},
   "source": [
    "## Abstraction with a workflow"
   ]
  },
  {
   "cell_type": "code",
   "execution_count": 5,
   "metadata": {},
   "outputs": [
    {
     "name": "stdout",
     "output_type": "stream",
     "text": [
      "\n",
      "====== Starting review round A (1/1) ======\n",
      "\n",
      "Processing 5 eligible rows\n"
     ]
    },
    {
     "name": "stderr",
     "output_type": "stream",
     "text": [
      "['round: A', 'reviewer_name: Albert'] -                     2024-12-28 14:32:07:   0%|          | 0/5 [00:00<?, ?it/s]"
     ]
    },
    {
     "name": "stderr",
     "output_type": "stream",
     "text": [
      "['round: A', 'reviewer_name: Albert'] -                     2024-12-28 14:32:07: 100%|██████████| 5/5 [00:04<00:00,  1.14it/s]"
     ]
    },
    {
     "name": "stdout",
     "output_type": "stream",
     "text": [
      "The following columns are present in the dataframe at the end of Albert's reivew in round A: ['story', 'location', 'characters', 'round-A_Albert_output', 'round-A_Albert_location', 'round-A_Albert_characters']\n",
      "\n",
      "====== Costs ======\n",
      "\n",
      "Total cost:  6.63e-05\n",
      "Detailed costs:  {('A', 'Albert'): 6.63e-05}\n"
     ]
    },
    {
     "name": "stderr",
     "output_type": "stream",
     "text": [
      "\n"
     ]
    },
    {
     "data": {
      "text/html": [
       "<div>\n",
       "<style scoped>\n",
       "    .dataframe tbody tr th:only-of-type {\n",
       "        vertical-align: middle;\n",
       "    }\n",
       "\n",
       "    .dataframe tbody tr th {\n",
       "        vertical-align: top;\n",
       "    }\n",
       "\n",
       "    .dataframe thead th {\n",
       "        text-align: right;\n",
       "    }\n",
       "</style>\n",
       "<table border=\"1\" class=\"dataframe\">\n",
       "  <thead>\n",
       "    <tr style=\"text-align: right;\">\n",
       "      <th></th>\n",
       "      <th>story</th>\n",
       "      <th>location</th>\n",
       "      <th>characters</th>\n",
       "      <th>round-A_Albert_output</th>\n",
       "      <th>round-A_Albert_location</th>\n",
       "      <th>round-A_Albert_characters</th>\n",
       "    </tr>\n",
       "  </thead>\n",
       "  <tbody>\n",
       "    <tr>\n",
       "      <th>0</th>\n",
       "      <td>In the mystical town of Elderia, nestled deep ...</td>\n",
       "      <td>Elderia</td>\n",
       "      <td>[Alaric, Luminara]</td>\n",
       "      <td>{'location': 'Elderia', 'characters': ['Alaric...</td>\n",
       "      <td>Elderia</td>\n",
       "      <td>[Alaric, Luminara]</td>\n",
       "    </tr>\n",
       "    <tr>\n",
       "      <th>1</th>\n",
       "      <td>On the edge of the serene Lake Eldoria, the ec...</td>\n",
       "      <td>Lake Eldoria</td>\n",
       "      <td>[Milo Gearston, Elara, Oliver]</td>\n",
       "      <td>{'location': 'Lake Eldoria', 'characters': ['M...</td>\n",
       "      <td>Lake Eldoria</td>\n",
       "      <td>[Milo Gearston, Elara, Oliver]</td>\n",
       "    </tr>\n",
       "    <tr>\n",
       "      <th>2</th>\n",
       "      <td>In the heart of the ancient, whispering forest...</td>\n",
       "      <td>Eldergreen Forest</td>\n",
       "      <td>[Dr. Mabel Tintwhistle, Whiskers, Simon Sprocket]</td>\n",
       "      <td>{'location': 'the ancient, whispering forest o...</td>\n",
       "      <td>the ancient, whispering forest of Eldergreen</td>\n",
       "      <td>[Dr. Mabel Tintwhistle, Whiskers, Simon Sprocket]</td>\n",
       "    </tr>\n",
       "    <tr>\n",
       "      <th>3</th>\n",
       "      <td>In the heart of the Enchanted Forest, where th...</td>\n",
       "      <td>Enchanted Forest</td>\n",
       "      <td>[Elara, Finn, Orin]</td>\n",
       "      <td>{'location': 'Enchanted Forest', 'characters':...</td>\n",
       "      <td>Enchanted Forest</td>\n",
       "      <td>[Elara, Finn, Orin]</td>\n",
       "    </tr>\n",
       "    <tr>\n",
       "      <th>4</th>\n",
       "      <td>In the heart of the Verdant Wood, a magical fo...</td>\n",
       "      <td>Verdant Wood</td>\n",
       "      <td>[Lyra, Oliver]</td>\n",
       "      <td>{'location': 'Verdant Wood', 'characters': ['L...</td>\n",
       "      <td>Verdant Wood</td>\n",
       "      <td>[Lyra, Oliver]</td>\n",
       "    </tr>\n",
       "  </tbody>\n",
       "</table>\n",
       "</div>"
      ],
      "text/plain": [
       "                                               story           location  \\\n",
       "0  In the mystical town of Elderia, nestled deep ...            Elderia   \n",
       "1  On the edge of the serene Lake Eldoria, the ec...       Lake Eldoria   \n",
       "2  In the heart of the ancient, whispering forest...  Eldergreen Forest   \n",
       "3  In the heart of the Enchanted Forest, where th...   Enchanted Forest   \n",
       "4  In the heart of the Verdant Wood, a magical fo...       Verdant Wood   \n",
       "\n",
       "                                          characters  \\\n",
       "0                                 [Alaric, Luminara]   \n",
       "1                     [Milo Gearston, Elara, Oliver]   \n",
       "2  [Dr. Mabel Tintwhistle, Whiskers, Simon Sprocket]   \n",
       "3                                [Elara, Finn, Orin]   \n",
       "4                                     [Lyra, Oliver]   \n",
       "\n",
       "                               round-A_Albert_output  \\\n",
       "0  {'location': 'Elderia', 'characters': ['Alaric...   \n",
       "1  {'location': 'Lake Eldoria', 'characters': ['M...   \n",
       "2  {'location': 'the ancient, whispering forest o...   \n",
       "3  {'location': 'Enchanted Forest', 'characters':...   \n",
       "4  {'location': 'Verdant Wood', 'characters': ['L...   \n",
       "\n",
       "                        round-A_Albert_location  \\\n",
       "0                                       Elderia   \n",
       "1                                  Lake Eldoria   \n",
       "2  the ancient, whispering forest of Eldergreen   \n",
       "3                              Enchanted Forest   \n",
       "4                                  Verdant Wood   \n",
       "\n",
       "                           round-A_Albert_characters  \n",
       "0                                 [Alaric, Luminara]  \n",
       "1                     [Milo Gearston, Elara, Oliver]  \n",
       "2  [Dr. Mabel Tintwhistle, Whiskers, Simon Sprocket]  \n",
       "3                                [Elara, Finn, Orin]  \n",
       "4                                     [Lyra, Oliver]  "
      ]
     },
     "execution_count": 5,
     "metadata": {},
     "output_type": "execute_result"
    }
   ],
   "source": [
    "workflow = ReviewWorkflow(\n",
    "    workflow_schema=[\n",
    "        {\n",
    "            \"round\": 'A',\n",
    "            \"reviewers\": [Albert],\n",
    "            \"text_inputs\": [\"story\"]\n",
    "        }\n",
    "    ]\n",
    ")\n",
    "\n",
    "# Reload the data if needed.\n",
    "updated_data = asyncio.run(workflow(data))\n",
    "\n",
    "print(\"\\n====== Costs ======\\n\")\n",
    "print(\"Total cost: \", workflow.get_total_cost())\n",
    "print(\"Detailed costs: \", workflow.reviewer_costs)\n",
    "\n",
    "updated_data"
   ]
  }
 ],
 "metadata": {
  "kernelspec": {
   "display_name": "venv",
   "language": "python",
   "name": "python3"
  },
  "language_info": {
   "codemirror_mode": {
    "name": "ipython",
    "version": 3
   },
   "file_extension": ".py",
   "mimetype": "text/x-python",
   "name": "python",
   "nbconvert_exporter": "python",
   "pygments_lexer": "ipython3",
   "version": "3.9.6"
  }
 },
 "nbformat": 4,
 "nbformat_minor": 2
}
