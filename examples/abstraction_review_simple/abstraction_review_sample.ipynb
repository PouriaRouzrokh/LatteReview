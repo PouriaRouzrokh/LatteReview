{
 "cells": [
  {
   "cell_type": "markdown",
   "metadata": {},
   "source": [
    "## Setting up the notebook"
   ]
  },
  {
   "cell_type": "markdown",
   "metadata": {},
   "source": [
    "High-level configs"
   ]
  },
  {
   "cell_type": "code",
   "execution_count": 1,
   "metadata": {},
   "outputs": [],
   "source": [
    "%reload_ext autoreload\n",
    "%autoreload 2\n",
    "\n",
    "from dotenv import load_dotenv\n",
    "\n",
    "# Load environment variables from .env file. Adjust the path to the .env file as needed.\n",
    "load_dotenv(dotenv_path='../.env')\n",
    "\n",
    "# Enable asyncio in Jupyter\n",
    "import asyncio\n",
    "import nest_asyncio\n",
    "\n",
    "nest_asyncio.apply()\n",
    "\n",
    "#  Add the package to the path (required if you are running this notebook from the examples folder)\n",
    "import sys\n",
    "sys.path.append('../../')\n"
   ]
  },
  {
   "cell_type": "markdown",
   "metadata": {},
   "source": [
    "Import required packages"
   ]
  },
  {
   "cell_type": "code",
   "execution_count": 12,
   "metadata": {},
   "outputs": [],
   "source": [
    "import json\n",
    "import numpy as np\n",
    "from openai import AsyncOpenAI\n",
    "import pandas as pd\n",
    "from pydantic import BaseModel\n",
    "from tqdm.auto import tqdm\n",
    "\n",
    "from lattereview.providers import OpenAIProvider\n",
    "from lattereview.providers import LiteLLMProvider\n",
    "from lattereview.agents import AbstractionReviewer\n",
    "from lattereview.workflows import ReviewWorkflow"
   ]
  },
  {
   "cell_type": "markdown",
   "metadata": {},
   "source": [
    "## Data"
   ]
  },
  {
   "cell_type": "markdown",
   "metadata": {},
   "source": [
    "Building five example stories and dummy question-answering pairs from each story:"
   ]
  },
  {
   "cell_type": "code",
   "execution_count": 6,
   "metadata": {},
   "outputs": [
    {
     "name": "stderr",
     "output_type": "stream",
     "text": [
      "100%|██████████| 5/5 [00:20<00:00,  4.06s/it]\n"
     ]
    },
    {
     "data": {
      "text/html": [
       "<div>\n",
       "<style scoped>\n",
       "    .dataframe tbody tr th:only-of-type {\n",
       "        vertical-align: middle;\n",
       "    }\n",
       "\n",
       "    .dataframe tbody tr th {\n",
       "        vertical-align: top;\n",
       "    }\n",
       "\n",
       "    .dataframe thead th {\n",
       "        text-align: right;\n",
       "    }\n",
       "</style>\n",
       "<table border=\"1\" class=\"dataframe\">\n",
       "  <thead>\n",
       "    <tr style=\"text-align: right;\">\n",
       "      <th></th>\n",
       "      <th>story</th>\n",
       "      <th>location</th>\n",
       "      <th>characters</th>\n",
       "    </tr>\n",
       "  </thead>\n",
       "  <tbody>\n",
       "    <tr>\n",
       "      <th>0</th>\n",
       "      <td>Deep within the enchanted forest of Ellowyn, w...</td>\n",
       "      <td>Enchanted forest of Ellowyn</td>\n",
       "      <td>[Elara, Mirin, Arion]</td>\n",
       "    </tr>\n",
       "    <tr>\n",
       "      <th>1</th>\n",
       "      <td>In the heart of the enchanted forest of Alvero...</td>\n",
       "      <td>Enchanted Forest of Alveron</td>\n",
       "      <td>[Elara, Finn]</td>\n",
       "    </tr>\n",
       "    <tr>\n",
       "      <th>2</th>\n",
       "      <td>In the tiny coastal village of Marlin Bay, nes...</td>\n",
       "      <td>Marlin Bay</td>\n",
       "      <td>[Amelia, Oliver]</td>\n",
       "    </tr>\n",
       "    <tr>\n",
       "      <th>3</th>\n",
       "      <td>In the heart of the Enchanted Forest, where th...</td>\n",
       "      <td>Enchanted Forest</td>\n",
       "      <td>[Orin, Felix]</td>\n",
       "    </tr>\n",
       "    <tr>\n",
       "      <th>4</th>\n",
       "      <td>In the heart of the enchanted forest of Elderg...</td>\n",
       "      <td>Elderglen forest</td>\n",
       "      <td>[Alara, Seraphina]</td>\n",
       "    </tr>\n",
       "  </tbody>\n",
       "</table>\n",
       "</div>"
      ],
      "text/plain": [
       "                                               story  \\\n",
       "0  Deep within the enchanted forest of Ellowyn, w...   \n",
       "1  In the heart of the enchanted forest of Alvero...   \n",
       "2  In the tiny coastal village of Marlin Bay, nes...   \n",
       "3  In the heart of the Enchanted Forest, where th...   \n",
       "4  In the heart of the enchanted forest of Elderg...   \n",
       "\n",
       "                      location             characters  \n",
       "0  Enchanted forest of Ellowyn  [Elara, Mirin, Arion]  \n",
       "1  Enchanted Forest of Alveron          [Elara, Finn]  \n",
       "2                   Marlin Bay       [Amelia, Oliver]  \n",
       "3             Enchanted Forest          [Orin, Felix]  \n",
       "4             Elderglen forest     [Alara, Seraphina]  "
      ]
     },
     "execution_count": 6,
     "metadata": {},
     "output_type": "execute_result"
    }
   ],
   "source": [
    "class BuildStoryOutput(BaseModel):\n",
    "    story: str\n",
    "    location: str\n",
    "    characters: list[str]\n",
    "\n",
    "async def build_story():\n",
    "    prompt = \"\"\"\n",
    "    Write a one-paragraph story with whatever realistic or imaginary theme you like,  \n",
    "    then create a list of all characters you named in your story.\n",
    "    Return your story, the main location that your story happens in, and a Python list of your characters as your output.\n",
    "    \"\"\"\n",
    "    provider = OpenAIProvider(model=\"gpt-4o\", response_format_class=BuildStoryOutput)\n",
    "    return await provider.get_json_response(prompt, temperature=0.9)\n",
    "\n",
    "def run_build_story():\n",
    "    response =  asyncio.run(build_story())[0]\n",
    "    return response\n",
    "\n",
    "data = {\n",
    "    \"story\": [],\n",
    "    \"location\": [],\n",
    "    \"characters\": [],\n",
    "}\n",
    "for i in tqdm(range(5)):\n",
    "    out = json.loads(run_build_story())\n",
    "    data[\"characters\"].append(out[\"characters\"])\n",
    "    data[\"location\"].append(out[\"location\"])\n",
    "    data[\"story\"].append(out[\"story\"])\n",
    "\n",
    "\n",
    "data = pd.DataFrame(data)\n",
    "data.to_csv(\"data.csv\", index=False)\n",
    "data"
   ]
  },
  {
   "cell_type": "markdown",
   "metadata": {},
   "source": [
    "## Abstraction with a single agent"
   ]
  },
  {
   "cell_type": "code",
   "execution_count": 31,
   "metadata": {},
   "outputs": [
    {
     "name": "stdout",
     "output_type": "stream",
     "text": [
      "====== Inputs ======\n",
      "\n",
      " deep within the enchanted forest of ellowyn, where the trees whispered ancient secrets and the brook sang to the moon, young elara stumbled upon a hidden glade bathed in golden light. the air was thick with the scent of blooming nightshade, and the soft trills of creatures unseen mingled with the rustle of leaves. as elara explored, she met mirin, a wise old sprite with eyes like twin emeralds and wings that shimmered like a thousand rainbows. together, they uncovered the forgotten ruins of an ancient empire, long lost to time, and awakened the gentle spirit of arion, the last guardian of the forest. with the first light of dawn, elara and her newfound friends vowed to protect the magic of ellowyn from the encroaching shadows of the outside world.\n",
      "in the heart of the enchanted forest of alveron, the wise old owl named elara watched over the land from her perch atop the ancient oak tree. she had seen the forest come to life with the magic of spring, witnessed the creatures dancing under the shimmering moonlight, and listened to the whispers of the trees that held secrets of ages long past. one day, a curious fox named finn, with his fiery red fur and twinkling eyes, ventured near elara's tree, seeking knowledge about the mysterious melody that echoed through the woods. elara, with her deep, soothing voice, shared tales of enchanted rivers and the guardian spirits that protected the forest, captivating finn with wonders he had never imagined. as the sun dipped below the horizon, casting golden hues across the sky, elara and finn formed an unlikely friendship, bound by the enchanting stories of the forest of alveron.\n",
      "in the tiny coastal village of marlin bay, nestled where the forest met the sea, amelia, an aspiring marine biologist, discovered a secret underwater cave teeming with bioluminescent creatures. her heart raced as she explored this hidden world, documenting her findings with the help of oliver, a seasoned diver. together, they marveled at the vibrant colors and the gentle glow illuminating the cave walls, a discovery they hoped would inspire others to appreciate the delicate beauty of ocean life. yet, as they surfaced, they worried about the cave's fate, knowing all too well the challenges of protecting such wonders from human intrusion.\n",
      "in the heart of the enchanted forest, where the sunlight filtered through the dense canopy creating a dance of light and shadow, there dwelled a wise old owl named orin. orin had watched over the forest for more than a century, his keen eyes observing the changes of seasons and the lives of the forest's inhabitants. one day, a young fox named felix, with a coat as fiery as the autumn leaves, approached orin, seeking wisdom. \"orin,\" felix asked timidly, \"how do i find the courage to venture beyond the forest?\" orin, spreading his great wings, replied, \"courage, dear felix, is not the absence of fear, but the recognition that something else is more important. look to the sky and remember that even the tallest trees begin as seeds.\" encouraged by orin's words, felix set off on his journey, the whisper of the leaves and the hoot of the owl guiding him into the great unknown.\n",
      "in the heart of the enchanted forest of elderglen, young alara stumbled upon a shimmering pool that whispered secrets of the past. she knelt beside the water's edge, where the reflection of the moon unveiled the ghostly figure of seraphina, the last of the forest's guardians, who had vowed to protect the grove until a worthy heir arrived. with a gentle touch of her hand on the water, alara found herself transported into seraphina's realm, a dreamscape where the ancient trees told stories and the stars danced in spirals across the sky. as the night deepened, the air grew still, and the trees murmured alara's name, bestowing upon her the mantle of the guardian, to carry the light of elderglen into the future.\n"
     ]
    },
    {
     "name": "stderr",
     "output_type": "stream",
     "text": [
      "Reviewing 5 items - 2024-12-27 22:34:40: 100%|██████████| 5/5 [00:07<00:00,  1.49s/it]"
     ]
    },
    {
     "name": "stdout",
     "output_type": "stream",
     "text": [
      "\n",
      "====== Outputs ======\n",
      "{'location': 'the enchanted forest of ellowyn', 'characters': ['elara', 'mirin', 'arion']}\n",
      "{'location': 'the enchanted forest of alveron', 'characters': ['elara', 'finn']}\n",
      "{'location': 'the tiny coastal village of Marlin Bay', 'characters': ['Amelia', 'Oliver']}\n",
      "{'location': 'the heart of the enchanted forest', 'characters': ['orin', 'felix']}\n",
      "{'location': 'the enchanted forest of elderglen', 'characters': ['alara', 'seraphina']}\n",
      "\n",
      "====== Costs ======\n",
      "\n",
      "Cost for item 0: 7.14e-05\n",
      "Cost for item 1: 7.14e-05\n",
      "Cost for item 2: 6.42e-05\n",
      "Cost for item 3: 7.26e-05\n",
      "Cost for item 4: 6.869999999999999e-05\n",
      "\n",
      "Total cost: 6.869999999999999e-05\n"
     ]
    },
    {
     "name": "stderr",
     "output_type": "stream",
     "text": [
      "\n"
     ]
    }
   ],
   "source": [
    "Albert = AbstractionReviewer(\n",
    "    provider=LiteLLMProvider(model=\"gpt-4o-mini\"),\n",
    "    name=\"Albert\",\n",
    "    max_concurrent_requests=1, \n",
    "    backstory=\"an expert reviewer!\",\n",
    "    input_description = \"stories\",\n",
    "    model_args={\"max_tokens\": 200, \"temperature\": 0.1},\n",
    "    response_format = {\n",
    "        \"location\": str, \n",
    "        \"characters\": list[str]\n",
    "    },\n",
    "    instructions = {\n",
    "        \"location\": \"The main location that the story happens in.\", \n",
    "        \"characters\": \"The name of the characters mentioned in the story.\"\n",
    "    }\n",
    ")\n",
    "\n",
    "\n",
    "# Dummy input\n",
    "input_list = data.story.str.lower().tolist()\n",
    "print(\"====== Inputs ======\\n\\n\", '\\n'.join(input_list))\n",
    "\n",
    "# Dummy review\n",
    "results, total_cost = asyncio.run(Albert.review_items(input_list))\n",
    "print(\"\\n====== Outputs ======\")\n",
    "for result in results:\n",
    "    print(result)\n",
    "\n",
    "# Dummy costs\n",
    "print(\"\\n====== Costs ======\\n\")\n",
    "for i, item in enumerate(Albert.memory):\n",
    "    print(f\"Cost for item {i}: {item['cost']}\")\n",
    "\n",
    "print(f\"\\nTotal cost: {total_cost}\")"
   ]
  },
  {
   "cell_type": "code",
   "execution_count": 32,
   "metadata": {},
   "outputs": [
    {
     "data": {
      "text/plain": [
       "{'system_prompt': \"Your name is: <<Albert>> Your backstory is: <<an expert reviewer!>>. Your task is to review input itmes with the following description: <<stories>>. Your final output should have the following keys: location (<class 'str'>), characters (list[str]).\",\n",
       " 'formatted_prompt': \"**Review the input item below and extract the specified keys as instructed:** --- **Input Item:** <<${item}$>> **Keys to Extract and Their Expected Formats:** <<{'location': <class 'str'>, 'characters': list[str]}>> --- **Instructions:** Follow the detailed guidelines below for extracting the specified keys: <<{'location': 'The main location that the story happens in.', 'characters': 'The name of the characters mentioned in the story.'}>> --- <<${additional_context}$>>\",\n",
       " 'model_args': {'max_tokens': 200, 'temperature': 0.1}}"
      ]
     },
     "execution_count": 32,
     "metadata": {},
     "output_type": "execute_result"
    }
   ],
   "source": [
    "Albert.identity"
   ]
  },
  {
   "cell_type": "markdown",
   "metadata": {},
   "source": [
    "## Abstraction with a workflow"
   ]
  },
  {
   "cell_type": "code",
   "execution_count": 33,
   "metadata": {},
   "outputs": [
    {
     "name": "stdout",
     "output_type": "stream",
     "text": [
      "\n",
      "====== Starting review round A (1/1) ======\n",
      "\n",
      "Processing 5 eligible rows\n"
     ]
    },
    {
     "name": "stderr",
     "output_type": "stream",
     "text": [
      "['round: A', 'reviewer_name: Albert'] -                     2024-12-27 22:35:37: 100%|██████████| 5/5 [00:06<00:00,  1.25s/it]"
     ]
    },
    {
     "name": "stdout",
     "output_type": "stream",
     "text": [
      "The following columns are present in the dataframe at the end of Albert's reivew in round A: ['story', 'location', 'characters', 'round-A_Albert_output', 'round-A_Albert_location', 'round-A_Albert_characters']\n",
      "\n",
      "====== Costs ======\n",
      "\n",
      "Total cost:  7.08e-05\n",
      "Detailed costs:  {('A', 'Albert'): 7.08e-05}\n"
     ]
    },
    {
     "name": "stderr",
     "output_type": "stream",
     "text": [
      "\n"
     ]
    },
    {
     "data": {
      "text/html": [
       "<div>\n",
       "<style scoped>\n",
       "    .dataframe tbody tr th:only-of-type {\n",
       "        vertical-align: middle;\n",
       "    }\n",
       "\n",
       "    .dataframe tbody tr th {\n",
       "        vertical-align: top;\n",
       "    }\n",
       "\n",
       "    .dataframe thead th {\n",
       "        text-align: right;\n",
       "    }\n",
       "</style>\n",
       "<table border=\"1\" class=\"dataframe\">\n",
       "  <thead>\n",
       "    <tr style=\"text-align: right;\">\n",
       "      <th></th>\n",
       "      <th>story</th>\n",
       "      <th>location</th>\n",
       "      <th>characters</th>\n",
       "      <th>round-A_Albert_output</th>\n",
       "      <th>round-A_Albert_location</th>\n",
       "      <th>round-A_Albert_characters</th>\n",
       "    </tr>\n",
       "  </thead>\n",
       "  <tbody>\n",
       "    <tr>\n",
       "      <th>0</th>\n",
       "      <td>Deep within the enchanted forest of Ellowyn, w...</td>\n",
       "      <td>Enchanted forest of Ellowyn</td>\n",
       "      <td>[Elara, Mirin, Arion]</td>\n",
       "      <td>{'location': 'the enchanted forest of Ellowyn'...</td>\n",
       "      <td>the enchanted forest of Ellowyn</td>\n",
       "      <td>[Elara, Mirin, Arion]</td>\n",
       "    </tr>\n",
       "    <tr>\n",
       "      <th>1</th>\n",
       "      <td>In the heart of the enchanted forest of Alvero...</td>\n",
       "      <td>Enchanted Forest of Alveron</td>\n",
       "      <td>[Elara, Finn]</td>\n",
       "      <td>{'location': 'the enchanted forest of Alveron'...</td>\n",
       "      <td>the enchanted forest of Alveron</td>\n",
       "      <td>[Elara, Finn]</td>\n",
       "    </tr>\n",
       "    <tr>\n",
       "      <th>2</th>\n",
       "      <td>In the tiny coastal village of Marlin Bay, nes...</td>\n",
       "      <td>Marlin Bay</td>\n",
       "      <td>[Amelia, Oliver]</td>\n",
       "      <td>{'location': 'Marlin Bay', 'characters': ['Ame...</td>\n",
       "      <td>Marlin Bay</td>\n",
       "      <td>[Amelia, Oliver]</td>\n",
       "    </tr>\n",
       "    <tr>\n",
       "      <th>3</th>\n",
       "      <td>In the heart of the Enchanted Forest, where th...</td>\n",
       "      <td>Enchanted Forest</td>\n",
       "      <td>[Orin, Felix]</td>\n",
       "      <td>{'location': 'Enchanted Forest', 'characters':...</td>\n",
       "      <td>Enchanted Forest</td>\n",
       "      <td>[Orin, Felix]</td>\n",
       "    </tr>\n",
       "    <tr>\n",
       "      <th>4</th>\n",
       "      <td>In the heart of the enchanted forest of Elderg...</td>\n",
       "      <td>Elderglen forest</td>\n",
       "      <td>[Alara, Seraphina]</td>\n",
       "      <td>{'location': 'the enchanted forest of Eldergle...</td>\n",
       "      <td>the enchanted forest of Elderglen</td>\n",
       "      <td>[Alara, Seraphina]</td>\n",
       "    </tr>\n",
       "  </tbody>\n",
       "</table>\n",
       "</div>"
      ],
      "text/plain": [
       "                                               story  \\\n",
       "0  Deep within the enchanted forest of Ellowyn, w...   \n",
       "1  In the heart of the enchanted forest of Alvero...   \n",
       "2  In the tiny coastal village of Marlin Bay, nes...   \n",
       "3  In the heart of the Enchanted Forest, where th...   \n",
       "4  In the heart of the enchanted forest of Elderg...   \n",
       "\n",
       "                      location             characters  \\\n",
       "0  Enchanted forest of Ellowyn  [Elara, Mirin, Arion]   \n",
       "1  Enchanted Forest of Alveron          [Elara, Finn]   \n",
       "2                   Marlin Bay       [Amelia, Oliver]   \n",
       "3             Enchanted Forest          [Orin, Felix]   \n",
       "4             Elderglen forest     [Alara, Seraphina]   \n",
       "\n",
       "                               round-A_Albert_output  \\\n",
       "0  {'location': 'the enchanted forest of Ellowyn'...   \n",
       "1  {'location': 'the enchanted forest of Alveron'...   \n",
       "2  {'location': 'Marlin Bay', 'characters': ['Ame...   \n",
       "3  {'location': 'Enchanted Forest', 'characters':...   \n",
       "4  {'location': 'the enchanted forest of Eldergle...   \n",
       "\n",
       "             round-A_Albert_location round-A_Albert_characters  \n",
       "0    the enchanted forest of Ellowyn     [Elara, Mirin, Arion]  \n",
       "1    the enchanted forest of Alveron             [Elara, Finn]  \n",
       "2                         Marlin Bay          [Amelia, Oliver]  \n",
       "3                   Enchanted Forest             [Orin, Felix]  \n",
       "4  the enchanted forest of Elderglen        [Alara, Seraphina]  "
      ]
     },
     "execution_count": 33,
     "metadata": {},
     "output_type": "execute_result"
    }
   ],
   "source": [
    "workflow = ReviewWorkflow(\n",
    "    workflow_schema=[\n",
    "        {\n",
    "            \"round\": 'A',\n",
    "            \"reviewers\": [Albert],\n",
    "            \"text_inputs\": [\"story\"]\n",
    "        }\n",
    "    ]\n",
    ")\n",
    "\n",
    "# Reload the data if needed.\n",
    "updated_data = asyncio.run(workflow(data))\n",
    "\n",
    "print(\"\\n====== Costs ======\\n\")\n",
    "print(\"Total cost: \", workflow.get_total_cost())\n",
    "print(\"Detailed costs: \", workflow.reviewer_costs)\n",
    "\n",
    "updated_data"
   ]
  }
 ],
 "metadata": {
  "kernelspec": {
   "display_name": "venv",
   "language": "python",
   "name": "python3"
  },
  "language_info": {
   "codemirror_mode": {
    "name": "ipython",
    "version": 3
   },
   "file_extension": ".py",
   "mimetype": "text/x-python",
   "name": "python",
   "nbconvert_exporter": "python",
   "pygments_lexer": "ipython3",
   "version": "3.9.6"
  }
 },
 "nbformat": 4,
 "nbformat_minor": 2
}
