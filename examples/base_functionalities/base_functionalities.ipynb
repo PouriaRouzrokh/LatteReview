{
 "cells": [
  {
   "cell_type": "code",
   "execution_count": 1,
   "metadata": {},
   "outputs": [],
   "source": [
    "%reload_ext autoreload\n",
    "%autoreload 2\n",
    "\n",
    "from dotenv import load_dotenv\n",
    "\n",
    "# Load environment variables from .env file. Adjust the path to the .env file as needed.\n",
    "load_dotenv(dotenv_path='../.env')\n",
    "\n",
    "# Enable asyncio in Jupyter\n",
    "import asyncio\n",
    "import nest_asyncio\n",
    "\n",
    "nest_asyncio.apply()\n",
    "\n",
    "#  Add the package to the path (required if you are running this notebook from the examples folder)\n",
    "import sys\n",
    "sys.path.append('../../')\n"
   ]
  },
  {
   "cell_type": "markdown",
   "metadata": {},
   "source": [
    "Import required packages"
   ]
  },
  {
   "cell_type": "code",
   "execution_count": null,
   "metadata": {},
   "outputs": [],
   "source": [
    "import pandas as pd\n",
    "\n",
    "from lattereview.providers import OpenAIProvider\n",
    "from lattereview.providers import OllamaProvider\n",
    "from lattereview.providers import LiteLLMProvider\n",
    "from lattereview.agents import ScoringReviewer"
   ]
  },
  {
   "cell_type": "markdown",
   "metadata": {},
   "source": [
    "## Testing the base functionalities"
   ]
  },
  {
   "cell_type": "markdown",
   "metadata": {},
   "source": [
    "Testing the OpenAI provider (with OpenAI and Gemini models):"
   ]
  },
  {
   "cell_type": "code",
   "execution_count": 4,
   "metadata": {},
   "outputs": [
    {
     "data": {
      "text/plain": [
       "('The capital of France is Paris.',\n",
       " {'input_cost': 1.05e-06, 'output_cost': 4.2e-06, 'total_cost': 5.25e-06})"
      ]
     },
     "execution_count": 4,
     "metadata": {},
     "output_type": "execute_result"
    }
   ],
   "source": [
    "openanai_provider = OpenAIProvider(model=\"gpt-4o-mini\")\n",
    "question = \"What is the capital of France?\"\n",
    "asyncio.run(openanai_provider.get_response(question))"
   ]
  },
  {
   "cell_type": "markdown",
   "metadata": {},
   "source": [
    "Testing the Ollama provider:"
   ]
  },
  {
   "cell_type": "code",
   "execution_count": 5,
   "metadata": {},
   "outputs": [
    {
     "data": {
      "text/plain": [
       "('The capital of France is Paris!',\n",
       " {'input_cost': 0, 'output_cost': 0, 'total_cost': 0})"
      ]
     },
     "execution_count": 5,
     "metadata": {},
     "output_type": "execute_result"
    }
   ],
   "source": [
    "ollama_provider = OllamaProvider(model=\"llama3.2-vision:latest\", host=\"http://localhost:11434\")\n",
    "question = \"What is the capital of France?\"\n",
    "asyncio.run(ollama_provider.get_response(question))"
   ]
  },
  {
   "cell_type": "markdown",
   "metadata": {},
   "source": [
    "Testing the LiteLLM provider:"
   ]
  },
  {
   "cell_type": "code",
   "execution_count": 6,
   "metadata": {},
   "outputs": [
    {
     "data": {
      "text/plain": [
       "('The capital of France is Paris.\\n', 3e-06)"
      ]
     },
     "execution_count": 6,
     "metadata": {},
     "output_type": "execute_result"
    }
   ],
   "source": [
    "litellm_provider = LiteLLMProvider(model=\"gemini/gemini-1.5-flash\")\n",
    "\n",
    "# Other models to try:\n",
    "# litellm_provider = LiteLLMProvider(model=\"gpt-4o-mini\")\n",
    "# litellm_provider = LiteLLMProvider(model=\"claude-3-5-sonnet-20240620\")\n",
    "# litellm_provider = LiteLLMProvider(model=\"groq/llama-3.3-70b-versatile\")\n",
    "# litellm_provider = LiteLLMProvider(model=\"ollama/llama3.2-vision:latest\")\n",
    "# litellm_provider = LiteLLMProvider(model=\"groq/llama-3.3-70b-versatile\")\n",
    "\n",
    "question = \"What is the capital of France?\"\n",
    "asyncio.run(litellm_provider.get_response(question))"
   ]
  },
  {
   "cell_type": "markdown",
   "metadata": {},
   "source": [
    "Testing the ScoringReviewer agent:"
   ]
  },
  {
   "cell_type": "code",
   "execution_count": 8,
   "metadata": {},
   "outputs": [
    {
     "data": {
      "text/html": [
       "<div>\n",
       "<style scoped>\n",
       "    .dataframe tbody tr th:only-of-type {\n",
       "        vertical-align: middle;\n",
       "    }\n",
       "\n",
       "    .dataframe tbody tr th {\n",
       "        vertical-align: top;\n",
       "    }\n",
       "\n",
       "    .dataframe thead th {\n",
       "        text-align: right;\n",
       "    }\n",
       "</style>\n",
       "<table border=\"1\" class=\"dataframe\">\n",
       "  <thead>\n",
       "    <tr style=\"text-align: right;\">\n",
       "      <th></th>\n",
       "      <th>Title</th>\n",
       "      <th>Abstract</th>\n",
       "      <th>Authors</th>\n",
       "      <th>Year</th>\n",
       "    </tr>\n",
       "  </thead>\n",
       "  <tbody>\n",
       "    <tr>\n",
       "      <th>0</th>\n",
       "      <td>Fusing an agent-based model of mosquito popula...</td>\n",
       "      <td>The mosquito Aedes aegypti is the vector of a ...</td>\n",
       "      <td>Cavany, S.M.</td>\n",
       "      <td>2022</td>\n",
       "    </tr>\n",
       "    <tr>\n",
       "      <th>1</th>\n",
       "      <td>PDRL: Multi-Agent based Reinforcement Learning...</td>\n",
       "      <td>Reinforcement learning has been increasingly a...</td>\n",
       "      <td>Shaik, T.</td>\n",
       "      <td>2023</td>\n",
       "    </tr>\n",
       "    <tr>\n",
       "      <th>2</th>\n",
       "      <td>Learning-accelerated Discovery of Immune-Tumou...</td>\n",
       "      <td>We present an integrated framework for enablin...</td>\n",
       "      <td>Ozik, J.</td>\n",
       "      <td>2019</td>\n",
       "    </tr>\n",
       "    <tr>\n",
       "      <th>3</th>\n",
       "      <td>Investigating spatiotemporal dynamics and sync...</td>\n",
       "      <td>In this paper we present AceMod, an agent-base...</td>\n",
       "      <td>Cliff, O.M.</td>\n",
       "      <td>2018</td>\n",
       "    </tr>\n",
       "    <tr>\n",
       "      <th>4</th>\n",
       "      <td>Modeling the Spread of COVID-19 in University ...</td>\n",
       "      <td>Mathematical and simulation models are often u...</td>\n",
       "      <td>Herrmann, J.W.</td>\n",
       "      <td>2024</td>\n",
       "    </tr>\n",
       "    <tr>\n",
       "      <th>5</th>\n",
       "      <td>Multi-Agent Reinforcement Learning with Action...</td>\n",
       "      <td>Unmanned Aerial Vehicles (UAVs) are increasing...</td>\n",
       "      <td>Rizvi, D.</td>\n",
       "      <td>2023</td>\n",
       "    </tr>\n",
       "    <tr>\n",
       "      <th>6</th>\n",
       "      <td>A new (N) stochastic quenched disorder model f...</td>\n",
       "      <td>Human beings live in a networked world in whic...</td>\n",
       "      <td>Ferreira, A.A.</td>\n",
       "      <td>2019</td>\n",
       "    </tr>\n",
       "    <tr>\n",
       "      <th>7</th>\n",
       "      <td>Frustration induced phases in migrating cell c...</td>\n",
       "      <td>Collective motion of cells is common in many p...</td>\n",
       "      <td>Copenhagen, K.</td>\n",
       "      <td>2017</td>\n",
       "    </tr>\n",
       "    <tr>\n",
       "      <th>8</th>\n",
       "      <td>Universal masking is urgent in the COVID-19 pa...</td>\n",
       "      <td>We present two models for the COVID-19 pandemi...</td>\n",
       "      <td>Kai, D.</td>\n",
       "      <td>2020</td>\n",
       "    </tr>\n",
       "    <tr>\n",
       "      <th>9</th>\n",
       "      <td>Calculus of consent via MARL: Legitimating the...</td>\n",
       "      <td>Public policies that supply public goods, espe...</td>\n",
       "      <td>Hu, Y.</td>\n",
       "      <td>2021</td>\n",
       "    </tr>\n",
       "    <tr>\n",
       "      <th>10</th>\n",
       "      <td>MentalAgora: A Gateway to Advanced Personalize...</td>\n",
       "      <td>As mental health issues globally escalate, the...</td>\n",
       "      <td>Lee, Y.</td>\n",
       "      <td>2024</td>\n",
       "    </tr>\n",
       "    <tr>\n",
       "      <th>11</th>\n",
       "      <td>The mathematics of contagious diseases and the...</td>\n",
       "      <td>This article explores mathematical models for ...</td>\n",
       "      <td>Sorzano, C.O.S.</td>\n",
       "      <td>2021</td>\n",
       "    </tr>\n",
       "    <tr>\n",
       "      <th>12</th>\n",
       "      <td>A Conversational Brain-Artificial Intelligence...</td>\n",
       "      <td>We introduce Brain-Artificial Intelligence Int...</td>\n",
       "      <td>Meunier, A.</td>\n",
       "      <td>2024</td>\n",
       "    </tr>\n",
       "    <tr>\n",
       "      <th>13</th>\n",
       "      <td>Reinforced Labels: Multi-Agent Deep Reinforcem...</td>\n",
       "      <td>Over the recent years, Reinforcement Learning ...</td>\n",
       "      <td>Bobák, P.</td>\n",
       "      <td>2023</td>\n",
       "    </tr>\n",
       "    <tr>\n",
       "      <th>14</th>\n",
       "      <td>Bayesian Prediction of Future Street Scenes Th...</td>\n",
       "      <td>For autonomous agents to successfully operate ...</td>\n",
       "      <td>Bhattacharyya, A.</td>\n",
       "      <td>2018</td>\n",
       "    </tr>\n",
       "    <tr>\n",
       "      <th>15</th>\n",
       "      <td>Mapping CAR T-cell design space using agent-ba...</td>\n",
       "      <td>Chimeric antigen receptor (CAR) T-cell therapy...</td>\n",
       "      <td>Prybutok, A.N.</td>\n",
       "      <td>2022</td>\n",
       "    </tr>\n",
       "    <tr>\n",
       "      <th>16</th>\n",
       "      <td>Communicative reinforcement learning agents fo...</td>\n",
       "      <td>Accurate detection of anatomical landmarks is ...</td>\n",
       "      <td>Leroy, G.</td>\n",
       "      <td>2020</td>\n",
       "    </tr>\n",
       "    <tr>\n",
       "      <th>17</th>\n",
       "      <td>UMass-BioNLP at MEDIQA-M3G 2024: DermPrompt - ...</td>\n",
       "      <td>This paper presents our team’s participation i...</td>\n",
       "      <td>Vashisht, P.</td>\n",
       "      <td>2024</td>\n",
       "    </tr>\n",
       "    <tr>\n",
       "      <th>18</th>\n",
       "      <td>Targeting the Untargetable: Predicting Pramlin...</td>\n",
       "      <td>De novo resistance is a major issue for the us...</td>\n",
       "      <td>Kim, E.</td>\n",
       "      <td>2017</td>\n",
       "    </tr>\n",
       "    <tr>\n",
       "      <th>19</th>\n",
       "      <td>ERATTA: Extreme RAG for enterprise-Table To An...</td>\n",
       "      <td>Large language models (LLMs) with retrieval au...</td>\n",
       "      <td>Roychowdhury, S.</td>\n",
       "      <td>2024</td>\n",
       "    </tr>\n",
       "  </tbody>\n",
       "</table>\n",
       "</div>"
      ],
      "text/plain": [
       "                                                Title  \\\n",
       "0   Fusing an agent-based model of mosquito popula...   \n",
       "1   PDRL: Multi-Agent based Reinforcement Learning...   \n",
       "2   Learning-accelerated Discovery of Immune-Tumou...   \n",
       "3   Investigating spatiotemporal dynamics and sync...   \n",
       "4   Modeling the Spread of COVID-19 in University ...   \n",
       "5   Multi-Agent Reinforcement Learning with Action...   \n",
       "6   A new (N) stochastic quenched disorder model f...   \n",
       "7   Frustration induced phases in migrating cell c...   \n",
       "8   Universal masking is urgent in the COVID-19 pa...   \n",
       "9   Calculus of consent via MARL: Legitimating the...   \n",
       "10  MentalAgora: A Gateway to Advanced Personalize...   \n",
       "11  The mathematics of contagious diseases and the...   \n",
       "12  A Conversational Brain-Artificial Intelligence...   \n",
       "13  Reinforced Labels: Multi-Agent Deep Reinforcem...   \n",
       "14  Bayesian Prediction of Future Street Scenes Th...   \n",
       "15  Mapping CAR T-cell design space using agent-ba...   \n",
       "16  Communicative reinforcement learning agents fo...   \n",
       "17  UMass-BioNLP at MEDIQA-M3G 2024: DermPrompt - ...   \n",
       "18  Targeting the Untargetable: Predicting Pramlin...   \n",
       "19  ERATTA: Extreme RAG for enterprise-Table To An...   \n",
       "\n",
       "                                             Abstract            Authors  Year  \n",
       "0   The mosquito Aedes aegypti is the vector of a ...       Cavany, S.M.  2022  \n",
       "1   Reinforcement learning has been increasingly a...          Shaik, T.  2023  \n",
       "2   We present an integrated framework for enablin...           Ozik, J.  2019  \n",
       "3   In this paper we present AceMod, an agent-base...        Cliff, O.M.  2018  \n",
       "4   Mathematical and simulation models are often u...     Herrmann, J.W.  2024  \n",
       "5   Unmanned Aerial Vehicles (UAVs) are increasing...          Rizvi, D.  2023  \n",
       "6   Human beings live in a networked world in whic...     Ferreira, A.A.  2019  \n",
       "7   Collective motion of cells is common in many p...     Copenhagen, K.  2017  \n",
       "8   We present two models for the COVID-19 pandemi...            Kai, D.  2020  \n",
       "9   Public policies that supply public goods, espe...             Hu, Y.  2021  \n",
       "10  As mental health issues globally escalate, the...            Lee, Y.  2024  \n",
       "11  This article explores mathematical models for ...    Sorzano, C.O.S.  2021  \n",
       "12  We introduce Brain-Artificial Intelligence Int...        Meunier, A.  2024  \n",
       "13  Over the recent years, Reinforcement Learning ...          Bobák, P.  2023  \n",
       "14  For autonomous agents to successfully operate ...  Bhattacharyya, A.  2018  \n",
       "15  Chimeric antigen receptor (CAR) T-cell therapy...     Prybutok, A.N.  2022  \n",
       "16  Accurate detection of anatomical landmarks is ...          Leroy, G.  2020  \n",
       "17  This paper presents our team’s participation i...       Vashisht, P.  2024  \n",
       "18  De novo resistance is a major issue for the us...            Kim, E.  2017  \n",
       "19  Large language models (LLMs) with retrieval au...   Roychowdhury, S.  2024  "
      ]
     },
     "execution_count": 8,
     "metadata": {},
     "output_type": "execute_result"
    }
   ],
   "source": [
    "# Load a dummy dataset\n",
    "\n",
    "data = pd.read_csv(\"data.csv\")\n",
    "data"
   ]
  },
  {
   "cell_type": "code",
   "execution_count": 9,
   "metadata": {},
   "outputs": [
    {
     "name": "stdout",
     "output_type": "stream",
     "text": [
      "====== Inputs ======\n",
      "\n",
      " fusing an agent-based model of mosquito population dynamics with a statistical reconstruction of spatio-temporal abundance patterns\n",
      "pdrl: multi-agent based reinforcement learning for predictive monitoring\n",
      "learning-accelerated discovery of immune-tumour interactions\n"
     ]
    },
    {
     "name": "stderr",
     "output_type": "stream",
     "text": [
      "Reviewing 3 items - 2024-12-26 23:31:59: 100%|██████████| 3/3 [00:09<00:00,  3.04s/it]"
     ]
    },
    {
     "name": "stdout",
     "output_type": "stream",
     "text": [
      "\n",
      "====== Outputs ======\n",
      "{'reasoning': \"While this title mentions 'agent-based model', it refers to ecological modeling of mosquito populations rather than AI/ML agents.\", 'score': 2, 'certainty': 95}\n",
      "{'reasoning': \"The title explicitly mentions 'multi-agent based reinforcement learning' which directly indicates it deals with AI/machine learning agents\", 'score': 1, 'certainty': 100}\n",
      "{'reasoning': \"The term 'learning-accelerated' in the title directly implies the use of machine learning techniques for discovery in immune-tumor interactions.\", 'score': 1, 'certainty': 90}\n",
      "\n",
      "====== Costs ======\n",
      "\n",
      "Cost for item 0: 0.003318\n",
      "Cost for item 1: 0.0032760000000000003\n",
      "Cost for item 2: 0.003297\n",
      "\n",
      "Total cost: 0.003297\n"
     ]
    },
    {
     "name": "stderr",
     "output_type": "stream",
     "text": [
      "\n"
     ]
    }
   ],
   "source": [
    "agent = ScoringReviewer(\n",
    "    provider=LiteLLMProvider(model=\"claude-3-5-sonnet-20241022\"),\n",
    "    name=\"Pouria\",\n",
    "    max_concurrent_requests=1, \n",
    "    backstory=\"an expert reviewer and researcher!\",\n",
    "    input_description = \"article title\",\n",
    "    model_args={\"max_tokens\": 200, \"temperature\": 0.1},\n",
    "    reasoning = \"brief\",\n",
    "    scoring_task=\"Search for articles whose titles suggest they are about AI or machine learning agents.\",\n",
    "    scoring_set=[1, 2],\n",
    "    scoring_rules='Score 1 if the article title meets the criteria, and 2 if the article paper does not meet the criteria.',\n",
    ")\n",
    "\n",
    "\n",
    "# Dummy input\n",
    "text_list = data.Title.str.lower().tolist()\n",
    "print(\"====== Inputs ======\\n\\n\", '\\n'.join(text_list[:3]))\n",
    "\n",
    "# Dummy review\n",
    "results, total_cost = asyncio.run(agent.review_items(text_list[:3]))\n",
    "print(\"\\n====== Outputs ======\")\n",
    "for result in results:\n",
    "    print(result)\n",
    "\n",
    "# Dummy costs\n",
    "print(\"\\n====== Costs ======\\n\")\n",
    "for i, item in enumerate(agent.memory):\n",
    "    print(f\"Cost for item {i}: {item['cost']}\")\n",
    "\n",
    "print(f\"\\nTotal cost: {total_cost}\")"
   ]
  }
 ],
 "metadata": {
  "kernelspec": {
   "display_name": "venv",
   "language": "python",
   "name": "python3"
  },
  "language_info": {
   "codemirror_mode": {
    "name": "ipython",
    "version": 3
   },
   "file_extension": ".py",
   "mimetype": "text/x-python",
   "name": "python",
   "nbconvert_exporter": "python",
   "pygments_lexer": "ipython3",
   "version": "3.9.6"
  }
 },
 "nbformat": 4,
 "nbformat_minor": 2
}
