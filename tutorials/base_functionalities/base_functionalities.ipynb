{
 "cells": [
  {
   "cell_type": "markdown",
   "metadata": {},
   "source": [
    "# Baseline Functionalities"
   ]
  },
  {
   "cell_type": "markdown",
   "metadata": {},
   "source": [
    "In this notebook, we will demonstrate the baseline functionalities of the LatteReview package. These functionalities are the cornerstone of reviewer agents."
   ]
  },
  {
   "cell_type": "markdown",
   "metadata": {},
   "source": [
    "## Setting up the notebook"
   ]
  },
  {
   "cell_type": "code",
   "execution_count": 1,
   "metadata": {},
   "outputs": [],
   "source": [
    "%reload_ext autoreload\n",
    "%autoreload 2\n",
    "\n",
    "from dotenv import load_dotenv\n",
    "\n",
    "# Load environment variables from .env file. Adjust the path to the .env file as needed.\n",
    "load_dotenv(dotenv_path='../.env')\n",
    "\n",
    "# Enable asyncio in Jupyter\n",
    "import asyncio\n",
    "import nest_asyncio\n",
    "\n",
    "nest_asyncio.apply()\n",
    "\n",
    "#  Add the package to the path (required if you are running this notebook from the examples folder)\n",
    "import sys\n",
    "sys.path.append('../../')\n"
   ]
  },
  {
   "cell_type": "markdown",
   "metadata": {},
   "source": [
    "High-level configs"
   ]
  },
  {
   "cell_type": "code",
   "execution_count": 2,
   "metadata": {},
   "outputs": [],
   "source": [
    "%reload_ext autoreload\n",
    "%autoreload 2\n",
    "\n",
    "from dotenv import load_dotenv\n",
    "\n",
    "# Load environment variables from .env file. Adjust the path to the .env file as needed.\n",
    "load_dotenv(dotenv_path='../.env')\n",
    "\n",
    "# Enable asyncio in Jupyter\n",
    "import asyncio\n",
    "import nest_asyncio\n",
    "\n",
    "nest_asyncio.apply()\n",
    "\n",
    "#  Add the package to the path (required if you are running this notebook from the examples folder)\n",
    "import sys\n",
    "sys.path.append('../../')\n"
   ]
  },
  {
   "cell_type": "markdown",
   "metadata": {},
   "source": [
    "Import required packages"
   ]
  },
  {
   "cell_type": "code",
   "execution_count": 3,
   "metadata": {},
   "outputs": [],
   "source": [
    "import pandas as pd\n",
    "\n",
    "from lattereview.providers import OpenAIProvider\n",
    "from lattereview.providers import OllamaProvider\n",
    "from lattereview.providers import LiteLLMProvider\n",
    "from lattereview.agents import ScoringReviewer"
   ]
  },
  {
   "cell_type": "markdown",
   "metadata": {},
   "source": [
    "## Testing the base functionalities"
   ]
  },
  {
   "cell_type": "markdown",
   "metadata": {},
   "source": [
    "Testing the OpenAI provider (with OpenAI and Gemini models):"
   ]
  },
  {
   "cell_type": "code",
   "execution_count": 4,
   "metadata": {},
   "outputs": [
    {
     "data": {
      "text/plain": [
       "('The capital of France is Paris.',\n",
       " {'input_cost': 1.05e-06, 'output_cost': 4.2e-06, 'total_cost': 5.25e-06})"
      ]
     },
     "execution_count": 4,
     "metadata": {},
     "output_type": "execute_result"
    }
   ],
   "source": [
    "openanai_provider = OpenAIProvider(model=\"gpt-4o-mini\")\n",
    "question = \"What is the capital of France?\"\n",
    "asyncio.run(openanai_provider.get_response(question))"
   ]
  },
  {
   "cell_type": "markdown",
   "metadata": {},
   "source": [
    "Testing the Ollama provider:"
   ]
  },
  {
   "cell_type": "code",
   "execution_count": 6,
   "metadata": {},
   "outputs": [
    {
     "data": {
      "text/plain": [
       "('The capital of France is **Paris**. 🇫🇷\\n',\n",
       " {'input_cost': 0, 'output_cost': 0, 'total_cost': 0})"
      ]
     },
     "execution_count": 6,
     "metadata": {},
     "output_type": "execute_result"
    }
   ],
   "source": [
    "ollama_provider = OllamaProvider(model=\"gemma3:12b\", host=\"http://localhost:11434\")\n",
    "question = \"What is the capital of France?\"\n",
    "asyncio.run(ollama_provider.get_response(question))"
   ]
  },
  {
   "cell_type": "markdown",
   "metadata": {},
   "source": [
    "Testing the LiteLLM provider:"
   ]
  },
  {
   "cell_type": "code",
   "execution_count": 5,
   "metadata": {},
   "outputs": [
    {
     "data": {
      "text/plain": [
       "('The capital of France is Paris.\\n', 3e-06)"
      ]
     },
     "execution_count": 5,
     "metadata": {},
     "output_type": "execute_result"
    }
   ],
   "source": [
    "litellm_provider = LiteLLMProvider(model=\"gemini/gemini-1.5-flash\")\n",
    "\n",
    "# Other models to try:\n",
    "# litellm_provider = LiteLLMProvider(model=\"gpt-4o-mini\")\n",
    "# litellm_provider = LiteLLMProvider(model=\"claude-3-5-sonnet-20240620\")\n",
    "# litellm_provider = LiteLLMProvider(model=\"groq/llama-3.3-70b-versatile\")\n",
    "# litellm_provider = LiteLLMProvider(model=\"ollama/llama3.2-vision:latest\")\n",
    "# litellm_provider = LiteLLMProvider(model=\"groq/llama-3.3-70b-versatile\")\n",
    "\n",
    "question = \"What is the capital of France?\"\n",
    "asyncio.run(litellm_provider.get_response(question))"
   ]
  },
  {
   "cell_type": "markdown",
   "metadata": {},
   "source": [
    "Testing the ScoringReviewer agent:"
   ]
  },
  {
   "cell_type": "code",
   "execution_count": 7,
   "metadata": {},
   "outputs": [
    {
     "data": {
      "text/html": [
       "<div>\n",
       "<style scoped>\n",
       "    .dataframe tbody tr th:only-of-type {\n",
       "        vertical-align: middle;\n",
       "    }\n",
       "\n",
       "    .dataframe tbody tr th {\n",
       "        vertical-align: top;\n",
       "    }\n",
       "\n",
       "    .dataframe thead th {\n",
       "        text-align: right;\n",
       "    }\n",
       "</style>\n",
       "<table border=\"1\" class=\"dataframe\">\n",
       "  <thead>\n",
       "    <tr style=\"text-align: right;\">\n",
       "      <th></th>\n",
       "      <th>Title</th>\n",
       "      <th>Abstract</th>\n",
       "      <th>Authors</th>\n",
       "      <th>Year</th>\n",
       "    </tr>\n",
       "  </thead>\n",
       "  <tbody>\n",
       "    <tr>\n",
       "      <th>0</th>\n",
       "      <td>Fusing an agent-based model of mosquito popula...</td>\n",
       "      <td>The mosquito Aedes aegypti is the vector of a ...</td>\n",
       "      <td>Cavany, S.M.</td>\n",
       "      <td>2022</td>\n",
       "    </tr>\n",
       "    <tr>\n",
       "      <th>1</th>\n",
       "      <td>PDRL: Multi-Agent based Reinforcement Learning...</td>\n",
       "      <td>Reinforcement learning has been increasingly a...</td>\n",
       "      <td>Shaik, T.</td>\n",
       "      <td>2023</td>\n",
       "    </tr>\n",
       "    <tr>\n",
       "      <th>2</th>\n",
       "      <td>Learning-accelerated Discovery of Immune-Tumou...</td>\n",
       "      <td>We present an integrated framework for enablin...</td>\n",
       "      <td>Ozik, J.</td>\n",
       "      <td>2019</td>\n",
       "    </tr>\n",
       "    <tr>\n",
       "      <th>3</th>\n",
       "      <td>Investigating spatiotemporal dynamics and sync...</td>\n",
       "      <td>In this paper we present AceMod, an agent-base...</td>\n",
       "      <td>Cliff, O.M.</td>\n",
       "      <td>2018</td>\n",
       "    </tr>\n",
       "    <tr>\n",
       "      <th>4</th>\n",
       "      <td>Modeling the Spread of COVID-19 in University ...</td>\n",
       "      <td>Mathematical and simulation models are often u...</td>\n",
       "      <td>Herrmann, J.W.</td>\n",
       "      <td>2024</td>\n",
       "    </tr>\n",
       "    <tr>\n",
       "      <th>5</th>\n",
       "      <td>Multi-Agent Reinforcement Learning with Action...</td>\n",
       "      <td>Unmanned Aerial Vehicles (UAVs) are increasing...</td>\n",
       "      <td>Rizvi, D.</td>\n",
       "      <td>2023</td>\n",
       "    </tr>\n",
       "    <tr>\n",
       "      <th>6</th>\n",
       "      <td>A new (N) stochastic quenched disorder model f...</td>\n",
       "      <td>Human beings live in a networked world in whic...</td>\n",
       "      <td>Ferreira, A.A.</td>\n",
       "      <td>2019</td>\n",
       "    </tr>\n",
       "    <tr>\n",
       "      <th>7</th>\n",
       "      <td>Frustration induced phases in migrating cell c...</td>\n",
       "      <td>Collective motion of cells is common in many p...</td>\n",
       "      <td>Copenhagen, K.</td>\n",
       "      <td>2017</td>\n",
       "    </tr>\n",
       "    <tr>\n",
       "      <th>8</th>\n",
       "      <td>Universal masking is urgent in the COVID-19 pa...</td>\n",
       "      <td>We present two models for the COVID-19 pandemi...</td>\n",
       "      <td>Kai, D.</td>\n",
       "      <td>2020</td>\n",
       "    </tr>\n",
       "    <tr>\n",
       "      <th>9</th>\n",
       "      <td>Calculus of consent via MARL: Legitimating the...</td>\n",
       "      <td>Public policies that supply public goods, espe...</td>\n",
       "      <td>Hu, Y.</td>\n",
       "      <td>2021</td>\n",
       "    </tr>\n",
       "    <tr>\n",
       "      <th>10</th>\n",
       "      <td>MentalAgora: A Gateway to Advanced Personalize...</td>\n",
       "      <td>As mental health issues globally escalate, the...</td>\n",
       "      <td>Lee, Y.</td>\n",
       "      <td>2024</td>\n",
       "    </tr>\n",
       "    <tr>\n",
       "      <th>11</th>\n",
       "      <td>The mathematics of contagious diseases and the...</td>\n",
       "      <td>This article explores mathematical models for ...</td>\n",
       "      <td>Sorzano, C.O.S.</td>\n",
       "      <td>2021</td>\n",
       "    </tr>\n",
       "    <tr>\n",
       "      <th>12</th>\n",
       "      <td>A Conversational Brain-Artificial Intelligence...</td>\n",
       "      <td>We introduce Brain-Artificial Intelligence Int...</td>\n",
       "      <td>Meunier, A.</td>\n",
       "      <td>2024</td>\n",
       "    </tr>\n",
       "    <tr>\n",
       "      <th>13</th>\n",
       "      <td>Reinforced Labels: Multi-Agent Deep Reinforcem...</td>\n",
       "      <td>Over the recent years, Reinforcement Learning ...</td>\n",
       "      <td>Bobák, P.</td>\n",
       "      <td>2023</td>\n",
       "    </tr>\n",
       "    <tr>\n",
       "      <th>14</th>\n",
       "      <td>Bayesian Prediction of Future Street Scenes Th...</td>\n",
       "      <td>For autonomous agents to successfully operate ...</td>\n",
       "      <td>Bhattacharyya, A.</td>\n",
       "      <td>2018</td>\n",
       "    </tr>\n",
       "    <tr>\n",
       "      <th>15</th>\n",
       "      <td>Mapping CAR T-cell design space using agent-ba...</td>\n",
       "      <td>Chimeric antigen receptor (CAR) T-cell therapy...</td>\n",
       "      <td>Prybutok, A.N.</td>\n",
       "      <td>2022</td>\n",
       "    </tr>\n",
       "    <tr>\n",
       "      <th>16</th>\n",
       "      <td>Communicative reinforcement learning agents fo...</td>\n",
       "      <td>Accurate detection of anatomical landmarks is ...</td>\n",
       "      <td>Leroy, G.</td>\n",
       "      <td>2020</td>\n",
       "    </tr>\n",
       "    <tr>\n",
       "      <th>17</th>\n",
       "      <td>UMass-BioNLP at MEDIQA-M3G 2024: DermPrompt - ...</td>\n",
       "      <td>This paper presents our team’s participation i...</td>\n",
       "      <td>Vashisht, P.</td>\n",
       "      <td>2024</td>\n",
       "    </tr>\n",
       "    <tr>\n",
       "      <th>18</th>\n",
       "      <td>Targeting the Untargetable: Predicting Pramlin...</td>\n",
       "      <td>De novo resistance is a major issue for the us...</td>\n",
       "      <td>Kim, E.</td>\n",
       "      <td>2017</td>\n",
       "    </tr>\n",
       "    <tr>\n",
       "      <th>19</th>\n",
       "      <td>ERATTA: Extreme RAG for enterprise-Table To An...</td>\n",
       "      <td>Large language models (LLMs) with retrieval au...</td>\n",
       "      <td>Roychowdhury, S.</td>\n",
       "      <td>2024</td>\n",
       "    </tr>\n",
       "  </tbody>\n",
       "</table>\n",
       "</div>"
      ],
      "text/plain": [
       "                                                Title  \\\n",
       "0   Fusing an agent-based model of mosquito popula...   \n",
       "1   PDRL: Multi-Agent based Reinforcement Learning...   \n",
       "2   Learning-accelerated Discovery of Immune-Tumou...   \n",
       "3   Investigating spatiotemporal dynamics and sync...   \n",
       "4   Modeling the Spread of COVID-19 in University ...   \n",
       "5   Multi-Agent Reinforcement Learning with Action...   \n",
       "6   A new (N) stochastic quenched disorder model f...   \n",
       "7   Frustration induced phases in migrating cell c...   \n",
       "8   Universal masking is urgent in the COVID-19 pa...   \n",
       "9   Calculus of consent via MARL: Legitimating the...   \n",
       "10  MentalAgora: A Gateway to Advanced Personalize...   \n",
       "11  The mathematics of contagious diseases and the...   \n",
       "12  A Conversational Brain-Artificial Intelligence...   \n",
       "13  Reinforced Labels: Multi-Agent Deep Reinforcem...   \n",
       "14  Bayesian Prediction of Future Street Scenes Th...   \n",
       "15  Mapping CAR T-cell design space using agent-ba...   \n",
       "16  Communicative reinforcement learning agents fo...   \n",
       "17  UMass-BioNLP at MEDIQA-M3G 2024: DermPrompt - ...   \n",
       "18  Targeting the Untargetable: Predicting Pramlin...   \n",
       "19  ERATTA: Extreme RAG for enterprise-Table To An...   \n",
       "\n",
       "                                             Abstract            Authors  Year  \n",
       "0   The mosquito Aedes aegypti is the vector of a ...       Cavany, S.M.  2022  \n",
       "1   Reinforcement learning has been increasingly a...          Shaik, T.  2023  \n",
       "2   We present an integrated framework for enablin...           Ozik, J.  2019  \n",
       "3   In this paper we present AceMod, an agent-base...        Cliff, O.M.  2018  \n",
       "4   Mathematical and simulation models are often u...     Herrmann, J.W.  2024  \n",
       "5   Unmanned Aerial Vehicles (UAVs) are increasing...          Rizvi, D.  2023  \n",
       "6   Human beings live in a networked world in whic...     Ferreira, A.A.  2019  \n",
       "7   Collective motion of cells is common in many p...     Copenhagen, K.  2017  \n",
       "8   We present two models for the COVID-19 pandemi...            Kai, D.  2020  \n",
       "9   Public policies that supply public goods, espe...             Hu, Y.  2021  \n",
       "10  As mental health issues globally escalate, the...            Lee, Y.  2024  \n",
       "11  This article explores mathematical models for ...    Sorzano, C.O.S.  2021  \n",
       "12  We introduce Brain-Artificial Intelligence Int...        Meunier, A.  2024  \n",
       "13  Over the recent years, Reinforcement Learning ...          Bobák, P.  2023  \n",
       "14  For autonomous agents to successfully operate ...  Bhattacharyya, A.  2018  \n",
       "15  Chimeric antigen receptor (CAR) T-cell therapy...     Prybutok, A.N.  2022  \n",
       "16  Accurate detection of anatomical landmarks is ...          Leroy, G.  2020  \n",
       "17  This paper presents our team’s participation i...       Vashisht, P.  2024  \n",
       "18  De novo resistance is a major issue for the us...            Kim, E.  2017  \n",
       "19  Large language models (LLMs) with retrieval au...   Roychowdhury, S.  2024  "
      ]
     },
     "execution_count": 7,
     "metadata": {},
     "output_type": "execute_result"
    }
   ],
   "source": [
    "# Load a dummy dataset\n",
    "\n",
    "data = pd.read_csv(\"data.csv\")\n",
    "data"
   ]
  },
  {
   "cell_type": "code",
   "execution_count": 14,
   "metadata": {},
   "outputs": [
    {
     "name": "stderr",
     "output_type": "stream",
     "text": [
      "Reviewing 20 items - 2025-04-29 11:46:54: 100%|██████████| 20/20 [02:10<00:00,  6.53s/it]"
     ]
    },
    {
     "name": "stdout",
     "output_type": "stream",
     "text": [
      "\n",
      "====== Review Results ======\n",
      "Input:  fusing an agent-based model of mosquito population dynamics with a statistical reconstruction of spatio-temporal abundance patterns\n",
      "reasoning:  The title mentions an 'agent-based model,' which strongly suggests the use of AI or machine learning agents, aligning with the search criteria.\n",
      "score:  1\n",
      "--------------------------------\n",
      "Input:  pdrl: multi-agent based reinforcement learning for predictive monitoring\n",
      "reasoning:  The title explicitly mentions 'multi-agent based reinforcement learning,' which clearly falls under the domain of AI/machine learning agents.\n",
      "score:  1\n",
      "--------------------------------\n",
      "Input:  learning-accelerated discovery of immune-tumour interactions\n",
      "reasoning:  The title 'learning-accelerated discovery' strongly suggests the use of machine learning techniques to expedite a research process, aligning with the criteria of articles about AI or machine learning agents.\n",
      "score:  1\n",
      "--------------------------------\n",
      "Input:  investigating spatiotemporal dynamics and synchrony of inuenza epidemics in australia: an agent-based modelling approach\n",
      "reasoning:  The article title explicitly mentions 'agent-based modelling,' indicating the use of computational agents, which aligns with the criteria of articles about AI or machine learning agents.\n",
      "score:  1\n",
      "--------------------------------\n",
      "Input:  modeling the spread of covid-19 in university communities\n",
      "reasoning:  The title 'modeling the spread of covid-19 in university communities' describes a modeling study of a disease, but it doesn's explicitly mention AI or machine learning agents.\n",
      "score:  2\n",
      "--------------------------------\n",
      "Input:  multi-agent reinforcement learning with action masking for uav-enabled mobile communications\n",
      "reasoning:  The title explicitly mentions 'multi-agent reinforcement learning,' which clearly falls under the AI/machine learning agent category.\n",
      "score:  1\n",
      "--------------------------------\n",
      "Input:  a new (n) stochastic quenched disorder model for interaction of network-master node\n",
      "reasoning:  The title mentions 'network-master node' and 'stochastic quenched disorder model,' which are concepts more aligned with network science or physics than AI or machine learning agents, so it does not meet the specified criteria.\n",
      "score:  2\n",
      "--------------------------------\n",
      "Input:  frustration induced phases in migrating cell clusters\n",
      "reasoning:  The title 'frustration induced phases in migrating cell clusters' clearly describes biological processes and does not involve AI or machine learning agents.\n",
      "score:  2\n",
      "--------------------------------\n",
      "Input:  universal masking is urgent in the covid-19 pandemic: seir and agent based models, empirical validation, policy recommendations\n",
      "reasoning:  The title mentions 'agent-based models,' which directly refers to a modeling technique often utilized in artificial intelligence and machine learning agent development.\n",
      "score:  1\n",
      "--------------------------------\n",
      "Input:  calculus of consent via marl: legitimating the collaborative governance supplying public goods\n",
      "reasoning:  The title 'calculus of consent via marl: legitimating the collaborative governance supplying public goods' explicitly mentions 'marl,' which is an abbreviation for multi-agent reinforcement learning, a key area within AI and machine learning.\n",
      "score:  1\n",
      "--------------------------------\n",
      "Input:  mentalagora: a gateway to advanced personalized care in mental health through multi-agent debating and attribute control\n",
      "reasoning:  The title explicitly mentions \"multi-agent debating,\" which strongly suggests the use of AI or machine learning agents, aligning with the specified criteria.\n",
      "score:  1\n",
      "--------------------------------\n",
      "Input:  the mathematics of contagious diseases and their limitations in forecasting\n",
      "reasoning:  The article title discusses mathematical modeling of disease spread, which doesn't inherently involve AI or machine learning agents.\n",
      "score:  2\n",
      "--------------------------------\n",
      "Input:  a conversational brain-artificial intelligence interface\n",
      "reasoning:  The title 'a conversational brain-artificial intelligence interface' explicitly mentions 'artificial intelligence,' directly aligning with the search criteria for articles about AI or machine learning agents.\n",
      "score:  1\n",
      "--------------------------------\n",
      "Input:  reinforced labels: multi-agent deep reinforcement learning for point-feature label placement\n",
      "reasoning:  The title explicitly mentions 'multi-agent deep reinforcement learning,' which strongly suggests the article is about AI/ML agents.\n",
      "score:  1\n",
      "--------------------------------\n",
      "Input:  bayesian prediction of future street scenes through importance sampling based optimization\n",
      "reasoning:  The title 'bayesian prediction of future street scenes through importance sampling based optimization' strongly suggests the use of machine learning techniques (Bayesian methods, optimization) for a prediction task, fitting the criteria of AI/ML agents.\n",
      "score:  1\n",
      "--------------------------------\n",
      "Input:  mapping car t-cell design space using agent-based models\n",
      "reasoning:  The title explicitly mentions 'agent-based models,' which strongly suggests the use of AI or machine learning agents for simulating car t-cell design.\n",
      "score:  1\n",
      "--------------------------------\n",
      "Input:  communicative reinforcement learning agents for landmark detection in brain images\n",
      "reasoning:  The title explicitly mentions 'reinforcement learning agents,' which directly indicates the use of AI/machine learning agents, thus meeting the specified criteria.\n",
      "score:  1\n",
      "--------------------------------\n",
      "Input:  umass-bionlp at mediqa-m3g 2024: dermprompt - a systematic exploration of prompt engineering with gpt-4v for dermatological diagnosis\n",
      "reasoning:  The title explicitly mentions 'GPT-4V' and 'prompt engineering,' which are indicative of AI/machine learning applications, thus meeting the specified criteria.\n",
      "score:  1\n",
      "--------------------------------\n",
      "Input:  targeting the untargetable: predicting pramlintide resistance using a neural network based cellular automata\n",
      "reasoning:  The title explicitly mentions 'neural network,' which is a core component of AI and machine learning, indicating the article likely discusses AI or machine learning agents.\n",
      "score:  1\n",
      "--------------------------------\n",
      "Input:  eratta: extreme rag for enterprise-table to answers with large language models\n",
      "reasoning:  The title 'eratta: extreme rag for enterprise-table to answers with large language models' strongly suggests a discussion about Large Language Models (LLMs) and their application, which falls squarely within the AI/ML agent domain.\n",
      "score:  1\n",
      "--------------------------------\n",
      "\n",
      "====== Total Cost ======\n",
      "0\n"
     ]
    },
    {
     "name": "stderr",
     "output_type": "stream",
     "text": [
      "\n"
     ]
    }
   ],
   "source": [
    "agent = ScoringReviewer(\n",
    "    provider=OllamaProvider(model=\"gemma3:12b\", host=\"http://localhost:11434\"),\n",
    "    name=\"Pouria\",\n",
    "    max_concurrent_requests=1, \n",
    "    backstory=\"an expert reviewer and researcher!\",\n",
    "    input_description = \"article title\",\n",
    "    model_args={\"max_tokens\": 200, \"temperature\": 0.1},\n",
    "    reasoning = \"brief\",\n",
    "    scoring_task=\"Search for articles whose titles suggest they are about AI or machine learning agents.\",\n",
    "    scoring_set=[1, 2],\n",
    "    scoring_rules='Score 1 if the article title meets the criteria, and 2 if the article paper does not meet the criteria.',\n",
    ")\n",
    "\n",
    "# Dummy review\n",
    "import json\n",
    "\n",
    "text_list = data.Title.str.lower().tolist()\n",
    "results, total_cost = asyncio.run(agent.review_items(text_list))\n",
    "print(\"\\n====== Review Results ======\")\n",
    "for n, result in enumerate(results):\n",
    "    result_dict = json.loads(result)\n",
    "    print(\"Input: \", text_list[n])\n",
    "    print(\"reasoning: \", result_dict[\"reasoning\"])\n",
    "    print(\"score: \", result_dict[\"score\"])\n",
    "    print(\"--------------------------------\")\n",
    "\n",
    "# Dummy costs\n",
    "print(\"\\n====== Total Cost ======\")\n",
    "print(total_cost)"
   ]
  }
 ],
 "metadata": {
  "kernelspec": {
   "display_name": ".venv",
   "language": "python",
   "name": "python3"
  },
  "language_info": {
   "codemirror_mode": {
    "name": "ipython",
    "version": 3
   },
   "file_extension": ".py",
   "mimetype": "text/x-python",
   "name": "python",
   "nbconvert_exporter": "python",
   "pygments_lexer": "ipython3",
   "version": "3.12.9"
  }
 },
 "nbformat": 4,
 "nbformat_minor": 2
}
