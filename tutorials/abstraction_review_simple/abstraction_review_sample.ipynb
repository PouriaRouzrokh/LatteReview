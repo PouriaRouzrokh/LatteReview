{
 "cells": [
  {
   "cell_type": "markdown",
   "metadata": {},
   "source": [
    "# Abstraction Review"
   ]
  },
  {
   "cell_type": "markdown",
   "metadata": {},
   "source": [
    "In this notebook, we will demonstrate a simple example of how LatteReview could be used for abstracting concepts from input data."
   ]
  },
  {
   "cell_type": "markdown",
   "metadata": {},
   "source": [
    "## Setting up the notebook"
   ]
  },
  {
   "cell_type": "markdown",
   "metadata": {},
   "source": [
    "High-level configs"
   ]
  },
  {
   "cell_type": "code",
   "execution_count": 1,
   "metadata": {},
   "outputs": [],
   "source": [
    "%reload_ext autoreload\n",
    "%autoreload 2\n",
    "\n",
    "from dotenv import load_dotenv\n",
    "\n",
    "# Load environment variables from .env file. Adjust the path to the .env file as needed.\n",
    "load_dotenv(dotenv_path='../.env')\n",
    "\n",
    "# Enable asyncio in Jupyter\n",
    "import asyncio\n",
    "import nest_asyncio\n",
    "\n",
    "nest_asyncio.apply()\n",
    "\n",
    "#  Add the package to the path (required if you are running this notebook from the examples folder)\n",
    "import sys\n",
    "sys.path.append('../../')\n"
   ]
  },
  {
   "cell_type": "markdown",
   "metadata": {},
   "source": [
    "Import required packages"
   ]
  },
  {
   "cell_type": "code",
   "execution_count": 3,
   "metadata": {},
   "outputs": [],
   "source": [
    "import json\n",
    "import pandas as pd\n",
    "from pydantic import BaseModel\n",
    "from tqdm.auto import tqdm\n",
    "\n",
    "from lattereview.providers import OpenAIProvider\n",
    "from lattereview.providers import LiteLLMProvider\n",
    "from lattereview.agents import AbstractionReviewer\n",
    "from lattereview.workflows import ReviewWorkflow"
   ]
  },
  {
   "cell_type": "markdown",
   "metadata": {},
   "source": [
    "## Data"
   ]
  },
  {
   "cell_type": "markdown",
   "metadata": {},
   "source": [
    "To demonstrate how the `AbstractionReviewer` can be used to extract specific information from input items, we will create a dummy dataset of imaginary stories. The `AbstractionReviewer` will be tasked with extracting the location of each story and identifying the main characters introduced in it. To generate these stories, we will prompt the GPT-4-O model to provide the stories along with the ground truth location and characters. Notice how we utilize the base functionalities of LatteLLM and a Pydantic base model to specify the expected output format from GPT-4-O, clearly defining the structure of the desired output."
   ]
  },
  {
   "cell_type": "code",
   "execution_count": 4,
   "metadata": {},
   "outputs": [
    {
     "data": {
      "application/vnd.jupyter.widget-view+json": {
       "model_id": "926de9349e28468bade0c5f73203a6ce",
       "version_major": 2,
       "version_minor": 0
      },
      "text/plain": [
       "  0%|          | 0/5 [00:00<?, ?it/s]"
      ]
     },
     "metadata": {},
     "output_type": "display_data"
    },
    {
     "data": {
      "text/html": [
       "<div>\n",
       "<style scoped>\n",
       "    .dataframe tbody tr th:only-of-type {\n",
       "        vertical-align: middle;\n",
       "    }\n",
       "\n",
       "    .dataframe tbody tr th {\n",
       "        vertical-align: top;\n",
       "    }\n",
       "\n",
       "    .dataframe thead th {\n",
       "        text-align: right;\n",
       "    }\n",
       "</style>\n",
       "<table border=\"1\" class=\"dataframe\">\n",
       "  <thead>\n",
       "    <tr style=\"text-align: right;\">\n",
       "      <th></th>\n",
       "      <th>story</th>\n",
       "      <th>location</th>\n",
       "      <th>characters</th>\n",
       "    </tr>\n",
       "  </thead>\n",
       "  <tbody>\n",
       "    <tr>\n",
       "      <th>0</th>\n",
       "      <td>In the quaint seaside village of Brightwater, ...</td>\n",
       "      <td>Brightwater</td>\n",
       "      <td>[Emily Langley, Mrs. Henderson, Eliza Marlowe]</td>\n",
       "    </tr>\n",
       "    <tr>\n",
       "      <th>1</th>\n",
       "      <td>In the heart of the ancient forest of Eldergle...</td>\n",
       "      <td>ancient forest of Elderglen</td>\n",
       "      <td>[Leona, Alaric, Finn, Malgor]</td>\n",
       "    </tr>\n",
       "    <tr>\n",
       "      <th>2</th>\n",
       "      <td>In the heart of the bustling city of Aurelian,...</td>\n",
       "      <td>Aurelian</td>\n",
       "      <td>[Ava, Milo]</td>\n",
       "    </tr>\n",
       "    <tr>\n",
       "      <th>3</th>\n",
       "      <td>In the heart of the ancient forest of Eldergro...</td>\n",
       "      <td>Eldergrove Forest</td>\n",
       "      <td>[Astra, Eldwin, Damon]</td>\n",
       "    </tr>\n",
       "    <tr>\n",
       "      <th>4</th>\n",
       "      <td>In the bustling city of Verenthia, amidst towe...</td>\n",
       "      <td>The hidden garden behind the old library in Ve...</td>\n",
       "      <td>[Elara, Cedric, Professor Hoots]</td>\n",
       "    </tr>\n",
       "  </tbody>\n",
       "</table>\n",
       "</div>"
      ],
      "text/plain": [
       "                                               story  \\\n",
       "0  In the quaint seaside village of Brightwater, ...   \n",
       "1  In the heart of the ancient forest of Eldergle...   \n",
       "2  In the heart of the bustling city of Aurelian,...   \n",
       "3  In the heart of the ancient forest of Eldergro...   \n",
       "4  In the bustling city of Verenthia, amidst towe...   \n",
       "\n",
       "                                            location  \\\n",
       "0                                        Brightwater   \n",
       "1                        ancient forest of Elderglen   \n",
       "2                                           Aurelian   \n",
       "3                                  Eldergrove Forest   \n",
       "4  The hidden garden behind the old library in Ve...   \n",
       "\n",
       "                                       characters  \n",
       "0  [Emily Langley, Mrs. Henderson, Eliza Marlowe]  \n",
       "1                   [Leona, Alaric, Finn, Malgor]  \n",
       "2                                     [Ava, Milo]  \n",
       "3                          [Astra, Eldwin, Damon]  \n",
       "4                [Elara, Cedric, Professor Hoots]  "
      ]
     },
     "execution_count": 4,
     "metadata": {},
     "output_type": "execute_result"
    }
   ],
   "source": [
    "class BuildStoryOutput(BaseModel):\n",
    "    story: str\n",
    "    location: str\n",
    "    characters: list[str]\n",
    "\n",
    "async def build_story():\n",
    "    prompt = \"\"\"\n",
    "    Write a one-paragraph story with whatever realistic or imaginary theme you like,  \n",
    "    then create a list of all characters you named in your story.\n",
    "    Return your story, the main location that your story happens in, and a Python list of your characters as your output.\n",
    "    \"\"\"\n",
    "    provider = OpenAIProvider(model=\"gpt-4o\", response_format_class=BuildStoryOutput)\n",
    "    return await provider.get_json_response(prompt, temperature=0.9)\n",
    "\n",
    "def run_build_story():\n",
    "    response =  asyncio.run(build_story())[0]\n",
    "    return response\n",
    "\n",
    "data = {\n",
    "    \"story\": [],\n",
    "    \"location\": [],\n",
    "    \"characters\": [],\n",
    "}\n",
    "for i in tqdm(range(5)):\n",
    "    out = json.loads(run_build_story())\n",
    "    data[\"characters\"].append(out[\"characters\"])\n",
    "    data[\"location\"].append(out[\"location\"])\n",
    "    data[\"story\"].append(out[\"story\"])\n",
    "\n",
    "\n",
    "data = pd.DataFrame(data)\n",
    "data.to_csv(\"data.csv\", index=False)\n",
    "data"
   ]
  },
  {
   "cell_type": "markdown",
   "metadata": {},
   "source": [
    "## Abstraction with a single agent\n",
    "\n",
    "Here, we will use the `AbstractionReviewer` without defining a workflow. To do so, we simply need to specify the keys we expect the `AbstractionReviewer` to output, which in this case are the location and characters keys. Additionally, we need to define the meaning of each key in the `key_descriptions` argument."
   ]
  },
  {
   "cell_type": "code",
   "execution_count": 11,
   "metadata": {},
   "outputs": [
    {
     "name": "stdout",
     "output_type": "stream",
     "text": [
      "====== Inputs ======\n",
      "\n",
      " in the quaint seaside village of brightwater, emily langley discovered a mysterious key buried beneath the roots of an old oak tree. as she examined it under the golden afternoon sun, mrs. henderson, the village's wise and curious librarian, happened to pass by and noticed the glint of the metal. curious herself, mrs. henderson invited emily to the library's archives, where they began unraveling tales of ancient shipwrecks and lost treasures tied to the enigmatic captain, eliza marlowe, who once docked in the village long ago. the key, it seemed, was more than just a trinket; it was a link to the past adventures of captain marlowe, and the two women soon found themselves caught up in a quest that would take them beyond the peaceful shores of brightwater.\n",
      "in the heart of the ancient forest of elderglen, a young alchemist named leona was deep in her studies, surrounded by scrolls detailing the secrets of the forest's mystical flora. her mentor, the wise and eccentric mage alaric, had tasked her with discovering the properties of the rare moonflower, which bloomed only under the full moon. as the silver light bathed the clearing, leona felt a peculiar energy coursing through her, and she realized that the flower's essence could bend time itself. with the arrival of her friend finn, a daring explorer with a knack for getting into trouble, the two set off on an unexpected journey that would test their courage and ingenuity. meanwhile, unbeknownst to them, the shadowy figure of malgor, the sorcerer of the north, watched from a distance, plotting to seize the power of the moonflower for himself.\n",
      "in the heart of the bustling city of aurelian, amidst the towering skyscrapers and neon lights, a peculiar phenomenon began to unfold. every night as the clock struck midnight, the city’s pigeons would gather at the central plaza and perform an intricate dance, as if guided by some unseen maestro. ava, a young ornithologist, became enchanted by this nightly spectacle and set out to uncover the mystery behind it. she enlisted the help of milo, a tech-savvy friend with a knack for cracking codes. together, they discovered that the pigeons were responding to hidden frequencies emitted by an old, forgotten radio tower. as they decoded the patterns, they realized the signals were not just random noise; they were messages from an ancient civilization, reaching out to make contact once more. driven by their discovery, ava and milo spent countless nights decoding the messages, unraveling secrets of the past that would change their understanding of history forever.\n",
      "in the heart of the ancient forest of eldergrove, a soft glow emerged from the depths of the enchanted glade, where the gentle dryad astra tended to the fragrant moonlit lilies. astra's luminous presence was a guardian against the shadows that loomed at the edge of the forest, whispered to be the work of the mysterious sage known only as eldwin. one evening, as she hummed her melodious tune, a sudden rustling broke the tranquillity—out stepped a young wanderer named damon, who had ventured far from the sleepy village of brimshire. damon, with his curious eyes and a heart seeking adventure, knelt by the trickling stream, entranced by astra's otherworldly grace. in that moment, all were silent but the leaves, which told a story of magic and destiny yet to unfold.\n",
      "in the bustling city of verenthia, amidst towering skyscrapers and vibrant markets, lived a curious young girl named elara. one day, she stumbled upon a hidden garden tucked away behind an old library, guarded by a wise old man named cedric. within this secret haven, elara met a talking owl named professor hoots, who promised to teach her the ancient art of understanding the language of birds. as days turned into weeks, elara, with cedric and professor hoots by her side, began to unravel the mysteries of the garden, discovering long-lost secrets that had been buried beneath the city's foundations.\n"
     ]
    },
    {
     "name": "stderr",
     "output_type": "stream",
     "text": [
      "Reviewing 5 items - 2025-01-04 18:21:22: 100%|██████████| 5/5 [00:05<00:00,  1.14s/it]"
     ]
    },
    {
     "name": "stdout",
     "output_type": "stream",
     "text": [
      "\n",
      "====== Outputs ======\n",
      "{'location': 'brightwater', 'characters': ['Emily Langley', 'Mrs. Henderson', 'Captain Eliza Marlowe']}\n",
      "{'location': 'the ancient forest of elderglen', 'characters': ['Leona', 'Alaric', 'Finn', 'Malgor']}\n",
      "{'location': 'the bustling city of Aurelian', 'characters': ['Ava', 'Milo']}\n",
      "{'location': 'the ancient forest of eldergrove', 'characters': ['astra', 'eldwin', 'damon']}\n",
      "{'location': 'the bustling city of verenthia', 'characters': ['elara', 'cedric', 'professor hoots']}\n",
      "\n",
      "====== Costs ======\n",
      "\n",
      "Cost for item 0: 7.274999999999999e-05\n",
      "Cost for item 1: 7.635e-05\n",
      "Cost for item 2: 7.335e-05\n",
      "Cost for item 3: 7.214999999999999e-05\n",
      "Cost for item 4: 6.675e-05\n",
      "\n",
      "Total cost: 6.675e-05\n"
     ]
    },
    {
     "name": "stderr",
     "output_type": "stream",
     "text": [
      "\n"
     ]
    }
   ],
   "source": [
    "Albert = AbstractionReviewer(\n",
    "    provider=LiteLLMProvider(model=\"gpt-4o-mini\"),\n",
    "    name=\"Albert\",\n",
    "    max_concurrent_requests=1, \n",
    "    backstory=\"an expert reviewer!\",\n",
    "    input_description = \"stories\",\n",
    "    model_args={\"max_tokens\": 200, \"temperature\": 0.1},\n",
    "    abstraction_keys = {\n",
    "        \"location\": str, \n",
    "        \"characters\": list[str]\n",
    "    },\n",
    "    key_descriptions = {\n",
    "        \"location\": \"The main location that the story happens in.\", \n",
    "        \"characters\": \"The name of the characters mentioned in the story.\"\n",
    "    }\n",
    ")\n",
    "\n",
    "\n",
    "# Dummy input\n",
    "input_list = data.story.str.lower().tolist()\n",
    "print(\"====== Inputs ======\\n\\n\", '\\n'.join(input_list))\n",
    "\n",
    "# Dummy review\n",
    "results, total_cost = asyncio.run(Albert.review_items(input_list))\n",
    "print(\"\\n====== Outputs ======\")\n",
    "for result in results:\n",
    "    print(result)\n",
    "\n",
    "# Dummy costs\n",
    "print(\"\\n====== Costs ======\\n\")\n",
    "for i, item in enumerate(Albert.memory):\n",
    "    print(f\"Cost for item {i}: {item['cost']}\")\n",
    "\n",
    "print(f\"\\nTotal cost: {total_cost}\")"
   ]
  },
  {
   "cell_type": "markdown",
   "metadata": {},
   "source": [
    "## Abstraction with a workflow\n",
    "\n",
    "Obviously, the same functionality could also be achieved by defining a workflow. In this case, we will define a workflow with a single item and a single agent to demonstrate how AbstractionReviewers are similar to ScoringReviewers when incorporated into workflows. Naturally, in more complex reviews, an AbstractionReviewer could be combined with other AbstractionReviewers or even ScoringReviewers to accomplish more sophisticated review goals."
   ]
  },
  {
   "cell_type": "code",
   "execution_count": 6,
   "metadata": {},
   "outputs": [
    {
     "name": "stdout",
     "output_type": "stream",
     "text": [
      "\n",
      "====== Starting review round A (1/1) ======\n",
      "\n",
      "Processing 5 eligible rows\n"
     ]
    },
    {
     "name": "stderr",
     "output_type": "stream",
     "text": [
      "['round: A', 'reviewer_name: Albert'] -                     2025-01-04 18:19:22: 100%|██████████| 5/5 [00:06<00:00,  1.38s/it]"
     ]
    },
    {
     "name": "stdout",
     "output_type": "stream",
     "text": [
      "The following columns are present in the dataframe at the end of Albert's reivew in round A: ['story', 'location', 'characters', 'round-A_Albert_output', 'round-A_Albert_location', 'round-A_Albert_characters']\n",
      "\n",
      "====== Costs ======\n",
      "\n",
      "Total cost:  6.675e-05\n",
      "Detailed costs:  {('A', 'Albert'): 6.675e-05}\n"
     ]
    },
    {
     "name": "stderr",
     "output_type": "stream",
     "text": [
      "\n"
     ]
    },
    {
     "data": {
      "text/html": [
       "<div>\n",
       "<style scoped>\n",
       "    .dataframe tbody tr th:only-of-type {\n",
       "        vertical-align: middle;\n",
       "    }\n",
       "\n",
       "    .dataframe tbody tr th {\n",
       "        vertical-align: top;\n",
       "    }\n",
       "\n",
       "    .dataframe thead th {\n",
       "        text-align: right;\n",
       "    }\n",
       "</style>\n",
       "<table border=\"1\" class=\"dataframe\">\n",
       "  <thead>\n",
       "    <tr style=\"text-align: right;\">\n",
       "      <th></th>\n",
       "      <th>story</th>\n",
       "      <th>location</th>\n",
       "      <th>characters</th>\n",
       "      <th>round-A_Albert_output</th>\n",
       "      <th>round-A_Albert_location</th>\n",
       "      <th>round-A_Albert_characters</th>\n",
       "    </tr>\n",
       "  </thead>\n",
       "  <tbody>\n",
       "    <tr>\n",
       "      <th>0</th>\n",
       "      <td>In the quaint seaside village of Brightwater, ...</td>\n",
       "      <td>Brightwater</td>\n",
       "      <td>[Emily Langley, Mrs. Henderson, Eliza Marlowe]</td>\n",
       "      <td>{'location': 'Brightwater', 'characters': ['Em...</td>\n",
       "      <td>Brightwater</td>\n",
       "      <td>[Emily Langley, Mrs. Henderson, Eliza Marlowe]</td>\n",
       "    </tr>\n",
       "    <tr>\n",
       "      <th>1</th>\n",
       "      <td>In the heart of the ancient forest of Eldergle...</td>\n",
       "      <td>ancient forest of Elderglen</td>\n",
       "      <td>[Leona, Alaric, Finn, Malgor]</td>\n",
       "      <td>{'location': 'the ancient forest of Elderglen'...</td>\n",
       "      <td>the ancient forest of Elderglen</td>\n",
       "      <td>[Leona, Alaric, Finn, Malgor]</td>\n",
       "    </tr>\n",
       "    <tr>\n",
       "      <th>2</th>\n",
       "      <td>In the heart of the bustling city of Aurelian,...</td>\n",
       "      <td>Aurelian</td>\n",
       "      <td>[Ava, Milo]</td>\n",
       "      <td>{'location': 'the bustling city of Aurelian', ...</td>\n",
       "      <td>the bustling city of Aurelian</td>\n",
       "      <td>[Ava, Milo]</td>\n",
       "    </tr>\n",
       "    <tr>\n",
       "      <th>3</th>\n",
       "      <td>In the heart of the ancient forest of Eldergro...</td>\n",
       "      <td>Eldergrove Forest</td>\n",
       "      <td>[Astra, Eldwin, Damon]</td>\n",
       "      <td>{'location': 'the ancient forest of Eldergrove...</td>\n",
       "      <td>the ancient forest of Eldergrove</td>\n",
       "      <td>[Astra, Eldwin, Damon]</td>\n",
       "    </tr>\n",
       "    <tr>\n",
       "      <th>4</th>\n",
       "      <td>In the bustling city of Verenthia, amidst towe...</td>\n",
       "      <td>The hidden garden behind the old library in Ve...</td>\n",
       "      <td>[Elara, Cedric, Professor Hoots]</td>\n",
       "      <td>{'location': 'Verenthia', 'characters': ['Elar...</td>\n",
       "      <td>Verenthia</td>\n",
       "      <td>[Elara, Cedric, Professor Hoots]</td>\n",
       "    </tr>\n",
       "  </tbody>\n",
       "</table>\n",
       "</div>"
      ],
      "text/plain": [
       "                                               story  \\\n",
       "0  In the quaint seaside village of Brightwater, ...   \n",
       "1  In the heart of the ancient forest of Eldergle...   \n",
       "2  In the heart of the bustling city of Aurelian,...   \n",
       "3  In the heart of the ancient forest of Eldergro...   \n",
       "4  In the bustling city of Verenthia, amidst towe...   \n",
       "\n",
       "                                            location  \\\n",
       "0                                        Brightwater   \n",
       "1                        ancient forest of Elderglen   \n",
       "2                                           Aurelian   \n",
       "3                                  Eldergrove Forest   \n",
       "4  The hidden garden behind the old library in Ve...   \n",
       "\n",
       "                                       characters  \\\n",
       "0  [Emily Langley, Mrs. Henderson, Eliza Marlowe]   \n",
       "1                   [Leona, Alaric, Finn, Malgor]   \n",
       "2                                     [Ava, Milo]   \n",
       "3                          [Astra, Eldwin, Damon]   \n",
       "4                [Elara, Cedric, Professor Hoots]   \n",
       "\n",
       "                               round-A_Albert_output  \\\n",
       "0  {'location': 'Brightwater', 'characters': ['Em...   \n",
       "1  {'location': 'the ancient forest of Elderglen'...   \n",
       "2  {'location': 'the bustling city of Aurelian', ...   \n",
       "3  {'location': 'the ancient forest of Eldergrove...   \n",
       "4  {'location': 'Verenthia', 'characters': ['Elar...   \n",
       "\n",
       "            round-A_Albert_location  \\\n",
       "0                       Brightwater   \n",
       "1   the ancient forest of Elderglen   \n",
       "2     the bustling city of Aurelian   \n",
       "3  the ancient forest of Eldergrove   \n",
       "4                         Verenthia   \n",
       "\n",
       "                        round-A_Albert_characters  \n",
       "0  [Emily Langley, Mrs. Henderson, Eliza Marlowe]  \n",
       "1                   [Leona, Alaric, Finn, Malgor]  \n",
       "2                                     [Ava, Milo]  \n",
       "3                          [Astra, Eldwin, Damon]  \n",
       "4                [Elara, Cedric, Professor Hoots]  "
      ]
     },
     "execution_count": 6,
     "metadata": {},
     "output_type": "execute_result"
    }
   ],
   "source": [
    "workflow = ReviewWorkflow(\n",
    "    workflow_schema=[\n",
    "        {\n",
    "            \"round\": 'A',\n",
    "            \"reviewers\": [Albert],\n",
    "            \"text_inputs\": [\"story\"]\n",
    "        }\n",
    "    ]\n",
    ")\n",
    "\n",
    "# Reload the data if needed.\n",
    "updated_data = asyncio.run(workflow(data))\n",
    "\n",
    "print(\"\\n====== Costs ======\\n\")\n",
    "print(\"Total cost: \", workflow.get_total_cost())\n",
    "print(\"Detailed costs: \", workflow.reviewer_costs)\n",
    "\n",
    "updated_data"
   ]
  },
  {
   "cell_type": "code",
   "execution_count": 10,
   "metadata": {},
   "outputs": [
    {
     "data": {
      "text/plain": [
       "\"**Review the input item below and extract the specified keys as instructed:** --- **Input Item:** <<${item}$>> **Keys to Extract and Their Expected Formats:** <<{'location': <class 'str'>, 'characters': list[str]}>> --- **Instructions:** Follow the detailed guidelines below for extracting the specified keys: <<{'location': 'The main location that the story happens in.', 'characters': 'The name of the characters mentioned in the story.'}>> --- ${additional_context}$\""
      ]
     },
     "execution_count": 10,
     "metadata": {},
     "output_type": "execute_result"
    }
   ],
   "source": [
    "Albert.formatted_prompt"
   ]
  },
  {
   "cell_type": "code",
   "execution_count": null,
   "metadata": {},
   "outputs": [],
   "source": []
  }
 ],
 "metadata": {
  "kernelspec": {
   "display_name": "venv",
   "language": "python",
   "name": "python3"
  },
  "language_info": {
   "codemirror_mode": {
    "name": "ipython",
    "version": 3
   },
   "file_extension": ".py",
   "mimetype": "text/x-python",
   "name": "python",
   "nbconvert_exporter": "python",
   "pygments_lexer": "ipython3",
   "version": "3.9.6"
  }
 },
 "nbformat": 4,
 "nbformat_minor": 2
}
