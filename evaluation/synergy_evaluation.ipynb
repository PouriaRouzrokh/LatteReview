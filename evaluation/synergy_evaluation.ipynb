{
 "cells": [
  {
   "cell_type": "markdown",
   "metadata": {},
   "source": [
    "# Synergy Evaluation\n",
    "\n",
    "In this notebook, we will evluate the LatteReview package by applying a TitleAbstractReview workflow to some of the systematic review datasets collected in the [ynergy dataset](https://github.com/asreview/synergy-dataset) and in this [article](https://systematicreviewsjournal.biomedcentral.com/articles/10.1186/s13643-024-02575-4/tables/1)."
   ]
  },
  {
   "cell_type": "markdown",
   "metadata": {},
   "source": [
    "## Setting up the notebook"
   ]
  },
  {
   "cell_type": "markdown",
   "metadata": {},
   "source": [
    "High-level configs"
   ]
  },
  {
   "cell_type": "code",
   "execution_count": 45,
   "metadata": {},
   "outputs": [],
   "source": [
    "%reload_ext autoreload\n",
    "%autoreload 2\n",
    "\n",
    "from dotenv import load_dotenv\n",
    "\n",
    "# Load environment variables from .env file. Adjust the path to the .env file as needed.\n",
    "load_dotenv(dotenv_path='../.env')\n",
    "\n",
    "# Enable asyncio in Jupyter\n",
    "import asyncio\n",
    "import nest_asyncio\n",
    "\n",
    "nest_asyncio.apply()\n",
    "\n",
    "#  Add the package to the path (required if you are running this notebook from the examples folder)\n",
    "import sys\n",
    "sys.path.append('../../')\n"
   ]
  },
  {
   "cell_type": "markdown",
   "metadata": {},
   "source": [
    "Import required packages"
   ]
  },
  {
   "cell_type": "code",
   "execution_count": 46,
   "metadata": {},
   "outputs": [],
   "source": [
    "import glob\n",
    "import matplotlib.pyplot as plt\n",
    "from matplotlib.lines import Line2D\n",
    "import matplotlib.cm as cm\n",
    "import pandas as pd \n",
    "import pickle\n",
    "from sklearn.metrics import accuracy_score, precision_score, recall_score, roc_auc_score, confusion_matrix, roc_curve\n",
    "from synergy_dataset import Dataset, iter_datasets\n",
    "import time\n",
    "\n",
    "from lattereview.providers import LiteLLMProvider\n",
    "from lattereview.agents import TitleAbstractReviewer\n",
    "from lattereview.workflows import ReviewWorkflow"
   ]
  },
  {
   "cell_type": "markdown",
   "metadata": {},
   "source": [
    "## Data"
   ]
  },
  {
   "cell_type": "markdown",
   "metadata": {},
   "source": [
    "We will first collect the inclusion and exclusion criteria for six sample systematic reviews from the Synergy dataset. The original inclusion and exclusion criteria are available [here](\"https://static-content.springer.com/esm/art%3A10.1186%2Fs13643-024-02575-4/MediaObjects/13643_2024_2575_MOESM2_ESM.docx\")."
   ]
  },
  {
   "cell_type": "code",
   "execution_count": 47,
   "metadata": {},
   "outputs": [],
   "source": [
    "search_criteria_dict = {\n",
    "    \"Appenzeller-Herzog_2019\": {\n",
    "        \"inclusion_criteria\": \"-Patients with Wilson's Disease of any age or stage\\n-Study drug has to be one of four established therapies, namely DPen, trientine, TTM or Zn.\\n-Control could be placebo, no treatment or any other treatment that does not include the respective study drug\\n-Concomitant therapies had to be identical in the compared treatment arms\\n-Combination therapy regimens that include the respective monotherapy drug are not considered\\n-Prospective or retrospective studies reported\\n-Randomized, non-randomized controlled trials and comparative observational studies\",\n",
    "        \"exclusion_criteria\": \"-Animal studies, case reports, case series, cross-sectional studies, before-after studies, reviews, letters, abstract-only publications, editorials, diagnostic or other testing studies and non-controlled studies\"\n",
    "    },\n",
    "    \"Donners_2021\": {\n",
    "        \"inclusion_criteria\": \"The following inclusion criteria are applied: emicizumab studies providing (1) data on humans, (2) original PK data or modeled PK data or PK/PD relationships, and (3) access to the abstract and the full text in English. In the event of doubt regarding eligibility, the records or articles should be included.\",\n",
    "        \"exclusion_criteria\": \"Not specified\"\n",
    "    },\n",
    "    \"Jeyaraman_2020\": {\n",
    "        \"inclusion_criteria\": \"Studies are included if they meet the following PICOS criteria: Population: Patients with knee osteoarthritis Intervention: MSC therapy Comparator: Usual care Outcomes: Visual Analog Score (VAS) for Pain, Western Ontario McMaster Universities Osteoarthritis Index (WOMAC), Lysholm Knee Scale (Lysholm), Whole-Organ Magnetic Resonance Imaging Score (WORMS), Knee Osteoarthritis Outcome Score (KOOS), and adverse events Study Design: Randomized controlled trials\",\n",
    "        \"exclusion_criteria\": \"Trials are excluded if they had the following characteristics: 1. Observational studies and interventional studies without a comparator group 2. Animal studies involving stem cell therapy for knee osteoarthritis models 3. Review\"\n",
    "    },\n",
    "    \"Meijboom_2021\": {\n",
    "        \"inclusion_criteria\": \"Articles are included if they meet the following criteria: (1) study involved transitioning from a TNF-alpha inhibitor (including etanercept, infliximab, and adalimumab) originator to a biosimilar, (2) the number of patients who retransitioned is reported or can be calculated, (3) the article is an original research article published in a peer-reviewed journal, (4) the article included baseline characteristics of the patients who transitioned, (5) the article is written in English. Transitioning is defined as patients in whom the biosimilar was introduced after the originator, without treatment with other drugs in between. Retransitioning is defined as restarting the originator directly after discontinuing a biosimilar, without treatment with other drugs in between. In summary, transitioning is defined as switching from the originator to a biosimilar; retransitioning is defined as switching from the originator to a biosimilar and back to the originator. Both transitioning and retransitioning involve changes with the same active biological substance.\",\n",
    "        \"exclusion_criteria\": \"Not specified\"\n",
    "    },\n",
    "    \"Muthu_2021\": {\n",
    "        \"inclusion_criteria\": \"To be included, a study should meet the following criteria: 1. The study should be an RCT with 1:1 parallel two-arm design. 2. The study must be related to spine surgery involving preoperative or intraoperative or postoperative variables. 3. The study must have a dichotomous primary or secondary outcome.\",\n",
    "        \"exclusion_criteria\": \"1. Studies not involving human subjects. 2. Studies with continuous variable outcomes like pain scores, Oswestry Disability Index scores, time to union without predefined clinical success criteria. 3. Studies that did not report a statistically significant primary or secondary outcome measure.\"\n",
    "    },\n",
    "    \"Oud_2018\": {\n",
    "        \"inclusion_criteria\": \"Randomized controlled trials (RCT)s on four specialized psychotherapies (DBT: dialectic behavior therapy, MBT: mentalization-based treatment, TFP: transference-focused therapy and ST: schema therapy) for adults (18 years and older) with Borderline personality disorder (BPD), which includes an individual psychotherapy component and had a duration of 16 weeks or more. Eligible comparison groups are other protocolized and specialized psychotherapies, or control groups, for example, treatment as usual (TAU), waiting list, attention control or community treatment by experts (CTBE).\",\n",
    "        \"exclusion_criteria\": \"Studies are excluded with a cut-off of <66% of the participants having BPD, unless disaggregated data are provided. Studies are excluded that tested incomplete versions of specialized treatment, for example, studies that investigated only skills training instead of the full DBT program.\"\n",
    "    }\n",
    "}\n",
    "\n",
    "\n",
    "\n",
    "# Make all keys lowercase\n",
    "search_criteria_dict = {k.lower(): v for k, v in search_criteria_dict.items()}\n"
   ]
  },
  {
   "cell_type": "markdown",
   "metadata": {},
   "source": [
    "Now let's download the dataset for each of the systematic reviews above, and save them as a local pickled file."
   ]
  },
  {
   "cell_type": "code",
   "execution_count": 10,
   "metadata": {},
   "outputs": [
    {
     "name": "stdout",
     "output_type": "stream",
     "text": [
      "Appenzeller-Herzog_2019: 2873 items\n",
      "Donners_2021: 258 items\n",
      "Jeyaraman_2020: 1175 items\n",
      "Meijboom_2021: 882 items\n",
      "Muthu_2021: 2719 items\n",
      "Oud_2018: 952 items\n"
     ]
    }
   ],
   "source": [
    "all_review_jobs = [(d.name, d.to_frame()) for d in iter_datasets() if isinstance(d.to_frame(), pd.DataFrame) and d.name.lower() in search_criteria_dict]\n",
    "\n",
    "# Print the number of review items in each study\n",
    "for df_name, df in all_review_jobs:\n",
    "    print(f\"{df_name}: {len(df)} items\")\n",
    "\n",
    "\n",
    "# Save the dictionary as a pickle file for easier reference\n",
    "with open('synergy_data/all_review_jobs.pickle', 'wb') as f:\n",
    "    pickle.dump(all_review_jobs, f)\n"
   ]
  },
  {
   "cell_type": "markdown",
   "metadata": {},
   "source": [
    "## Review\n",
    "\n",
    "Now let's define two imaginary junior (cheap model) and one senior (expensive model) reviewer agents that all belong to the TitleAbstractReviewer class."
   ]
  },
  {
   "cell_type": "code",
   "execution_count": 11,
   "metadata": {},
   "outputs": [],
   "source": [
    "# Load back the data\n",
    "\n",
    "with open('synergy_data/all_review_jobs.pickle', 'rb') as f:\n",
    "    all_review_jobs = pickle.load(f)"
   ]
  },
  {
   "cell_type": "code",
   "execution_count": 12,
   "metadata": {},
   "outputs": [],
   "source": [
    "def create_reviewers(inclusion_criteria, exclusion_criteria):\n",
    "\n",
    "    inclusion_criteria = str(inclusion_criteria)\n",
    "    exclusion_criteria = str(exclusion_criteria)\n",
    "\n",
    "    Agent1 = TitleAbstractReviewer(\n",
    "        provider=LiteLLMProvider(model=\"gemini/gemini-1.5-flash\"),\n",
    "        name=\"Agent1\",\n",
    "        backstory=\"a PhD researcher\",\n",
    "        inclusion_criteria = inclusion_criteria,\n",
    "        exclusion_criteria = exclusion_criteria,        \n",
    "        max_concurrent_requests=30, \n",
    "        model_args={\"max_tokens\": 200, \"temperature\": 0.1},\n",
    "    )\n",
    "\n",
    "    Agent2 = TitleAbstractReviewer(\n",
    "        provider=LiteLLMProvider(model=\"gpt-4o-mini\"),\n",
    "        name=\"Agent2\",\n",
    "        backstory=\"a PhD researcher\",\n",
    "        inclusion_criteria = inclusion_criteria,\n",
    "        exclusion_criteria = exclusion_criteria,        \n",
    "        max_concurrent_requests=30, \n",
    "        model_args={\"max_tokens\": 200, \"temperature\": 0.1},\n",
    "    )\n",
    "\n",
    "    Agent3 = TitleAbstractReviewer(\n",
    "        provider=LiteLLMProvider(model=\"gpt-4o\"),\n",
    "        name=\"Agent3\",\n",
    "        backstory=\"a senior PhD researcher with years of experience in conducting systematic reviews\",\n",
    "        inclusion_criteria = inclusion_criteria,\n",
    "        exclusion_criteria = exclusion_criteria,        \n",
    "        max_concurrent_requests=30, \n",
    "        model_args={\"max_tokens\": 200, \"temperature\": 0.1},\n",
    "        additional_context=\"\"\"\n",
    "        Two PhD reviewers have already reviwed this article and disagree on how to evaluate it. You can read their evaluation above.\n",
    "        \"\"\"\n",
    "    )\n",
    "\n",
    "    return Agent1, Agent2, Agent3"
   ]
  },
  {
   "cell_type": "markdown",
   "metadata": {},
   "source": [
    "The next step is coming up with a review workflow that can apply these reviewers to the datasets above. We will apply this workflow to the batches of 1000 title-abstract pair from all datsets.\n",
    "The reason for batching is to not hit the limitation of OpenAI and Gemini providers."
   ]
  },
  {
   "cell_type": "code",
   "execution_count": 13,
   "metadata": {},
   "outputs": [],
   "source": [
    "def split_dataframe(df, chunk_size):\n",
    "    \"\"\"Splits a DataFrame into smaller DataFrames of a specified chunk size.\"\"\"\n",
    "    return [df.iloc[i:i + chunk_size] for i in range(0, len(df), chunk_size)]\n",
    "\n",
    "async def process_sub_df(sub_df, review_job, inclusion_criteria, exclusion_criteria):\n",
    "    \"\"\"Processes a single sub DataFrame.\"\"\"\n",
    "    Agent1, Agent2, Agent3 = create_reviewers(inclusion_criteria, exclusion_criteria)\n",
    "\n",
    "    def filter_func(row):\n",
    "        score1 = int(row[\"round-A_Agent1_output\"][\"evaluation\"])\n",
    "        score2 = int(row[\"round-A_Agent2_output\"][\"evaluation\"])\n",
    "        if score1 != score2:\n",
    "            if score1 >= 4 and score2 >= 4:\n",
    "                return False\n",
    "            if score1 >= 3 or score2 >= 3:\n",
    "                return True\n",
    "        elif score1 == score2 == 3:\n",
    "            return True\n",
    "        return False\n",
    "\n",
    "    title_abs_review = ReviewWorkflow(\n",
    "        workflow_schema=[\n",
    "            {\n",
    "                \"round\": 'A',\n",
    "                \"reviewers\": [Agent1, Agent2],\n",
    "                \"text_inputs\": [\"title\", \"abstract\"]\n",
    "            },\n",
    "            {\n",
    "                \"round\": 'B',\n",
    "                \"reviewers\": [Agent3],\n",
    "                \"text_inputs\": [\"title\", \"abstract\", \"round-A_Agent1_output\", \"round-A_Agent2_output\"],\n",
    "                \"filter\": filter_func\n",
    "            }\n",
    "        ]\n",
    "    )\n",
    "\n",
    "    updated_df = await title_abs_review(sub_df)\n",
    "    costs = title_abs_review.get_total_cost()\n",
    "    return updated_df, costs\n",
    "\n",
    "async def review(review_job, sample_size=None):\n",
    "    inclusion_criteria = search_criteria_dict[review_job[0].lower()][\"inclusion_criteria\"]\n",
    "    exclusion_criteria = search_criteria_dict[review_job[0].lower()][\"exclusion_criteria\"]\n",
    "    df = review_job[1]\n",
    "\n",
    "    if sample_size:\n",
    "        df = df.sample(sample_size)\n",
    "\n",
    "    # Split the DataFrame into sub-DataFrames of size 1000 or less\n",
    "    sub_dfs = split_dataframe(df, 1000)\n",
    "\n",
    "    results = []\n",
    "    total_cost = 0\n",
    "\n",
    "    for n, sub_df in enumerate(sub_dfs):\n",
    "        updated_sub_df, sub_cost = await process_sub_df(sub_df, review_job, inclusion_criteria, exclusion_criteria)\n",
    "        results.append(updated_sub_df)\n",
    "        total_cost += sub_cost\n",
    "        if n < len(sub_dfs) - 1:\n",
    "            print(f\"\\n====== Finished reviewing {review_job[0]} ({(n + 1) * 1000}/{len(df)}) ======\\n\")\n",
    "            print(f\"\\nTotal cost: {total_cost}\")\n",
    "            print(\"-\" * 50)\n",
    "            time.sleep(60)  # Wait for 1 minute between processing each sub-DataFrame\n",
    "\n",
    "    # Concatenate all the updated sub-DataFrames into a unified DataFrame\n",
    "    unified_df = pd.concat(results)\n",
    "\n",
    "    # Save the results\n",
    "    unified_df.to_csv(f\"synergy_data/{review_job[0]}_reviewed.csv\")\n",
    "\n",
    "    # Print the costs\n",
    "    print(f\"\\n====== Finished reviewing {review_job[0]} ======\\n\")\n",
    "    print(f\"\\nTotal cost: {total_cost}\")\n",
    "    print(\"-\" * 100)\n",
    "\n",
    "    return unified_df, total_cost"
   ]
  },
  {
   "cell_type": "markdown",
   "metadata": {},
   "source": [
    "Now, we will actually run the workflow for each dataset."
   ]
  },
  {
   "cell_type": "code",
   "execution_count": 19,
   "metadata": {},
   "outputs": [
    {
     "name": "stdout",
     "output_type": "stream",
     "text": [
      "\n",
      "====== Starting review round A (1/2) ======\n",
      "\n",
      "Processing 1000 eligible rows\n"
     ]
    },
    {
     "name": "stderr",
     "output_type": "stream",
     "text": [
      "['round: A', 'reviewer_name: Agent1'] -                     2025-01-04 19:16:32: 100%|██████████| 1000/1000 [00:19<00:00, 52.36it/s]\n"
     ]
    },
    {
     "name": "stdout",
     "output_type": "stream",
     "text": [
      "The following columns are present in the dataframe at the end of Agent1's reivew in round A: ['doi', 'title', 'abstract', 'label_included', 'round-A_Agent1_output', 'round-A_Agent1_reasoning', 'round-A_Agent1_evaluation']\n"
     ]
    },
    {
     "name": "stderr",
     "output_type": "stream",
     "text": [
      "['round: A', 'reviewer_name: Agent2'] -                     2025-01-04 19:16:51: 100%|██████████| 1000/1000 [00:37<00:00, 26.52it/s]\n"
     ]
    },
    {
     "name": "stdout",
     "output_type": "stream",
     "text": [
      "The following columns are present in the dataframe at the end of Agent2's reivew in round A: ['doi', 'title', 'abstract', 'label_included', 'round-A_Agent1_output', 'round-A_Agent1_reasoning', 'round-A_Agent1_evaluation', 'round-A_Agent2_output', 'round-A_Agent2_reasoning', 'round-A_Agent2_evaluation']\n",
      "\n",
      "====== Starting review round B (2/2) ======\n",
      "\n",
      "Processing 122 eligible rows\n"
     ]
    },
    {
     "name": "stderr",
     "output_type": "stream",
     "text": [
      "['round: B', 'reviewer_name: Agent3'] -                     2025-01-04 19:17:29: 100%|██████████| 122/122 [00:07<00:00, 17.20it/s]\n"
     ]
    },
    {
     "name": "stdout",
     "output_type": "stream",
     "text": [
      "The following columns are present in the dataframe at the end of Agent3's reivew in round B: ['doi', 'title', 'abstract', 'label_included', 'round-A_Agent1_output', 'round-A_Agent1_reasoning', 'round-A_Agent1_evaluation', 'round-A_Agent2_output', 'round-A_Agent2_reasoning', 'round-A_Agent2_evaluation', 'round-B_Agent3_output', 'round-B_Agent3_reasoning', 'round-B_Agent3_evaluation']\n",
      "\n",
      "====== Finished reviewing Appenzeller-Herzog_2019 (1000/2873) ======\n",
      "\n",
      "\n",
      "Total cost: 0.002158025\n",
      "--------------------------------------------------\n",
      "\n",
      "====== Starting review round A (1/2) ======\n",
      "\n",
      "Processing 1000 eligible rows\n"
     ]
    },
    {
     "name": "stderr",
     "output_type": "stream",
     "text": [
      "['round: A', 'reviewer_name: Agent1'] -                     2025-01-04 19:18:36: 100%|██████████| 1000/1000 [00:18<00:00, 52.89it/s]\n"
     ]
    },
    {
     "name": "stdout",
     "output_type": "stream",
     "text": [
      "The following columns are present in the dataframe at the end of Agent1's reivew in round A: ['doi', 'title', 'abstract', 'label_included', 'round-A_Agent1_output', 'round-A_Agent1_reasoning', 'round-A_Agent1_evaluation']\n"
     ]
    },
    {
     "name": "stderr",
     "output_type": "stream",
     "text": [
      "['round: A', 'reviewer_name: Agent2'] -                     2025-01-04 19:18:55: 100%|██████████| 1000/1000 [00:37<00:00, 26.52it/s]\n"
     ]
    },
    {
     "name": "stdout",
     "output_type": "stream",
     "text": [
      "The following columns are present in the dataframe at the end of Agent2's reivew in round A: ['doi', 'title', 'abstract', 'label_included', 'round-A_Agent1_output', 'round-A_Agent1_reasoning', 'round-A_Agent1_evaluation', 'round-A_Agent2_output', 'round-A_Agent2_reasoning', 'round-A_Agent2_evaluation']\n",
      "\n",
      "====== Starting review round B (2/2) ======\n",
      "\n",
      "Processing 123 eligible rows\n"
     ]
    },
    {
     "name": "stderr",
     "output_type": "stream",
     "text": [
      "['round: B', 'reviewer_name: Agent3'] -                     2025-01-04 19:19:32: 100%|██████████| 123/123 [00:07<00:00, 16.25it/s]\n"
     ]
    },
    {
     "name": "stdout",
     "output_type": "stream",
     "text": [
      "The following columns are present in the dataframe at the end of Agent3's reivew in round B: ['doi', 'title', 'abstract', 'label_included', 'round-A_Agent1_output', 'round-A_Agent1_reasoning', 'round-A_Agent1_evaluation', 'round-A_Agent2_output', 'round-A_Agent2_reasoning', 'round-A_Agent2_evaluation', 'round-B_Agent3_output', 'round-B_Agent3_reasoning', 'round-B_Agent3_evaluation']\n",
      "\n",
      "====== Finished reviewing Appenzeller-Herzog_2019 (2000/2873) ======\n",
      "\n",
      "\n",
      "Total cost: 0.005445125\n",
      "--------------------------------------------------\n",
      "\n",
      "====== Starting review round A (1/2) ======\n",
      "\n",
      "Processing 873 eligible rows\n"
     ]
    },
    {
     "name": "stderr",
     "output_type": "stream",
     "text": [
      "['round: A', 'reviewer_name: Agent1'] -                     2025-01-04 19:20:40: 100%|██████████| 873/873 [00:16<00:00, 53.02it/s]\n"
     ]
    },
    {
     "name": "stdout",
     "output_type": "stream",
     "text": [
      "The following columns are present in the dataframe at the end of Agent1's reivew in round A: ['doi', 'title', 'abstract', 'label_included', 'round-A_Agent1_output', 'round-A_Agent1_reasoning', 'round-A_Agent1_evaluation']\n"
     ]
    },
    {
     "name": "stderr",
     "output_type": "stream",
     "text": [
      "['round: A', 'reviewer_name: Agent2'] -                     2025-01-04 19:20:57: 100%|██████████| 873/873 [00:33<00:00, 25.77it/s]\n"
     ]
    },
    {
     "name": "stdout",
     "output_type": "stream",
     "text": [
      "The following columns are present in the dataframe at the end of Agent2's reivew in round A: ['doi', 'title', 'abstract', 'label_included', 'round-A_Agent1_output', 'round-A_Agent1_reasoning', 'round-A_Agent1_evaluation', 'round-A_Agent2_output', 'round-A_Agent2_reasoning', 'round-A_Agent2_evaluation']\n",
      "\n",
      "====== Starting review round B (2/2) ======\n",
      "\n",
      "Processing 90 eligible rows\n"
     ]
    },
    {
     "name": "stderr",
     "output_type": "stream",
     "text": [
      "['round: B', 'reviewer_name: Agent3'] -                     2025-01-04 19:21:30: 100%|██████████| 90/90 [00:05<00:00, 15.63it/s]\n"
     ]
    },
    {
     "name": "stdout",
     "output_type": "stream",
     "text": [
      "The following columns are present in the dataframe at the end of Agent3's reivew in round B: ['doi', 'title', 'abstract', 'label_included', 'round-A_Agent1_output', 'round-A_Agent1_reasoning', 'round-A_Agent1_evaluation', 'round-A_Agent2_output', 'round-A_Agent2_reasoning', 'round-A_Agent2_evaluation', 'round-B_Agent3_output', 'round-B_Agent3_reasoning', 'round-B_Agent3_evaluation']\n",
      "\n",
      "====== Finished reviewing Appenzeller-Herzog_2019 ======\n",
      "\n",
      "\n",
      "Total cost: 0.007809775\n",
      "----------------------------------------------------------------------------------------------------\n"
     ]
    }
   ],
   "source": [
    "# Reviewing Appenzeller-Herzog_2019\n",
    "review_job = [j for j in all_review_jobs if j[0] == \"Appenzeller-Herzog_2019\"][0]\n",
    "_ = asyncio.run(review(review_job))"
   ]
  },
  {
   "cell_type": "code",
   "execution_count": 14,
   "metadata": {},
   "outputs": [
    {
     "name": "stdout",
     "output_type": "stream",
     "text": [
      "\n",
      "====== Starting review round A (1/2) ======\n",
      "\n",
      "Processing 258 eligible rows\n"
     ]
    },
    {
     "name": "stderr",
     "output_type": "stream",
     "text": [
      "['round: A', 'reviewer_name: Agent1'] -                     2025-01-04 19:03:02: 100%|██████████| 258/258 [00:06<00:00, 41.51it/s]\n"
     ]
    },
    {
     "name": "stdout",
     "output_type": "stream",
     "text": [
      "The following columns are present in the dataframe at the end of Agent1's reivew in round A: ['doi', 'title', 'abstract', 'label_included', 'round-A_Agent1_output', 'round-A_Agent1_reasoning', 'round-A_Agent1_evaluation']\n"
     ]
    },
    {
     "name": "stderr",
     "output_type": "stream",
     "text": [
      "['round: A', 'reviewer_name: Agent2'] -                     2025-01-04 19:03:09: 100%|██████████| 258/258 [00:11<00:00, 21.83it/s]\n"
     ]
    },
    {
     "name": "stdout",
     "output_type": "stream",
     "text": [
      "The following columns are present in the dataframe at the end of Agent2's reivew in round A: ['doi', 'title', 'abstract', 'label_included', 'round-A_Agent1_output', 'round-A_Agent1_reasoning', 'round-A_Agent1_evaluation', 'round-A_Agent2_output', 'round-A_Agent2_reasoning', 'round-A_Agent2_evaluation']\n",
      "\n",
      "====== Starting review round B (2/2) ======\n",
      "\n",
      "Processing 60 eligible rows\n"
     ]
    },
    {
     "name": "stderr",
     "output_type": "stream",
     "text": [
      "['round: B', 'reviewer_name: Agent3'] -                     2025-01-04 19:03:21: 100%|██████████| 60/60 [00:03<00:00, 15.48it/s]\n"
     ]
    },
    {
     "name": "stdout",
     "output_type": "stream",
     "text": [
      "The following columns are present in the dataframe at the end of Agent3's reivew in round B: ['doi', 'title', 'abstract', 'label_included', 'round-A_Agent1_output', 'round-A_Agent1_reasoning', 'round-A_Agent1_evaluation', 'round-A_Agent2_output', 'round-A_Agent2_reasoning', 'round-A_Agent2_evaluation', 'round-B_Agent3_output', 'round-B_Agent3_reasoning', 'round-B_Agent3_evaluation']\n",
      "\n",
      "====== Finished reviewing Donners_2021 ======\n",
      "\n",
      "\n",
      "Total cost: 0.00241135\n",
      "----------------------------------------------------------------------------------------------------\n"
     ]
    }
   ],
   "source": [
    "# Reviewing Donners_2021\n",
    "review_job = [j for j in all_review_jobs if j[0] == \"Donners_2021\"][0]\n",
    "_ = asyncio.run(review(review_job))"
   ]
  },
  {
   "cell_type": "code",
   "execution_count": 15,
   "metadata": {},
   "outputs": [
    {
     "name": "stdout",
     "output_type": "stream",
     "text": [
      "\n",
      "====== Starting review round A (1/2) ======\n",
      "\n",
      "Processing 1000 eligible rows\n"
     ]
    },
    {
     "name": "stderr",
     "output_type": "stream",
     "text": [
      "['round: A', 'reviewer_name: Agent1'] -                     2025-01-04 19:03:30: 100%|██████████| 1000/1000 [00:20<00:00, 48.76it/s]\n"
     ]
    },
    {
     "name": "stdout",
     "output_type": "stream",
     "text": [
      "The following columns are present in the dataframe at the end of Agent1's reivew in round A: ['doi', 'title', 'abstract', 'label_included', 'round-A_Agent1_output', 'round-A_Agent1_reasoning', 'round-A_Agent1_evaluation']\n"
     ]
    },
    {
     "name": "stderr",
     "output_type": "stream",
     "text": [
      "['round: A', 'reviewer_name: Agent2'] -                     2025-01-04 19:03:50: 100%|██████████| 1000/1000 [00:38<00:00, 25.93it/s]\n"
     ]
    },
    {
     "name": "stdout",
     "output_type": "stream",
     "text": [
      "The following columns are present in the dataframe at the end of Agent2's reivew in round A: ['doi', 'title', 'abstract', 'label_included', 'round-A_Agent1_output', 'round-A_Agent1_reasoning', 'round-A_Agent1_evaluation', 'round-A_Agent2_output', 'round-A_Agent2_reasoning', 'round-A_Agent2_evaluation']\n",
      "\n",
      "====== Starting review round B (2/2) ======\n",
      "\n",
      "Processing 19 eligible rows\n"
     ]
    },
    {
     "name": "stderr",
     "output_type": "stream",
     "text": [
      "['round: B', 'reviewer_name: Agent3'] -                     2025-01-04 19:04:29: 100%|██████████| 19/19 [00:04<00:00,  4.39it/s]\n"
     ]
    },
    {
     "name": "stdout",
     "output_type": "stream",
     "text": [
      "The following columns are present in the dataframe at the end of Agent3's reivew in round B: ['doi', 'title', 'abstract', 'label_included', 'round-A_Agent1_output', 'round-A_Agent1_reasoning', 'round-A_Agent1_evaluation', 'round-A_Agent2_output', 'round-A_Agent2_reasoning', 'round-A_Agent2_evaluation', 'round-B_Agent3_output', 'round-B_Agent3_reasoning', 'round-B_Agent3_evaluation']\n",
      "\n",
      "====== Finished reviewing Jeyaraman_2020 (1000/1175) ======\n",
      "\n",
      "\n",
      "Total cost: 0.0034937\n",
      "--------------------------------------------------\n",
      "\n",
      "====== Starting review round A (1/2) ======\n",
      "\n",
      "Processing 175 eligible rows\n"
     ]
    },
    {
     "name": "stderr",
     "output_type": "stream",
     "text": [
      "['round: A', 'reviewer_name: Agent1'] -                     2025-01-04 19:05:33: 100%|██████████| 175/175 [00:03<00:00, 44.32it/s]\n"
     ]
    },
    {
     "name": "stdout",
     "output_type": "stream",
     "text": [
      "The following columns are present in the dataframe at the end of Agent1's reivew in round A: ['doi', 'title', 'abstract', 'label_included', 'round-A_Agent1_output', 'round-A_Agent1_reasoning', 'round-A_Agent1_evaluation']\n"
     ]
    },
    {
     "name": "stderr",
     "output_type": "stream",
     "text": [
      "['round: A', 'reviewer_name: Agent2'] -                     2025-01-04 19:05:37: 100%|██████████| 175/175 [00:09<00:00, 17.88it/s]\n"
     ]
    },
    {
     "name": "stdout",
     "output_type": "stream",
     "text": [
      "The following columns are present in the dataframe at the end of Agent2's reivew in round A: ['doi', 'title', 'abstract', 'label_included', 'round-A_Agent1_output', 'round-A_Agent1_reasoning', 'round-A_Agent1_evaluation', 'round-A_Agent2_output', 'round-A_Agent2_reasoning', 'round-A_Agent2_evaluation']\n",
      "\n",
      "====== Starting review round B (2/2) ======\n",
      "\n",
      "Processing 2 eligible rows\n"
     ]
    },
    {
     "name": "stderr",
     "output_type": "stream",
     "text": [
      "['round: B', 'reviewer_name: Agent3'] -                     2025-01-04 19:05:47: 100%|██████████| 2/2 [00:01<00:00,  1.81it/s]"
     ]
    },
    {
     "name": "stdout",
     "output_type": "stream",
     "text": [
      "The following columns are present in the dataframe at the end of Agent3's reivew in round B: ['doi', 'title', 'abstract', 'label_included', 'round-A_Agent1_output', 'round-A_Agent1_reasoning', 'round-A_Agent1_evaluation', 'round-A_Agent2_output', 'round-A_Agent2_reasoning', 'round-A_Agent2_evaluation', 'round-B_Agent3_output', 'round-B_Agent3_reasoning', 'round-B_Agent3_evaluation']\n",
      "\n",
      "====== Finished reviewing Jeyaraman_2020 ======\n",
      "\n",
      "\n",
      "Total cost: 0.007337000000000001\n",
      "----------------------------------------------------------------------------------------------------\n"
     ]
    },
    {
     "name": "stderr",
     "output_type": "stream",
     "text": [
      "\n"
     ]
    }
   ],
   "source": [
    "# Reviewing Jeyaraman_2020\n",
    "review_job = [j for j in all_review_jobs if j[0] == \"Jeyaraman_2020\"][0]\n",
    "_ = asyncio.run(review(review_job))"
   ]
  },
  {
   "cell_type": "code",
   "execution_count": 16,
   "metadata": {},
   "outputs": [
    {
     "name": "stdout",
     "output_type": "stream",
     "text": [
      "\n",
      "====== Starting review round A (1/2) ======\n",
      "\n",
      "Processing 882 eligible rows\n"
     ]
    },
    {
     "name": "stderr",
     "output_type": "stream",
     "text": [
      "['round: A', 'reviewer_name: Agent1'] -                     2025-01-04 19:06:19: 100%|██████████| 882/882 [00:19<00:00, 46.38it/s]\n"
     ]
    },
    {
     "name": "stdout",
     "output_type": "stream",
     "text": [
      "The following columns are present in the dataframe at the end of Agent1's reivew in round A: ['doi', 'title', 'abstract', 'label_included', 'round-A_Agent1_output', 'round-A_Agent1_reasoning', 'round-A_Agent1_evaluation']\n"
     ]
    },
    {
     "name": "stderr",
     "output_type": "stream",
     "text": [
      "['round: A', 'reviewer_name: Agent2'] -                     2025-01-04 19:06:38: 100%|██████████| 882/882 [00:39<00:00, 22.12it/s]\n"
     ]
    },
    {
     "name": "stdout",
     "output_type": "stream",
     "text": [
      "The following columns are present in the dataframe at the end of Agent2's reivew in round A: ['doi', 'title', 'abstract', 'label_included', 'round-A_Agent1_output', 'round-A_Agent1_reasoning', 'round-A_Agent1_evaluation', 'round-A_Agent2_output', 'round-A_Agent2_reasoning', 'round-A_Agent2_evaluation']\n",
      "\n",
      "====== Starting review round B (2/2) ======\n",
      "\n",
      "Processing 89 eligible rows\n"
     ]
    },
    {
     "name": "stderr",
     "output_type": "stream",
     "text": [
      "['round: B', 'reviewer_name: Agent3'] -                     2025-01-04 19:07:18: 100%|██████████| 89/89 [00:26<00:00,  3.32it/s]"
     ]
    },
    {
     "name": "stdout",
     "output_type": "stream",
     "text": [
      "The following columns are present in the dataframe at the end of Agent3's reivew in round B: ['doi', 'title', 'abstract', 'label_included', 'round-A_Agent1_output', 'round-A_Agent1_reasoning', 'round-A_Agent1_evaluation', 'round-A_Agent2_output', 'round-A_Agent2_reasoning', 'round-A_Agent2_evaluation', 'round-B_Agent3_output', 'round-B_Agent3_reasoning', 'round-B_Agent3_evaluation']\n",
      "\n",
      "====== Finished reviewing Meijboom_2021 ======\n",
      "\n",
      "\n",
      "Total cost: 0.0038126000000000006\n",
      "----------------------------------------------------------------------------------------------------\n"
     ]
    },
    {
     "name": "stderr",
     "output_type": "stream",
     "text": [
      "\n"
     ]
    }
   ],
   "source": [
    "# Reviewing Meijboom_2021\n",
    "review_job = [j for j in all_review_jobs if j[0] == \"Meijboom_2021\"][0]\n",
    "_ = asyncio.run(review(review_job))"
   ]
  },
  {
   "cell_type": "code",
   "execution_count": 18,
   "metadata": {},
   "outputs": [
    {
     "name": "stdout",
     "output_type": "stream",
     "text": [
      "\n",
      "====== Starting review round A (1/2) ======\n",
      "\n",
      "Processing 1000 eligible rows\n"
     ]
    },
    {
     "name": "stderr",
     "output_type": "stream",
     "text": [
      "['round: A', 'reviewer_name: Agent1'] -                     2025-01-04 19:09:38: 100%|██████████| 1000/1000 [00:22<00:00, 44.72it/s]\n"
     ]
    },
    {
     "name": "stdout",
     "output_type": "stream",
     "text": [
      "The following columns are present in the dataframe at the end of Agent1's reivew in round A: ['doi', 'title', 'abstract', 'label_included', 'round-A_Agent1_output', 'round-A_Agent1_reasoning', 'round-A_Agent1_evaluation']\n"
     ]
    },
    {
     "name": "stderr",
     "output_type": "stream",
     "text": [
      "['round: A', 'reviewer_name: Agent2'] -                     2025-01-04 19:10:01:  83%|████████▎ | 834/1000 [00:32<00:07, 21.77it/s]"
     ]
    },
    {
     "name": "stdout",
     "output_type": "stream",
     "text": [
      "Error reviewing item: Error getting JSON response: Error fetching response: litellm.JSONSchemaValidationError: model=, returned an invalid response={\"reasoning\":\"The study is a prospective randomized controlled trial (RCT) with a 1:1 parallel two-arm design, focuses on spine surgery for isthmic spondylolisthesis, and reports dichotomous outcomes (fusion rates), thus meeting all inclusion criteria and none of the, for schema={\"reasoning\":\"The study is a prospective randomized controlled trial (RCT) with a 1:1 parallel two-arm design, focuses on spine surgery for isthmic spondylolisthesis, and reports dichotomous outcomes (fusion rates), thus meeting all inclusion criteria and none of the.\n",
      "Access raw response with `e.raw_response`. Retrying 0/3\n"
     ]
    },
    {
     "name": "stderr",
     "output_type": "stream",
     "text": [
      "['round: A', 'reviewer_name: Agent2'] -                     2025-01-04 19:10:01: 100%|██████████| 1000/1000 [00:43<00:00, 22.76it/s]\n"
     ]
    },
    {
     "name": "stdout",
     "output_type": "stream",
     "text": [
      "The following columns are present in the dataframe at the end of Agent2's reivew in round A: ['doi', 'title', 'abstract', 'label_included', 'round-A_Agent1_output', 'round-A_Agent1_reasoning', 'round-A_Agent1_evaluation', 'round-A_Agent2_output', 'round-A_Agent2_reasoning', 'round-A_Agent2_evaluation']\n",
      "\n",
      "====== Starting review round B (2/2) ======\n",
      "\n",
      "Processing 207 eligible rows\n"
     ]
    },
    {
     "name": "stderr",
     "output_type": "stream",
     "text": [
      "['round: B', 'reviewer_name: Agent3'] -                     2025-01-04 19:10:45: 100%|██████████| 207/207 [00:12<00:00, 16.57it/s]\n"
     ]
    },
    {
     "name": "stdout",
     "output_type": "stream",
     "text": [
      "The following columns are present in the dataframe at the end of Agent3's reivew in round B: ['doi', 'title', 'abstract', 'label_included', 'round-A_Agent1_output', 'round-A_Agent1_reasoning', 'round-A_Agent1_evaluation', 'round-A_Agent2_output', 'round-A_Agent2_reasoning', 'round-A_Agent2_evaluation', 'round-B_Agent3_output', 'round-B_Agent3_reasoning', 'round-B_Agent3_evaluation']\n",
      "\n",
      "====== Finished reviewing Muthu_2021 (1000/2719) ======\n",
      "\n",
      "\n",
      "Total cost: 0.003485825\n",
      "--------------------------------------------------\n",
      "\n",
      "====== Starting review round A (1/2) ======\n",
      "\n",
      "Processing 1000 eligible rows\n"
     ]
    },
    {
     "name": "stderr",
     "output_type": "stream",
     "text": [
      "['round: A', 'reviewer_name: Agent1'] -                     2025-01-04 19:11:57: 100%|██████████| 1000/1000 [00:22<00:00, 43.60it/s]\n"
     ]
    },
    {
     "name": "stdout",
     "output_type": "stream",
     "text": [
      "The following columns are present in the dataframe at the end of Agent1's reivew in round A: ['doi', 'title', 'abstract', 'label_included', 'round-A_Agent1_output', 'round-A_Agent1_reasoning', 'round-A_Agent1_evaluation']\n"
     ]
    },
    {
     "name": "stderr",
     "output_type": "stream",
     "text": [
      "['round: A', 'reviewer_name: Agent2'] -                     2025-01-04 19:12:20: 100%|██████████| 1000/1000 [00:40<00:00, 24.86it/s]\n"
     ]
    },
    {
     "name": "stdout",
     "output_type": "stream",
     "text": [
      "The following columns are present in the dataframe at the end of Agent2's reivew in round A: ['doi', 'title', 'abstract', 'label_included', 'round-A_Agent1_output', 'round-A_Agent1_reasoning', 'round-A_Agent1_evaluation', 'round-A_Agent2_output', 'round-A_Agent2_reasoning', 'round-A_Agent2_evaluation']\n",
      "\n",
      "====== Starting review round B (2/2) ======\n",
      "\n",
      "Processing 224 eligible rows\n"
     ]
    },
    {
     "name": "stderr",
     "output_type": "stream",
     "text": [
      "['round: B', 'reviewer_name: Agent3'] -                     2025-01-04 19:13:00: 100%|██████████| 224/224 [00:11<00:00, 19.01it/s]\n"
     ]
    },
    {
     "name": "stdout",
     "output_type": "stream",
     "text": [
      "The following columns are present in the dataframe at the end of Agent3's reivew in round B: ['doi', 'title', 'abstract', 'label_included', 'round-A_Agent1_output', 'round-A_Agent1_reasoning', 'round-A_Agent1_evaluation', 'round-A_Agent2_output', 'round-A_Agent2_reasoning', 'round-A_Agent2_evaluation', 'round-B_Agent3_output', 'round-B_Agent3_reasoning', 'round-B_Agent3_evaluation']\n",
      "\n",
      "====== Finished reviewing Muthu_2021 (2000/2719) ======\n",
      "\n",
      "\n",
      "Total cost: 0.007030275000000001\n",
      "--------------------------------------------------\n",
      "\n",
      "====== Starting review round A (1/2) ======\n",
      "\n",
      "Processing 719 eligible rows\n"
     ]
    },
    {
     "name": "stderr",
     "output_type": "stream",
     "text": [
      "['round: A', 'reviewer_name: Agent1'] -                     2025-01-04 19:14:12: 100%|██████████| 719/719 [00:16<00:00, 44.48it/s]\n"
     ]
    },
    {
     "name": "stdout",
     "output_type": "stream",
     "text": [
      "The following columns are present in the dataframe at the end of Agent1's reivew in round A: ['doi', 'title', 'abstract', 'label_included', 'round-A_Agent1_output', 'round-A_Agent1_reasoning', 'round-A_Agent1_evaluation']\n"
     ]
    },
    {
     "name": "stderr",
     "output_type": "stream",
     "text": [
      "['round: A', 'reviewer_name: Agent2'] -                     2025-01-04 19:14:28: 100%|██████████| 719/719 [00:31<00:00, 23.08it/s]\n"
     ]
    },
    {
     "name": "stdout",
     "output_type": "stream",
     "text": [
      "The following columns are present in the dataframe at the end of Agent2's reivew in round A: ['doi', 'title', 'abstract', 'label_included', 'round-A_Agent1_output', 'round-A_Agent1_reasoning', 'round-A_Agent1_evaluation', 'round-A_Agent2_output', 'round-A_Agent2_reasoning', 'round-A_Agent2_evaluation']\n",
      "\n",
      "====== Starting review round B (2/2) ======\n",
      "\n",
      "Processing 165 eligible rows\n"
     ]
    },
    {
     "name": "stderr",
     "output_type": "stream",
     "text": [
      "['round: B', 'reviewer_name: Agent3'] -                     2025-01-04 19:15:00: 100%|██████████| 165/165 [00:09<00:00, 16.75it/s]\n"
     ]
    },
    {
     "name": "stdout",
     "output_type": "stream",
     "text": [
      "The following columns are present in the dataframe at the end of Agent3's reivew in round B: ['doi', 'title', 'abstract', 'label_included', 'round-A_Agent1_output', 'round-A_Agent1_reasoning', 'round-A_Agent1_evaluation', 'round-A_Agent2_output', 'round-A_Agent2_reasoning', 'round-A_Agent2_evaluation', 'round-B_Agent3_output', 'round-B_Agent3_reasoning', 'round-B_Agent3_evaluation']\n",
      "\n",
      "====== Finished reviewing Muthu_2021 ======\n",
      "\n",
      "\n",
      "Total cost: 0.010329050000000001\n",
      "----------------------------------------------------------------------------------------------------\n"
     ]
    }
   ],
   "source": [
    "# Reviewing Muthu_2021\n",
    "review_job = [j for j in all_review_jobs if j[0] == \"Muthu_2021\"][0]\n",
    "_ = asyncio.run(review(review_job))"
   ]
  },
  {
   "cell_type": "code",
   "execution_count": 17,
   "metadata": {},
   "outputs": [
    {
     "name": "stdout",
     "output_type": "stream",
     "text": [
      "\n",
      "====== Starting review round A (1/2) ======\n",
      "\n",
      "Processing 952 eligible rows\n"
     ]
    },
    {
     "name": "stderr",
     "output_type": "stream",
     "text": [
      "['round: A', 'reviewer_name: Agent1'] -                     2025-01-04 19:08:08: 100%|██████████| 952/952 [00:21<00:00, 45.30it/s]\n"
     ]
    },
    {
     "name": "stdout",
     "output_type": "stream",
     "text": [
      "The following columns are present in the dataframe at the end of Agent1's reivew in round A: ['doi', 'title', 'abstract', 'label_included', 'round-A_Agent1_output', 'round-A_Agent1_reasoning', 'round-A_Agent1_evaluation']\n"
     ]
    },
    {
     "name": "stderr",
     "output_type": "stream",
     "text": [
      "['round: A', 'reviewer_name: Agent2'] -                     2025-01-04 19:08:29: 100%|██████████| 952/952 [00:38<00:00, 24.94it/s]\n"
     ]
    },
    {
     "name": "stdout",
     "output_type": "stream",
     "text": [
      "The following columns are present in the dataframe at the end of Agent2's reivew in round A: ['doi', 'title', 'abstract', 'label_included', 'round-A_Agent1_output', 'round-A_Agent1_reasoning', 'round-A_Agent1_evaluation', 'round-A_Agent2_output', 'round-A_Agent2_reasoning', 'round-A_Agent2_evaluation']\n",
      "\n",
      "====== Starting review round B (2/2) ======\n",
      "\n",
      "Processing 126 eligible rows\n"
     ]
    },
    {
     "name": "stderr",
     "output_type": "stream",
     "text": [
      "['round: B', 'reviewer_name: Agent3'] -                     2025-01-04 19:09:08: 100%|██████████| 126/126 [00:10<00:00, 12.10it/s]"
     ]
    },
    {
     "name": "stdout",
     "output_type": "stream",
     "text": [
      "The following columns are present in the dataframe at the end of Agent3's reivew in round B: ['doi', 'title', 'abstract', 'label_included', 'round-A_Agent1_output', 'round-A_Agent1_reasoning', 'round-A_Agent1_evaluation', 'round-A_Agent2_output', 'round-A_Agent2_reasoning', 'round-A_Agent2_evaluation', 'round-B_Agent3_output', 'round-B_Agent3_reasoning', 'round-B_Agent3_evaluation']\n",
      "\n",
      "====== Finished reviewing Oud_2018 ======\n",
      "\n",
      "\n",
      "Total cost: 0.003134675\n",
      "----------------------------------------------------------------------------------------------------\n"
     ]
    },
    {
     "name": "stderr",
     "output_type": "stream",
     "text": [
      "\n"
     ]
    }
   ],
   "source": [
    "# Reviewing Oud_2018\n",
    "review_job = [j for j in all_review_jobs if j[0] == \"Oud_2018\"][0]\n",
    "_ = asyncio.run(review(review_job))"
   ]
  },
  {
   "cell_type": "markdown",
   "metadata": {},
   "source": [
    "## Statistics"
   ]
  },
  {
   "cell_type": "markdown",
   "metadata": {},
   "source": [
    "Finally, it's time to calculate some statistical metrics to report the performance of the review workflow on different datasets.\n",
    "As a `TitleAbstractReviewer` returns a score between 1 to 5, we can set different thresholds for inclusion of articles, and therefore report the workflow performance in three different sensetive, specific, and balanced modes."
   ]
  },
  {
   "cell_type": "code",
   "execution_count": 48,
   "metadata": {},
   "outputs": [
    {
     "data": {
      "text/plain": [
       "dict_keys(['Oud_2018', 'Appenzeller-Herzog_2019', 'Muthu_2021', 'Meijboom_2021', 'Jeyaraman_2020', 'Donners_2021'])"
      ]
     },
     "execution_count": 48,
     "metadata": {},
     "output_type": "execute_result"
    }
   ],
   "source": [
    "def get_score(row):\n",
    "    if \"round-B_Agent3_output\" in row and not pd.isna(row[\"round-B_Agent3_evaluation\"]):\n",
    "        return int(row[\"round-B_Agent3_evaluation\"])\n",
    "    score1 = int(row[\"round-A_Agent1_evaluation\"])\n",
    "    score2 = int(row[\"round-A_Agent2_evaluation\"])\n",
    "    return (score1 + score2)/2\n",
    "    \n",
    "raw_data = dict()\n",
    "\n",
    "all_csv_files = glob.glob(\"synergy_data/*_reviewed.csv\")\n",
    "for csv_file in all_csv_files:\n",
    "    df = pd.read_csv(csv_file)\n",
    "    review_name = csv_file.split(\"/\")[-1].split(\"_reviewed.csv\")[0]\n",
    "    labels = df[\"label_included\"].apply(lambda x: int(x)).tolist()\n",
    "    scores = df.apply(get_score, axis=1).tolist()\n",
    "    raw_data[review_name] = (labels, scores)\n",
    "\n",
    "raw_data.keys()"
   ]
  },
  {
   "cell_type": "code",
   "execution_count": 49,
   "metadata": {},
   "outputs": [
    {
     "data": {
      "text/html": [
       "<div>\n",
       "<style scoped>\n",
       "    .dataframe tbody tr th:only-of-type {\n",
       "        vertical-align: middle;\n",
       "    }\n",
       "\n",
       "    .dataframe tbody tr th {\n",
       "        vertical-align: top;\n",
       "    }\n",
       "\n",
       "    .dataframe thead th {\n",
       "        text-align: right;\n",
       "    }\n",
       "</style>\n",
       "<table border=\"1\" class=\"dataframe\">\n",
       "  <thead>\n",
       "    <tr style=\"text-align: right;\">\n",
       "      <th></th>\n",
       "      <th>Dataset</th>\n",
       "      <th>Number of Articles</th>\n",
       "      <th>% Relevant</th>\n",
       "      <th>% Predicted (Sensitive)</th>\n",
       "      <th>Accuracy (Sensitive)</th>\n",
       "      <th>Precision (Sensitive)</th>\n",
       "      <th>Recall (Sensitive)</th>\n",
       "      <th>% Predicted (Specific)</th>\n",
       "      <th>Accuracy (Specific)</th>\n",
       "      <th>Precision (Specific)</th>\n",
       "      <th>Recall (Specific)</th>\n",
       "      <th>% Predicted (Balanced)</th>\n",
       "      <th>Accuracy (Balanced)</th>\n",
       "      <th>Precision (Balanced)</th>\n",
       "      <th>Recall (Balanced)</th>\n",
       "      <th>AUC</th>\n",
       "    </tr>\n",
       "  </thead>\n",
       "  <tbody>\n",
       "    <tr>\n",
       "      <th>0</th>\n",
       "      <td>Oud_2018</td>\n",
       "      <td>952</td>\n",
       "      <td>2.10</td>\n",
       "      <td>38.87</td>\n",
       "      <td>0.63</td>\n",
       "      <td>0.05</td>\n",
       "      <td>1.00</td>\n",
       "      <td>3.78</td>\n",
       "      <td>0.96</td>\n",
       "      <td>0.28</td>\n",
       "      <td>0.50</td>\n",
       "      <td>8.09</td>\n",
       "      <td>0.93</td>\n",
       "      <td>0.21</td>\n",
       "      <td>0.80</td>\n",
       "      <td>0.95</td>\n",
       "    </tr>\n",
       "    <tr>\n",
       "      <th>1</th>\n",
       "      <td>Appenzeller-Herzog_2019</td>\n",
       "      <td>2873</td>\n",
       "      <td>0.90</td>\n",
       "      <td>28.68</td>\n",
       "      <td>0.72</td>\n",
       "      <td>0.03</td>\n",
       "      <td>0.85</td>\n",
       "      <td>1.74</td>\n",
       "      <td>0.98</td>\n",
       "      <td>0.12</td>\n",
       "      <td>0.23</td>\n",
       "      <td>3.72</td>\n",
       "      <td>0.96</td>\n",
       "      <td>0.07</td>\n",
       "      <td>0.31</td>\n",
       "      <td>0.85</td>\n",
       "    </tr>\n",
       "    <tr>\n",
       "      <th>2</th>\n",
       "      <td>Muthu_2021</td>\n",
       "      <td>2719</td>\n",
       "      <td>12.36</td>\n",
       "      <td>68.96</td>\n",
       "      <td>0.42</td>\n",
       "      <td>0.17</td>\n",
       "      <td>0.96</td>\n",
       "      <td>8.31</td>\n",
       "      <td>0.84</td>\n",
       "      <td>0.27</td>\n",
       "      <td>0.18</td>\n",
       "      <td>10.48</td>\n",
       "      <td>0.83</td>\n",
       "      <td>0.28</td>\n",
       "      <td>0.24</td>\n",
       "      <td>0.73</td>\n",
       "    </tr>\n",
       "    <tr>\n",
       "      <th>3</th>\n",
       "      <td>Meijboom_2021</td>\n",
       "      <td>882</td>\n",
       "      <td>4.20</td>\n",
       "      <td>59.41</td>\n",
       "      <td>0.45</td>\n",
       "      <td>0.07</td>\n",
       "      <td>0.97</td>\n",
       "      <td>13.49</td>\n",
       "      <td>0.89</td>\n",
       "      <td>0.26</td>\n",
       "      <td>0.84</td>\n",
       "      <td>14.40</td>\n",
       "      <td>0.88</td>\n",
       "      <td>0.24</td>\n",
       "      <td>0.84</td>\n",
       "      <td>0.90</td>\n",
       "    </tr>\n",
       "    <tr>\n",
       "      <th>4</th>\n",
       "      <td>Jeyaraman_2020</td>\n",
       "      <td>1175</td>\n",
       "      <td>8.17</td>\n",
       "      <td>15.32</td>\n",
       "      <td>0.85</td>\n",
       "      <td>0.27</td>\n",
       "      <td>0.50</td>\n",
       "      <td>0.26</td>\n",
       "      <td>0.92</td>\n",
       "      <td>0.67</td>\n",
       "      <td>0.02</td>\n",
       "      <td>0.26</td>\n",
       "      <td>0.92</td>\n",
       "      <td>0.67</td>\n",
       "      <td>0.02</td>\n",
       "      <td>0.71</td>\n",
       "    </tr>\n",
       "    <tr>\n",
       "      <th>5</th>\n",
       "      <td>Donners_2021</td>\n",
       "      <td>258</td>\n",
       "      <td>5.81</td>\n",
       "      <td>93.02</td>\n",
       "      <td>0.13</td>\n",
       "      <td>0.06</td>\n",
       "      <td>1.00</td>\n",
       "      <td>29.46</td>\n",
       "      <td>0.72</td>\n",
       "      <td>0.13</td>\n",
       "      <td>0.67</td>\n",
       "      <td>34.50</td>\n",
       "      <td>0.68</td>\n",
       "      <td>0.12</td>\n",
       "      <td>0.73</td>\n",
       "      <td>0.77</td>\n",
       "    </tr>\n",
       "  </tbody>\n",
       "</table>\n",
       "</div>"
      ],
      "text/plain": [
       "                   Dataset  Number of Articles  % Relevant  \\\n",
       "0                 Oud_2018                 952        2.10   \n",
       "1  Appenzeller-Herzog_2019                2873        0.90   \n",
       "2               Muthu_2021                2719       12.36   \n",
       "3            Meijboom_2021                 882        4.20   \n",
       "4           Jeyaraman_2020                1175        8.17   \n",
       "5             Donners_2021                 258        5.81   \n",
       "\n",
       "   % Predicted (Sensitive)  Accuracy (Sensitive)  Precision (Sensitive)  \\\n",
       "0                    38.87                  0.63                   0.05   \n",
       "1                    28.68                  0.72                   0.03   \n",
       "2                    68.96                  0.42                   0.17   \n",
       "3                    59.41                  0.45                   0.07   \n",
       "4                    15.32                  0.85                   0.27   \n",
       "5                    93.02                  0.13                   0.06   \n",
       "\n",
       "   Recall (Sensitive)  % Predicted (Specific)  Accuracy (Specific)  \\\n",
       "0                1.00                    3.78                 0.96   \n",
       "1                0.85                    1.74                 0.98   \n",
       "2                0.96                    8.31                 0.84   \n",
       "3                0.97                   13.49                 0.89   \n",
       "4                0.50                    0.26                 0.92   \n",
       "5                1.00                   29.46                 0.72   \n",
       "\n",
       "   Precision (Specific)  Recall (Specific)  % Predicted (Balanced)  \\\n",
       "0                  0.28               0.50                    8.09   \n",
       "1                  0.12               0.23                    3.72   \n",
       "2                  0.27               0.18                   10.48   \n",
       "3                  0.26               0.84                   14.40   \n",
       "4                  0.67               0.02                    0.26   \n",
       "5                  0.13               0.67                   34.50   \n",
       "\n",
       "   Accuracy (Balanced)  Precision (Balanced)  Recall (Balanced)   AUC  \n",
       "0                 0.93                  0.21               0.80  0.95  \n",
       "1                 0.96                  0.07               0.31  0.85  \n",
       "2                 0.83                  0.28               0.24  0.73  \n",
       "3                 0.88                  0.24               0.84  0.90  \n",
       "4                 0.92                  0.67               0.02  0.71  \n",
       "5                 0.68                  0.12               0.73  0.77  "
      ]
     },
     "execution_count": 49,
     "metadata": {},
     "output_type": "execute_result"
    }
   ],
   "source": [
    "def evaluate_metrics(ground_truth, predictions, threshold_sensitive, threshold_specific, threshold_balanced):\n",
    "    def classify(pred, threshold):\n",
    "        return [1 if p >= threshold else 0 for p in pred]\n",
    "\n",
    "    # Assert all ground truth values are either 0 or 1\n",
    "    assert all([g in [0, 1] for g in ground_truth])\n",
    "\n",
    "    num_articles = len(ground_truth)\n",
    "    percentage_relevant = sum(ground_truth) / len(ground_truth) * 100\n",
    "\n",
    "    thresholds = [threshold_sensitive, threshold_specific, threshold_balanced]\n",
    "    metrics = {}\n",
    "    for label, threshold in zip(['sensitive', 'specific', 'balanced'], thresholds):\n",
    "        percentage_predicted = len([p for p in predictions if p >= threshold]) / len(predictions) * 100\n",
    "        pred = classify(predictions, threshold)\n",
    "\n",
    "        tn, fp, fn, tp = confusion_matrix(ground_truth, pred, labels=[0, 1]).ravel()\n",
    "        metrics[f'accuracy_{label}'] = accuracy_score(ground_truth, pred)\n",
    "        metrics[f'precision_{label}'] = precision_score(ground_truth, pred, zero_division=0)\n",
    "        metrics[f'recall_{label}'] = recall_score(ground_truth, pred, zero_division=0)\n",
    "        metrics[f'specificity_{label}'] = tn / (tn + fp) if (tn + fp) > 0 else 0\n",
    "        metrics[f'percentage_predicted_{label}'] = percentage_predicted\n",
    "\n",
    "    # Check for valid AUC calculation\n",
    "    metrics['auc'] = roc_auc_score(ground_truth, predictions) if len(set(ground_truth)) > 1 else float('nan')\n",
    "\n",
    "    return {\n",
    "        'num_articles': num_articles,\n",
    "        'percentage_relevant': percentage_relevant,\n",
    "        **metrics\n",
    "    }\n",
    "\n",
    "# Updated thresholds\n",
    "threshold_sensitive = 1.5 # Score >= 1.5\n",
    "threshold_balanced = 3  # Score > 3.0\n",
    "threshold_specific = 4.5  # Score >= 4.5\n",
    "\n",
    "# Collect data for plotting\n",
    "roc_curves = {}\n",
    "sensitivity_specificity_points = []\n",
    "rows = []\n",
    "colors = cm.tab10.colors  # Use distinct colors for each dataset\n",
    "\n",
    "for i, (dataset_name, (ground_truth, predictions)) in enumerate(raw_data.items()):\n",
    "    metrics = evaluate_metrics(ground_truth, predictions, threshold_sensitive, threshold_specific, threshold_balanced)\n",
    "    sensitivity_specificity_points.append((\n",
    "        dataset_name, \n",
    "        metrics['recall_sensitive'], metrics['specificity_sensitive'], \n",
    "        metrics['recall_specific'], metrics['specificity_specific'], \n",
    "        metrics['recall_balanced'], metrics['specificity_balanced'], \n",
    "        colors[i % len(colors)]\n",
    "    ))\n",
    "\n",
    "    if len(set(ground_truth)) > 1:\n",
    "        fpr, tpr, _ = roc_curve(ground_truth, predictions)\n",
    "        roc_curves[dataset_name] = (fpr, tpr, colors[i % len(colors)])\n",
    "\n",
    "    rows.append({\n",
    "        'Dataset': dataset_name,\n",
    "        'Number of Articles': metrics['num_articles'],\n",
    "        '% Relevant': metrics['percentage_relevant'],\n",
    "        '% Predicted (Sensitive)': metrics['percentage_predicted_sensitive'],\n",
    "        'Accuracy (Sensitive)': metrics['accuracy_sensitive'],\n",
    "        'Precision (Sensitive)': metrics['precision_sensitive'],\n",
    "        'Recall (Sensitive)': metrics['recall_sensitive'],\n",
    "        '% Predicted (Specific)': metrics['percentage_predicted_specific'],\n",
    "        'Accuracy (Specific)': metrics['accuracy_specific'],\n",
    "        'Precision (Specific)': metrics['precision_specific'],\n",
    "        'Recall (Specific)': metrics['recall_specific'],\n",
    "        '% Predicted (Balanced)': metrics['percentage_predicted_balanced'],\n",
    "        'Accuracy (Balanced)': metrics['accuracy_balanced'],\n",
    "        'Precision (Balanced)': metrics['precision_balanced'],\n",
    "        'Recall (Balanced)': metrics['recall_balanced'],\n",
    "        'AUC': metrics['auc']\n",
    "    })\n",
    "\n",
    "# Create a DataFrame for the results\n",
    "output_df = pd.DataFrame(rows)\n",
    "output_df = output_df.round(2)\n",
    "\n",
    "# Display the DataFrame\n",
    "output_df"
   ]
  },
  {
   "cell_type": "markdown",
   "metadata": {},
   "source": [
    "We can also plot the performance in all three modes. Obviously, the ROC curves are threshold-agnostic and we will have one single curve for each datasets."
   ]
  },
  {
   "cell_type": "code",
   "execution_count": 53,
   "metadata": {},
   "outputs": [
    {
     "data": {
      "image/png": "[encoded data removed]",
      "text/plain": [
       "<Figure size 1500x700 with 2 Axes>"
      ]
     },
     "metadata": {},
     "output_type": "display_data"
    }
   ],
   "source": [
    "# Plotting\n",
    "fig, axes = plt.subplots(1, 2, figsize=(15, 7))\n",
    "\n",
    "# Plot 1: ROC Curve\n",
    "axes[0].plot([0, 1], [0, 1], linestyle='--', color='gray', label='Chance')\n",
    "for dataset_name, (fpr, tpr, color) in roc_curves.items():\n",
    "    axes[0].plot(fpr, tpr, label=dataset_name, color=color)\n",
    "axes[0].set_title(\"ROC Curve\")\n",
    "axes[0].set_xlabel(\"False Positive Rate\")\n",
    "axes[0].set_ylabel(\"True Positive Rate\")\n",
    "axes[0].legend(title=\"Studies\", loc='lower right')  # Show studies' color codes in the ROC plot legend\n",
    "\n",
    "# Add horizontal and vertical grid lines\n",
    "axes[0].grid(True, which='both', linestyle='--', linewidth=0.5, color='gray')\n",
    "\n",
    "# Plot 2: Sensitivity vs Specificity\n",
    "for dataset_name, sens_sen, spec_sen, sens_spec, spec_spec, sens_bal, spec_bal, color in sensitivity_specificity_points:\n",
    "    axes[1].scatter(sens_sen, spec_sen, marker='o', color=color)\n",
    "    axes[1].scatter(sens_spec, spec_spec, marker='^', color=color)\n",
    "    axes[1].scatter(sens_bal, spec_bal, marker='s', color=color)\n",
    "axes[1].set_title(\"Sensitivity vs Specificity\")\n",
    "axes[1].set_xlabel(\"Sensitivity\")\n",
    "axes[1].set_ylabel(\"Specificity\")\n",
    "axes[1].set_xlim(0, 1)\n",
    "axes[1].set_ylim(0, 1)\n",
    "axes[1].set_xticks([i * 0.1 for i in range(11)])\n",
    "axes[1].set_yticks([i * 0.1 for i in range(11)])\n",
    "\n",
    "# Add horizontal and vertical grid lines\n",
    "axes[1].grid(True, which='both', linestyle='--', linewidth=0.5, color='gray')\n",
    "\n",
    "# Create combined legend entries\n",
    "legend_elements = [\n",
    "    Line2D([], [], marker='o', color='black', linestyle='', label='Sensitive'),\n",
    "    Line2D([], [], marker='^', color='black', linestyle='', label='Specific'),\n",
    "    Line2D([], [], marker='s', color='black', linestyle='', label='Balanced'),\n",
    "]\n",
    "\n",
    "# Add dataset-specific colors to the legend\n",
    "for dataset_name, *_ , color in sensitivity_specificity_points:\n",
    "    legend_elements.append(\n",
    "        Line2D([], [], marker='o', color=color, linestyle='', label=dataset_name)\n",
    "    )\n",
    "\n",
    "# Add the combined legend\n",
    "axes[1].legend(\n",
    "    handles=legend_elements,\n",
    "    title=\"Metric Types & Studies\",\n",
    "    loc='lower left'\n",
    ")\n",
    "\n",
    "plt.tight_layout()\n",
    "plt.show()\n"
   ]
  },
  {
   "cell_type": "code",
   "execution_count": null,
   "metadata": {},
   "outputs": [],
   "source": []
  }
 ],
 "metadata": {
  "kernelspec": {
   "display_name": "venv",
   "language": "python",
   "name": "python3"
  },
  "language_info": {
   "codemirror_mode": {
    "name": "ipython",
    "version": 3
   },
   "file_extension": ".py",
   "mimetype": "text/x-python",
   "name": "python",
   "nbconvert_exporter": "python",
   "pygments_lexer": "ipython3",
   "version": "3.9.6"
  }
 },
 "nbformat": 4,
 "nbformat_minor": 4
}
