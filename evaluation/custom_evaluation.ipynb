{
 "cells": [
  {
   "cell_type": "markdown",
   "metadata": {},
   "source": [
    "# Custom Evaluation\n",
    "\n",
    "In this notebook, we will evluate the LatteReview package by applying a TitleAbstractReview workflow to a dataset collected for this [systematic review](https://pubmed.ncbi.nlm.nih.gov/36292201/)."
   ]
  },
  {
   "cell_type": "markdown",
   "metadata": {},
   "source": [
    "## Setting up the notebook"
   ]
  },
  {
   "cell_type": "markdown",
   "metadata": {},
   "source": [
    "High-level configs"
   ]
  },
  {
   "cell_type": "code",
   "execution_count": 1,
   "metadata": {},
   "outputs": [],
   "source": [
    "%reload_ext autoreload\n",
    "%autoreload 2\n",
    "\n",
    "from dotenv import load_dotenv\n",
    "\n",
    "# Load environment variables from .env file. Adjust the path to the .env file as needed.\n",
    "load_dotenv(dotenv_path='../.env')\n",
    "\n",
    "# Enable asyncio in Jupyter\n",
    "import asyncio\n",
    "import nest_asyncio\n",
    "\n",
    "nest_asyncio.apply()\n",
    "\n",
    "#  Add the package to the path (required if you are running this notebook from the examples folder)\n",
    "import sys\n",
    "sys.path.append('../../')\n"
   ]
  },
  {
   "cell_type": "markdown",
   "metadata": {},
   "source": [
    "Import required packages"
   ]
  },
  {
   "cell_type": "code",
   "execution_count": 3,
   "metadata": {},
   "outputs": [],
   "source": [
    "import glob\n",
    "import matplotlib.pyplot as plt\n",
    "from matplotlib.lines import Line2D\n",
    "import matplotlib.cm as cm\n",
    "import numpy as np\n",
    "import pandas as pd \n",
    "from sklearn.metrics import accuracy_score, precision_score, recall_score, roc_auc_score, confusion_matrix, roc_curve\n",
    "import time\n",
    "\n",
    "from lattereview.providers import LiteLLMProvider\n",
    "from lattereview.agents import TitleAbstractReviewer\n",
    "from lattereview.workflows import ReviewWorkflow"
   ]
  },
  {
   "cell_type": "markdown",
   "metadata": {},
   "source": [
    "## Data"
   ]
  },
  {
   "cell_type": "markdown",
   "metadata": {},
   "source": [
    "Let's first load the data and see the values its different columns have."
   ]
  },
  {
   "cell_type": "code",
   "execution_count": 20,
   "metadata": {},
   "outputs": [
    {
     "data": {
      "text/html": [
       "<div>\n",
       "<style scoped>\n",
       "    .dataframe tbody tr th:only-of-type {\n",
       "        vertical-align: middle;\n",
       "    }\n",
       "\n",
       "    .dataframe tbody tr th {\n",
       "        vertical-align: top;\n",
       "    }\n",
       "\n",
       "    .dataframe thead th {\n",
       "        text-align: right;\n",
       "    }\n",
       "</style>\n",
       "<table border=\"1\" class=\"dataframe\">\n",
       "  <thead>\n",
       "    <tr style=\"text-align: right;\">\n",
       "      <th></th>\n",
       "      <th>title</th>\n",
       "      <th>abstract</th>\n",
       "      <th>DOI</th>\n",
       "      <th>study_type</th>\n",
       "      <th>clinical_application</th>\n",
       "      <th>organ</th>\n",
       "      <th>modality</th>\n",
       "      <th>cardiovascular</th>\n",
       "      <th>task</th>\n",
       "      <th>deep_learning</th>\n",
       "      <th>external_validation</th>\n",
       "    </tr>\n",
       "  </thead>\n",
       "  <tbody>\n",
       "    <tr>\n",
       "      <th>0</th>\n",
       "      <td>(18)F-FDG PET/CT Uptake Classification in Lymp...</td>\n",
       "      <td>Background Fluorine 18 ((18)F)-fluorodeoxygluc...</td>\n",
       "      <td>10.1148/radiol.2019191114</td>\n",
       "      <td>cross-sectional</td>\n",
       "      <td>diagnosis</td>\n",
       "      <td>lung</td>\n",
       "      <td>pet</td>\n",
       "      <td>0</td>\n",
       "      <td>classification</td>\n",
       "      <td>1</td>\n",
       "      <td>0</td>\n",
       "    </tr>\n",
       "    <tr>\n",
       "      <th>1</th>\n",
       "      <td>(18)F-FDG-PET/CT Whole-Body Imaging Lung Tumor...</td>\n",
       "      <td>Under the background of (18)F-FDG-PET/CT multi...</td>\n",
       "      <td>10.1155/2021/8865237</td>\n",
       "      <td>cross-sectional</td>\n",
       "      <td>diagnosis</td>\n",
       "      <td>lung</td>\n",
       "      <td>pet</td>\n",
       "      <td>0</td>\n",
       "      <td>classification</td>\n",
       "      <td>1</td>\n",
       "      <td>0</td>\n",
       "    </tr>\n",
       "    <tr>\n",
       "      <th>2</th>\n",
       "      <td>3-D Convolutional Neural Networks for Automati...</td>\n",
       "      <td>Deep two-dimensional (2-D) convolutional neura...</td>\n",
       "      <td>10.1109/jbhi.2018.2879449</td>\n",
       "      <td>cross-sectional</td>\n",
       "      <td>diagnosis</td>\n",
       "      <td>lung</td>\n",
       "      <td>ct</td>\n",
       "      <td>0</td>\n",
       "      <td>detection</td>\n",
       "      <td>1</td>\n",
       "      <td>0</td>\n",
       "    </tr>\n",
       "    <tr>\n",
       "      <th>3</th>\n",
       "      <td>3D CNN with Visual Insights for Early Detectio...</td>\n",
       "      <td>The 3D convolutional neural network is able to...</td>\n",
       "      <td>10.1155/2021/6695518</td>\n",
       "      <td>cross-sectional</td>\n",
       "      <td>diagnosis</td>\n",
       "      <td>lung</td>\n",
       "      <td>ct</td>\n",
       "      <td>0</td>\n",
       "      <td>classification</td>\n",
       "      <td>1</td>\n",
       "      <td>0</td>\n",
       "    </tr>\n",
       "    <tr>\n",
       "      <th>4</th>\n",
       "      <td>3D deep learning based classification of pulmo...</td>\n",
       "      <td>Classifying ground-glass lung nodules (GGNs) i...</td>\n",
       "      <td>10.1016/j.compmedimag.2020.101814</td>\n",
       "      <td>cross-sectional</td>\n",
       "      <td>diagnosis</td>\n",
       "      <td>lung</td>\n",
       "      <td>ct</td>\n",
       "      <td>0</td>\n",
       "      <td>segmentation, classification</td>\n",
       "      <td>1</td>\n",
       "      <td>0</td>\n",
       "    </tr>\n",
       "    <tr>\n",
       "      <th>...</th>\n",
       "      <td>...</td>\n",
       "      <td>...</td>\n",
       "      <td>...</td>\n",
       "      <td>...</td>\n",
       "      <td>...</td>\n",
       "      <td>...</td>\n",
       "      <td>...</td>\n",
       "      <td>...</td>\n",
       "      <td>...</td>\n",
       "      <td>...</td>\n",
       "      <td>...</td>\n",
       "    </tr>\n",
       "    <tr>\n",
       "      <th>973</th>\n",
       "      <td>Vulture-Based AdaBoost-Feedforward Neural Fram...</td>\n",
       "      <td>In today's scenario, many scientists and medic...</td>\n",
       "      <td>10.1007/s12539-022-00505-3</td>\n",
       "      <td>cross-sectional</td>\n",
       "      <td>diagnosis</td>\n",
       "      <td>lung</td>\n",
       "      <td>xr</td>\n",
       "      <td>0</td>\n",
       "      <td>segmentation, classification</td>\n",
       "      <td>1</td>\n",
       "      <td>0</td>\n",
       "    </tr>\n",
       "    <tr>\n",
       "      <th>974</th>\n",
       "      <td>Wavelet decomposition facilitates training on ...</td>\n",
       "      <td>The adoption of low-dose computed tomography (...</td>\n",
       "      <td>10.1007/s00418-020-01961-y</td>\n",
       "      <td>cross-sectional</td>\n",
       "      <td>diagnosis</td>\n",
       "      <td>lung</td>\n",
       "      <td>ct</td>\n",
       "      <td>0</td>\n",
       "      <td>classification</td>\n",
       "      <td>1</td>\n",
       "      <td>0</td>\n",
       "    </tr>\n",
       "    <tr>\n",
       "      <th>975</th>\n",
       "      <td>Weakly unsupervised conditional generative adv...</td>\n",
       "      <td>Because of the rapid spread and wide range of ...</td>\n",
       "      <td>10.1016/j.media.2021.102159</td>\n",
       "      <td>cross-sectional</td>\n",
       "      <td>diagnosis</td>\n",
       "      <td>lung</td>\n",
       "      <td>ct</td>\n",
       "      <td>0</td>\n",
       "      <td>classification</td>\n",
       "      <td>1</td>\n",
       "      <td>0</td>\n",
       "    </tr>\n",
       "    <tr>\n",
       "      <th>976</th>\n",
       "      <td>Weakly-supervised lesion analysis with a CNN-b...</td>\n",
       "      <td>Objective.Lesions of COVID-19 can be clearly v...</td>\n",
       "      <td>10.1088/1361-6560/ac4316</td>\n",
       "      <td>cross-sectional</td>\n",
       "      <td>diagnosis</td>\n",
       "      <td>lung</td>\n",
       "      <td>ct</td>\n",
       "      <td>0</td>\n",
       "      <td>classification</td>\n",
       "      <td>1</td>\n",
       "      <td>0</td>\n",
       "    </tr>\n",
       "    <tr>\n",
       "      <th>977</th>\n",
       "      <td>Fully automatic segmentation of right and left...</td>\n",
       "      <td>Cardiac magnetic resonance imaging (CMR) is a ...</td>\n",
       "      <td>10.1016/j.compmedimag.2020.101786</td>\n",
       "      <td>cross-sectional</td>\n",
       "      <td>diagnosis</td>\n",
       "      <td>heart</td>\n",
       "      <td>mri</td>\n",
       "      <td>1</td>\n",
       "      <td>segmentation</td>\n",
       "      <td>1</td>\n",
       "      <td>0</td>\n",
       "    </tr>\n",
       "  </tbody>\n",
       "</table>\n",
       "<p>978 rows × 11 columns</p>\n",
       "</div>"
      ],
      "text/plain": [
       "                                                 title  \\\n",
       "0    (18)F-FDG PET/CT Uptake Classification in Lymp...   \n",
       "1    (18)F-FDG-PET/CT Whole-Body Imaging Lung Tumor...   \n",
       "2    3-D Convolutional Neural Networks for Automati...   \n",
       "3    3D CNN with Visual Insights for Early Detectio...   \n",
       "4    3D deep learning based classification of pulmo...   \n",
       "..                                                 ...   \n",
       "973  Vulture-Based AdaBoost-Feedforward Neural Fram...   \n",
       "974  Wavelet decomposition facilitates training on ...   \n",
       "975  Weakly unsupervised conditional generative adv...   \n",
       "976  Weakly-supervised lesion analysis with a CNN-b...   \n",
       "977  Fully automatic segmentation of right and left...   \n",
       "\n",
       "                                              abstract  \\\n",
       "0    Background Fluorine 18 ((18)F)-fluorodeoxygluc...   \n",
       "1    Under the background of (18)F-FDG-PET/CT multi...   \n",
       "2    Deep two-dimensional (2-D) convolutional neura...   \n",
       "3    The 3D convolutional neural network is able to...   \n",
       "4    Classifying ground-glass lung nodules (GGNs) i...   \n",
       "..                                                 ...   \n",
       "973  In today's scenario, many scientists and medic...   \n",
       "974  The adoption of low-dose computed tomography (...   \n",
       "975  Because of the rapid spread and wide range of ...   \n",
       "976  Objective.Lesions of COVID-19 can be clearly v...   \n",
       "977  Cardiac magnetic resonance imaging (CMR) is a ...   \n",
       "\n",
       "                                   DOI       study_type clinical_application  \\\n",
       "0            10.1148/radiol.2019191114  cross-sectional            diagnosis   \n",
       "1                 10.1155/2021/8865237  cross-sectional            diagnosis   \n",
       "2            10.1109/jbhi.2018.2879449  cross-sectional            diagnosis   \n",
       "3                 10.1155/2021/6695518  cross-sectional            diagnosis   \n",
       "4    10.1016/j.compmedimag.2020.101814  cross-sectional            diagnosis   \n",
       "..                                 ...              ...                  ...   \n",
       "973         10.1007/s12539-022-00505-3  cross-sectional            diagnosis   \n",
       "974         10.1007/s00418-020-01961-y  cross-sectional            diagnosis   \n",
       "975        10.1016/j.media.2021.102159  cross-sectional            diagnosis   \n",
       "976           10.1088/1361-6560/ac4316  cross-sectional            diagnosis   \n",
       "977  10.1016/j.compmedimag.2020.101786  cross-sectional            diagnosis   \n",
       "\n",
       "     organ modality  cardiovascular                          task  \\\n",
       "0     lung      pet               0                classification   \n",
       "1     lung      pet               0                classification   \n",
       "2     lung       ct               0                     detection   \n",
       "3     lung       ct               0                classification   \n",
       "4     lung       ct               0  segmentation, classification   \n",
       "..     ...      ...             ...                           ...   \n",
       "973   lung       xr               0  segmentation, classification   \n",
       "974   lung       ct               0                classification   \n",
       "975   lung       ct               0                classification   \n",
       "976   lung       ct               0                classification   \n",
       "977  heart      mri               1                  segmentation   \n",
       "\n",
       "     deep_learning  external_validation  \n",
       "0                1                    0  \n",
       "1                1                    0  \n",
       "2                1                    0  \n",
       "3                1                    0  \n",
       "4                1                    0  \n",
       "..             ...                  ...  \n",
       "973              1                    0  \n",
       "974              1                    0  \n",
       "975              1                    0  \n",
       "976              1                    0  \n",
       "977              1                    0  \n",
       "\n",
       "[978 rows x 11 columns]"
      ]
     },
     "execution_count": 20,
     "metadata": {},
     "output_type": "execute_result"
    }
   ],
   "source": [
    "data = pd.read_csv('custom_data/custom_data.csv')\n",
    "data"
   ]
  },
  {
   "cell_type": "code",
   "execution_count": 5,
   "metadata": {},
   "outputs": [
    {
     "name": "stdout",
     "output_type": "stream",
     "text": [
      "study_type\n",
      "cross-sectional         849\n",
      "retrospective cohort    101\n",
      "case control             17\n",
      "prospective cohort        9\n",
      "RCT                       2\n",
      "Name: count, dtype: int64\n",
      "--------------------------------------------------\n",
      "clinical_application\n",
      "diagnosis    823\n",
      "prognosis    117\n",
      "treatment     38\n",
      "Name: count, dtype: int64\n",
      "--------------------------------------------------\n",
      "organ\n",
      "lung           944\n",
      "heart           20\n",
      "lymph nodes      5\n",
      "thorax           4\n",
      "vessels          3\n",
      "thymus           2\n",
      "Name: count, dtype: int64\n",
      "--------------------------------------------------\n",
      "modality\n",
      "ct     697\n",
      "xr     217\n",
      "pet     42\n",
      "mri     12\n",
      "us      10\n",
      "Name: count, dtype: int64\n",
      "--------------------------------------------------\n",
      "cardiovascular\n",
      "0    958\n",
      "1     20\n",
      "Name: count, dtype: int64\n",
      "--------------------------------------------------\n",
      "task\n",
      "classification                              688\n",
      "segmentation                                125\n",
      "segmentation, classification                 62\n",
      "detection                                    32\n",
      "regression                                   22\n",
      "survival                                     14\n",
      "detection, classification                    11\n",
      "generation                                    9\n",
      "segmentation, detection, classification       6\n",
      "segmentation, regression, classification      5\n",
      "clustering                                    4\n",
      "Name: count, dtype: int64\n",
      "--------------------------------------------------\n",
      "deep_learning\n",
      "1    773\n",
      "0    205\n",
      "Name: count, dtype: int64\n",
      "--------------------------------------------------\n",
      "external_validation\n",
      "0    806\n",
      "1    172\n",
      "Name: count, dtype: int64\n",
      "--------------------------------------------------\n"
     ]
    }
   ],
   "source": [
    "for column in data.columns:\n",
    "    if column in [\"study_type\", \"clinical_application\", \"organ\", \"modality\", \"cardiovascular\", \"task\", \"deep_learning\", \"external_validation\"]:\n",
    "        print(data[column].value_counts())\n",
    "        print(\"-\"*50)"
   ]
  },
  {
   "cell_type": "markdown",
   "metadata": {},
   "source": [
    "## Inclusion and Exlcusion Criteria\n",
    "\n",
    "We will then put together three different pairs of inclusion and exclusion criteria that gradually get more complicated and detailed."
   ]
  },
  {
   "cell_type": "code",
   "execution_count": 22,
   "metadata": {},
   "outputs": [
    {
     "data": {
      "text/plain": [
       "search1\n",
       "1    697\n",
       "0    281\n",
       "Name: count, dtype: int64"
      ]
     },
     "execution_count": 22,
     "metadata": {},
     "output_type": "execute_result"
    }
   ],
   "source": [
    "search_criteria_1 = {\n",
    "    \"name\": \"search1\",\n",
    "    \"inclusion_criteria\": {\n",
    "        1: \"The study must involve CT scans. If multiple modalities are involved, CT scans should be among them.\",\n",
    "    },\n",
    "    \"exclusion_criteria\": {\n",
    "        1: \"The study must not include PET scans as one of its modalities.\",\n",
    "    }\n",
    "}\n",
    "\n",
    "data[\"search1\"] = data[\"modality\"].isin([\"ct\", \"xr, ct\"]).astype(int)\n",
    "data[\"search1\"].value_counts()"
   ]
  },
  {
   "cell_type": "code",
   "execution_count": 23,
   "metadata": {},
   "outputs": [
    {
     "data": {
      "text/plain": [
       "search2\n",
       "0    611\n",
       "1    367\n",
       "Name: count, dtype: int64"
      ]
     },
     "execution_count": 23,
     "metadata": {},
     "output_type": "execute_result"
    }
   ],
   "source": [
    "search_criteria_2 = {\n",
    "    \"name\": \"search2\",\n",
    "    \"inclusion_criteria\": {\n",
    "        1: \"The study must involve CT scans. If multiple modalities are involved, CT scans should be among them.\",\n",
    "        2: \"The study should introduce, develop, or discuss a deep learning-baseed classifier.\",\n",
    "    },\n",
    "    \"exclusion_criteria\": {\n",
    "        1: \"The study must not include PET scans as one of its modalities.\",\n",
    "        2: \"Studies focusing on cardiovascular organs or lung vasculature must be excluded.\",\n",
    "    }\n",
    "}\n",
    "\n",
    "\n",
    "data[\"search2\"] = ((data[\"search1\"] == 1) & (data[\"deep_learning\"] == 1) & (data[\"task\"].str.contains(\"classification\")) & (data[\"cardiovascular\"]==0)).astype(int)\n",
    "data[\"search2\"].value_counts()"
   ]
  },
  {
   "cell_type": "code",
   "execution_count": 24,
   "metadata": {},
   "outputs": [
    {
     "data": {
      "text/plain": [
       "search3\n",
       "0    923\n",
       "1     55\n",
       "Name: count, dtype: int64"
      ]
     },
     "execution_count": 24,
     "metadata": {},
     "output_type": "execute_result"
    }
   ],
   "source": [
    "search_criteria_3 = {\n",
    "    \"name\": \"search3\",\n",
    "    \"inclusion_criteria\": {\n",
    "        1: \"The study must involve CT scans. If multiple modalities are involved, CT scans should be among them.\",\n",
    "        2: \"The study should introduce, develop, or discuss a deep learning-baseed classifier.\",\n",
    "        3: \"The clinical application or model in the study must focus on diagnosis.\",\n",
    "    },\n",
    "    \"exclusion_criteria\": {\n",
    "        1: \"The study must not include PET scans as one of its modalities.\",\n",
    "        2: \"Studies focusing on cardiovascular organs or lung vasculature must be excluded.\",\n",
    "        3: \"All studies that did not have an external test set in addition to their internal test set must be excluded.\"\n",
    "    }\n",
    "}\n",
    "\n",
    "\n",
    "data[\"search3\"] = ((data[\"search2\"] == 1) & (data[\"clinical_application\"]==\"diagnosis\") & (data[\"external_validation\"]==1)).astype(int)\n",
    "data[\"search3\"].value_counts()"
   ]
  },
  {
   "cell_type": "markdown",
   "metadata": {},
   "source": [
    "## Review\n",
    "\n",
    "Now let's define two imaginary junior (cheap model) and one senior (expensive model) reviewer agents that all belong to the TitleAbstractReviewer class."
   ]
  },
  {
   "cell_type": "code",
   "execution_count": 9,
   "metadata": {},
   "outputs": [],
   "source": [
    "def create_reviewers(inclusion_criteria, exclusion_criteria):\n",
    "\n",
    "    inclusion_criteria = str(inclusion_criteria)\n",
    "    exclusion_criteria = str(exclusion_criteria)\n",
    "\n",
    "    Agent1 = TitleAbstractReviewer(\n",
    "        provider=LiteLLMProvider(model=\"gemini/gemini-1.5-flash\"),\n",
    "        name=\"Agent1\",\n",
    "        backstory=\"a PhD researcher in biology and computer science\",\n",
    "        inclusion_criteria = inclusion_criteria,\n",
    "        exclusion_criteria = exclusion_criteria,        \n",
    "        max_concurrent_requests=30, \n",
    "        model_args={\"max_tokens\": 200, \"temperature\": 0.1},\n",
    "    )\n",
    "\n",
    "    Agent2 = TitleAbstractReviewer(\n",
    "        provider=LiteLLMProvider(model=\"gpt-4o-mini\"),\n",
    "        name=\"Agent2\",\n",
    "        backstory=\"a PhD researcher in biology and computer science\",\n",
    "        inclusion_criteria = inclusion_criteria,\n",
    "        exclusion_criteria = exclusion_criteria,        \n",
    "        max_concurrent_requests=30, \n",
    "        model_args={\"max_tokens\": 200, \"temperature\": 0.1},\n",
    "    )\n",
    "\n",
    "    Agent3 = TitleAbstractReviewer(\n",
    "        provider=LiteLLMProvider(model=\"gpt-4o\"),\n",
    "        name=\"Agent3\",\n",
    "        backstory=\"a senior MD-PhD researcher with years of experience in conducting systematic reviews in radiology and deep learning\",\n",
    "        inclusion_criteria = inclusion_criteria,\n",
    "        exclusion_criteria = exclusion_criteria,        \n",
    "        max_concurrent_requests=30, \n",
    "        model_args={\"max_tokens\": 200, \"temperature\": 0.1},\n",
    "        additional_context=\"\"\"\n",
    "        Two PhD reviewers have already reviwed this article and disagree on how to evaluate it. You can read their evaluation above.\n",
    "        \"\"\"\n",
    "    )\n",
    "\n",
    "    return Agent1, Agent2, Agent3"
   ]
  },
  {
   "cell_type": "markdown",
   "metadata": {},
   "source": [
    "And we will create a workflow with these agents and apply it to our data for three times, each time with a different pair of inclusion and exclusion criteria."
   ]
  },
  {
   "cell_type": "code",
   "execution_count": 10,
   "metadata": {},
   "outputs": [],
   "source": [
    "def split_dataframe(df, chunk_size):\n",
    "    \"\"\"Splits a DataFrame into smaller DataFrames of a specified chunk size.\"\"\"\n",
    "    return [df.iloc[i:i + chunk_size] for i in range(0, len(df), chunk_size)]\n",
    "\n",
    "async def process_sub_df(sub_df, inclusion_criteria, exclusion_criteria):\n",
    "    \"\"\"Processes a single sub DataFrame.\"\"\"\n",
    "    Agent1, Agent2, Agent3 = create_reviewers(inclusion_criteria, exclusion_criteria)\n",
    "\n",
    "    def filter_func(row):\n",
    "        score1 = int(row[\"round-A_Agent1_output\"][\"evaluation\"])\n",
    "        score2 = int(row[\"round-A_Agent2_output\"][\"evaluation\"])\n",
    "        if score1 != score2:\n",
    "            if score1 >= 4 and score2 >= 4:\n",
    "                return False\n",
    "            if score1 >= 3 or score2 >= 3:\n",
    "                return True\n",
    "        elif score1 == score2 == 3:\n",
    "            return True\n",
    "        return False\n",
    "\n",
    "    title_abs_review = ReviewWorkflow(\n",
    "        workflow_schema=[\n",
    "            {\n",
    "                \"round\": 'A',\n",
    "                \"reviewers\": [Agent1, Agent2],\n",
    "                \"text_inputs\": [\"title\", \"abstract\"]\n",
    "            },\n",
    "            {\n",
    "                \"round\": 'B',\n",
    "                \"reviewers\": [Agent3],\n",
    "                \"text_inputs\": [\"title\", \"abstract\", \"round-A_Agent1_output\", \"round-A_Agent2_output\"],\n",
    "                \"filter\": filter_func\n",
    "            }\n",
    "        ]\n",
    "    )\n",
    "\n",
    "    updated_df = await title_abs_review(sub_df)\n",
    "    costs = title_abs_review.get_total_cost()\n",
    "    return updated_df, costs\n",
    "\n",
    "async def review(search_criteria, sample_size=None):\n",
    "    inclusion_criteria = search_criteria[\"inclusion_criteria\"]\n",
    "    exclusion_criteria = search_criteria[\"exclusion_criteria\"]\n",
    "    df = data.copy()\n",
    "\n",
    "    if sample_size:\n",
    "        df = df.sample(sample_size)\n",
    "\n",
    "    # Split the DataFrame into sub-DataFrames of size 1000 or less\n",
    "    sub_dfs = split_dataframe(df, 1000)\n",
    "\n",
    "    results = []\n",
    "    total_cost = 0\n",
    "\n",
    "    for n, sub_df in enumerate(sub_dfs):\n",
    "        updated_sub_df, sub_cost = await process_sub_df(sub_df, inclusion_criteria, exclusion_criteria)\n",
    "        results.append(updated_sub_df)\n",
    "        total_cost += sub_cost\n",
    "        if n < len(sub_dfs) - 1:\n",
    "            print(f\"\\n====== Finished reviewing ({(n + 1) * 1000}/{len(df)}) ======\\n\")\n",
    "            print(f\"\\nTotal cost: {total_cost}\")\n",
    "            print(\"-\" * 50)\n",
    "            time.sleep(60)  # Wait for 1 minute between processing each sub-DataFrame\n",
    "\n",
    "    # Concatenate all the updated sub-DataFrames into a unified DataFrame\n",
    "    unified_df = pd.concat(results)\n",
    "\n",
    "    # Save the results\n",
    "    unified_df.to_csv(f\"custom_data/{search_criteria['name']}_reviewed.csv\")\n",
    "\n",
    "    # Print the costs\n",
    "    print(f\"\\n====== Finished reviewing {search_criteria['name']} ======\\n\")\n",
    "    print(f\"\\nTotal cost: {total_cost}\")\n",
    "    print(\"-\" * 100)\n",
    "\n",
    "    return unified_df, total_cost"
   ]
  },
  {
   "cell_type": "code",
   "execution_count": 50,
   "metadata": {},
   "outputs": [
    {
     "name": "stdout",
     "output_type": "stream",
     "text": [
      "\n",
      "====== Starting review round A (1/2) ======\n",
      "\n",
      "Processing 978 eligible rows\n"
     ]
    },
    {
     "name": "stderr",
     "output_type": "stream",
     "text": [
      "['round: A', 'reviewer_name: Agent1'] -                     2025-01-04 18:59:26: 100%|██████████| 978/978 [00:18<00:00, 53.26it/s]\n"
     ]
    },
    {
     "name": "stdout",
     "output_type": "stream",
     "text": [
      "The following columns are present in the dataframe at the end of Agent1's reivew in round A: ['title', 'abstract', 'DOI', 'study_type', 'clinical_application', 'organ', 'modality', 'cardiovascular', 'task', 'deep_learning', 'external_validation', 'search1', 'search2', 'search3', 'round-A_Agent1_output', 'round-A_Agent1_reasoning', 'round-A_Agent1_evaluation']\n"
     ]
    },
    {
     "name": "stderr",
     "output_type": "stream",
     "text": [
      "['round: A', 'reviewer_name: Agent2'] -                     2025-01-04 18:59:44: 100%|██████████| 978/978 [00:33<00:00, 28.93it/s]\n"
     ]
    },
    {
     "name": "stdout",
     "output_type": "stream",
     "text": [
      "The following columns are present in the dataframe at the end of Agent2's reivew in round A: ['title', 'abstract', 'DOI', 'study_type', 'clinical_application', 'organ', 'modality', 'cardiovascular', 'task', 'deep_learning', 'external_validation', 'search1', 'search2', 'search3', 'round-A_Agent1_output', 'round-A_Agent1_reasoning', 'round-A_Agent1_evaluation', 'round-A_Agent2_output', 'round-A_Agent2_reasoning', 'round-A_Agent2_evaluation']\n",
      "\n",
      "====== Starting review round B (2/2) ======\n",
      "\n",
      "Processing 40 eligible rows\n"
     ]
    },
    {
     "name": "stderr",
     "output_type": "stream",
     "text": [
      "['round: B', 'reviewer_name: Agent3'] -                     2025-01-04 19:00:18: 100%|██████████| 40/40 [00:10<00:00,  3.78it/s]"
     ]
    },
    {
     "name": "stdout",
     "output_type": "stream",
     "text": [
      "The following columns are present in the dataframe at the end of Agent3's reivew in round B: ['title', 'abstract', 'DOI', 'study_type', 'clinical_application', 'organ', 'modality', 'cardiovascular', 'task', 'deep_learning', 'external_validation', 'search1', 'search2', 'search3', 'round-A_Agent1_output', 'round-A_Agent1_reasoning', 'round-A_Agent1_evaluation', 'round-A_Agent2_output', 'round-A_Agent2_reasoning', 'round-A_Agent2_evaluation', 'round-B_Agent3_output', 'round-B_Agent3_reasoning', 'round-B_Agent3_evaluation']\n",
      "\n",
      "====== Finished reviewing search1 ======\n",
      "\n",
      "\n",
      "Total cost: 0.0032003500000000002\n",
      "----------------------------------------------------------------------------------------------------\n"
     ]
    },
    {
     "name": "stderr",
     "output_type": "stream",
     "text": [
      "\n"
     ]
    }
   ],
   "source": [
    "# Run for search1\n",
    "search1_df, search1_cost = asyncio.run(review(search_criteria_1))"
   ]
  },
  {
   "cell_type": "code",
   "execution_count": 42,
   "metadata": {},
   "outputs": [
    {
     "name": "stdout",
     "output_type": "stream",
     "text": [
      "\n",
      "====== Starting review round A (1/2) ======\n",
      "\n",
      "Processing 978 eligible rows\n"
     ]
    },
    {
     "name": "stderr",
     "output_type": "stream",
     "text": [
      "['round: A', 'reviewer_name: Agent1'] -                     2025-01-04 18:57:44: 100%|██████████| 978/978 [00:19<00:00, 50.54it/s]\n"
     ]
    },
    {
     "name": "stdout",
     "output_type": "stream",
     "text": [
      "The following columns are present in the dataframe at the end of Agent1's reivew in round A: ['title', 'abstract', 'DOI', 'study_type', 'clinical_application', 'organ', 'modality', 'cardiovascular', 'task', 'deep_learning', 'external_validation', 'search1', 'search2', 'search3', 'round-A_Agent1_output', 'round-A_Agent1_reasoning', 'round-A_Agent1_evaluation']\n"
     ]
    },
    {
     "name": "stderr",
     "output_type": "stream",
     "text": [
      "['round: A', 'reviewer_name: Agent2'] -                     2025-01-04 18:58:03: 100%|██████████| 978/978 [00:34<00:00, 28.73it/s]\n"
     ]
    },
    {
     "name": "stdout",
     "output_type": "stream",
     "text": [
      "The following columns are present in the dataframe at the end of Agent2's reivew in round A: ['title', 'abstract', 'DOI', 'study_type', 'clinical_application', 'organ', 'modality', 'cardiovascular', 'task', 'deep_learning', 'external_validation', 'search1', 'search2', 'search3', 'round-A_Agent1_output', 'round-A_Agent1_reasoning', 'round-A_Agent1_evaluation', 'round-A_Agent2_output', 'round-A_Agent2_reasoning', 'round-A_Agent2_evaluation']\n",
      "\n",
      "====== Starting review round B (2/2) ======\n",
      "\n",
      "Processing 84 eligible rows\n"
     ]
    },
    {
     "name": "stderr",
     "output_type": "stream",
     "text": [
      "['round: B', 'reviewer_name: Agent3'] -                     2025-01-04 18:58:37: 100%|██████████| 84/84 [00:06<00:00, 12.17it/s]"
     ]
    },
    {
     "name": "stdout",
     "output_type": "stream",
     "text": [
      "The following columns are present in the dataframe at the end of Agent3's reivew in round B: ['title', 'abstract', 'DOI', 'study_type', 'clinical_application', 'organ', 'modality', 'cardiovascular', 'task', 'deep_learning', 'external_validation', 'search1', 'search2', 'search3', 'round-A_Agent1_output', 'round-A_Agent1_reasoning', 'round-A_Agent1_evaluation', 'round-A_Agent2_output', 'round-A_Agent2_reasoning', 'round-A_Agent2_evaluation', 'round-B_Agent3_output', 'round-B_Agent3_reasoning', 'round-B_Agent3_evaluation']\n",
      "\n",
      "====== Finished reviewing search2 ======\n",
      "\n",
      "\n",
      "Total cost: 0.00300465\n",
      "----------------------------------------------------------------------------------------------------\n"
     ]
    },
    {
     "name": "stderr",
     "output_type": "stream",
     "text": [
      "\n"
     ]
    }
   ],
   "source": [
    "# Run for search2\n",
    "search2_df, search2_cost = asyncio.run(review(search_criteria_2))"
   ]
  },
  {
   "cell_type": "code",
   "execution_count": 38,
   "metadata": {},
   "outputs": [
    {
     "name": "stdout",
     "output_type": "stream",
     "text": [
      "\n",
      "====== Starting review round A (1/2) ======\n",
      "\n",
      "Processing 978 eligible rows\n"
     ]
    },
    {
     "name": "stderr",
     "output_type": "stream",
     "text": [
      "['round: A', 'reviewer_name: Agent1'] -                     2025-01-04 18:56:13: 100%|██████████| 978/978 [00:20<00:00, 47.96it/s]\n"
     ]
    },
    {
     "name": "stdout",
     "output_type": "stream",
     "text": [
      "The following columns are present in the dataframe at the end of Agent1's reivew in round A: ['title', 'abstract', 'DOI', 'study_type', 'clinical_application', 'organ', 'modality', 'cardiovascular', 'task', 'deep_learning', 'external_validation', 'search1', 'search2', 'search3', 'round-A_Agent1_output', 'round-A_Agent1_reasoning', 'round-A_Agent1_evaluation']\n"
     ]
    },
    {
     "name": "stderr",
     "output_type": "stream",
     "text": [
      "['round: A', 'reviewer_name: Agent2'] -                     2025-01-04 18:56:33: 100%|██████████| 978/978 [00:38<00:00, 25.59it/s]\n"
     ]
    },
    {
     "name": "stdout",
     "output_type": "stream",
     "text": [
      "The following columns are present in the dataframe at the end of Agent2's reivew in round A: ['title', 'abstract', 'DOI', 'study_type', 'clinical_application', 'organ', 'modality', 'cardiovascular', 'task', 'deep_learning', 'external_validation', 'search1', 'search2', 'search3', 'round-A_Agent1_output', 'round-A_Agent1_reasoning', 'round-A_Agent1_evaluation', 'round-A_Agent2_output', 'round-A_Agent2_reasoning', 'round-A_Agent2_evaluation']\n",
      "\n",
      "====== Starting review round B (2/2) ======\n",
      "\n",
      "Processing 171 eligible rows\n"
     ]
    },
    {
     "name": "stderr",
     "output_type": "stream",
     "text": [
      "['round: B', 'reviewer_name: Agent3'] -                     2025-01-04 18:57:12: 100%|██████████| 171/171 [00:11<00:00, 15.15it/s]"
     ]
    },
    {
     "name": "stdout",
     "output_type": "stream",
     "text": [
      "The following columns are present in the dataframe at the end of Agent3's reivew in round B: ['title', 'abstract', 'DOI', 'study_type', 'clinical_application', 'organ', 'modality', 'cardiovascular', 'task', 'deep_learning', 'external_validation', 'search1', 'search2', 'search3', 'round-A_Agent1_output', 'round-A_Agent1_reasoning', 'round-A_Agent1_evaluation', 'round-A_Agent2_output', 'round-A_Agent2_reasoning', 'round-A_Agent2_evaluation', 'round-B_Agent3_output', 'round-B_Agent3_reasoning', 'round-B_Agent3_evaluation']\n",
      "\n",
      "====== Finished reviewing search3 ======\n",
      "\n",
      "\n",
      "Total cost: 0.002986075\n",
      "----------------------------------------------------------------------------------------------------\n"
     ]
    },
    {
     "name": "stderr",
     "output_type": "stream",
     "text": [
      "\n"
     ]
    }
   ],
   "source": [
    "# Run for search3\n",
    "search3_df, search3_cost = asyncio.run(review(search_criteria_3))"
   ]
  },
  {
   "cell_type": "markdown",
   "metadata": {},
   "source": [
    "## Statistics"
   ]
  },
  {
   "cell_type": "markdown",
   "metadata": {},
   "source": [
    "Finally, it's time to calculate some statistical metrics to report the performance of the review workflow on different datasets.\n",
    "As a `TitleAbstractReviewer` returns a score between 1 to 5, we can set different thresholds for inclusion of articles, and therefore report the workflow performance in three different sensetive, specific, and balanced modes."
   ]
  },
  {
   "cell_type": "code",
   "execution_count": 4,
   "metadata": {},
   "outputs": [
    {
     "name": "stdout",
     "output_type": "stream",
     "text": [
      "Review: search3 - predicted value (count)\n",
      "[(1.0, 115), (1.5, 198), (2.0, 329), (3.0, 11), (4.0, 4), (4.5, 240), (5.0, 81)]\n",
      "Review: search2 - predicted value (count)\n",
      "[(1.0, 80), (1.5, 205), (2.0, 230), (3.0, 7), (4.0, 3), (4.5, 160), (5.0, 293)]\n",
      "Review: search1 - predicted value (count)\n",
      "[(1.0, 273), (1.5, 34), (2.0, 10), (3.0, 12), (4.5, 262), (5.0, 387)]\n"
     ]
    }
   ],
   "source": [
    "def get_score(row):\n",
    "    if \"round-B_Agent3_output\" in row and not pd.isna(row[\"round-B_Agent3_evaluation\"]):\n",
    "        return int(row[\"round-B_Agent3_evaluation\"])\n",
    "    score1 = int(row[\"round-A_Agent1_evaluation\"])\n",
    "    score2 = int(row[\"round-A_Agent2_evaluation\"])\n",
    "    return (score1 + score2)/2\n",
    "    \n",
    "raw_data = dict()\n",
    "\n",
    "all_csv_files = glob.glob(\"custom_data/*_reviewed.csv\")\n",
    "all_csv_files = [x for x in all_csv_files if \"search\" in x]\n",
    "for csv_file in all_csv_files:\n",
    "    df = pd.read_csv(csv_file)\n",
    "    review_name = csv_file.split(\"/\")[-1].split(\"_reviewed.csv\")[0]\n",
    "    labels = df[review_name].apply(lambda x: int(x)).tolist()\n",
    "    scores = df.apply(get_score, axis=1).tolist()\n",
    "    raw_data[review_name] = (labels, scores)\n",
    "\n",
    "raw_data.keys()\n",
    "for key in raw_data:\n",
    "    unique_values, counts = np.unique(raw_data[key][1], return_counts=True)\n",
    "    print(f\"Review: {key} - predicted value (count)\")\n",
    "    print([(float(unique_values[i]), int(counts[i])) for i in range(len(unique_values))])\n"
   ]
  },
  {
   "cell_type": "code",
   "execution_count": 5,
   "metadata": {},
   "outputs": [
    {
     "data": {
      "text/html": [
       "<div>\n",
       "<style scoped>\n",
       "    .dataframe tbody tr th:only-of-type {\n",
       "        vertical-align: middle;\n",
       "    }\n",
       "\n",
       "    .dataframe tbody tr th {\n",
       "        vertical-align: top;\n",
       "    }\n",
       "\n",
       "    .dataframe thead th {\n",
       "        text-align: right;\n",
       "    }\n",
       "</style>\n",
       "<table border=\"1\" class=\"dataframe\">\n",
       "  <thead>\n",
       "    <tr style=\"text-align: right;\">\n",
       "      <th></th>\n",
       "      <th>Dataset</th>\n",
       "      <th>Number of Articles</th>\n",
       "      <th>% Relevant</th>\n",
       "      <th>% Predicted (Sensitive)</th>\n",
       "      <th>Accuracy (Sensitive)</th>\n",
       "      <th>Precision (Sensitive)</th>\n",
       "      <th>Recall (Sensitive)</th>\n",
       "      <th>% Predicted (Specific)</th>\n",
       "      <th>Accuracy (Specific)</th>\n",
       "      <th>Precision (Specific)</th>\n",
       "      <th>Recall (Specific)</th>\n",
       "      <th>% Predicted (Balanced)</th>\n",
       "      <th>Accuracy (Balanced)</th>\n",
       "      <th>Precision (Balanced)</th>\n",
       "      <th>Recall (Balanced)</th>\n",
       "      <th>AUC</th>\n",
       "    </tr>\n",
       "  </thead>\n",
       "  <tbody>\n",
       "    <tr>\n",
       "      <th>0</th>\n",
       "      <td>search3</td>\n",
       "      <td>978</td>\n",
       "      <td>5.62</td>\n",
       "      <td>88.24</td>\n",
       "      <td>0.17</td>\n",
       "      <td>0.06</td>\n",
       "      <td>0.96</td>\n",
       "      <td>32.82</td>\n",
       "      <td>0.70</td>\n",
       "      <td>0.13</td>\n",
       "      <td>0.78</td>\n",
       "      <td>34.36</td>\n",
       "      <td>0.69</td>\n",
       "      <td>0.13</td>\n",
       "      <td>0.78</td>\n",
       "      <td>0.79</td>\n",
       "    </tr>\n",
       "    <tr>\n",
       "      <th>1</th>\n",
       "      <td>search2</td>\n",
       "      <td>978</td>\n",
       "      <td>37.53</td>\n",
       "      <td>91.82</td>\n",
       "      <td>0.45</td>\n",
       "      <td>0.40</td>\n",
       "      <td>0.99</td>\n",
       "      <td>46.32</td>\n",
       "      <td>0.78</td>\n",
       "      <td>0.67</td>\n",
       "      <td>0.83</td>\n",
       "      <td>47.34</td>\n",
       "      <td>0.78</td>\n",
       "      <td>0.66</td>\n",
       "      <td>0.84</td>\n",
       "      <td>0.82</td>\n",
       "    </tr>\n",
       "    <tr>\n",
       "      <th>2</th>\n",
       "      <td>search1</td>\n",
       "      <td>978</td>\n",
       "      <td>71.27</td>\n",
       "      <td>72.09</td>\n",
       "      <td>0.91</td>\n",
       "      <td>0.93</td>\n",
       "      <td>0.94</td>\n",
       "      <td>66.36</td>\n",
       "      <td>0.91</td>\n",
       "      <td>0.97</td>\n",
       "      <td>0.90</td>\n",
       "      <td>67.59</td>\n",
       "      <td>0.92</td>\n",
       "      <td>0.97</td>\n",
       "      <td>0.92</td>\n",
       "      <td>0.94</td>\n",
       "    </tr>\n",
       "  </tbody>\n",
       "</table>\n",
       "</div>"
      ],
      "text/plain": [
       "   Dataset  Number of Articles  % Relevant  % Predicted (Sensitive)  \\\n",
       "0  search3                 978        5.62                    88.24   \n",
       "1  search2                 978       37.53                    91.82   \n",
       "2  search1                 978       71.27                    72.09   \n",
       "\n",
       "   Accuracy (Sensitive)  Precision (Sensitive)  Recall (Sensitive)  \\\n",
       "0                  0.17                   0.06                0.96   \n",
       "1                  0.45                   0.40                0.99   \n",
       "2                  0.91                   0.93                0.94   \n",
       "\n",
       "   % Predicted (Specific)  Accuracy (Specific)  Precision (Specific)  \\\n",
       "0                   32.82                 0.70                  0.13   \n",
       "1                   46.32                 0.78                  0.67   \n",
       "2                   66.36                 0.91                  0.97   \n",
       "\n",
       "   Recall (Specific)  % Predicted (Balanced)  Accuracy (Balanced)  \\\n",
       "0               0.78                   34.36                 0.69   \n",
       "1               0.83                   47.34                 0.78   \n",
       "2               0.90                   67.59                 0.92   \n",
       "\n",
       "   Precision (Balanced)  Recall (Balanced)   AUC  \n",
       "0                  0.13               0.78  0.79  \n",
       "1                  0.66               0.84  0.82  \n",
       "2                  0.97               0.92  0.94  "
      ]
     },
     "execution_count": 5,
     "metadata": {},
     "output_type": "execute_result"
    }
   ],
   "source": [
    "def evaluate_metrics(ground_truth, predictions, threshold_sensitive, threshold_specific, threshold_balanced):\n",
    "    def classify(pred, threshold):\n",
    "        return [1 if p >= threshold else 0 for p in pred]\n",
    "\n",
    "    # Assert all ground truth values are either 0 or 1\n",
    "    assert all([g in [0, 1] for g in ground_truth])\n",
    "\n",
    "    num_articles = len(ground_truth)\n",
    "    percentage_relevant = sum(ground_truth) / len(ground_truth) * 100\n",
    "\n",
    "    thresholds = [threshold_sensitive, threshold_specific, threshold_balanced]\n",
    "    metrics = {}\n",
    "    for label, threshold in zip(['sensitive', 'specific', 'balanced'], thresholds):\n",
    "        percentage_predicted = len([p for p in predictions if p >= threshold]) / len(predictions) * 100\n",
    "        pred = classify(predictions, threshold)\n",
    "\n",
    "        tn, fp, fn, tp = confusion_matrix(ground_truth, pred, labels=[0, 1]).ravel()\n",
    "        metrics[f'accuracy_{label}'] = accuracy_score(ground_truth, pred)\n",
    "        metrics[f'precision_{label}'] = precision_score(ground_truth, pred, zero_division=0)\n",
    "        metrics[f'recall_{label}'] = recall_score(ground_truth, pred, zero_division=0)\n",
    "        metrics[f'specificity_{label}'] = tn / (tn + fp) if (tn + fp) > 0 else 0\n",
    "        metrics[f'percentage_predicted_{label}'] = percentage_predicted\n",
    "\n",
    "    # Check for valid AUC calculation\n",
    "    metrics['auc'] = roc_auc_score(ground_truth, predictions) if len(set(ground_truth)) > 1 else float('nan')\n",
    "\n",
    "    return {\n",
    "        'num_articles': num_articles,\n",
    "        'percentage_relevant': percentage_relevant,\n",
    "        **metrics\n",
    "    }\n",
    "\n",
    "# Updated thresholds\n",
    "threshold_sensitive = 1.5 # Score >= 1.5\n",
    "threshold_balanced = 3  # Score > 3.0\n",
    "threshold_specific = 4.5  # Score >= 4.5\n",
    "\n",
    "# Collect data for plotting\n",
    "roc_curves = {}\n",
    "sensitivity_specificity_points = []\n",
    "rows = []\n",
    "colors = cm.tab10.colors  # Use distinct colors for each dataset\n",
    "\n",
    "for i, (dataset_name, (ground_truth, predictions)) in enumerate(raw_data.items()):\n",
    "    metrics = evaluate_metrics(ground_truth, predictions, threshold_sensitive, threshold_specific, threshold_balanced)\n",
    "    sensitivity_specificity_points.append((\n",
    "        dataset_name, \n",
    "        metrics['recall_sensitive'], metrics['specificity_sensitive'], \n",
    "        metrics['recall_specific'], metrics['specificity_specific'], \n",
    "        metrics['recall_balanced'], metrics['specificity_balanced'], \n",
    "        colors[i % len(colors)]\n",
    "    ))\n",
    "\n",
    "    if len(set(ground_truth)) > 1:\n",
    "        fpr, tpr, _ = roc_curve(ground_truth, predictions)\n",
    "        roc_curves[dataset_name] = (fpr, tpr, colors[i % len(colors)])\n",
    "\n",
    "    rows.append({\n",
    "        'Dataset': dataset_name,\n",
    "        'Number of Articles': metrics['num_articles'],\n",
    "        '% Relevant': metrics['percentage_relevant'],\n",
    "        '% Predicted (Sensitive)': metrics['percentage_predicted_sensitive'],\n",
    "        'Accuracy (Sensitive)': metrics['accuracy_sensitive'],\n",
    "        'Precision (Sensitive)': metrics['precision_sensitive'],\n",
    "        'Recall (Sensitive)': metrics['recall_sensitive'],\n",
    "        '% Predicted (Specific)': metrics['percentage_predicted_specific'],\n",
    "        'Accuracy (Specific)': metrics['accuracy_specific'],\n",
    "        'Precision (Specific)': metrics['precision_specific'],\n",
    "        'Recall (Specific)': metrics['recall_specific'],\n",
    "        '% Predicted (Balanced)': metrics['percentage_predicted_balanced'],\n",
    "        'Accuracy (Balanced)': metrics['accuracy_balanced'],\n",
    "        'Precision (Balanced)': metrics['precision_balanced'],\n",
    "        'Recall (Balanced)': metrics['recall_balanced'],\n",
    "        'AUC': metrics['auc']\n",
    "    })\n",
    "\n",
    "# Create a DataFrame for the results\n",
    "output_df = pd.DataFrame(rows)\n",
    "output_df = output_df.round(2)\n",
    "\n",
    "# Display the DataFrame\n",
    "output_df"
   ]
  },
  {
   "cell_type": "code",
   "execution_count": 6,
   "metadata": {},
   "outputs": [
    {
     "data": {
      "text/plain": [
       "{'Dataset': {0: 'search3', 1: 'search2', 2: 'search1'},\n",
       " 'Number of Articles': {0: 978, 1: 978, 2: 978},\n",
       " '% Relevant': {0: 5.62, 1: 37.53, 2: 71.27},\n",
       " '% Predicted (Sensitive)': {0: 88.24, 1: 91.82, 2: 72.09},\n",
       " 'Accuracy (Sensitive)': {0: 0.17, 1: 0.45, 2: 0.91},\n",
       " 'Precision (Sensitive)': {0: 0.06, 1: 0.4, 2: 0.93},\n",
       " 'Recall (Sensitive)': {0: 0.96, 1: 0.99, 2: 0.94},\n",
       " '% Predicted (Specific)': {0: 32.82, 1: 46.32, 2: 66.36},\n",
       " 'Accuracy (Specific)': {0: 0.7, 1: 0.78, 2: 0.91},\n",
       " 'Precision (Specific)': {0: 0.13, 1: 0.67, 2: 0.97},\n",
       " 'Recall (Specific)': {0: 0.78, 1: 0.83, 2: 0.9},\n",
       " '% Predicted (Balanced)': {0: 34.36, 1: 47.34, 2: 67.59},\n",
       " 'Accuracy (Balanced)': {0: 0.69, 1: 0.78, 2: 0.92},\n",
       " 'Precision (Balanced)': {0: 0.13, 1: 0.66, 2: 0.97},\n",
       " 'Recall (Balanced)': {0: 0.78, 1: 0.84, 2: 0.92},\n",
       " 'AUC': {0: 0.79, 1: 0.82, 2: 0.94}}"
      ]
     },
     "execution_count": 6,
     "metadata": {},
     "output_type": "execute_result"
    }
   ],
   "source": [
    "output_df.to_dict()"
   ]
  },
  {
   "cell_type": "markdown",
   "metadata": {},
   "source": [
    "We can also plot the performance in all three modes. Obviously, the ROC curves are threshold-agnostic and we will have one single curve for each datasets."
   ]
  },
  {
   "cell_type": "code",
   "execution_count": 27,
   "metadata": {},
   "outputs": [
    {
     "data": {
      "image/png": "[encoded data removed]",
      "text/plain": [
       "<Figure size 1500x700 with 2 Axes>"
      ]
     },
     "metadata": {},
     "output_type": "display_data"
    }
   ],
   "source": [
    "# Plotting\n",
    "fig, axes = plt.subplots(1, 2, figsize=(15, 7))\n",
    "\n",
    "# Plot 1: ROC Curve\n",
    "axes[0].plot([0, 1], [0, 1], linestyle='--', color='gray', label='Chance')\n",
    "for dataset_name, (fpr, tpr, color) in roc_curves.items():\n",
    "    axes[0].plot(fpr, tpr, label=dataset_name, color=color)\n",
    "axes[0].set_title(\"ROC Curve\")\n",
    "axes[0].set_xlabel(\"False Positive Rate\")\n",
    "axes[0].set_ylabel(\"True Positive Rate\")\n",
    "axes[0].legend(title=\"Studies\", loc='lower right')  # Show studies' color codes in the ROC plot legend\n",
    "\n",
    "# Add horizontal and vertical grid lines\n",
    "axes[0].grid(True, which='both', linestyle='--', linewidth=0.5, color='gray')\n",
    "\n",
    "# Plot 2: Sensitivity vs Specificity\n",
    "for dataset_name, sens_sen, spec_sen, sens_spec, spec_spec, sens_bal, spec_bal, color in sensitivity_specificity_points:\n",
    "    axes[1].scatter(sens_sen, spec_sen, marker='o', color=color)\n",
    "    axes[1].scatter(sens_spec, spec_spec, marker='^', color=color)\n",
    "    axes[1].scatter(sens_bal, spec_bal, marker='s', color=color)\n",
    "axes[1].set_title(\"Sensitivity vs Specificity\")\n",
    "axes[1].set_xlabel(\"Sensitivity\")\n",
    "axes[1].set_ylabel(\"Specificity\")\n",
    "axes[1].set_xlim(0, 1)\n",
    "axes[1].set_ylim(0, 1)\n",
    "axes[1].set_xticks([i * 0.1 for i in range(11)])\n",
    "axes[1].set_yticks([i * 0.1 for i in range(11)])\n",
    "\n",
    "# Add horizontal and vertical grid lines\n",
    "axes[1].grid(True, which='both', linestyle='--', linewidth=0.5, color='gray')\n",
    "\n",
    "# Create combined legend entries\n",
    "legend_elements = [\n",
    "    Line2D([], [], marker='o', color='black', linestyle='', label='Sensitive'),\n",
    "    Line2D([], [], marker='^', color='black', linestyle='', label='Specific'),\n",
    "    Line2D([], [], marker='s', color='black', linestyle='', label='Balanced'),\n",
    "]\n",
    "\n",
    "# Add dataset-specific colors to the legend\n",
    "for dataset_name, *_ , color in sensitivity_specificity_points:\n",
    "    legend_elements.append(\n",
    "        Line2D([], [], marker='o', color=color, linestyle='', label=dataset_name)\n",
    "    )\n",
    "\n",
    "# Add the combined legend\n",
    "axes[1].legend(\n",
    "    handles=legend_elements,\n",
    "    title=\"Metric Types & Studies\",\n",
    "    loc='lower left'\n",
    ")\n",
    "\n",
    "plt.tight_layout()\n",
    "plt.show()\n"
   ]
  }
 ],
 "metadata": {
  "kernelspec": {
   "display_name": "venv",
   "language": "python",
   "name": "python3"
  },
  "language_info": {
   "codemirror_mode": {
    "name": "ipython",
    "version": 3
   },
   "file_extension": ".py",
   "mimetype": "text/x-python",
   "name": "python",
   "nbconvert_exporter": "python",
   "pygments_lexer": "ipython3",
   "version": "3.9.6"
  }
 },
 "nbformat": 4,
 "nbformat_minor": 4
}
