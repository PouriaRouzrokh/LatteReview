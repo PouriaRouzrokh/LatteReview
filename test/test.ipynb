{
 "cells": [
  {
   "cell_type": "code",
   "execution_count": 37,
   "metadata": {},
   "outputs": [],
   "source": [
    "%reload_ext autoreload\n",
    "%autoreload 2\n",
    "\n",
    "import asyncio\n",
    "import json\n",
    "import nest_asyncio\n",
    "import os\n",
    "import sys\n",
    "from dotenv import load_dotenv\n",
    "import numpy as np\n",
    "import pandas as pd\n",
    "\n",
    "sys.path.append('../')\n",
    "from lattereview.providers.openai_provider import OpenAIProvider\n",
    "from lattereview.providers.ollama_provider import OllamaProvider\n",
    "from lattereview.agents.scoring_reviewer import ScoringReviewer\n",
    "from lattereview.review_workflow import ReviewWorkflow"
   ]
  },
  {
   "cell_type": "markdown",
   "metadata": {},
   "source": [
    "## Setting up the notebook"
   ]
  },
  {
   "cell_type": "markdown",
   "metadata": {},
   "source": [
    "Loading environment variables:"
   ]
  },
  {
   "cell_type": "code",
   "execution_count": 38,
   "metadata": {},
   "outputs": [
    {
     "name": "stdout",
     "output_type": "stream",
     "text": [
      "sk-cq_M0pNgHhCFnlDOCMnagYA1l2X7Yea5CL0ci5pZMNT3BlbkFJ0m0x9wm5M_EstX5SjLu_kdwGMDYjkUdviNPs4pe9cA\n"
     ]
    }
   ],
   "source": [
    "# Load environment variables from .env file\n",
    "load_dotenv('../.env')\n",
    "print(os.getenv('OPENAI_API_KEY'))\n",
    "\n",
    "# Enable asyncio in Jupyter\n",
    "nest_asyncio.apply()"
   ]
  },
  {
   "cell_type": "markdown",
   "metadata": {},
   "source": [
    "Loading a dummy dataset:"
   ]
  },
  {
   "cell_type": "code",
   "execution_count": 3,
   "metadata": {},
   "outputs": [
    {
     "data": {
      "text/html": [
       "<div>\n",
       "<style scoped>\n",
       "    .dataframe tbody tr th:only-of-type {\n",
       "        vertical-align: middle;\n",
       "    }\n",
       "\n",
       "    .dataframe tbody tr th {\n",
       "        vertical-align: top;\n",
       "    }\n",
       "\n",
       "    .dataframe thead th {\n",
       "        text-align: right;\n",
       "    }\n",
       "</style>\n",
       "<table border=\"1\" class=\"dataframe\">\n",
       "  <thead>\n",
       "    <tr style=\"text-align: right;\">\n",
       "      <th></th>\n",
       "      <th>ID</th>\n",
       "      <th>Title</th>\n",
       "      <th>1st author</th>\n",
       "      <th>repo</th>\n",
       "      <th>year</th>\n",
       "      <th>abstract</th>\n",
       "    </tr>\n",
       "  </thead>\n",
       "  <tbody>\n",
       "    <tr>\n",
       "      <th>0</th>\n",
       "      <td>1</td>\n",
       "      <td>Segmentized quarantine policy for managing a t...</td>\n",
       "      <td>Kim, J.</td>\n",
       "      <td>arXiv</td>\n",
       "      <td>2024</td>\n",
       "      <td>By the end of 2021, COVID-19 had spread to ove...</td>\n",
       "    </tr>\n",
       "    <tr>\n",
       "      <th>1</th>\n",
       "      <td>2</td>\n",
       "      <td>AutoProteinEngine: A Large Language Model Driv...</td>\n",
       "      <td>Liu, Y.</td>\n",
       "      <td>arXiv</td>\n",
       "      <td>2024</td>\n",
       "      <td>Protein engineering is important for biomedica...</td>\n",
       "    </tr>\n",
       "    <tr>\n",
       "      <th>2</th>\n",
       "      <td>3</td>\n",
       "      <td>Integration of Large Vision Language Models fo...</td>\n",
       "      <td>Chen, Z.</td>\n",
       "      <td>arXiv</td>\n",
       "      <td>2024</td>\n",
       "      <td>Traditional natural disaster response involves...</td>\n",
       "    </tr>\n",
       "    <tr>\n",
       "      <th>3</th>\n",
       "      <td>4</td>\n",
       "      <td>Choice between Partial Trajectories</td>\n",
       "      <td>Marklund, H.</td>\n",
       "      <td>arXiv</td>\n",
       "      <td>2024</td>\n",
       "      <td>As AI agents generate increasingly sophisticat...</td>\n",
       "    </tr>\n",
       "    <tr>\n",
       "      <th>4</th>\n",
       "      <td>5</td>\n",
       "      <td>Building Altruistic and Moral AI Agent with Br...</td>\n",
       "      <td>Zhao, F.</td>\n",
       "      <td>arXiv</td>\n",
       "      <td>2024</td>\n",
       "      <td>As AI closely interacts with human society, it...</td>\n",
       "    </tr>\n",
       "  </tbody>\n",
       "</table>\n",
       "</div>"
      ],
      "text/plain": [
       "   ID                                              Title    1st author   repo  \\\n",
       "0   1  Segmentized quarantine policy for managing a t...       Kim, J.  arXiv   \n",
       "1   2  AutoProteinEngine: A Large Language Model Driv...       Liu, Y.  arXiv   \n",
       "2   3  Integration of Large Vision Language Models fo...      Chen, Z.  arXiv   \n",
       "3   4                Choice between Partial Trajectories  Marklund, H.  arXiv   \n",
       "4   5  Building Altruistic and Moral AI Agent with Br...      Zhao, F.  arXiv   \n",
       "\n",
       "   year                                           abstract  \n",
       "0  2024  By the end of 2021, COVID-19 had spread to ove...  \n",
       "1  2024  Protein engineering is important for biomedica...  \n",
       "2  2024  Traditional natural disaster response involves...  \n",
       "3  2024  As AI agents generate increasingly sophisticat...  \n",
       "4  2024  As AI closely interacts with human society, it...  "
      ]
     },
     "execution_count": 3,
     "metadata": {},
     "output_type": "execute_result"
    }
   ],
   "source": [
    "data = pd.read_excel('data.xlsx')\n",
    "data.head()"
   ]
  },
  {
   "cell_type": "markdown",
   "metadata": {},
   "source": [
    "## Testing the base functionalities"
   ]
  },
  {
   "cell_type": "markdown",
   "metadata": {},
   "source": [
    "Testing the OpenAI provider:"
   ]
  },
  {
   "cell_type": "code",
   "execution_count": 16,
   "metadata": {},
   "outputs": [
    {
     "data": {
      "text/plain": [
       "('The capital of France is Paris.',\n",
       " {'input_cost': 1.05e-06, 'output_cost': 4.2e-06, 'total_cost': 5.25e-06})"
      ]
     },
     "execution_count": 16,
     "metadata": {},
     "output_type": "execute_result"
    }
   ],
   "source": [
    "openanai_provider = OpenAIProvider(model=\"gpt-4o-mini\")\n",
    "question = \"What is the capital of France?\"\n",
    "asyncio.run(openanai_provider.get_response(question, temperature=0.9))"
   ]
  },
  {
   "cell_type": "markdown",
   "metadata": {},
   "source": [
    "Testing the Ollama provider:"
   ]
  },
  {
   "cell_type": "code",
   "execution_count": 17,
   "metadata": {},
   "outputs": [
    {
     "data": {
      "text/plain": [
       "('The capital of France is Paris!',\n",
       " {'input_cost': 0, 'output_cost': 0, 'total_cost': 0})"
      ]
     },
     "execution_count": 17,
     "metadata": {},
     "output_type": "execute_result"
    }
   ],
   "source": [
    "ollama_provider = OllamaProvider(model=\"llama3.2-vision:latest\", host=\"http://localhost:11434\")\n",
    "question = \"What is the capital of France?\"\n",
    "asyncio.run(ollama_provider.get_response(question))"
   ]
  },
  {
   "cell_type": "markdown",
   "metadata": {},
   "source": [
    "Testing the ScoringReviewer agent:"
   ]
  },
  {
   "cell_type": "code",
   "execution_count": 41,
   "metadata": {},
   "outputs": [
    {
     "name": "stdout",
     "output_type": "stream",
     "text": [
      "Inputs:\n",
      "\n",
      " segmentized quarantine policy for managing a tradeoff between containment of infectious disease and social cost of quarantine\n",
      "autoproteinengine: a large language model driven agent framework for multimodal automl in protein engineering\n",
      "integration of large vision language models for efficient post-disaster damage assessment and reporting\n"
     ]
    },
    {
     "name": "stderr",
     "output_type": "stream",
     "text": [
      "Reviewing 3 items - 2024-12-14 14:14:18: 100%|██████████| 3/3 [00:01<00:00,  2.30it/s]"
     ]
    },
    {
     "name": "stdout",
     "output_type": "stream",
     "text": [
      "\n",
      "\n",
      " Outputs:\n",
      "{\"reasoning\":\"The paper presents a novel framework for automating protein engineering using a large language model, which aligns well with current trends in multimodal AI applications, thus meeting the criteria.\",\"score\":2}\n",
      "{\"reasoning\":\"The paper presents a clear framework for balancing public health needs with economic impacts, effectively addressing the tradeoff between disease containment and social costs, thus meeting the criteria.\",\"score\":2}\n",
      "{\"reasoning\":\"The integration of large vision language models for post-disaster damage assessment is a relevant and innovative approach that meets the criteria for effective reporting in disaster management.\",\"score\":2}\n",
      "\n",
      "Costs:\n",
      "\n",
      "{'input_cost': 1.98e-05, 'output_cost': 2.52e-05, 'total_cost': 4.5e-05}\n",
      "{'input_cost': 1.965e-05, 'output_cost': 2.4e-05, 'total_cost': 4.365e-05}\n",
      "{'input_cost': 1.905e-05, 'output_cost': 2.28e-05, 'total_cost': 4.185e-05}\n",
      "\n",
      "Total cost:\n",
      "\n",
      "4.185e-05\n"
     ]
    },
    {
     "name": "stderr",
     "output_type": "stream",
     "text": [
      "\n"
     ]
    }
   ],
   "source": [
    "agent = ScoringReviewer(\n",
    "    provider=OpenAIProvider(model=\"gpt-4o-mini\"),\n",
    "    # provider=OllamaProvider(model=\"llama3.2-vision:latest\", host=\"http://localhost:11434\"),\n",
    "    name=\"Pouria\",\n",
    "    backstory=\"an expert reviewer and researcher!\",\n",
    "    input_description = \"article title\",\n",
    "    temperature=0.1, # ineffective for ollama\n",
    "    reasoning = \"brief\",\n",
    "    max_tokens=100, # ineffective for ollama\n",
    "    review_criteria=\"Look for articles that certainly do not employ any AI or machine learning agents\",\n",
    "    score_set=[1, 2],\n",
    "    scoring_rules='Score 1 if the paper does not meet the criteria, and 2 if the paper meets the criteria.',\n",
    ")\n",
    "\n",
    "\n",
    "# Dummy input\n",
    "text_list = data.Title.str.lower().tolist()\n",
    "print(\"Inputs:\\n\\n\", '\\n'.join(text_list[:3]))\n",
    "\n",
    "# Dummy review\n",
    "results, total_cost = asyncio.run(agent.review_items(text_list[:3]))\n",
    "print(\"\\n\\n Outputs:\")\n",
    "for result in results:\n",
    "    print(result)\n",
    "\n",
    "# Dummy costs\n",
    "print(\"\\nCosts:\\n\")\n",
    "for item in agent.memory:\n",
    "    print(item['cost'])\n",
    "\n",
    "print(\"\\nTotal cost:\\n\")\n",
    "print(total_cost)"
   ]
  },
  {
   "cell_type": "markdown",
   "metadata": {},
   "source": [
    "## Testing the main Functionalities"
   ]
  },
  {
   "cell_type": "markdown",
   "metadata": {},
   "source": [
    "#### A multiagent review workflow for doing title/abstract analysis"
   ]
  },
  {
   "cell_type": "markdown",
   "metadata": {},
   "source": [
    "Setting up the agents:"
   ]
  },
  {
   "cell_type": "code",
   "execution_count": 42,
   "metadata": {},
   "outputs": [],
   "source": [
    "pouria = ScoringReviewer(\n",
    "    # provider=OpenAIProvider(model=\"gpt-4o-mini\"),\n",
    "    provider=OllamaProvider(model=\"llama3.2-vision:latest\", host=\"http://localhost:11434\"),\n",
    "    name=\"Pouria\",\n",
    "    backstory=\"a radiologist with many years of background in statistcis and data science, who are famous among your colleagues for your systematic thinking, organizaton of thoughts, and being conservative\",\n",
    "    input_description = \"tilte and abstract of scientific articles\",\n",
    "    temperature=0.1, # ineffective for ollama\n",
    "    reasoning = \"cot\",\n",
    "    max_tokens=100, # ineffective for ollama\n",
    "    scoring_task=\"Look for articles that disucss large languange models-based AI agents applied to medical imaging data\",\n",
    "    score_set=[1, 2],\n",
    "    scoring_rules='Score 1 if the paper meets the criteria, and 2 if the paper does not meet the criteria.',\n",
    ")\n",
    "\n",
    "bardia = ScoringReviewer(\n",
    "    provider=OpenAIProvider(model=\"gpt-4o-mini\"),\n",
    "    name=\"Bardia\",\n",
    "    backstory=\"an expert in data science with a background in developing ML models for healthcare, who are famous among your colleagues for your creativity and out of the box thinking\",\n",
    "    input_description = \"tilte and abstract of scientific articles\",\n",
    "    temperature=0.7,\n",
    "    reasoning = \"brief\",\n",
    "    max_tokens=100,\n",
    "    scoring_task=\"Look for articles that disucss large languange models-based AI agents applied to medical imaging data\",\n",
    "    score_set=[1, 2],\n",
    "    scoring_rules='Score 1 if the paper meets the criteria, and 2 if the paper does not meet the criteria.',\n",
    ")\n",
    "\n",
    "brad = ScoringReviewer(\n",
    "    provider=OpenAIProvider(model=\"gpt-4o\"),\n",
    "    name=\"Brad\",\n",
    "    backstory=\"a senior radiologist with a PhD in computer science and years of experience as the director of a DL lab focused on developing ML models for radiology and healthcare\",\n",
    "    input_description = \"tilte and abstract of scientific articles\",\n",
    "    temperature=0.4,\n",
    "    reasoning = \"cot\",\n",
    "    max_tokens=100,\n",
    "    scoring_task=\"\"\"Pouria and Bardia have Looked for articles that disucss large languange models-based AI agents applied to medical imaging data. \n",
    "                       They scored an article 1 if they thought it does not meet this criteria, 2 if they thought it meets the criteria, 0 if they were uncertain of scoring.\n",
    "                       You will receive an article they have had different opinions about, as well as each of their scores and their reasoning for that score. Read their reviews and determine who you agree with. \n",
    "                    \"\"\",\n",
    "    score_set=[1, 2],\n",
    "    scoring_rules=\"\"\"Score 1 if you agree with Pouria, and score 2 if you agree with Bardia.\"\"\",\n",
    ")\n"
   ]
  },
  {
   "cell_type": "markdown",
   "metadata": {},
   "source": [
    "Setting up the review workflow:"
   ]
  },
  {
   "cell_type": "code",
   "execution_count": 43,
   "metadata": {},
   "outputs": [],
   "source": [
    "title_abs_review = ReviewWorkflow(\n",
    "    workflow_schema=[\n",
    "        {\n",
    "            \"round\": 'A',\n",
    "            \"reviewers\": [pouria, bardia],\n",
    "            \"inputs\": [\"Title\", \"abstract\"]\n",
    "        },\n",
    "        {\n",
    "            \"round\": 'B',\n",
    "            \"reviewers\": [brad],\n",
    "            \"inputs\": [\"Title\", \"abstract\", \"round-A_Pouria_output\", \"round-A_Bardia_output\"],\n",
    "            \"filter\": lambda row: row[\"round-A_Pouria_output\"][\"score\"] != row[\"round-A_Bardia_output\"][\"score\"]\n",
    "        }\n",
    "    ]\n",
    ")"
   ]
  },
  {
   "cell_type": "markdown",
   "metadata": {},
   "source": [
    "Applying the review workflow to a number of sample articles:"
   ]
  },
  {
   "cell_type": "code",
   "execution_count": 44,
   "metadata": {},
   "outputs": [
    {
     "name": "stdout",
     "output_type": "stream",
     "text": [
      "\n",
      "Starting review round A (1/2)...\n",
      "Reviewers: ['Pouria', 'Bardia']\n",
      "Input data: ['Title', 'abstract']\n"
     ]
    },
    {
     "name": "stderr",
     "output_type": "stream",
     "text": [
      "                                                       \r"
     ]
    },
    {
     "name": "stdout",
     "output_type": "stream",
     "text": [
      "Number of eligible rows for review: 10\n"
     ]
    },
    {
     "name": "stderr",
     "output_type": "stream",
     "text": [
      "['round: A', 'reviewer_name: Pouria'] - 2024-12-14 15:16:44: 100%|██████████| 10/10 [01:43<00:00, 10.37s/it]\n",
      "['round: A', 'reviewer_name: Bardia'] - 2024-12-14 15:18:28: 100%|██████████| 10/10 [00:01<00:00,  6.08it/s]\n"
     ]
    },
    {
     "name": "stdout",
     "output_type": "stream",
     "text": [
      "\n",
      "Starting review round B (2/2)...\n",
      "Reviewers: ['Brad']\n",
      "Input data: ['Title', 'abstract', 'round-A_Pouria_output', 'round-A_Bardia_output']\n"
     ]
    },
    {
     "name": "stderr",
     "output_type": "stream",
     "text": [
      "                                                       \r"
     ]
    },
    {
     "name": "stdout",
     "output_type": "stream",
     "text": [
      "Number of eligible rows for review: 2\n"
     ]
    },
    {
     "name": "stderr",
     "output_type": "stream",
     "text": [
      "['round: B', 'reviewer_name: Brad'] - 2024-12-14 15:18:30: 100%|██████████| 2/2 [00:19<00:00,  9.66s/it]"
     ]
    },
    {
     "name": "stdout",
     "output_type": "stream",
     "text": [
      "Total cost: \n",
      "0.0041978\n",
      "\n",
      "Detailed cost:\n",
      "{('A', 'Pouria'): 0, ('A', 'Bardia'): 8.28e-05, ('B', 'Brad'): 0.004115}\n"
     ]
    },
    {
     "name": "stderr",
     "output_type": "stream",
     "text": [
      "\n"
     ]
    },
    {
     "data": {
      "text/html": [
       "<div>\n",
       "<style scoped>\n",
       "    .dataframe tbody tr th:only-of-type {\n",
       "        vertical-align: middle;\n",
       "    }\n",
       "\n",
       "    .dataframe tbody tr th {\n",
       "        vertical-align: top;\n",
       "    }\n",
       "\n",
       "    .dataframe thead th {\n",
       "        text-align: right;\n",
       "    }\n",
       "</style>\n",
       "<table border=\"1\" class=\"dataframe\">\n",
       "  <thead>\n",
       "    <tr style=\"text-align: right;\">\n",
       "      <th></th>\n",
       "      <th>ID</th>\n",
       "      <th>Title</th>\n",
       "      <th>1st author</th>\n",
       "      <th>repo</th>\n",
       "      <th>year</th>\n",
       "      <th>abstract</th>\n",
       "      <th>round-A_Pouria_output</th>\n",
       "      <th>round-A_Bardia_output</th>\n",
       "      <th>round-B_Brad_output</th>\n",
       "    </tr>\n",
       "  </thead>\n",
       "  <tbody>\n",
       "    <tr>\n",
       "      <th>0</th>\n",
       "      <td>539</td>\n",
       "      <td>Provably Efficient Cooperative Multi-Agent Rei...</td>\n",
       "      <td>Dubey, A.</td>\n",
       "      <td>arXiv</td>\n",
       "      <td>2021</td>\n",
       "      <td>Reinforcement learning in cooperative multi-ag...</td>\n",
       "      <td>{'properties': {'reasoning': {'title': 'Reason...</td>\n",
       "      <td>{'reasoning': 'The article discusses an LLM-ba...</td>\n",
       "      <td>{'reasoning': 'The article provided in the inp...</td>\n",
       "    </tr>\n",
       "    <tr>\n",
       "      <th>1</th>\n",
       "      <td>551</td>\n",
       "      <td>Challenging Social Media Threats using Collect...</td>\n",
       "      <td>Ognibene, D.</td>\n",
       "      <td>arXiv</td>\n",
       "      <td>2021</td>\n",
       "      <td>Social media have become an integral part of o...</td>\n",
       "      <td>{'properties': {'title': 'Reasoning', 'type': ...</td>\n",
       "      <td>{'reasoning': 'The article discusses the appli...</td>\n",
       "      <td>{'reasoning': 'The article provided in the inp...</td>\n",
       "    </tr>\n",
       "    <tr>\n",
       "      <th>2</th>\n",
       "      <td>113</td>\n",
       "      <td>A quantitative characterization of the heterog...</td>\n",
       "      <td>Dixit, P.</td>\n",
       "      <td>bioRxiv</td>\n",
       "      <td>2024</td>\n",
       "      <td>Most cancers are genetically and phenotypicall...</td>\n",
       "      <td>{'reasoning': 'The input item discusses social...</td>\n",
       "      <td>{'reasoning': 'The article discusses a generat...</td>\n",
       "      <td>NaN</td>\n",
       "    </tr>\n",
       "    <tr>\n",
       "      <th>3</th>\n",
       "      <td>87</td>\n",
       "      <td>Be More Real: Travel Diary Generation Using LL...</td>\n",
       "      <td>Li, X.</td>\n",
       "      <td>arXiv</td>\n",
       "      <td>2024</td>\n",
       "      <td>Human mobility is inextricably linked to socia...</td>\n",
       "      <td>{'reasoning': 'This article discusses reinforc...</td>\n",
       "      <td>{'reasoning': 'The paper discusses reinforceme...</td>\n",
       "      <td>NaN</td>\n",
       "    </tr>\n",
       "    <tr>\n",
       "      <th>4</th>\n",
       "      <td>689</td>\n",
       "      <td>Better guider predicts future better: Differen...</td>\n",
       "      <td>Ying, G.</td>\n",
       "      <td>arXiv</td>\n",
       "      <td>2019</td>\n",
       "      <td>Predicting the future is a fantasy but practic...</td>\n",
       "      <td>{'reasoning': 'The article discusses the appli...</td>\n",
       "      <td>{'reasoning': 'The article focuses on trust mo...</td>\n",
       "      <td>NaN</td>\n",
       "    </tr>\n",
       "    <tr>\n",
       "      <th>5</th>\n",
       "      <td>626</td>\n",
       "      <td>Self punishment and reward backfill for deep Q...</td>\n",
       "      <td>Bonyadi, M.R.</td>\n",
       "      <td>arXiv</td>\n",
       "      <td>2020</td>\n",
       "      <td>Reinforcement learning agents learn by encoura...</td>\n",
       "      <td>{'reasoning': 'The input item discusses a trus...</td>\n",
       "      <td>{'reasoning': 'The article discusses belief fo...</td>\n",
       "      <td>NaN</td>\n",
       "    </tr>\n",
       "    <tr>\n",
       "      <th>6</th>\n",
       "      <td>242</td>\n",
       "      <td>RCAgent: Cloud Root Cause Analysis by Autonomo...</td>\n",
       "      <td>Wang, Z.</td>\n",
       "      <td>arXiv</td>\n",
       "      <td>2023</td>\n",
       "      <td>Large language model (LLM) applications in clo...</td>\n",
       "      <td>{'reasoning': 'The article discusses the use o...</td>\n",
       "      <td>{'reasoning': 'The article discusses social me...</td>\n",
       "      <td>NaN</td>\n",
       "    </tr>\n",
       "    <tr>\n",
       "      <th>7</th>\n",
       "      <td>219</td>\n",
       "      <td>On the Impact of School Closures on COVID-19 T...</td>\n",
       "      <td>Heger, L.</td>\n",
       "      <td>arXiv</td>\n",
       "      <td>2023</td>\n",
       "      <td>The effect of school closures on the spread of...</td>\n",
       "      <td>{'reasoning': 'The input item discusses gliobl...</td>\n",
       "      <td>{'reasoning': 'The article focuses on cooperat...</td>\n",
       "      <td>NaN</td>\n",
       "    </tr>\n",
       "    <tr>\n",
       "      <th>8</th>\n",
       "      <td>202</td>\n",
       "      <td>Trust model of privacy-concerned, emotionally-...</td>\n",
       "      <td>Carbo, J.</td>\n",
       "      <td>arXiv</td>\n",
       "      <td>2024</td>\n",
       "      <td>In this paper we propose a trust model to be u...</td>\n",
       "      <td>{'reasoning': 'The input item discusses the ap...</td>\n",
       "      <td>{'reasoning': 'The article discusses the impac...</td>\n",
       "      <td>NaN</td>\n",
       "    </tr>\n",
       "    <tr>\n",
       "      <th>9</th>\n",
       "      <td>283</td>\n",
       "      <td>Multi-topic belief formation through bifurcati...</td>\n",
       "      <td>Bizyaeva, A.</td>\n",
       "      <td>arXiv</td>\n",
       "      <td>2023</td>\n",
       "      <td>We propose and analyze a nonlinear dynamic mod...</td>\n",
       "      <td>{'reasoning': 'The input item discusses the im...</td>\n",
       "      <td>{'reasoning': 'The article discusses the respo...</td>\n",
       "      <td>NaN</td>\n",
       "    </tr>\n",
       "  </tbody>\n",
       "</table>\n",
       "</div>"
      ],
      "text/plain": [
       "    ID                                              Title     1st author  \\\n",
       "0  539  Provably Efficient Cooperative Multi-Agent Rei...      Dubey, A.   \n",
       "1  551  Challenging Social Media Threats using Collect...   Ognibene, D.   \n",
       "2  113  A quantitative characterization of the heterog...      Dixit, P.   \n",
       "3   87  Be More Real: Travel Diary Generation Using LL...         Li, X.   \n",
       "4  689  Better guider predicts future better: Differen...       Ying, G.   \n",
       "5  626  Self punishment and reward backfill for deep Q...  Bonyadi, M.R.   \n",
       "6  242  RCAgent: Cloud Root Cause Analysis by Autonomo...       Wang, Z.   \n",
       "7  219  On the Impact of School Closures on COVID-19 T...      Heger, L.   \n",
       "8  202  Trust model of privacy-concerned, emotionally-...      Carbo, J.   \n",
       "9  283  Multi-topic belief formation through bifurcati...   Bizyaeva, A.   \n",
       "\n",
       "      repo  year                                           abstract  \\\n",
       "0    arXiv  2021  Reinforcement learning in cooperative multi-ag...   \n",
       "1    arXiv  2021  Social media have become an integral part of o...   \n",
       "2  bioRxiv  2024  Most cancers are genetically and phenotypicall...   \n",
       "3    arXiv  2024  Human mobility is inextricably linked to socia...   \n",
       "4    arXiv  2019  Predicting the future is a fantasy but practic...   \n",
       "5    arXiv  2020  Reinforcement learning agents learn by encoura...   \n",
       "6    arXiv  2023  Large language model (LLM) applications in clo...   \n",
       "7    arXiv  2023  The effect of school closures on the spread of...   \n",
       "8    arXiv  2024  In this paper we propose a trust model to be u...   \n",
       "9    arXiv  2023  We propose and analyze a nonlinear dynamic mod...   \n",
       "\n",
       "                               round-A_Pouria_output  \\\n",
       "0  {'properties': {'reasoning': {'title': 'Reason...   \n",
       "1  {'properties': {'title': 'Reasoning', 'type': ...   \n",
       "2  {'reasoning': 'The input item discusses social...   \n",
       "3  {'reasoning': 'This article discusses reinforc...   \n",
       "4  {'reasoning': 'The article discusses the appli...   \n",
       "5  {'reasoning': 'The input item discusses a trus...   \n",
       "6  {'reasoning': 'The article discusses the use o...   \n",
       "7  {'reasoning': 'The input item discusses gliobl...   \n",
       "8  {'reasoning': 'The input item discusses the ap...   \n",
       "9  {'reasoning': 'The input item discusses the im...   \n",
       "\n",
       "                               round-A_Bardia_output  \\\n",
       "0  {'reasoning': 'The article discusses an LLM-ba...   \n",
       "1  {'reasoning': 'The article discusses the appli...   \n",
       "2  {'reasoning': 'The article discusses a generat...   \n",
       "3  {'reasoning': 'The paper discusses reinforceme...   \n",
       "4  {'reasoning': 'The article focuses on trust mo...   \n",
       "5  {'reasoning': 'The article discusses belief fo...   \n",
       "6  {'reasoning': 'The article discusses social me...   \n",
       "7  {'reasoning': 'The article focuses on cooperat...   \n",
       "8  {'reasoning': 'The article discusses the impac...   \n",
       "9  {'reasoning': 'The article discusses the respo...   \n",
       "\n",
       "                                 round-B_Brad_output  \n",
       "0  {'reasoning': 'The article provided in the inp...  \n",
       "1  {'reasoning': 'The article provided in the inp...  \n",
       "2                                                NaN  \n",
       "3                                                NaN  \n",
       "4                                                NaN  \n",
       "5                                                NaN  \n",
       "6                                                NaN  \n",
       "7                                                NaN  \n",
       "8                                                NaN  \n",
       "9                                                NaN  "
      ]
     },
     "execution_count": 44,
     "metadata": {},
     "output_type": "execute_result"
    }
   ],
   "source": [
    "# Reload the data if needed.\n",
    "sample_data = pd.read_excel('data.xlsx').sample(10).reset_index(drop=True)\n",
    "updated_data = asyncio.run(title_abs_review(sample_data))\n",
    "\n",
    "print(\"Total cost: \")\n",
    "print(title_abs_review.get_total_cost())\n",
    "\n",
    "print(\"\\nDetailed cost:\")\n",
    "print(title_abs_review.reviewer_costs)\n",
    "\n",
    "updated_data"
   ]
  },
  {
   "cell_type": "code",
   "execution_count": 45,
   "metadata": {},
   "outputs": [
    {
     "name": "stdout",
     "output_type": "stream",
     "text": [
      "\n",
      "        Title: Provably Efficient Cooperative Multi-Agent Reinforcement Learning with Function Approximation\n",
      "        Abstract: Reinforcement learning in cooperative multi-agent settings has recently advanced significantly in its scope, with applications in cooperative estimation for advertising, dynamic treatment regimes, distributed control, and federated learning. In this paper, we discuss the problem of cooperative multi-agent RL with function approximation, where a group of agents communicates with each other to jointly solve an episodic MDP. We demonstrate that via careful message-passing and cooperative value iteration, it is possible to achieve near-optimal no-regret learning even with a fixed constant communication budget. Next, we demonstrate that even in heterogeneous cooperative settings, it is possible to achieve Pareto-optimal no-regret learning with limited communication. Our work generalizes several ideas from the multi-agent contextual and multi-armed bandit literature to MDPs and reinforcement learning.\n",
      "        Pouria's review: {'properties': {'reasoning': {'title': 'Reasoning', 'type': 'string'}, 'score': {'title': 'Score', 'type': 'integer'}}, 'required': ['reasoning', 'score'], 'title': 'ResponseFormat', 'type': 'object'}\n",
      "        Bardia's review: {'reasoning': 'The article discusses an LLM-based framework for cloud root cause analysis, which does not focus on medical imaging data, thus it does not meet the specified criteria.', 'score': 2}\n",
      "        Brad's review: {'reasoning': \"The article provided in the input discusses a framework for addressing social media threats using a virtual companion and a recommender system focused on collective well-being. The content of this article is centered around social media, educational interventions, and societal impacts rather than on medical imaging data or the application of large language models (LLMs) in that specific field. Pouria's reasoning is not provided, but Bardia's reasoning indicates that the article does not meet the criteria of discussing LLMs applied to medical imaging data. Given the abstract's focus on social media and education, it does not align with the criteria of LLMs in medical imaging. Therefore, the correct score should reflect that the article does not meet the criteria, which aligns with Bardia's score of 2, indicating it meets the criteria, which seems to be an error. Thus, I would assign a score of 1, agreeing with the implied reasoning that it does not meet the criteria, although Bardia's score seems to be a misunderstanding.\", 'score': 1}\n",
      "        \n",
      "\n",
      "        Title: Challenging Social Media Threats using Collective Well-Being Aware Recommendation Algorithms and an Educational Virtual Companion\n",
      "        Abstract: Social media have become an integral part of our lives, expanding our interlinking capabilities to new levels. There is plenty to be said about their positive effects. On the other hand, however, some serious negative implications of social media have been repeatedly highlighted in recent years, pointing at various threats to society and its more vulnerable members, such as teenagers, in particular, ranging from much-discussed problems such as digital addiction and polarization to manipulative influences of algorithms and further to more teenager-specific issues (e.g. body stereotyping). The impact of social media – both at an individual and societal level – is characterized by the complex interplay between the users’ interactions and the intelligent components of the platform. Thus users’ understanding of social media mechanisms plays a determinant role. We thus propose a theoretical framework based on an adaptive “Social Media Virtual Companion” for educating and supporting an entire community, teenage students, to interact in social media environments in order to achieve desirable conditions, defined in terms of a community-specific and participatory designed measure of Collective Well-Being (CWB). This Companion combines automatic processing with expert intervention and guidance. The virtual Companion will be powered by a Recommender System (CWB-RS) that will optimize a CWB metric instead of engagement or platform profit, which currently largely drives recommender systems thereby disregarding any societal collateral effect. CWB-RS will optimize CWB both in the short term by balancing the level of social media threats the users are exposed to, and in the long term by adopting an Intelligent Tutor System role and enabling adaptive and personalized sequencing of playful learning activities. We put an emphasis on experts and educators in the educationally managed social media community of the Companion. They play five key roles: (a) use the Companion in classroom-based educational activities; (b) guide the definition of the CWB; (c) provide a hierarchical structure of learning strategies, objectives and activities that will support and contain the adaptive sequencing algorithms of the CWB-RS based on hierarchical reinforcement learning; (d) act as moderators of direct conflicts between the members of the community; and, finally, (e) monitor and address ethical and educational issues that are beyond the intelligent agent’s competence and control. This framework offers a possible approach to understanding how to design social media systems and embedded educational interventions that favour a more healthy and positive society. Preliminary results on the performance of the Companion’s components and studies of the educational and psychological underlying principles are presented.\n",
      "        Pouria's review: {'properties': {'title': 'Reasoning', 'type': 'string'}, 'type': 'object'}\n",
      "        Bardia's review: {'reasoning': 'The article discusses the application of LLMs in generating mobility patterns and travel diaries, but it does not specifically address medical imaging data, which is the focus of the criteria.', 'score': 2}\n",
      "        Brad's review: {'reasoning': 'The article provided in the input is titled \"Provably Efficient Cooperative Multi-Agent Reinforcement Learning with Function Approximation\" and focuses on cooperative multi-agent reinforcement learning (RL) with function approximation. The abstract discusses the use of cooperative multi-agent RL in various applications such as cooperative estimation for advertising, dynamic treatment regimes, distributed control, and federated learning. There is no mention of large language models (LLMs) or their application to medical imaging data in the abstract. \\n\\nPouria\\'s reasoning and score are not provided in the input, but Bardia\\'s reasoning and score are available. Bardia mentions that the article discusses an LLM-based framework for cloud root cause analysis, which does not focus on medical imaging data. However, this reasoning seems to be incorrect based on the abstract provided, as the abstract does not mention LLMs or cloud root cause analysis.\\n\\nSince the abstract does not mention LLMs or medical imaging data, it does not meet the criteria specified in the task, which is to discuss LLM-based AI agents applied to medical imaging data. Therefore, the article should be scored as 1, indicating it does not meet the criteria. \\n\\nGiven the information, I would agree with Pouria (assuming Pouria scored it 1 based on the abstract), as Bardia\\'s reasoning does not align with the content of the abstract provided.', 'score': 1}\n",
      "        \n",
      "\n",
      "        Title: A quantitative characterization of the heterogeneous response of glioblastoma U-87 MG cell line to temozolomide\n",
      "        Abstract: Most cancers are genetically and phenotypically heterogeneous. This includes subpopulations of cells with different levels of sensitivity to chemotherapy, which may lead to treatment failure as the more resistant cells can survive drug treatment and continue to proliferate. While the genetic basis of resistance to many drugs is relatively well characterised, non-genetic factors are much less understood. Here we investigate the role of non-genetic, phenotypic heterogeneity in the response of glioblastoma cancer cells to the drug temozolomide (TMZ) often used to treat this type of cancer. Using a combination of live imaging, machine-learning image analysis and agent-based modelling, we show that even if all cells share the same genetic background, individual cells respond differently to TMZ. We quantitatively characterise this response by measuring the doubling time, lifespan, and motility of cells, and determine how these quantities correlate with each other as well as between the mother and daughter cell. We also show that these responses do not correlate with the cellular level of the enzyme MGMT which has been implicated in the response to TMZ.\n",
      "        Pouria's review: {'reasoning': 'The input item discusses social media threats and proposes a theoretical framework for educating and supporting teenagers to interact in social media environments, but it does not mention large language models-based AI agents applied to medical imaging data. Therefore, the paper does not meet the criteria.', 'score': 2}\n",
      "        Bardia's review: {'reasoning': 'The article discusses a generative adversarial network for future frame prediction in video data, but it does not focus on large language models or their application to medical imaging data, thus it does not meet the specified criteria.', 'score': 2}\n",
      "        Brad's review: nan\n",
      "        \n",
      "\n",
      "        Title: Be More Real: Travel Diary Generation Using LLM Agents and Individual Profiles\n",
      "        Abstract: Human mobility is inextricably linked to social issues such as traffic congestion, energy consumption, and public health; however, privacy concerns restrict access to mobility data. Recently, research have utilized Large Language Models (LLMs) for human mobility generation, in which the challenge is how LLMs can understand individuals’ mobility behavioral differences to generate realistic trajectories conforming to real world contexts. This study handles this problem by presenting an LLM agent-based framework (MobAgent) composing two phases: understanding-based mobility pattern extraction and reasoning-based trajectory generation, which enables generate more real travel diaries at urban scale, considering different individual profiles. MobAgent extracts reasons behind specific mobility trendiness and attribute influences to provide reliable patterns; infers the relationships between contextual factors and underlying motivations of mobility; and based on the patterns and the recursive reasoning process, MobAgent finally generates more authentic and personalized mobilities that reflect both individual differences and real-world constraints. We validate our framework with 0.2 million travel survey data, demonstrating its effectiveness in producing personalized and accurate travel diaries. This study highlights the capacity of LLMs to provide detailed and sophisticated understanding of human mobility through the real-world mobility data.\n",
      "        Pouria's review: {'reasoning': 'This article discusses reinforcement learning agents and proposes strategies to address the credit assignment problem, but it does not focus on large language models-based AI agents applied to medical imaging data. The article is related to deep Q-learning, which is a type of reinforcement learning algorithm, but it does not explore the application of large language models in medical imaging.', 'score': 2}\n",
      "        Bardia's review: {'reasoning': 'The paper discusses reinforcement learning strategies but does not address large language models or their application to medical imaging data, thus it does not meet the specified criteria.', 'score': 2}\n",
      "        Brad's review: nan\n",
      "        \n",
      "\n",
      "        Title: Better guider predicts future better: Difference guided generative adversarial networks\n",
      "        Abstract: Predicting the future is a fantasy but practicality work. It is the key component to intelligent agents, such as self-driving vehicles, medical monitoring devices and robotics. In this work, we consider generating unseen future frames from previous observations, which is notoriously hard due to the uncertainty in frame dynamics. While recent works based on generative adversarial networks (GANs) made remarkable progress, there is still an obstacle for making accurate and realistic predictions. In this paper, we propose a novel GAN based on inter-frame difference to circumvent the difficulties. More specifically, our model is a multi-stage generative network, which is named the Difference Guided Generative Adversarial Network (DGGAN). The DGGAN learns to explicitly enforce future-frame predictions that is guided by synthetic interframe difference. Given a sequence of frames, DGGAN first uses dual paths to generate meta information. One path, called Coarse Frame Generator, predicts the coarse details about future frames, and the other path, called Difference Guide Generator, generates the difference image which include complementary fine details. Then our coarse details will then be refined via guidance of difference image under the support of GANs. With this model and novel architecture, we achieve state-of-theart performance for future video prediction on UCF-101, KITTI.\n",
      "        Pouria's review: {'reasoning': 'The article discusses the application of large language models (LLMs) to cloud root cause analysis (RCA), but it does not specifically focus on medical imaging data. The framework presented, RCAgent, is designed for industrial RCA usage and combines LLMs with tool-augmented enhancements for practical and privacy-aware applications. While LLMs are used in the context of decision-making and environment interaction, there is no mention of medical imaging data or its application to AI agents.', 'score': 2}\n",
      "        Bardia's review: {'reasoning': 'The article focuses on trust models and emotional agents in logistics, without discussing large language models or medical imaging data, hence it does not meet the specified criteria.', 'score': 2}\n",
      "        Brad's review: nan\n",
      "        \n",
      "\n",
      "        Title: Self punishment and reward backfill for deep Q-learning\n",
      "        Abstract: Reinforcement learning agents learn by encouraging behaviours which maximize their total reward, usually provided by the environment. In many environments, however, the reward is provided after a series of actions rather than each single action, leading the agent to experience ambiguity in terms of whether those actions are effective, an issue known as the credit assignment problem. In this paper, we propose two strategies inspired by behavioural psychology to enable the agent to intrinsically estimate more informative reward values for actions with no reward. The first strategy, called self-punishment (SP), discourages the agent from making mistakes that lead to undesirable terminal states. The second strategy, called the rewards backfill (RB), backpropagates the rewards between two rewarded actions. We prove that, under certain assumptions and regardless of the reinforcement learning algorithm used, these two strategies maintain the order of policies in the space of all possible policies in terms of their total reward, and, by extension, maintain the optimal policy. Hence, our proposed strategies integrate with any reinforcement learning algorithm that learns a value or action-value function through experience. We incorporated these two strategies into three popular deep reinforcement learning approaches and evaluated the results on thirty Atari games. After parameter tuning, our results indicate that the proposed strategies improve the tested methods in over 65 percent of tested games by up to over 25 times performance improvement.\n",
      "        Pouria's review: {'reasoning': 'The input item discusses a trust model applied to cooperative logistics problem involving humans and unmanned vehicles, but it does not focus on medical imaging data or large language models-based AI agents. It seems to address privacy concerns and emotional awareness in agent cooperation rather than applying AI techniques to medical images.', 'score': 2}\n",
      "        Bardia's review: {'reasoning': 'The article discusses belief formation in social networks and does not mention large language models or their application to medical imaging data, thus it does not meet the criteria.', 'score': 2}\n",
      "        Brad's review: nan\n",
      "        \n",
      "\n",
      "        Title: RCAgent: Cloud Root Cause Analysis by Autonomous Agents with Tool-Augmented Large Language Models\n",
      "        Abstract: Large language model (LLM) applications in cloud root cause analysis (RCA) have been actively explored recently. However, current methods are still reliant on manual workflow settings and do not unleash LLMs' decision-making and environment interaction capabilities. We present RCAgent, a tool-augmented LLM autonomous agent framework for practical and privacy-aware industrial RCA usage. Running on an internally deployed model rather than GPT families, RCAgent is capable of free-form data collection and comprehensive analysis with tools. Our framework combines a variety of enhancements, including a unique Self-Consistency for action trajectories, and a suite of methods for context management, stabilization, and importing domain knowledge. Our experiments show RCAgent's evident and consistent superiority over ReAct across all aspects of RCA-predicting root causes, solutions, evidence, and responsibilities-and tasks covered or uncovered by current rules, as validated by both automated metrics and human evaluations. Furthermore, RCAgent has already been integrated into the diagnosis and issue discovery workflow of the Real-time Compute Platform for Apache Flink of Alibaba Cloud.\n",
      "        Pouria's review: {'reasoning': 'The article discusses the use of generative adversarial networks (GANs) for predicting future frames from previous observations. While it mentions applications to robotics and medical monitoring devices, there is no direct mention or application to large language models-based AI agents applied to medical imaging data. The focus is on video prediction rather than medical image analysis.', 'score': 2}\n",
      "        Bardia's review: {'reasoning': 'The article discusses social media threats and educational interventions rather than large language models applied to medical imaging data, which does not align with the specified criteria.', 'score': 2}\n",
      "        Brad's review: nan\n",
      "        \n",
      "\n",
      "        Title: On the Impact of School Closures on COVID-19 Transmission in Germany using an agent-based Simulation\n",
      "        Abstract: The effect of school closures on the spread of COVID-19 has been discussed among experts and the general public since those measures have been taken only a few months after the start of the pandemic in 2020. Within this study, the June-Germany framework, is used to quantify the impact of school closures in the German state Rhineland Palatinate using an agent-based simulation approach. It was found that the simulations predicts a reduction of the number of infections, hospitalizations as well as death by a factor of 2.5 compared to scenarios, where no school closures are enforced, during the second wave between October 2020 and February 2021.\n",
      "        Pouria's review: {'reasoning': 'The input item discusses glioblastoma cancer cells and their response to the drug temozolomide, but it does not mention anything about large language models-based AI agents applied to medical imaging data. The article focuses on understanding non-genetic factors that influence the response of cancer cells to chemotherapy, using techniques like live imaging, machine-learning image analysis, and agent-based modelling. There is no connection or application of large language models to medical imaging in this paper.', 'score': 2}\n",
      "        Bardia's review: {'reasoning': 'The article focuses on cooperative multi-agent reinforcement learning and does not discuss large language models or their application to medical imaging, thus not meeting the specified criteria.', 'score': 2}\n",
      "        Brad's review: nan\n",
      "        \n",
      "\n",
      "        Title: Trust model of privacy-concerned, emotionally-aware agents in a cooperative logistics problem\n",
      "        Abstract: In this paper we propose a trust model to be used into a hypothetical mixed environment where humans and unmanned vehicles cooperate. We address the inclusion of emotions inside a trust model in a coherent way to the practical approaches to the current psychology theories. The most innovative contribution is how privacy issues play a role in the cooperation decisions of the emotional trust model. Both, emotions and trust have been cognitively modeled and managed with the Beliefs, Desires and Intentions (BDI) paradigm into autonomous agents implemented in GAML (the programming language of GAMA agent platform) that communicates using the IEEE FIPA standard. The trusting behaviour of these emotional agents is tested in a cooperative logistics problem where: agents have to move objects to destinations and some of the objects and places have privacy issues. The execution of simulations of this logistic problem shows how emotions and trust contribute to improve the performance of agents in terms of both, time savings and privacy protection.\n",
      "        Pouria's review: {'reasoning': 'The input item discusses the application of Large Language Models (LLMs) in generating travel diaries based on individual profiles, which is related to human mobility generation. However, it does not explicitly mention medical imaging data. The paper presents a framework for understanding and generating realistic trajectories, but its focus is on urban mobility patterns rather than medical imaging.', 'score': 2}\n",
      "        Bardia's review: {'reasoning': 'The article discusses the impact of school closures on COVID-19 transmission using an agent-based simulation, but it does not involve large language models or AI agents applied to medical imaging data, which is the specified focus area.', 'score': 2}\n",
      "        Brad's review: nan\n",
      "        \n",
      "\n",
      "        Title: Multi-topic belief formation through bifurcations over signed social networks\n",
      "        Abstract: We propose and analyze a nonlinear dynamic model of continuous-time multi-dimensional belief formation over signed social networks. Our model accounts for the effects of a structured belief system, self-appraisal, internal biases, and various sources of cognitive dissonance posited by recent theories in social psychology. We prove that agents become opinionated as a consequence of a bifurcation. We analyze how the balance of social network effects in the model controls the nature of the bifurcation and, therefore, the belief-forming limit-set solutions. Our analysis provides constructive conditions on how multi-stable network belief equilibria and belief oscillations emerging at a belief-forming bifurcation depend on the communication network graph and belief system network graph. Our model and analysis provide new theoretical insights on the dynamics of social systems and a new principled framework for designing decentralized decision-making on engineered networks in the presence of structured relationships among alternatives.\n",
      "        Pouria's review: {'reasoning': 'The input item discusses the impact of school closures on COVID-19 transmission using an agent-based simulation approach, which is unrelated to large language models-based AI agents applied to medical imaging data.', 'score': 2}\n",
      "        Bardia's review: {'reasoning': 'The article discusses the response of glioblastoma cells to chemotherapy and utilizes machine-learning image analysis, but it does not specifically address large language models or their application to medical imaging data.', 'score': 2}\n",
      "        Brad's review: nan\n",
      "        \n"
     ]
    }
   ],
   "source": [
    "for i, row in updated_data.iterrows():\n",
    "    print(\n",
    "        f\"\"\"\n",
    "        Title: {row.Title}\n",
    "        Abstract: {row.abstract}\n",
    "        Pouria's review: {row[\"round-A_Pouria_output\"]}\n",
    "        Bardia's review: {row[\"round-A_Bardia_output\"]}\n",
    "        Brad's review: {None if \"round-B_Brad_output\" not in row else row[\"round-B_Brad_output\"]}\n",
    "        \"\"\"\n",
    "    )"
   ]
  }
 ],
 "metadata": {
  "kernelspec": {
   "display_name": "venv",
   "language": "python",
   "name": "python3"
  },
  "language_info": {
   "codemirror_mode": {
    "name": "ipython",
    "version": 3
   },
   "file_extension": ".py",
   "mimetype": "text/x-python",
   "name": "python",
   "nbconvert_exporter": "python",
   "pygments_lexer": "ipython3",
   "version": "3.9.6"
  }
 },
 "nbformat": 4,
 "nbformat_minor": 2
}
