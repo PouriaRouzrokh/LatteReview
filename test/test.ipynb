{
 "cells": [
  {
   "cell_type": "code",
   "execution_count": 6,
   "metadata": {},
   "outputs": [
    {
     "name": "stderr",
     "output_type": "stream",
     "text": [
      "/Users/pouria/Documents/Coding/LatteReview/venv/lib/python3.9/site-packages/tqdm/auto.py:21: TqdmWarning: IProgress not found. Please update jupyter and ipywidgets. See https://ipywidgets.readthedocs.io/en/stable/user_install.html\n",
      "  from .autonotebook import tqdm as notebook_tqdm\n"
     ]
    }
   ],
   "source": [
    "%reload_ext autoreload\n",
    "%autoreload 2\n",
    "\n",
    "import asyncio\n",
    "import json\n",
    "import nest_asyncio\n",
    "import os\n",
    "import sys\n",
    "from dotenv import load_dotenv\n",
    "import numpy as np\n",
    "import pandas as pd\n",
    "\n",
    "sys.path.append('../')\n",
    "from lattereview.providers.openai_provider import OpenAIProvider\n",
    "from lattereview.providers.ollama_provider import OllamaProvider\n",
    "from lattereview.providers.litellm_provider import LiteLLMProvider\n",
    "from lattereview.agents.scoring_reviewer import ScoringReviewer\n",
    "from lattereview.review_workflow import ReviewWorkflow"
   ]
  },
  {
   "cell_type": "markdown",
   "metadata": {},
   "source": [
    "## Setting up the notebook"
   ]
  },
  {
   "cell_type": "markdown",
   "metadata": {},
   "source": [
    "Loading environment variables:"
   ]
  },
  {
   "cell_type": "code",
   "execution_count": 2,
   "metadata": {},
   "outputs": [
    {
     "name": "stdout",
     "output_type": "stream",
     "text": [
      "sk-cq_M0pNgHhCFnlDOCMnagYA1l2X7Yea5CL0ci5pZMNT3BlbkFJ0m0x9wm5M_EstX5SjLu_kdwGMDYjkUdviNPs4pe9cA\n"
     ]
    }
   ],
   "source": [
    "# Load environment variables from .env file\n",
    "load_dotenv('../.env')\n",
    "print(os.getenv('OPENAI_API_KEY'))\n",
    "\n",
    "# Enable asyncio in Jupyter\n",
    "nest_asyncio.apply()"
   ]
  },
  {
   "cell_type": "markdown",
   "metadata": {},
   "source": [
    "Loading a dummy dataset:"
   ]
  },
  {
   "cell_type": "code",
   "execution_count": 3,
   "metadata": {},
   "outputs": [
    {
     "data": {
      "text/html": [
       "<div>\n",
       "<style scoped>\n",
       "    .dataframe tbody tr th:only-of-type {\n",
       "        vertical-align: middle;\n",
       "    }\n",
       "\n",
       "    .dataframe tbody tr th {\n",
       "        vertical-align: top;\n",
       "    }\n",
       "\n",
       "    .dataframe thead th {\n",
       "        text-align: right;\n",
       "    }\n",
       "</style>\n",
       "<table border=\"1\" class=\"dataframe\">\n",
       "  <thead>\n",
       "    <tr style=\"text-align: right;\">\n",
       "      <th></th>\n",
       "      <th>ID</th>\n",
       "      <th>Title</th>\n",
       "      <th>1st author</th>\n",
       "      <th>repo</th>\n",
       "      <th>year</th>\n",
       "      <th>abstract</th>\n",
       "    </tr>\n",
       "  </thead>\n",
       "  <tbody>\n",
       "    <tr>\n",
       "      <th>0</th>\n",
       "      <td>1</td>\n",
       "      <td>Segmentized quarantine policy for managing a t...</td>\n",
       "      <td>Kim, J.</td>\n",
       "      <td>arXiv</td>\n",
       "      <td>2024</td>\n",
       "      <td>By the end of 2021, COVID-19 had spread to ove...</td>\n",
       "    </tr>\n",
       "    <tr>\n",
       "      <th>1</th>\n",
       "      <td>2</td>\n",
       "      <td>AutoProteinEngine: A Large Language Model Driv...</td>\n",
       "      <td>Liu, Y.</td>\n",
       "      <td>arXiv</td>\n",
       "      <td>2024</td>\n",
       "      <td>Protein engineering is important for biomedica...</td>\n",
       "    </tr>\n",
       "    <tr>\n",
       "      <th>2</th>\n",
       "      <td>3</td>\n",
       "      <td>Integration of Large Vision Language Models fo...</td>\n",
       "      <td>Chen, Z.</td>\n",
       "      <td>arXiv</td>\n",
       "      <td>2024</td>\n",
       "      <td>Traditional natural disaster response involves...</td>\n",
       "    </tr>\n",
       "    <tr>\n",
       "      <th>3</th>\n",
       "      <td>4</td>\n",
       "      <td>Choice between Partial Trajectories</td>\n",
       "      <td>Marklund, H.</td>\n",
       "      <td>arXiv</td>\n",
       "      <td>2024</td>\n",
       "      <td>As AI agents generate increasingly sophisticat...</td>\n",
       "    </tr>\n",
       "    <tr>\n",
       "      <th>4</th>\n",
       "      <td>5</td>\n",
       "      <td>Building Altruistic and Moral AI Agent with Br...</td>\n",
       "      <td>Zhao, F.</td>\n",
       "      <td>arXiv</td>\n",
       "      <td>2024</td>\n",
       "      <td>As AI closely interacts with human society, it...</td>\n",
       "    </tr>\n",
       "  </tbody>\n",
       "</table>\n",
       "</div>"
      ],
      "text/plain": [
       "   ID                                              Title    1st author   repo  \\\n",
       "0   1  Segmentized quarantine policy for managing a t...       Kim, J.  arXiv   \n",
       "1   2  AutoProteinEngine: A Large Language Model Driv...       Liu, Y.  arXiv   \n",
       "2   3  Integration of Large Vision Language Models fo...      Chen, Z.  arXiv   \n",
       "3   4                Choice between Partial Trajectories  Marklund, H.  arXiv   \n",
       "4   5  Building Altruistic and Moral AI Agent with Br...      Zhao, F.  arXiv   \n",
       "\n",
       "   year                                           abstract  \n",
       "0  2024  By the end of 2021, COVID-19 had spread to ove...  \n",
       "1  2024  Protein engineering is important for biomedica...  \n",
       "2  2024  Traditional natural disaster response involves...  \n",
       "3  2024  As AI agents generate increasingly sophisticat...  \n",
       "4  2024  As AI closely interacts with human society, it...  "
      ]
     },
     "execution_count": 3,
     "metadata": {},
     "output_type": "execute_result"
    }
   ],
   "source": [
    "data = pd.read_excel('data.xlsx')\n",
    "data.head()"
   ]
  },
  {
   "cell_type": "markdown",
   "metadata": {},
   "source": [
    "## Testing the base functionalities"
   ]
  },
  {
   "cell_type": "markdown",
   "metadata": {},
   "source": [
    "Testing the OpenAI provider:"
   ]
  },
  {
   "cell_type": "code",
   "execution_count": 4,
   "metadata": {},
   "outputs": [
    {
     "data": {
      "text/plain": [
       "('The capital of France is Paris.',\n",
       " {'input_cost': 1.05e-06, 'output_cost': 4.2e-06, 'total_cost': 5.25e-06})"
      ]
     },
     "execution_count": 4,
     "metadata": {},
     "output_type": "execute_result"
    }
   ],
   "source": [
    "openanai_provider = OpenAIProvider(model=\"gpt-4o-mini\")\n",
    "question = \"What is the capital of France?\"\n",
    "asyncio.run(openanai_provider.get_response(question, temperature=0.9))"
   ]
  },
  {
   "cell_type": "markdown",
   "metadata": {},
   "source": [
    "Testing the Ollama provider:"
   ]
  },
  {
   "cell_type": "code",
   "execution_count": 5,
   "metadata": {},
   "outputs": [
    {
     "data": {
      "text/plain": [
       "('The capital of France is Paris.',\n",
       " {'input_cost': 0, 'output_cost': 0, 'total_cost': 0})"
      ]
     },
     "execution_count": 5,
     "metadata": {},
     "output_type": "execute_result"
    }
   ],
   "source": [
    "ollama_provider = OllamaProvider(model=\"llama3.2-vision:latest\", host=\"http://localhost:11434\")\n",
    "question = \"What is the capital of France?\"\n",
    "asyncio.run(ollama_provider.get_response(question))"
   ]
  },
  {
   "cell_type": "markdown",
   "metadata": {},
   "source": [
    "Testing the LiteLLM provider:"
   ]
  },
  {
   "cell_type": "code",
   "execution_count": 4,
   "metadata": {},
   "outputs": [
    {
     "name": "stdout",
     "output_type": "stream",
     "text": [
      "response: <Response [200 OK]>\n"
     ]
    },
    {
     "data": {
      "text/plain": [
       "('The capital of France is Paris.', 3.464e-05)"
      ]
     },
     "execution_count": 4,
     "metadata": {},
     "output_type": "execute_result"
    }
   ],
   "source": [
    "# litellm_provider = LiteLLMProvider(model=\"gpt-4o-mini\")\n",
    "# litellm_provider = LiteLLMProvider(model=\"claude-3-5-sonnet-20240620\")\n",
    "litellm_provider = LiteLLMProvider(model=\"groq/llama-3.3-70b-versatile\")\n",
    "\n",
    "question = \"What is the capital of France?\"\n",
    "asyncio.run(litellm_provider.get_response(question))"
   ]
  },
  {
   "cell_type": "markdown",
   "metadata": {},
   "source": [
    "Testing the ScoringReviewer agent:"
   ]
  },
  {
   "cell_type": "code",
   "execution_count": 7,
   "metadata": {},
   "outputs": [
    {
     "name": "stdout",
     "output_type": "stream",
     "text": [
      "Inputs:\n",
      "\n",
      " segmentized quarantine policy for managing a tradeoff between containment of infectious disease and social cost of quarantine\n",
      "autoproteinengine: a large language model driven agent framework for multimodal automl in protein engineering\n",
      "integration of large vision language models for efficient post-disaster damage assessment and reporting\n"
     ]
    },
    {
     "name": "stderr",
     "output_type": "stream",
     "text": [
      "Reviewing 3 items - 2024-12-14 19:21:39:  67%|██████▋   | 2/3 [00:00<00:00,  3.62it/s]"
     ]
    },
    {
     "name": "stdout",
     "output_type": "stream",
     "text": [
      "response: <Response [200 OK]>\n"
     ]
    },
    {
     "name": "stderr",
     "output_type": "stream",
     "text": [
      "Reviewing 3 items - 2024-12-14 19:21:39: 100%|██████████| 3/3 [00:01<00:00,  2.42it/s]"
     ]
    },
    {
     "name": "stdout",
     "output_type": "stream",
     "text": [
      "response: <Response [200 OK]>\n"
     ]
    },
    {
     "name": "stderr",
     "output_type": "stream",
     "text": [
      "Reviewing 3 items - 2024-12-14 19:21:39: 100%|██████████| 3/3 [00:01<00:00,  1.94it/s]"
     ]
    },
    {
     "name": "stdout",
     "output_type": "stream",
     "text": [
      "response: <Response [200 OK]>\n",
      "\n",
      "\n",
      " Outputs:\n",
      "{'reasoning': 'The segmentized quarantine policy effectively manages the tradeoff between containment of infectious disease and social cost of quarantine, thus meeting the criteria.', 'score': 2}\n",
      "{'reasoning': 'The paper meets the criteria because it presents a large language model driven agent framework for multimodal automl in protein engineering, which is a relevant topic.', 'score': 2}\n",
      "{'reasoning': 'The paper meets the criteria because it discusses the integration of large vision language models for efficient post-disaster damage assessment and reporting, which is a relevant and meaningful topic.', 'score': 2}\n",
      "\n",
      "Costs:\n",
      "\n",
      "0.00029238\n",
      "0.00029554\n",
      "0.00029555\n",
      "\n",
      "Total cost:\n",
      "\n",
      "0.00029555\n"
     ]
    },
    {
     "name": "stderr",
     "output_type": "stream",
     "text": [
      "\n"
     ]
    }
   ],
   "source": [
    "agent = ScoringReviewer(\n",
    "    # provider=OpenAIProvider(model=\"gpt-4o-mini\"),\n",
    "    # provider=OllamaProvider(model=\"llama3.2-vision:latest\", host=\"http://localhost:11434\"),\n",
    "    # provider=LiteLLMProvider(model=\"gpt-4o-mini\"),\n",
    "    # provider=LiteLLMProvider(model=\"claude-3-5-sonnet-20240620\"),\n",
    "    provider=LiteLLMProvider(model=\"groq/llama-3.3-70b-versatile\"),\n",
    "    name=\"Pouria\",\n",
    "    max_concurrent_requests=1, \n",
    "    backstory=\"an expert reviewer and researcher!\",\n",
    "    input_description = \"article title\",\n",
    "    model_args={\"max_tokens\": 100, \"temperature\": 0.1, \"tools\": None, \"tool_choice\": None},\n",
    "    reasoning = \"brief\",\n",
    "    review_criteria=\"Look for articles that certainly do not employ any AI or machine learning agents\",\n",
    "    score_set=[1, 2],\n",
    "    scoring_rules='Score 1 if the paper does not meet the criteria, and 2 if the paper meets the criteria.',\n",
    ")\n",
    "\n",
    "\n",
    "# Dummy input\n",
    "text_list = data.Title.str.lower().tolist()\n",
    "print(\"Inputs:\\n\\n\", '\\n'.join(text_list[:3]))\n",
    "\n",
    "# Dummy review\n",
    "results, total_cost = asyncio.run(agent.review_items(text_list[:3]))\n",
    "print(\"\\n\\n Outputs:\")\n",
    "for result in results:\n",
    "    print(result)\n",
    "\n",
    "# Dummy costs\n",
    "print(\"\\nCosts:\\n\")\n",
    "for item in agent.memory:\n",
    "    print(item['cost'])\n",
    "\n",
    "print(\"\\nTotal cost:\\n\")\n",
    "print(total_cost)"
   ]
  },
  {
   "cell_type": "markdown",
   "metadata": {},
   "source": [
    "## Testing the main Functionalities"
   ]
  },
  {
   "cell_type": "markdown",
   "metadata": {},
   "source": [
    "#### A multiagent review workflow for doing title/abstract analysis"
   ]
  },
  {
   "cell_type": "markdown",
   "metadata": {},
   "source": [
    "Setting up the agents:"
   ]
  },
  {
   "cell_type": "code",
   "execution_count": 8,
   "metadata": {},
   "outputs": [],
   "source": [
    "pouria = ScoringReviewer(\n",
    "    provider=OpenAIProvider(model=\"gpt-4o-mini\"),\n",
    "    # provider=OllamaProvider(model=\"llama3.2-vision:latest\", host=\"http://localhost:11434\"),\n",
    "    # provider=LiteLLMProvider(model=\"groq/llama-3.3-70b-versatile\"),\n",
    "    name=\"Pouria\",\n",
    "    max_concurrent_requests=20, \n",
    "    backstory=\"a radiologist with many years of background in statistcis and data science, who are famous among your colleagues for your systematic thinking, organizaton of thoughts, and being conservative\",\n",
    "    input_description = \"tilte and abstract of scientific articles\",\n",
    "    temperature=0.1, # ineffective for ollama\n",
    "    reasoning = \"cot\",\n",
    "    max_tokens=100, # ineffective for ollama\n",
    "    scoring_task=\"Look for articles that disucss large languange models-based AI agents applied to medical imaging data\",\n",
    "    score_set=[1, 2],\n",
    "    scoring_rules='Score 1 if the paper meets the criteria, and 2 if the paper does not meet the criteria.',\n",
    ")\n",
    "\n",
    "bardia = ScoringReviewer(\n",
    "    provider=OpenAIProvider(model=\"gpt-4o-mini\"),\n",
    "    name=\"Bardia\",\n",
    "    max_concurrent_requests=20, \n",
    "    backstory=\"an expert in data science with a background in developing ML models for healthcare, who are famous among your colleagues for your creativity and out of the box thinking\",\n",
    "    input_description = \"tilte and abstract of scientific articles\",\n",
    "    temperature=0.7,\n",
    "    reasoning = \"brief\",\n",
    "    max_tokens=100,\n",
    "    scoring_task=\"Look for articles that disucss large languange models-based AI agents applied to medical imaging data\",\n",
    "    score_set=[1, 2],\n",
    "    scoring_rules='Score 1 if the paper meets the criteria, and 2 if the paper does not meet the criteria.',\n",
    ")\n",
    "\n",
    "brad = ScoringReviewer(\n",
    "    provider=OpenAIProvider(model=\"gpt-4o\"),\n",
    "    name=\"Brad\",\n",
    "    max_concurrent_requests=20, \n",
    "    backstory=\"a senior radiologist with a PhD in computer science and years of experience as the director of a DL lab focused on developing ML models for radiology and healthcare\",\n",
    "    input_description = \"tilte and abstract of scientific articles\",\n",
    "    temperature=0.4,\n",
    "    reasoning = \"cot\",\n",
    "    max_tokens=100,\n",
    "    scoring_task=\"\"\"Pouria and Bardia have Looked for articles that disucss large languange models-based AI agents applied to medical imaging data. \n",
    "                       They scored an article 1 if they thought it does not meet this criteria, 2 if they thought it meets the criteria, 0 if they were uncertain of scoring.\n",
    "                       You will receive an article they have had different opinions about, as well as each of their scores and their reasoning for that score. Read their reviews and determine who you agree with. \n",
    "                    \"\"\",\n",
    "    score_set=[1, 2],\n",
    "    scoring_rules=\"\"\"Score 1 if you agree with Pouria, and score 2 if you agree with Bardia.\"\"\",\n",
    ")\n"
   ]
  },
  {
   "cell_type": "markdown",
   "metadata": {},
   "source": [
    "Setting up the review workflow:"
   ]
  },
  {
   "cell_type": "code",
   "execution_count": 9,
   "metadata": {},
   "outputs": [],
   "source": [
    "title_abs_review = ReviewWorkflow(\n",
    "    workflow_schema=[\n",
    "        {\n",
    "            \"round\": 'A',\n",
    "            \"reviewers\": [pouria, bardia],\n",
    "            \"inputs\": [\"Title\", \"abstract\"]\n",
    "        },\n",
    "        {\n",
    "            \"round\": 'B',\n",
    "            \"reviewers\": [brad],\n",
    "            \"inputs\": [\"Title\", \"abstract\", \"round-A_Pouria_output\", \"round-A_Bardia_output\"],\n",
    "            \"filter\": lambda row: row[\"round-A_Pouria_output\"][\"score\"] != row[\"round-A_Bardia_output\"][\"score\"]\n",
    "        }\n",
    "    ]\n",
    ")"
   ]
  },
  {
   "cell_type": "markdown",
   "metadata": {},
   "source": [
    "Applying the review workflow to a number of sample articles:"
   ]
  },
  {
   "cell_type": "code",
   "execution_count": 10,
   "metadata": {},
   "outputs": [
    {
     "name": "stdout",
     "output_type": "stream",
     "text": [
      "\n",
      "Starting review round A (1/2)...\n",
      "Processing 10 eligible rows\n"
     ]
    },
    {
     "name": "stderr",
     "output_type": "stream",
     "text": [
      "['round: A', 'reviewer_name: Pouria'] - 2024-12-14 19:21:49: 100%|██████████| 10/10 [00:01<00:00,  5.76it/s]\n",
      "['round: A', 'reviewer_name: Bardia'] - 2024-12-14 19:21:50: 100%|██████████| 10/10 [00:06<00:00,  1.50it/s]"
     ]
    },
    {
     "name": "stdout",
     "output_type": "stream",
     "text": [
      "\n",
      "Starting review round B (2/2)...\n",
      "Skipping review round B - no eligible rows\n",
      "Total cost: \n",
      "0.00018735\n",
      "\n",
      "Detailed cost:\n",
      "{('A', 'Pouria'): 0.0001125, ('A', 'Bardia'): 7.485e-05}\n"
     ]
    },
    {
     "name": "stderr",
     "output_type": "stream",
     "text": [
      "\n"
     ]
    },
    {
     "data": {
      "text/html": [
       "<div>\n",
       "<style scoped>\n",
       "    .dataframe tbody tr th:only-of-type {\n",
       "        vertical-align: middle;\n",
       "    }\n",
       "\n",
       "    .dataframe tbody tr th {\n",
       "        vertical-align: top;\n",
       "    }\n",
       "\n",
       "    .dataframe thead th {\n",
       "        text-align: right;\n",
       "    }\n",
       "</style>\n",
       "<table border=\"1\" class=\"dataframe\">\n",
       "  <thead>\n",
       "    <tr style=\"text-align: right;\">\n",
       "      <th></th>\n",
       "      <th>ID</th>\n",
       "      <th>Title</th>\n",
       "      <th>1st author</th>\n",
       "      <th>repo</th>\n",
       "      <th>year</th>\n",
       "      <th>abstract</th>\n",
       "      <th>round-A_Pouria_output</th>\n",
       "      <th>round-A_Pouria_score</th>\n",
       "      <th>round-A_Pouria_reasoning</th>\n",
       "      <th>round-A_Bardia_output</th>\n",
       "      <th>round-A_Bardia_score</th>\n",
       "      <th>round-A_Bardia_reasoning</th>\n",
       "    </tr>\n",
       "  </thead>\n",
       "  <tbody>\n",
       "    <tr>\n",
       "      <th>0</th>\n",
       "      <td>224</td>\n",
       "      <td>AVA: Towards Autonomous Visualization Agents t...</td>\n",
       "      <td>Liu, S.</td>\n",
       "      <td>arXiv</td>\n",
       "      <td>2023</td>\n",
       "      <td>With recent advances in multi-modal foundation...</td>\n",
       "      <td>{'reasoning': 'The article describes the devel...</td>\n",
       "      <td>2</td>\n",
       "      <td>The article describes the development of Auton...</td>\n",
       "      <td>{'reasoning': 'The article discusses the devel...</td>\n",
       "      <td>2</td>\n",
       "      <td>The article discusses the development of Auton...</td>\n",
       "    </tr>\n",
       "    <tr>\n",
       "      <th>1</th>\n",
       "      <td>331</td>\n",
       "      <td>Ask and You Shall be Served: Representing and ...</td>\n",
       "      <td>Lavie, M.</td>\n",
       "      <td>arXiv</td>\n",
       "      <td>2023</td>\n",
       "      <td>In scenarios with numerous emergencies that ar...</td>\n",
       "      <td>{'reasoning': 'To evaluate the input article a...</td>\n",
       "      <td>2</td>\n",
       "      <td>To evaluate the input article against the crit...</td>\n",
       "      <td>{'reasoning': 'The article discusses multi-age...</td>\n",
       "      <td>2</td>\n",
       "      <td>The article discusses multi-agent optimization...</td>\n",
       "    </tr>\n",
       "    <tr>\n",
       "      <th>2</th>\n",
       "      <td>308</td>\n",
       "      <td>Adaptive therapy in cancer: the role of restri...</td>\n",
       "      <td>Fontaneda, D.</td>\n",
       "      <td>bioRxiv</td>\n",
       "      <td>2023</td>\n",
       "      <td>BACKGROUND: Cancer is currently one of the lea...</td>\n",
       "      <td>{'reasoning': 'Upon reviewing the title and ab...</td>\n",
       "      <td>2</td>\n",
       "      <td>Upon reviewing the title and abstract, it is c...</td>\n",
       "      <td>{'reasoning': 'The article discusses adaptive ...</td>\n",
       "      <td>2</td>\n",
       "      <td>The article discusses adaptive therapy and can...</td>\n",
       "    </tr>\n",
       "    <tr>\n",
       "      <th>3</th>\n",
       "      <td>404</td>\n",
       "      <td>Automated Kantian Ethics: A Faithful Implement...</td>\n",
       "      <td>Singh, L.</td>\n",
       "      <td>arXiv</td>\n",
       "      <td>2022</td>\n",
       "      <td>As we grant artificial intelligence increasing...</td>\n",
       "      <td>{'reasoning': 'The title and abstract provided...</td>\n",
       "      <td>2</td>\n",
       "      <td>The title and abstract provided discuss the im...</td>\n",
       "      <td>{'reasoning': 'This article discusses automate...</td>\n",
       "      <td>2</td>\n",
       "      <td>This article discusses automated ethics in AI ...</td>\n",
       "    </tr>\n",
       "    <tr>\n",
       "      <th>4</th>\n",
       "      <td>71</td>\n",
       "      <td>CREW: Facilitating Human-AI Teaming Research</td>\n",
       "      <td>Zhang, L.</td>\n",
       "      <td>arXiv</td>\n",
       "      <td>2024</td>\n",
       "      <td>With the increasing deployment of artificial i...</td>\n",
       "      <td>{'reasoning': 'The article discusses Human-AI ...</td>\n",
       "      <td>2</td>\n",
       "      <td>The article discusses Human-AI teaming researc...</td>\n",
       "      <td>{'reasoning': 'The article discusses a platfor...</td>\n",
       "      <td>2</td>\n",
       "      <td>The article discusses a platform for Human-AI ...</td>\n",
       "    </tr>\n",
       "    <tr>\n",
       "      <th>5</th>\n",
       "      <td>752</td>\n",
       "      <td>Behavioral analytics for myopic agents</td>\n",
       "      <td>Mintz, Y.</td>\n",
       "      <td>arXiv</td>\n",
       "      <td>2017</td>\n",
       "      <td>Many multi-agent systems have the structure of...</td>\n",
       "      <td>{'reasoning': 'The article discusses a behavio...</td>\n",
       "      <td>2</td>\n",
       "      <td>The article discusses a behavioral analytics f...</td>\n",
       "      <td>{'reasoning': 'The article discusses behaviora...</td>\n",
       "      <td>2</td>\n",
       "      <td>The article discusses behavioral analytics in ...</td>\n",
       "    </tr>\n",
       "    <tr>\n",
       "      <th>6</th>\n",
       "      <td>402</td>\n",
       "      <td>Fusing an agent-based model of mosquito popula...</td>\n",
       "      <td>Cavany, S.M.</td>\n",
       "      <td>bioRxiv</td>\n",
       "      <td>2022</td>\n",
       "      <td>The mosquito Aedes aegypti is the vector of a ...</td>\n",
       "      <td>{'reasoning': 'The title and abstract of the p...</td>\n",
       "      <td>2</td>\n",
       "      <td>The title and abstract of the provided article...</td>\n",
       "      <td>{'reasoning': 'The paper discusses a model for...</td>\n",
       "      <td>2</td>\n",
       "      <td>The paper discusses a model for mosquito popul...</td>\n",
       "    </tr>\n",
       "    <tr>\n",
       "      <th>7</th>\n",
       "      <td>534</td>\n",
       "      <td>Deep learning for visualization and novelty de...</td>\n",
       "      <td>Banko, L.</td>\n",
       "      <td>arXiv</td>\n",
       "      <td>2021</td>\n",
       "      <td>We apply variational autoencoders (VAE) to X-r...</td>\n",
       "      <td>{'reasoning': 'The title and abstract of the i...</td>\n",
       "      <td>2</td>\n",
       "      <td>The title and abstract of the input item discu...</td>\n",
       "      <td>{'reasoning': 'The article discusses the appli...</td>\n",
       "      <td>2</td>\n",
       "      <td>The article discusses the application of varia...</td>\n",
       "    </tr>\n",
       "    <tr>\n",
       "      <th>8</th>\n",
       "      <td>289</td>\n",
       "      <td>INFERRING EPIDEMIC DYNAMICS USING GAUSSIAN PRO...</td>\n",
       "      <td>Ahmed, A.A.</td>\n",
       "      <td>arXiv</td>\n",
       "      <td>2023</td>\n",
       "      <td>Computational models help decision makers unde...</td>\n",
       "      <td>{'reasoning': 'The article title and abstract ...</td>\n",
       "      <td>2</td>\n",
       "      <td>The article title and abstract provided focus ...</td>\n",
       "      <td>{'reasoning': 'The article focuses on agent-ba...</td>\n",
       "      <td>2</td>\n",
       "      <td>The article focuses on agent-based simulations...</td>\n",
       "    </tr>\n",
       "    <tr>\n",
       "      <th>9</th>\n",
       "      <td>539</td>\n",
       "      <td>Provably Efficient Cooperative Multi-Agent Rei...</td>\n",
       "      <td>Dubey, A.</td>\n",
       "      <td>arXiv</td>\n",
       "      <td>2021</td>\n",
       "      <td>Reinforcement learning in cooperative multi-ag...</td>\n",
       "      <td>{'reasoning': 'The title and abstract of the a...</td>\n",
       "      <td>2</td>\n",
       "      <td>The title and abstract of the article discuss ...</td>\n",
       "      <td>{'reasoning': 'The article discusses reinforce...</td>\n",
       "      <td>2</td>\n",
       "      <td>The article discusses reinforcement learning i...</td>\n",
       "    </tr>\n",
       "  </tbody>\n",
       "</table>\n",
       "</div>"
      ],
      "text/plain": [
       "    ID                                              Title     1st author  \\\n",
       "0  224  AVA: Towards Autonomous Visualization Agents t...        Liu, S.   \n",
       "1  331  Ask and You Shall be Served: Representing and ...      Lavie, M.   \n",
       "2  308  Adaptive therapy in cancer: the role of restri...  Fontaneda, D.   \n",
       "3  404  Automated Kantian Ethics: A Faithful Implement...      Singh, L.   \n",
       "4   71       CREW: Facilitating Human-AI Teaming Research      Zhang, L.   \n",
       "5  752             Behavioral analytics for myopic agents      Mintz, Y.   \n",
       "6  402  Fusing an agent-based model of mosquito popula...   Cavany, S.M.   \n",
       "7  534  Deep learning for visualization and novelty de...      Banko, L.   \n",
       "8  289  INFERRING EPIDEMIC DYNAMICS USING GAUSSIAN PRO...    Ahmed, A.A.   \n",
       "9  539  Provably Efficient Cooperative Multi-Agent Rei...      Dubey, A.   \n",
       "\n",
       "      repo  year                                           abstract  \\\n",
       "0    arXiv  2023  With recent advances in multi-modal foundation...   \n",
       "1    arXiv  2023  In scenarios with numerous emergencies that ar...   \n",
       "2  bioRxiv  2023  BACKGROUND: Cancer is currently one of the lea...   \n",
       "3    arXiv  2022  As we grant artificial intelligence increasing...   \n",
       "4    arXiv  2024  With the increasing deployment of artificial i...   \n",
       "5    arXiv  2017  Many multi-agent systems have the structure of...   \n",
       "6  bioRxiv  2022  The mosquito Aedes aegypti is the vector of a ...   \n",
       "7    arXiv  2021  We apply variational autoencoders (VAE) to X-r...   \n",
       "8    arXiv  2023  Computational models help decision makers unde...   \n",
       "9    arXiv  2021  Reinforcement learning in cooperative multi-ag...   \n",
       "\n",
       "                               round-A_Pouria_output round-A_Pouria_score  \\\n",
       "0  {'reasoning': 'The article describes the devel...                    2   \n",
       "1  {'reasoning': 'To evaluate the input article a...                    2   \n",
       "2  {'reasoning': 'Upon reviewing the title and ab...                    2   \n",
       "3  {'reasoning': 'The title and abstract provided...                    2   \n",
       "4  {'reasoning': 'The article discusses Human-AI ...                    2   \n",
       "5  {'reasoning': 'The article discusses a behavio...                    2   \n",
       "6  {'reasoning': 'The title and abstract of the p...                    2   \n",
       "7  {'reasoning': 'The title and abstract of the i...                    2   \n",
       "8  {'reasoning': 'The article title and abstract ...                    2   \n",
       "9  {'reasoning': 'The title and abstract of the a...                    2   \n",
       "\n",
       "                            round-A_Pouria_reasoning  \\\n",
       "0  The article describes the development of Auton...   \n",
       "1  To evaluate the input article against the crit...   \n",
       "2  Upon reviewing the title and abstract, it is c...   \n",
       "3  The title and abstract provided discuss the im...   \n",
       "4  The article discusses Human-AI teaming researc...   \n",
       "5  The article discusses a behavioral analytics f...   \n",
       "6  The title and abstract of the provided article...   \n",
       "7  The title and abstract of the input item discu...   \n",
       "8  The article title and abstract provided focus ...   \n",
       "9  The title and abstract of the article discuss ...   \n",
       "\n",
       "                               round-A_Bardia_output round-A_Bardia_score  \\\n",
       "0  {'reasoning': 'The article discusses the devel...                    2   \n",
       "1  {'reasoning': 'The article discusses multi-age...                    2   \n",
       "2  {'reasoning': 'The article discusses adaptive ...                    2   \n",
       "3  {'reasoning': 'This article discusses automate...                    2   \n",
       "4  {'reasoning': 'The article discusses a platfor...                    2   \n",
       "5  {'reasoning': 'The article discusses behaviora...                    2   \n",
       "6  {'reasoning': 'The paper discusses a model for...                    2   \n",
       "7  {'reasoning': 'The article discusses the appli...                    2   \n",
       "8  {'reasoning': 'The article focuses on agent-ba...                    2   \n",
       "9  {'reasoning': 'The article discusses reinforce...                    2   \n",
       "\n",
       "                            round-A_Bardia_reasoning  \n",
       "0  The article discusses the development of Auton...  \n",
       "1  The article discusses multi-agent optimization...  \n",
       "2  The article discusses adaptive therapy and can...  \n",
       "3  This article discusses automated ethics in AI ...  \n",
       "4  The article discusses a platform for Human-AI ...  \n",
       "5  The article discusses behavioral analytics in ...  \n",
       "6  The paper discusses a model for mosquito popul...  \n",
       "7  The article discusses the application of varia...  \n",
       "8  The article focuses on agent-based simulations...  \n",
       "9  The article discusses reinforcement learning i...  "
      ]
     },
     "execution_count": 10,
     "metadata": {},
     "output_type": "execute_result"
    }
   ],
   "source": [
    "# Reload the data if needed.\n",
    "sample_data = pd.read_excel('data.xlsx').sample(10).reset_index(drop=True)\n",
    "updated_data = asyncio.run(title_abs_review(sample_data))\n",
    "\n",
    "print(\"Total cost: \")\n",
    "print(title_abs_review.get_total_cost())\n",
    "\n",
    "print(\"\\nDetailed cost:\")\n",
    "print(title_abs_review.reviewer_costs)\n",
    "\n",
    "updated_data"
   ]
  },
  {
   "cell_type": "code",
   "execution_count": 11,
   "metadata": {},
   "outputs": [
    {
     "name": "stdout",
     "output_type": "stream",
     "text": [
      "\n",
      "        Title: AVA: Towards Autonomous Visualization Agents through Visual Perception-Driven Decision-Making\n",
      "        Abstract: With recent advances in multi-modal foundation models, the previously text-only large language models (LLM) have evolved to incorporate visual input, opening up unprecedented opportunities for various applications in visualization. Our work explores the utilization of the visual perception ability of multi-modal LLMs to develop Autonomous Visualization Agents (AVAs) that can interpret and accomplish user-defined visualization objectives through natural language. We propose the first framework for the design of AVAs and present several usage scenarios intended to demonstrate the general applicability of the proposed paradigm. The addition of visual perception allows AVAs to act as the virtual visualization assistant for domain experts who may lack the knowledge or expertise in fine-tuning visualization outputs. Our preliminary exploration and proof-of-concept agents suggest that this approach can be widely applicable whenever the choices of appropriate visualization parameters require the interpretation of previous visual output. Feedback from unstructured interviews with experts in AI research, medical visualization, and radiology has been incorporated, highlighting the practicality and potential of AVAs. Our study indicates that AVAs represent a general paradigm for designing intelligent visualization systems that can achieve high-level visualization goals, which pave the way for developing expert-level visualization agents in the future.\n",
      "        Pouria's score: 2\n",
      "        Pouria's reasoning: The article describes the development of Autonomous Visualization Agents (AVAs) leveraging multi-modal large language models (LLMs) that can utilize visual inputs to accomplish visualization tasks through natural language. However, while it discusses visual perception in relation to LLMs, it does not explicitly mention their application to medical imaging data. The focus seems to be more on general visualization tasks rather than specifically addressing the context of medical imaging. Therefore, although the paper is related to LLMs, it does not directly meet the specified criteria of applying them to medical imaging data. Thus, I conclude that the paper does not fit the criteria as outlined.\n",
      "        Bardia's score: 2\n",
      "        Bardia's reasoning: The article discusses the development of Autonomous Visualization Agents that utilize multi-modal large language models for visualization tasks, but it does not specifically apply this to medical imaging data, making it irrelevant to the specified criteria.\n",
      "        Brad's score: None\n",
      "        Brad's reasoning: None\n",
      "        \n",
      "\n",
      "        Title: Ask and You Shall be Served: Representing and Solving Multi-agent Optimization Problems with Service Requesters and Providers\n",
      "        Abstract: In scenarios with numerous emergencies that arise and require the assistance of various rescue units (e.g., medical, fire, & police forces), the rescue units would ideally be allocated quickly and distributedly while aiming to minimize casualties. This is one of many examples of distributed settings with service providers (the rescue units) and service requesters (the emergencies) which we term service oriented settings. Allocating the service providers in a distributed manner while aiming for a global optimum is hard to model, let alone achieve, using the existing Distributed Constraint Optimization Problem (DCOP) framework. Hence, the need for a novel approach and corresponding algorithms. We present the Service Oriented Multi-Agent Optimization Problem (SOMAOP), a new framework that overcomes the shortcomings of DCOP in service oriented settings. We evaluate the framework using various algorithms based on auctions and matching algorithms (e.g., Gale Shapely). We empirically show that algorithms based on repeated auctions converge to a high quality solution very fast, while repeated matching problems converge slower, but produce higher quality solutions. We demonstrate the advantages of our approach over standard incomplete DCOP algorithms and a greedy centralized algorithm.\n",
      "        Pouria's score: 2\n",
      "        Pouria's reasoning: To evaluate the input article against the criteria of discussing large language model-based AI agents applied to medical imaging data, I first analyze the title and abstract provided. The title 'Ask and You Shall be Served: Representing and Solving Multi-agent Optimization Problems with Service Requesters and Providers' indicates a focus on optimization problems. The abstract discusses the allocation of service units (like medical and emergency services) in various scenarios, emphasizing distributed optimization. While it does involve an application related to medical services, it does not specifically mention large language models or any application to medical imaging data. Therefore, it does not meet the criteria required. This leads me to conclude that the content does not align with the specified topic.\n",
      "        Bardia's score: 2\n",
      "        Bardia's reasoning: The article discusses multi-agent optimization problems in emergency scenarios rather than large language models applied to medical imaging, thus not meeting the specified criteria.\n",
      "        Brad's score: None\n",
      "        Brad's reasoning: None\n",
      "        \n",
      "\n",
      "        Title: Adaptive therapy in cancer: the role of restrictions in the accumulation of mutations\n",
      "        Abstract: BACKGROUND: Cancer is currently one of the leading causes of premature death in the world, and is predicted to continue rising even despite the continuous discovery of novel treatments. New approaches, like adaptive therapy, try to minimize the problem of drug resistance, but there are still many open questions and unstudied phenomena that need to be tackled in order to make this approaches viable in real patients; among these, the possible effects that restrictions in the order of accumulation of mutations could have. RESULTS: We have developed a spatially explicit agent-based model capable of simulating tumor growth and adaptive therapy in a highly flexible way. We show that when we consider restrictions in the order of accumulation of mutations and their effect in tumor architecture, the predicted genotypes of the cells that are inhibiting the growth of resistant cells can be very different to the ones predicted by perfectly mixed models. CONCLUSION: We identify a divergence between the expected and real genotypes of the cells inhibiting the growth of the resistant population that has not been previously documented. This effect, if not taken into account, could negatively affect our predictions of adaptive therapy success and could hinder our advances in the development of new approaches to improve adaptive therapy. This discovery suggests the need for more studies that take into account the spatial component of cancer, specially when dealing with tumors with high heterogeneity. Furthermore, our model is able to simulate scenarios of tumor development and adaptive therapy, making it useful both for research and for education.\n",
      "        Pouria's score: 2\n",
      "        Pouria's reasoning: Upon reviewing the title and abstract, it is clear that this paper focuses on adaptive therapy in cancer and the role of mutation accumulation, which is fundamentally related to cancer treatment and biology. However, it does not discuss large language models (LLMs) or AI agents applied specifically to medical imaging data. The subject matter is entirely centered on theoretical modeling of cancer growth and does not mention any AI, language models, or imaging. Therefore, the study does not align with the criteria that seek articles specifically addressing LLM-based AI agents in the context of medical imaging.\n",
      "\n",
      "Based on these observations, the appropriate score for this paper is 2, as it does not meet the specified criteria.\n",
      "        Bardia's score: 2\n",
      "        Bardia's reasoning: The article discusses adaptive therapy and cancer mutations but does not address large language models or their application to medical imaging data, which is required for the criteria.\n",
      "        Brad's score: None\n",
      "        Brad's reasoning: None\n",
      "        \n",
      "\n",
      "        Title: Automated Kantian Ethics: A Faithful Implementation\n",
      "        Abstract: As we grant artificial intelligence increasing power and independence in contexts like healthcare, policing, and driving, AI faces moral dilemmas but lacks the tools to solve them. Warnings from regulators, philosophers, and computer scientists about the dangers of unethical artificial intelligence have spurred interest in automated ethics-i.e., the development of machines that can perform ethical reasoning. However, prior work in automated ethics rarely engages with philosophical literature. Philosophers have spent centuries debating moral dilemmas so automated ethics will be most nuanced, consistent, and reliable when it draws on philosophical literature. In this paper, I present an implementation of automated Kantian ethics that is faithful to the Kantian philosophical tradition. I formalize Kant's categorical imperative in Dyadic Deontic Logic, implement this formalization in the Isabelle/HOL theorem prover, and develop a testing framework to evaluate how well my implementation coheres with expected properties of Kantian ethic. My system is an early step towards philosophically mature ethical AI agents and it can make nuanced judgements in complex ethical dilemmas because it is grounded in philosophical literature. Because I use an interactive theorem prover, my system's judgements are explainable.\n",
      "        Pouria's score: 2\n",
      "        Pouria's reasoning: The title and abstract provided discuss the implementation of an automated Kantian ethics system for AI, focusing on ethical reasoning without any specific reference to large language models or their application to medical imaging data. The research instead addresses philosophical ethics in AI and emphasizes the theoretical framework and implementation details associated with Kantian ethics. Therefore, it does not align with the specified criteria about AI agents based on large language models applied specifically to medical imaging data.\n",
      "        Bardia's score: 2\n",
      "        Bardia's reasoning: This article discusses automated ethics in AI but does not focus on large language models or medical imaging data, making it irrelevant to the specified criteria.\n",
      "        Brad's score: None\n",
      "        Brad's reasoning: None\n",
      "        \n",
      "\n",
      "        Title: CREW: Facilitating Human-AI Teaming Research\n",
      "        Abstract: With the increasing deployment of artificial intelligence (AI) technologies, the potential of humans working with AI agents has been growing at a great speed. Human-AI teaming is an important paradigm for studying various aspects when humans and AI agents work together. The unique aspect of Human-AI teaming research is the need to jointly study humans and AI agents, demanding multidisciplinary research efforts from machine learning to human-computer interaction, robotics, cognitive science, neuroscience, psychology, social science, and complex systems. However, existing platforms for Human-AI teaming research are limited, often supporting oversimplified scenarios and a single task, or specifically focusing on either human-teaming research or multi-agent AI algorithms. We introduce CREW, a platform to facilitate Human-AI teaming research and engage collaborations from multiple scientific disciplines, with a strong emphasis on human involvement. It includes pre-built tasks for cognitive studies and Human-AI teaming with expandable potentials from our modular design. Following conventional cognitive neuroscience research, CREW also supports multimodal human physiological signal recording for behavior analysis. Moreover, CREW benchmarks real-time human-guided reinforcement learning agents using state-of-the-art algorithms and well-tuned baselines. With CREW, we were able to conduct 50 human subject studies within a week to verify the effectiveness of our benchmark.\n",
      "        Pouria's score: 2\n",
      "        Pouria's reasoning: The article discusses Human-AI teaming research and introduces the CREW platform to facilitate collaboration between humans and AI agents across various scientific disciplines. However, it does not specifically address the application of large language models-based AI agents to medical imaging data. The focus on human interaction and generalized AI collaboration diverges from the specific interest in medical imaging that the scoring task specifies. Therefore, it does not meet the criteria outlined, leading to a score of 2.\n",
      "        Bardia's score: 2\n",
      "        Bardia's reasoning: The article discusses a platform for Human-AI teaming research but does not specifically address large language models or their application in medical imaging data, which is the required focus.\n",
      "        Brad's score: None\n",
      "        Brad's reasoning: None\n",
      "        \n",
      "\n",
      "        Title: Behavioral analytics for myopic agents\n",
      "        Abstract: Many multi-agent systems have the structure of a single coordinator providing behavioral or financial incentives to a large number of agents. In such settings, two challenges faced by the coordinator are a finite budget from which to allocate incentives, and an initial lack of knowledge about the utility function of the agents. Here, we present a behavioral analytics approach to solve the coordinator's problem when the agents make decisions by maximizing utility functions that depend on prior system states, inputs, and other parameters that are initially unknown and subject to partially unknown temporal dynamics. Our behavioral analytics framework involves three steps: first, we develop a behavioral model that describes the decision-making process of an agent; second, we use data to estimate behavioral model parameters for each agent and then use these estimates to predict future decisions of each agent; and third, we use the estimated behavioral model parameters to optimize a set of costly incentives to provide to each agent. In this paper, we describe a specific set of tools, models, and approaches that fit into this framework, and that adapt models and incentives as new information is collected by repeating the second and third steps of this framework. Furthermore, we prove that the incentives computed by this adaptive approach are asymptotically optimal with respect to a given loss function that describes the coordinator's objective. We optimize incentives utilizing a decomposition scheme, where each sub-problem solves the coordinator's problem for a single agent, and the master problem is a pure integer program. We conclude with a simulation study to evaluate the effectiveness of our behavioral analytics approach in designing personalized treatment plans for a weight loss program. The results show that our approach maintains efficacy of the program while reducing its costs by up to 60%, while adaptive heuristics provide substantially less savings.\n",
      "        Pouria's score: 2\n",
      "        Pouria's reasoning: The article discusses a behavioral analytics framework aimed at optimizing incentives for agents in multi-agent systems. It does not mention anything related to large language models or their application to medical imaging data. The focus is on modeling decision-making processes and providing incentives, which is unrelated to AI agents used in the context specified in the task criteria. Therefore, it fails to meet the requirements for the review task, which is specifically about large language models in medical imaging.\n",
      "        Bardia's score: 2\n",
      "        Bardia's reasoning: The article discusses behavioral analytics in multi-agent systems but does not focus on large language models or their application to medical imaging data, thus it does not meet the criteria.\n",
      "        Brad's score: None\n",
      "        Brad's reasoning: None\n",
      "        \n",
      "\n",
      "        Title: Fusing an agent-based model of mosquito population dynamics with a statistical reconstruction of spatio-temporal abundance patterns\n",
      "        Abstract: The mosquito Aedes aegypti is the vector of a number of medically-important viruses, including dengue virus, yellow virus, chikungunya virus, and Zika virus, and as such vector control is a key approach to managing the diseases they cause. Understanding the impact of vector control on these diseases is aided by first understanding its impact on Ae. aegypti population dynamics. A number of detail-rich models have been developed to couple the dynamics of the immature and adult stages of Ae. aegypti. The numerous assumptions of these models enable them to realistically characterize impacts of mosquito control, but they also constrain the ability of such models to reproduce empirical patterns that do not conform to the models’ behavior. In contrast, statistical models afford sufficient flexibility to extract nuanced signals from noisy data, yet they have limited ability to make predictions about impacts of mosquito control on disease caused by pathogens that the mosquitoes transmit without extensive data on mosquitoes and disease. Here, we demonstrate how the differing strengths of mechanistic realism and statistical flexibility can be fused into a single model. Our analysis utilizes data from 176,352 household-level Ae. aegypti aspirator collections conducted during 1999-2011 in Iquitos, Peru. The key step in our approach is to calibrate a single parameter of the model to spatio-temporal abundance patterns predicted by a generalized additive model (GAM). In effect, this calibrated parameter absorbs residual variation in the abundance time-series not captured by other features of the mechanistic model. We then used this calibrated parameter and the literature-derived parameters in the agent-based model to explore Ae. aegypti population dynamics and the impact of insecticide spraying to kill adult mosquitoes. The baseline abundance predicted by the agent-based model closely matched that predicted by the GAM. Following spraying, the agent-based model predicted that mosquito abundance rebounds within about two months, commensurate with recent experimental data from Iquitos. Our approach was able to accurately reproduce abundance patterns in Iquitos and produce a realistic response to adulticide spraying, while retaining sufficient flexibility to be applied across a range of settings.\n",
      "        Pouria's score: 2\n",
      "        Pouria's reasoning: The title and abstract of the provided article focus on the dynamics of mosquito populations and their relationship with disease control, specifically discussing an agent-based model and statistical reconstruction. The subject matter is centered around epidemiology and vector control rather than medical imaging or large language models-based AI agents. There is no mention of AI technology, medical imaging data, or large language models which are the focal points specified in the scoring task. Therefore, this article does not meet the criteria for relevance to the requested topic.\n",
      "        Bardia's score: 2\n",
      "        Bardia's reasoning: The paper discusses a model for mosquito population dynamics and does not address large language models or medical imaging data, thus it does not meet the specified criteria.\n",
      "        Brad's score: None\n",
      "        Brad's reasoning: None\n",
      "        \n",
      "\n",
      "        Title: Deep learning for visualization and novelty detection in large X-ray diffraction datasets\n",
      "        Abstract: We apply variational autoencoders (VAE) to X-ray diffraction (XRD) data analysis on both simulated and experimental thin-film data. We show that crystal structure representations learned by a VAE reveal latent information, such as the structural similarity of textured diffraction patterns. While other artificial intelligence (AI) agents are effective at classifying XRD data into known phases, a similarly conditioned VAE is uniquely effective at knowing what it doesn't know, rapidly identifying novel phases and mixtures. These capabilities demonstrate that a VAE is a valuable AI agent for materials discovery and understanding XRD measurements both 'on-the-fly' and during post hoc analysis.\n",
      "        Pouria's score: 2\n",
      "        Pouria's reasoning: The title and abstract of the input item discuss the application of deep learning, specifically variational autoencoders (VAE), to the analysis of X-ray diffraction (XRD) data. While this involves the use of AI techniques, the focus is on materials science and crystal structure rather than medical imaging. The criteria specifically require discussions around large language models-based AI agents applied to medical imaging data; however, this article pertains to a different field (XRD data and materials discovery) and does not involve large language models, nor does it apply to medical imaging. Therefore, it does not meet the specified criteria.\n",
      "        Bardia's score: 2\n",
      "        Bardia's reasoning: The article discusses the application of variational autoencoders to X-ray diffraction data, which is not related to large language models or medical imaging, hence it does not meet the criteria.\n",
      "        Brad's score: None\n",
      "        Brad's reasoning: None\n",
      "        \n",
      "\n",
      "        Title: INFERRING EPIDEMIC DYNAMICS USING GAUSSIAN PROCESS EMULATION OF AGENT-BASED SIMULATIONS\n",
      "        Abstract: Computational models help decision makers understand epidemic dynamics to optimize public health interventions. Agent-based simulation of disease spread in synthetic populations allows us to compare and contrast different effects across identical populations or to investigate the effect of interventions keeping every other factor constant between \"digital twins\". In particular, we can observe the behavior of two different diseases as they evolve from identical initial conditions in the same population. FRED (A Framework for Reconstructing Epidemiological Dynamics) is an agent-based modeling system with a geospatial perspective using a synthetic population that is constructed based on the U.S. census data. Having synthetic data provides a baseline to get comparable results from different conditions and interventions. In this paper we show how Gaussian process regression can be used on FRED-synthesized data to infer the differing spatial dispersion of the epidemic dynamics for two disease conditions that start from the same initial conditions and spread among identical populations. Our results showcase the utility of agent-based simulations frameworks such as FRED for inferring differences between conditions where controlling for all confounding factors for such comparisons is next to impossible without synthetic data. We also show the advantage of surrogate models such as Gaussian process regression when the computational cost of inference with synthetic data alone is foreboding.\n",
      "        Pouria's score: 2\n",
      "        Pouria's reasoning: The article title and abstract provided focus on epidemic dynamics and the use of agent-based simulations for public health interventions, specifically employing Gaussian process regression on data generated by the FRED system. This falls outside the specified criteria of discussing large language models-based AI agents applied to medical imaging data. The content of the paper does not indicate any application or analysis related to medical imaging or large language models, thus it does not meet the criteria outlined.\n",
      "        Bardia's score: 2\n",
      "        Bardia's reasoning: The article focuses on agent-based simulations of epidemic dynamics and Gaussian process regression, which are not related to large language models or the application of AI agents in medical imaging data.\n",
      "        Brad's score: None\n",
      "        Brad's reasoning: None\n",
      "        \n",
      "\n",
      "        Title: Provably Efficient Cooperative Multi-Agent Reinforcement Learning with Function Approximation\n",
      "        Abstract: Reinforcement learning in cooperative multi-agent settings has recently advanced significantly in its scope, with applications in cooperative estimation for advertising, dynamic treatment regimes, distributed control, and federated learning. In this paper, we discuss the problem of cooperative multi-agent RL with function approximation, where a group of agents communicates with each other to jointly solve an episodic MDP. We demonstrate that via careful message-passing and cooperative value iteration, it is possible to achieve near-optimal no-regret learning even with a fixed constant communication budget. Next, we demonstrate that even in heterogeneous cooperative settings, it is possible to achieve Pareto-optimal no-regret learning with limited communication. Our work generalizes several ideas from the multi-agent contextual and multi-armed bandit literature to MDPs and reinforcement learning.\n",
      "        Pouria's score: 2\n",
      "        Pouria's reasoning: The title and abstract of the article discuss multi-agent reinforcement learning and its applications in various fields, but there is no mention of large language models, AI agents, or specifically medical imaging data. The focus is on cooperative multi-agent settings, communication between agents, and achieving optimal learning in that context, which is unrelated to the specified criteria regarding large language models applied to medical imaging. Therefore, I conclude that this article does not meet the criteria set in this task.\n",
      "        Bardia's score: 2\n",
      "        Bardia's reasoning: The article discusses reinforcement learning in cooperative multi-agent settings but does not address large language models or medical imaging data, making it irrelevant to the specified criteria.\n",
      "        Brad's score: None\n",
      "        Brad's reasoning: None\n",
      "        \n"
     ]
    }
   ],
   "source": [
    "for i, row in updated_data.iterrows():\n",
    "    print(\n",
    "        f\"\"\"\n",
    "        Title: {row.Title}\n",
    "        Abstract: {row.abstract}\n",
    "        Pouria's score: {row[\"round-A_Pouria_score\"]}\n",
    "        Pouria's reasoning: {row[\"round-A_Pouria_reasoning\"]}\n",
    "        Bardia's score: {row[\"round-A_Bardia_score\"]}\n",
    "        Bardia's reasoning: {row[\"round-A_Bardia_reasoning\"]}\n",
    "        Brad's score: {None if \"round-B_Brad_score\" not in row else row[\"round-B_Brad_score\"]}\n",
    "        Brad's reasoning: {None if \"round-B_Brad_reasoning\" not in row else row[\"round-B_Brad_reasoning\"]}\n",
    "        \"\"\"\n",
    "    )"
   ]
  }
 ],
 "metadata": {
  "kernelspec": {
   "display_name": "venv",
   "language": "python",
   "name": "python3"
  },
  "language_info": {
   "codemirror_mode": {
    "name": "ipython",
    "version": 3
   },
   "file_extension": ".py",
   "mimetype": "text/x-python",
   "name": "python",
   "nbconvert_exporter": "python",
   "pygments_lexer": "ipython3",
   "version": "3.9.6"
  }
 },
 "nbformat": 4,
 "nbformat_minor": 2
}
