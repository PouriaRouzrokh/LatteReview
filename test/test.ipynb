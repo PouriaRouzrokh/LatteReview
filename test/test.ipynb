{
 "cells": [
  {
   "cell_type": "code",
   "execution_count": 1,
   "metadata": {},
   "outputs": [
    {
     "name": "stderr",
     "output_type": "stream",
     "text": [
      "Failed to update token costs. Using static costs.\n",
      "/Users/pouria/Documents/Coding/LatteReview/venv/lib/python3.9/site-packages/tokencost/constants.py:69: RuntimeWarning: coroutine 'update_token_costs' was never awaited\n",
      "  logger.error(\"Failed to update token costs. Using static costs.\")\n",
      "RuntimeWarning: Enable tracemalloc to get the object allocation traceback\n",
      "/Users/pouria/Documents/Coding/LatteReview/venv/lib/python3.9/site-packages/tqdm/auto.py:21: TqdmWarning: IProgress not found. Please update jupyter and ipywidgets. See https://ipywidgets.readthedocs.io/en/stable/user_install.html\n",
      "  from .autonotebook import tqdm as notebook_tqdm\n"
     ]
    }
   ],
   "source": [
    "%reload_ext autoreload\n",
    "%autoreload 2\n",
    "\n",
    "import asyncio\n",
    "import json\n",
    "import nest_asyncio\n",
    "import os\n",
    "import sys\n",
    "from dotenv import load_dotenv\n",
    "import numpy as np\n",
    "import pandas as pd\n",
    "\n",
    "sys.path.append('../')\n",
    "from lattereview.providers.openai_provider import OpenAIProvider\n",
    "from lattereview.providers.ollama_provider import OllamaProvider\n",
    "from lattereview.agents.scoring_reviewer import ScoringReviewer\n",
    "from lattereview.review_workflow import ReviewWorkflow"
   ]
  },
  {
   "cell_type": "markdown",
   "metadata": {},
   "source": [
    "## Setting up the notebook"
   ]
  },
  {
   "cell_type": "markdown",
   "metadata": {},
   "source": [
    "Loading environment variables:"
   ]
  },
  {
   "cell_type": "code",
   "execution_count": 2,
   "metadata": {},
   "outputs": [
    {
     "name": "stdout",
     "output_type": "stream",
     "text": [
      "sk-cq_M0pNgHhCFnlDOCMnagYA1l2X7Yea5CL0ci5pZMNT3BlbkFJ0m0x9wm5M_EstX5SjLu_kdwGMDYjkUdviNPs4pe9cA\n"
     ]
    }
   ],
   "source": [
    "# Load environment variables from .env file\n",
    "load_dotenv('../.env')\n",
    "print(os.getenv('OPENAI_API_KEY'))\n",
    "\n",
    "# Enable asyncio in Jupyter\n",
    "nest_asyncio.apply()"
   ]
  },
  {
   "cell_type": "markdown",
   "metadata": {},
   "source": [
    "Loading a dummy dataset:"
   ]
  },
  {
   "cell_type": "code",
   "execution_count": 3,
   "metadata": {},
   "outputs": [
    {
     "data": {
      "text/html": [
       "<div>\n",
       "<style scoped>\n",
       "    .dataframe tbody tr th:only-of-type {\n",
       "        vertical-align: middle;\n",
       "    }\n",
       "\n",
       "    .dataframe tbody tr th {\n",
       "        vertical-align: top;\n",
       "    }\n",
       "\n",
       "    .dataframe thead th {\n",
       "        text-align: right;\n",
       "    }\n",
       "</style>\n",
       "<table border=\"1\" class=\"dataframe\">\n",
       "  <thead>\n",
       "    <tr style=\"text-align: right;\">\n",
       "      <th></th>\n",
       "      <th>ID</th>\n",
       "      <th>Title</th>\n",
       "      <th>1st author</th>\n",
       "      <th>repo</th>\n",
       "      <th>year</th>\n",
       "      <th>abstract</th>\n",
       "    </tr>\n",
       "  </thead>\n",
       "  <tbody>\n",
       "    <tr>\n",
       "      <th>0</th>\n",
       "      <td>1</td>\n",
       "      <td>Segmentized quarantine policy for managing a t...</td>\n",
       "      <td>Kim, J.</td>\n",
       "      <td>arXiv</td>\n",
       "      <td>2024</td>\n",
       "      <td>By the end of 2021, COVID-19 had spread to ove...</td>\n",
       "    </tr>\n",
       "    <tr>\n",
       "      <th>1</th>\n",
       "      <td>2</td>\n",
       "      <td>AutoProteinEngine: A Large Language Model Driv...</td>\n",
       "      <td>Liu, Y.</td>\n",
       "      <td>arXiv</td>\n",
       "      <td>2024</td>\n",
       "      <td>Protein engineering is important for biomedica...</td>\n",
       "    </tr>\n",
       "    <tr>\n",
       "      <th>2</th>\n",
       "      <td>3</td>\n",
       "      <td>Integration of Large Vision Language Models fo...</td>\n",
       "      <td>Chen, Z.</td>\n",
       "      <td>arXiv</td>\n",
       "      <td>2024</td>\n",
       "      <td>Traditional natural disaster response involves...</td>\n",
       "    </tr>\n",
       "    <tr>\n",
       "      <th>3</th>\n",
       "      <td>4</td>\n",
       "      <td>Choice between Partial Trajectories</td>\n",
       "      <td>Marklund, H.</td>\n",
       "      <td>arXiv</td>\n",
       "      <td>2024</td>\n",
       "      <td>As AI agents generate increasingly sophisticat...</td>\n",
       "    </tr>\n",
       "    <tr>\n",
       "      <th>4</th>\n",
       "      <td>5</td>\n",
       "      <td>Building Altruistic and Moral AI Agent with Br...</td>\n",
       "      <td>Zhao, F.</td>\n",
       "      <td>arXiv</td>\n",
       "      <td>2024</td>\n",
       "      <td>As AI closely interacts with human society, it...</td>\n",
       "    </tr>\n",
       "  </tbody>\n",
       "</table>\n",
       "</div>"
      ],
      "text/plain": [
       "   ID                                              Title    1st author   repo  \\\n",
       "0   1  Segmentized quarantine policy for managing a t...       Kim, J.  arXiv   \n",
       "1   2  AutoProteinEngine: A Large Language Model Driv...       Liu, Y.  arXiv   \n",
       "2   3  Integration of Large Vision Language Models fo...      Chen, Z.  arXiv   \n",
       "3   4                Choice between Partial Trajectories  Marklund, H.  arXiv   \n",
       "4   5  Building Altruistic and Moral AI Agent with Br...      Zhao, F.  arXiv   \n",
       "\n",
       "   year                                           abstract  \n",
       "0  2024  By the end of 2021, COVID-19 had spread to ove...  \n",
       "1  2024  Protein engineering is important for biomedica...  \n",
       "2  2024  Traditional natural disaster response involves...  \n",
       "3  2024  As AI agents generate increasingly sophisticat...  \n",
       "4  2024  As AI closely interacts with human society, it...  "
      ]
     },
     "execution_count": 3,
     "metadata": {},
     "output_type": "execute_result"
    }
   ],
   "source": [
    "data = pd.read_excel('data.xlsx')\n",
    "data.head()"
   ]
  },
  {
   "cell_type": "markdown",
   "metadata": {},
   "source": [
    "## Testing the base functionalities"
   ]
  },
  {
   "cell_type": "markdown",
   "metadata": {},
   "source": [
    "Testing the OpenAI provider:"
   ]
  },
  {
   "cell_type": "code",
   "execution_count": 16,
   "metadata": {},
   "outputs": [
    {
     "data": {
      "text/plain": [
       "('The capital of France is Paris.',\n",
       " {'input_cost': 1.05e-06, 'output_cost': 4.2e-06, 'total_cost': 5.25e-06})"
      ]
     },
     "execution_count": 16,
     "metadata": {},
     "output_type": "execute_result"
    }
   ],
   "source": [
    "openanai_provider = OpenAIProvider(model=\"gpt-4o-mini\")\n",
    "question = \"What is the capital of France?\"\n",
    "asyncio.run(openanai_provider.get_response(question, temperature=0.9))"
   ]
  },
  {
   "cell_type": "markdown",
   "metadata": {},
   "source": [
    "Testing the Ollama provider:"
   ]
  },
  {
   "cell_type": "code",
   "execution_count": 17,
   "metadata": {},
   "outputs": [
    {
     "data": {
      "text/plain": [
       "('The capital of France is Paris!',\n",
       " {'input_cost': 0, 'output_cost': 0, 'total_cost': 0})"
      ]
     },
     "execution_count": 17,
     "metadata": {},
     "output_type": "execute_result"
    }
   ],
   "source": [
    "ollama_provider = OllamaProvider(model=\"llama3.2-vision:latest\", host=\"http://localhost:11434\")\n",
    "question = \"What is the capital of France?\"\n",
    "asyncio.run(ollama_provider.get_response(question))"
   ]
  },
  {
   "cell_type": "markdown",
   "metadata": {},
   "source": [
    "Testing the ScoringReviewer agent:"
   ]
  },
  {
   "cell_type": "code",
   "execution_count": 4,
   "metadata": {},
   "outputs": [
    {
     "name": "stdout",
     "output_type": "stream",
     "text": [
      "Inputs:\n",
      "\n",
      " segmentized quarantine policy for managing a tradeoff between containment of infectious disease and social cost of quarantine\n",
      "autoproteinengine: a large language model driven agent framework for multimodal automl in protein engineering\n",
      "integration of large vision language models for efficient post-disaster damage assessment and reporting\n",
      "\n",
      "\n",
      " Outputs:\n",
      "{'reasoning': 'The article title suggests a clear and specific policy approach that aims to balance the need for disease containment with social costs, which meets the criteria.', 'score': 2}\n",
      "{'reasoning': \"The input item 'autoproteinengine: a large language model driven agent framework for multimodal automl in protein engineering' appears to meet the criteria as it describes a specific application of AI in protein engineering, which is relevant to my expertise.\", 'score': 2}\n",
      "{'reasoning': 'The input item seems to meet the criteria as it involves the integration of large vision language models for post-disaster damage assessment and reporting, which is a specific application mentioned in the task.', 'score': 2}\n",
      "\n",
      "Costs:\n",
      "\n",
      "{'input_cost': 0, 'output_cost': 0, 'total_cost': 0}\n",
      "{'input_cost': 0, 'output_cost': 0, 'total_cost': 0}\n",
      "{'input_cost': 0, 'output_cost': 0, 'total_cost': 0}\n",
      "\n",
      "Total cost:\n",
      "\n",
      "0\n"
     ]
    }
   ],
   "source": [
    "agent = ScoringReviewer(\n",
    "    provider=OpenAIProvider(model=\"gpt-4o-mini\"),\n",
    "    # provider=OllamaProvider(model=\"llama3.2-vision:latest\", host=\"http://localhost:11434\"),\n",
    "    name=\"Pouria\",\n",
    "    backstory=\"an expert reviewer and researcher!\",\n",
    "    input_description = \"article title\",\n",
    "    temperature=0.1, # ineffective for ollama\n",
    "    reasoning = \"brief\",\n",
    "    max_tokens=100, # ineffective for ollama\n",
    "    review_criteria=\"Look for articles that certainly do not employ any AI or machine learning agents\",\n",
    "    score_set=[1, 2],\n",
    "    scoring_rules='Score 1 if the paper does not meet the criteria, and 2 if the paper meets the criteria.',\n",
    ")\n",
    "\n",
    "\n",
    "# Dummy input\n",
    "text_list = data.Title.str.lower().tolist()\n",
    "print(\"Inputs:\\n\\n\", '\\n'.join(text_list[:3]))\n",
    "\n",
    "# Dummy review\n",
    "results, total_cost = asyncio.run(agent.review_items(text_list[:3]))\n",
    "print(\"\\n\\n Outputs:\")\n",
    "for result in results:\n",
    "    print(result)\n",
    "\n",
    "# Dummy costs\n",
    "print(\"\\nCosts:\\n\")\n",
    "for item in agent.memory:\n",
    "    print(item['cost'])\n",
    "\n",
    "print(\"\\nTotal cost:\\n\")\n",
    "print(total_cost)"
   ]
  },
  {
   "cell_type": "markdown",
   "metadata": {},
   "source": [
    "## Testing the main Functionalities"
   ]
  },
  {
   "cell_type": "markdown",
   "metadata": {},
   "source": [
    "#### A multiagent review workflow for doing title/abstract analysis"
   ]
  },
  {
   "cell_type": "markdown",
   "metadata": {},
   "source": [
    "Setting up the agents:"
   ]
  },
  {
   "cell_type": "code",
   "execution_count": 19,
   "metadata": {},
   "outputs": [],
   "source": [
    "pouria = ScoringReviewer(\n",
    "    # provider=OpenAIProvider(model=\"gpt-4o-mini\"),\n",
    "    provider=OllamaProvider(model=\"llama3.2-vision:latest\", host=\"http://localhost:11434\"),\n",
    "    name=\"Pouria\",\n",
    "    backstory=\"a radiologist with many years of background in statistcis and data science, who are famous among your colleagues for your systematic thinking, organizaton of thoughts, and being conservative\",\n",
    "    input_description = \"tilte and abstract of scientific articles\",\n",
    "    temperature=0.1, # ineffective for ollama\n",
    "    reasoning = \"cot\",\n",
    "    max_tokens=100, # ineffective for ollama\n",
    "    scoring_task=\"Look for articles that disucss large languange models-based AI agents applied to medical imaging data\",\n",
    "    score_set=[1, 2],\n",
    "    scoring_rules='Score 1 if the paper meets the criteria, and 2 if the paper does not meet the criteria.',\n",
    ")\n",
    "\n",
    "bardia = ScoringReviewer(\n",
    "    provider=OpenAIProvider(model=\"gpt-4o-mini\"),\n",
    "    name=\"Bardia\",\n",
    "    backstory=\"an expert in data science with a background in developing ML models for healthcare, who are famous among your colleagues for your creativity and out of the box thinking\",\n",
    "    input_description = \"tilte and abstract of scientific articles\",\n",
    "    temperature=0.7,\n",
    "    reasoning = \"brief\",\n",
    "    max_tokens=100,\n",
    "    scoring_task=\"Look for articles that disucss large languange models-based AI agents applied to medical imaging data\",\n",
    "    score_set=[1, 2],\n",
    "    scoring_rules='Score 1 if the paper meets the criteria, and 2 if the paper does not meet the criteria.',\n",
    ")\n",
    "\n",
    "brad = ScoringReviewer(\n",
    "    provider=OpenAIProvider(model=\"gpt-4o\"),\n",
    "    name=\"Brad\",\n",
    "    backstory=\"a senior radiologist with a PhD in computer science and years of experience as the director of a DL lab focused on developing ML models for radiology and healthcare\",\n",
    "    input_description = \"tilte and abstract of scientific articles\",\n",
    "    temperature=0.4,\n",
    "    reasoning = \"cot\",\n",
    "    max_tokens=100,\n",
    "    scoring_task=\"\"\"Pouria and Bardia have Looked for articles that disucss large languange models-based AI agents applied to medical imaging data. \n",
    "                       They scored an article 1 if they thought it does not meet this criteria, 2 if they thought it meets the criteria, 0 if they were uncertain of scoring.\n",
    "                       You will receive an article they have had different opinions about, as well as each of their scores and their reasoning for that score. Read their reviews and determine who you agree with. \n",
    "                    \"\"\",\n",
    "    score_set=[1, 2],\n",
    "    scoring_rules=\"\"\"Score 1 if you agree with Pouria, and score 2 if you agree with Bardia.\"\"\",\n",
    ")\n"
   ]
  },
  {
   "cell_type": "markdown",
   "metadata": {},
   "source": [
    "Setting up the review workflow:"
   ]
  },
  {
   "cell_type": "code",
   "execution_count": 30,
   "metadata": {},
   "outputs": [],
   "source": [
    "title_abs_review = ReviewWorkflow(\n",
    "    workflow_schema=[\n",
    "        {\n",
    "            \"round\": 'A',\n",
    "            \"reviewers\": [pouria, bardia],\n",
    "            \"inputs\": [\"Title\", \"abstract\"]\n",
    "        },\n",
    "        {\n",
    "            \"round\": 'B',\n",
    "            \"reviewers\": [brad],\n",
    "            \"inputs\": [\"Title\", \"abstract\", \"round-A_Pouria_output\", \"round-A_Bardia_output\"],\n",
    "            \"filter\": lambda row: row[\"round-A_Pouria_output\"][\"score\"] != row[\"round-A_Bardia_output\"][\"score\"]\n",
    "        }\n",
    "    ]\n",
    ")"
   ]
  },
  {
   "cell_type": "markdown",
   "metadata": {},
   "source": [
    "Applying the review workflow to a number of sample articles:"
   ]
  },
  {
   "cell_type": "code",
   "execution_count": 31,
   "metadata": {},
   "outputs": [
    {
     "name": "stdout",
     "output_type": "stream",
     "text": [
      "\n",
      "Starting review round A (1/2)...\n",
      "Reviewers: ['Pouria', 'Bardia']\n",
      "Input data: ['Title', 'abstract']\n"
     ]
    },
    {
     "name": "stderr",
     "output_type": "stream",
     "text": [
      "                                                       \r"
     ]
    },
    {
     "name": "stdout",
     "output_type": "stream",
     "text": [
      "Number of eligible rows for review: 10\n"
     ]
    },
    {
     "name": "stderr",
     "output_type": "stream",
     "text": [
      "Reviewing items: 100%|██████████| 10/10 [02:11<00:00, 13.19s/it]\n",
      "Reviewing items: 100%|██████████| 10/10 [00:03<00:00,  2.74it/s]\n",
      "                                                         \r"
     ]
    },
    {
     "name": "stdout",
     "output_type": "stream",
     "text": [
      "\n",
      "Starting review round B (2/2)...\n",
      "Reviewers: ['Brad']\n",
      "Input data: ['Title', 'abstract', 'round-A_Pouria_output', 'round-A_Bardia_output']\n"
     ]
    },
    {
     "name": "stderr",
     "output_type": "stream",
     "text": [
      "                                                       "
     ]
    },
    {
     "name": "stdout",
     "output_type": "stream",
     "text": [
      "Number of eligible rows for review: 0\n",
      "Skipping review round B - no eligible rows\n",
      "Total cost: \n",
      "8.385e-05\n",
      "\n",
      "Detailed cost:\n",
      "{('A', 'Pouria'): 0, ('A', 'Bardia'): 8.385e-05}\n"
     ]
    },
    {
     "name": "stderr",
     "output_type": "stream",
     "text": [
      "\r"
     ]
    },
    {
     "data": {
      "text/html": [
       "<div>\n",
       "<style scoped>\n",
       "    .dataframe tbody tr th:only-of-type {\n",
       "        vertical-align: middle;\n",
       "    }\n",
       "\n",
       "    .dataframe tbody tr th {\n",
       "        vertical-align: top;\n",
       "    }\n",
       "\n",
       "    .dataframe thead th {\n",
       "        text-align: right;\n",
       "    }\n",
       "</style>\n",
       "<table border=\"1\" class=\"dataframe\">\n",
       "  <thead>\n",
       "    <tr style=\"text-align: right;\">\n",
       "      <th></th>\n",
       "      <th>ID</th>\n",
       "      <th>Title</th>\n",
       "      <th>1st author</th>\n",
       "      <th>repo</th>\n",
       "      <th>year</th>\n",
       "      <th>abstract</th>\n",
       "      <th>round-A_Pouria_output</th>\n",
       "      <th>round-A_Bardia_output</th>\n",
       "      <th>input_item</th>\n",
       "    </tr>\n",
       "  </thead>\n",
       "  <tbody>\n",
       "    <tr>\n",
       "      <th>0</th>\n",
       "      <td>497</td>\n",
       "      <td>Group-based Motion Prediction for Navigation i...</td>\n",
       "      <td>Wang, A.</td>\n",
       "      <td>arXiv</td>\n",
       "      <td>2021</td>\n",
       "      <td>We focus on the problem of planning the motion...</td>\n",
       "      <td>{'reasoning': 'The input item abstract discuss...</td>\n",
       "      <td>{'reasoning': 'The article discusses multi-age...</td>\n",
       "      <td>Title: Group-based Motion Prediction for Navig...</td>\n",
       "    </tr>\n",
       "    <tr>\n",
       "      <th>1</th>\n",
       "      <td>34</td>\n",
       "      <td>Improved precision oncology question-answering...</td>\n",
       "      <td>Das, R.</td>\n",
       "      <td>medRxiv</td>\n",
       "      <td>2024</td>\n",
       "      <td>Despite the widespread application of Large La...</td>\n",
       "      <td>{'reasoning': 'The article discusses the devel...</td>\n",
       "      <td>{'reasoning': 'The article discusses robot mot...</td>\n",
       "      <td>Title: Improved precision oncology question-an...</td>\n",
       "    </tr>\n",
       "    <tr>\n",
       "      <th>2</th>\n",
       "      <td>42</td>\n",
       "      <td>Multi-Agent Obstacle Avoidance using Velocity ...</td>\n",
       "      <td>Roncero, A.S.</td>\n",
       "      <td>arXiv</td>\n",
       "      <td>2024</td>\n",
       "      <td>Velocity Obstacles (VO) methods form a paradig...</td>\n",
       "      <td>{'reasoning': 'The input item discusses the ge...</td>\n",
       "      <td>{'reasoning': 'The article discusses synthetic...</td>\n",
       "      <td>Title: Multi-Agent Obstacle Avoidance using Ve...</td>\n",
       "    </tr>\n",
       "    <tr>\n",
       "      <th>3</th>\n",
       "      <td>117</td>\n",
       "      <td>EXPLORING PROSOCIAL IRRATIONALITY FOR LLM AGEN...</td>\n",
       "      <td>Liu, X.</td>\n",
       "      <td>arXiv</td>\n",
       "      <td>2024</td>\n",
       "      <td>Large language models (LLMs) have been shown t...</td>\n",
       "      <td>{'reasoning': 'The input item discusses topolo...</td>\n",
       "      <td>{'reasoning': 'The article discusses agent-bas...</td>\n",
       "      <td>Title: EXPLORING PROSOCIAL IRRATIONALITY FOR L...</td>\n",
       "    </tr>\n",
       "    <tr>\n",
       "      <th>4</th>\n",
       "      <td>644</td>\n",
       "      <td>Topological data analysis of zebrafish patterns</td>\n",
       "      <td>McGuirl, M.R.</td>\n",
       "      <td>arXiv</td>\n",
       "      <td>2019</td>\n",
       "      <td>Self-organized pattern behavior is ubiquitous ...</td>\n",
       "      <td>{'reasoning': 'The input item discusses the de...</td>\n",
       "      <td>{'reasoning': 'The article focuses on topologi...</td>\n",
       "      <td>Title: Topological data analysis of zebrafish ...</td>\n",
       "    </tr>\n",
       "    <tr>\n",
       "      <th>5</th>\n",
       "      <td>325</td>\n",
       "      <td>Generating synthetic multi-dimensional molecul...</td>\n",
       "      <td>An, G.</td>\n",
       "      <td>arXiv</td>\n",
       "      <td>2023</td>\n",
       "      <td>The use of synthetic data is recognized as a c...</td>\n",
       "      <td>{'reasoning': 'The input item discusses Large ...</td>\n",
       "      <td>{'reasoning': 'The article focuses on a roboti...</td>\n",
       "      <td>Title: Generating synthetic multi-dimensional ...</td>\n",
       "    </tr>\n",
       "    <tr>\n",
       "      <th>6</th>\n",
       "      <td>229</td>\n",
       "      <td>Towards a Surgeon-in-the-Loop Ophthalmic Robot...</td>\n",
       "      <td>Gomaa, A.</td>\n",
       "      <td>arXiv</td>\n",
       "      <td>2023</td>\n",
       "      <td>Robot-assisted surgical systems have demonstra...</td>\n",
       "      <td>{'reasoning': 'The input item discusses the ap...</td>\n",
       "      <td>{'reasoning': 'The paper discusses reinforceme...</td>\n",
       "      <td>Title: Towards a Surgeon-in-the-Loop Ophthalmi...</td>\n",
       "    </tr>\n",
       "    <tr>\n",
       "      <th>7</th>\n",
       "      <td>166</td>\n",
       "      <td>Promising and worth-to-try future directions f...</td>\n",
       "      <td>Elsheikh, A.</td>\n",
       "      <td>arXiv</td>\n",
       "      <td>2024</td>\n",
       "      <td>The execution and runtime performance of model...</td>\n",
       "      <td>{'reasoning': 'The input item discusses an age...</td>\n",
       "      <td>{'reasoning': 'The article discusses the appli...</td>\n",
       "      <td>Title: Promising and worth-to-try future direc...</td>\n",
       "    </tr>\n",
       "    <tr>\n",
       "      <th>8</th>\n",
       "      <td>261</td>\n",
       "      <td>PDRL: Multi-Agent based Reinforcement Learning...</td>\n",
       "      <td>Shaik, T.</td>\n",
       "      <td>arXiv</td>\n",
       "      <td>2023</td>\n",
       "      <td>Reinforcement learning has been increasingly a...</td>\n",
       "      <td>{'reasoning': 'The input item discusses a rein...</td>\n",
       "      <td>{'reasoning': 'The article focuses on the soci...</td>\n",
       "      <td>Title: PDRL: Multi-Agent based Reinforcement L...</td>\n",
       "    </tr>\n",
       "    <tr>\n",
       "      <th>9</th>\n",
       "      <td>103</td>\n",
       "      <td>MALLM-GAN: MULTI-AGENT LARGE LANGUAGE MODEL AS...</td>\n",
       "      <td>Ling, Y.</td>\n",
       "      <td>arXiv</td>\n",
       "      <td>2024</td>\n",
       "      <td>In the era of big data, access to abundant dat...</td>\n",
       "      <td>{'reasoning': 'The input item discusses surrog...</td>\n",
       "      <td>{'reasoning': 'The article discusses a framewo...</td>\n",
       "      <td>Title: MALLM-GAN: MULTI-AGENT LARGE LANGUAGE M...</td>\n",
       "    </tr>\n",
       "  </tbody>\n",
       "</table>\n",
       "</div>"
      ],
      "text/plain": [
       "    ID                                              Title     1st author  \\\n",
       "0  497  Group-based Motion Prediction for Navigation i...       Wang, A.   \n",
       "1   34  Improved precision oncology question-answering...        Das, R.   \n",
       "2   42  Multi-Agent Obstacle Avoidance using Velocity ...  Roncero, A.S.   \n",
       "3  117  EXPLORING PROSOCIAL IRRATIONALITY FOR LLM AGEN...        Liu, X.   \n",
       "4  644    Topological data analysis of zebrafish patterns  McGuirl, M.R.   \n",
       "5  325  Generating synthetic multi-dimensional molecul...         An, G.   \n",
       "6  229  Towards a Surgeon-in-the-Loop Ophthalmic Robot...      Gomaa, A.   \n",
       "7  166  Promising and worth-to-try future directions f...   Elsheikh, A.   \n",
       "8  261  PDRL: Multi-Agent based Reinforcement Learning...      Shaik, T.   \n",
       "9  103  MALLM-GAN: MULTI-AGENT LARGE LANGUAGE MODEL AS...       Ling, Y.   \n",
       "\n",
       "      repo  year                                           abstract  \\\n",
       "0    arXiv  2021  We focus on the problem of planning the motion...   \n",
       "1  medRxiv  2024  Despite the widespread application of Large La...   \n",
       "2    arXiv  2024  Velocity Obstacles (VO) methods form a paradig...   \n",
       "3    arXiv  2024  Large language models (LLMs) have been shown t...   \n",
       "4    arXiv  2019  Self-organized pattern behavior is ubiquitous ...   \n",
       "5    arXiv  2023  The use of synthetic data is recognized as a c...   \n",
       "6    arXiv  2023  Robot-assisted surgical systems have demonstra...   \n",
       "7    arXiv  2024  The execution and runtime performance of model...   \n",
       "8    arXiv  2023  Reinforcement learning has been increasingly a...   \n",
       "9    arXiv  2024  In the era of big data, access to abundant dat...   \n",
       "\n",
       "                               round-A_Pouria_output  \\\n",
       "0  {'reasoning': 'The input item abstract discuss...   \n",
       "1  {'reasoning': 'The article discusses the devel...   \n",
       "2  {'reasoning': 'The input item discusses the ge...   \n",
       "3  {'reasoning': 'The input item discusses topolo...   \n",
       "4  {'reasoning': 'The input item discusses the de...   \n",
       "5  {'reasoning': 'The input item discusses Large ...   \n",
       "6  {'reasoning': 'The input item discusses the ap...   \n",
       "7  {'reasoning': 'The input item discusses an age...   \n",
       "8  {'reasoning': 'The input item discusses a rein...   \n",
       "9  {'reasoning': 'The input item discusses surrog...   \n",
       "\n",
       "                               round-A_Bardia_output  \\\n",
       "0  {'reasoning': 'The article discusses multi-age...   \n",
       "1  {'reasoning': 'The article discusses robot mot...   \n",
       "2  {'reasoning': 'The article discusses synthetic...   \n",
       "3  {'reasoning': 'The article discusses agent-bas...   \n",
       "4  {'reasoning': 'The article focuses on topologi...   \n",
       "5  {'reasoning': 'The article focuses on a roboti...   \n",
       "6  {'reasoning': 'The paper discusses reinforceme...   \n",
       "7  {'reasoning': 'The article discusses the appli...   \n",
       "8  {'reasoning': 'The article focuses on the soci...   \n",
       "9  {'reasoning': 'The article discusses a framewo...   \n",
       "\n",
       "                                          input_item  \n",
       "0  Title: Group-based Motion Prediction for Navig...  \n",
       "1  Title: Improved precision oncology question-an...  \n",
       "2  Title: Multi-Agent Obstacle Avoidance using Ve...  \n",
       "3  Title: EXPLORING PROSOCIAL IRRATIONALITY FOR L...  \n",
       "4  Title: Topological data analysis of zebrafish ...  \n",
       "5  Title: Generating synthetic multi-dimensional ...  \n",
       "6  Title: Towards a Surgeon-in-the-Loop Ophthalmi...  \n",
       "7  Title: Promising and worth-to-try future direc...  \n",
       "8  Title: PDRL: Multi-Agent based Reinforcement L...  \n",
       "9  Title: MALLM-GAN: MULTI-AGENT LARGE LANGUAGE M...  "
      ]
     },
     "execution_count": 31,
     "metadata": {},
     "output_type": "execute_result"
    }
   ],
   "source": [
    "# Reload the data if needed.\n",
    "sample_data = pd.read_excel('data.xlsx').sample(10).reset_index(drop=True)\n",
    "updated_data = asyncio.run(title_abs_review(sample_data))\n",
    "\n",
    "print(\"Total cost: \")\n",
    "print(title_abs_review.get_total_cost())\n",
    "\n",
    "print(\"\\nDetailed cost:\")\n",
    "print(title_abs_review.reviewer_costs)\n",
    "\n",
    "updated_data"
   ]
  },
  {
   "cell_type": "code",
   "execution_count": 36,
   "metadata": {},
   "outputs": [
    {
     "name": "stdout",
     "output_type": "stream",
     "text": [
      "\n",
      "        Title: Group-based Motion Prediction for Navigation in Crowded Environments\n",
      "        Abstract: We focus on the problem of planning the motion of a robot in a dynamic multiagent environment such as a pedestrian scene. Enabling the robot to navigate safely and in a socially compliant fashion in such scenes requires a representation that accounts for the unfolding multiagent dynamics. Existing approaches to this problem tend to employ microscopic models of motion prediction that reason about the individual behavior of other agents. While such models may achieve high tracking accuracy in trajectory prediction benchmarks, they often lack an understanding of the group structures unfolding in crowded scenes. Inspired by the Gestalt theory from psychology, we build a Model Predictive Control framework (G-MPC) that leverages group-based prediction for robot motion planning. We conduct an extensive simulation study involving a series of challenging navigation tasks in scenes extracted from two real-world pedestrian datasets. We illustrate that G-MPC enables a robot to achieve statistically significantly higher safety and lower number of group intrusions than a series of baselines featuring individual pedestrian motion prediction models. Finally, we show that G-MPC can handle noisy lidar-scan estimates without significant performance losses.\n",
      "        Pouria's review: {'reasoning': 'The input item abstract discusses Velocity Obstacles and Control Barrier Functions for multi-agent obstacle avoidance, which is unrelated to large language models-based AI agents applied to medical imaging data. It does not meet the criteria of discussing large language models or medical imaging.', 'score': 2}\n",
      "        Bardia's review: {'reasoning': 'The article discusses multi-agent obstacle avoidance strategies and does not mention or relate to large language models or medical imaging data, thus it does not meet the criteria.', 'score': 2}\n",
      "        Brad's review: None\n",
      "        \n",
      "\n",
      "        Title: Improved precision oncology question-answering using agentic LLM\n",
      "        Abstract: Despite the widespread application of Large Language Models (LLMs) in biomedical research, their clinical adoption faces significant challenges. These challenges stem from concerns about the quality, accuracy, and comprehensiveness of LLM-generated answers. Most existing work has focused on fine-tuning LLMs based on foundation models, which have not yet fully addressed accuracy and reliability issues. In this work, we propose an agent-based approach that aims to make LLM-based systems clinically deployable for precision oncology, while mitigating common pitfalls such as hallucinations, incoherence, and \"lost-in-the-middle\" problems. To achieve this, we implemented an agentic architecture, fundamentally shifting an LLM's role from a simple response synthesizer to planner. This agent orchestrates a suite of specialized tools that asynchronously retrieve information from various sources. These tools include curated document vector stores encompassing treatment guidelines, genomic data, clinical trial information, drug data, and breast cancer literature. The LLM then leverages its planning capabilities to synthesize information retrieved by these tools, generating comprehensive and accurate responses. We demonstrate GeneSilico Copilot's effectiveness in the domain of breast cancer, achieving state-of-the-art accuracy. Furthermore, the system showcases success in generating personalized oncotherapy recommendations for real-world cases.\n",
      "        Pouria's review: {'reasoning': 'The article discusses the development of a Model Predictive Control framework (G-MPC) that leverages group-based prediction for robot motion planning in crowded environments, but it does not mention anything about large language models or AI agents applied to medical imaging data. The topic is related to robotics and pedestrian dynamics, which falls outside the specified criteria.', 'score': 2}\n",
      "        Bardia's review: {'reasoning': 'The article discusses robot motion planning in dynamic environments and does not address large language models or their application to medical imaging data, which is the specified criteria.', 'score': 2}\n",
      "        Brad's review: None\n",
      "        \n",
      "\n",
      "        Title: Multi-Agent Obstacle Avoidance using Velocity Obstacles and Control Barrier Functions\n",
      "        Abstract: Velocity Obstacles (VO) methods form a paradigm for collision avoidance strategies among moving obstacles and agents. While VO methods perform well in simple multi-agent environments, they don’t guarantee safety and can show overly conservative behavior in common situations. In this paper, we propose to combine a VO-strategy for guidance with a CBF-approach for safety, which overcomes the overly conservative behavior of VOs and formally guarantees safety. We validate our method in a baseline comparison study, using 2nd order integrator and car-like dynamics. Results support that our method outperforms the baselines w.r.t. path smoothness, collision avoidance, and success rates.\n",
      "        Pouria's review: {'reasoning': 'The input item discusses the generation of synthetic multi-dimensional molecular time series data (SMMTSD) using complex multi-scale mechanism-based simulation models, which is relevant to AI agents applied to medical imaging data. However, it primarily focuses on the development of synthetic data for AI tasks in general, rather than specifically addressing large language models-based AI agents applied to medical imaging data.', 'score': 2}\n",
      "        Bardia's review: {'reasoning': 'The article discusses synthetic data generation for AI applications in biomedical contexts but does not specifically address large language models or their application to medical imaging data.', 'score': 2}\n",
      "        Brad's review: None\n",
      "        \n",
      "\n",
      "        Title: EXPLORING PROSOCIAL IRRATIONALITY FOR LLM AGENTS: A SOCIAL COGNITION VIEW\n",
      "        Abstract: Large language models (LLMs) have been shown to face hallucination issues due to the data they trained on often containing human bias; whether this is reflected in the decision-making process of LLM Agents remains under-explored. As LLM Agents are increasingly employed in intricate social environments, a pressing and natural question emerges: Can we utilize LLM Agents’ systematic hallucinations to mirror human cognitive biases, thus exhibiting irrational social intelligence? In this paper, we probe the irrational behavior among contemporary LLM Agents by melding practical social science experiments with theoretical insights. Specifically, We propose CogMir, an open-ended Multi-LLM Agents framework that utilizes hallucination properties to assess and enhance LLM Agents’ social intelligence through cognitive biases. Experimental results on CogMir subsets show that LLM Agents and humans exhibit high consistency in irrational and prosocial decision-making under uncertain conditions, underscoring the prosociality of LLM Agents as social entities, and highlighting the significance of hallucination properties. Additionally, CogMir framework demonstrates its potential as a valuable platform for encouraging more research into the social intelligence of LLM Agents.\n",
      "        Pouria's review: {'reasoning': 'The input item discusses topological data analysis and interpretable machine learning methods applied to zebrafish patterns, but it does not specifically focus on large language models-based AI agents applied to medical imaging data. The article mentions agent-based modeling, but it is in the context of simulating biological patterns, not applying AI agents to medical images.', 'score': 2}\n",
      "        Bardia's review: {'reasoning': 'The article discusses agent-based models in social and health computational sciences but does not mention large language models or their application to medical imaging data, which does not meet the specified criteria.', 'score': 2}\n",
      "        Brad's review: None\n",
      "        \n",
      "\n",
      "        Title: Topological data analysis of zebrafish patterns\n",
      "        Abstract: Self-organized pattern behavior is ubiquitous throughout nature, from fish schooling to collective cell dynamics during organism development. Qualitatively these patterns display impressive consistency, yet variability inevitably exists within pattern-forming systems on both microscopic and macroscopic scales. Quantifying variability and measuring pattern features can inform the underlying agent interactions and allow for predictive analyses. Nevertheless, current methods for analyzing patterns that arise from collective behavior only capture macroscopic features, or rely on either manual inspection or smoothing algorithms that lose the underlying agent-based nature of the data. Here we introduce methods based on topological data analysis and interpretable machine learning for quantifying both agentlevel features and global pattern attributes on a large scale. Because the zebrafish is a model organism for skin pattern formation, we focus specifically on analyzing its skin patterns as a means of illustrating our approach. Using a recent agent-based model, we simulate thousands of wild-type and mutant zebrafish patterns and apply our methodology to better understand pattern variability in zebrafish. Our methodology is able to quantify the differential impact of stochasticity in cell interactions on wild-type and mutant patterns, and we use our methods to predict stripe and spot statistics as a function of varying cellular communication. Our work provides a new approach to automatically quantifying biological patterns and analyzing agent-based dynamics so that we can now answer critical questions in pattern formation at a much larger scale.\n",
      "        Pouria's review: {'reasoning': 'The input item discusses the development of an autonomous surgical robot that uses reinforcement and imitation learning agents to assist with ophthalmic cataract surgery. While it mentions the use of image data for training, there is no explicit mention or application of large language models-based AI agents in medical imaging data. Therefore, it does not meet the criteria.', 'score': 2}\n",
      "        Bardia's review: {'reasoning': 'The article focuses on topological data analysis of zebrafish patterns and does not discuss large language models or their application to medical imaging data, therefore it does not meet the specified criteria.', 'score': 2}\n",
      "        Brad's review: None\n",
      "        \n",
      "\n",
      "        Title: Generating synthetic multi-dimensional molecular-mediator time series data for artificial intelligence-based disease trajectory forecasting and drug development digital twins: Considerations\n",
      "        Abstract: The use of synthetic data is recognized as a crucial step in the development of neural network-based Artificial Intelligence (AI) systems. While the methods for generating synthetic data for AI applications in other domains have a role in certain biomedical AI systems, primarily related to image processing, there is a critical gap in the generation of time series data for AI tasks where it is necessary to know how the system works. This is most pronounced in the ability to generate synthetic multi-dimensional molecular time series data (SMMTSD); this is the type of data that underpins research into biomarkers and mediator signatures for forecasting various diseases and is an essential component of the drug development pipeline. We argue the insufficiency of statistical and data-centric machine learning (ML) means of generating this type of synthetic data is due to a combination of factors: perpetual data sparsity due to the Curse of Dimensionality, the inapplicability of the Central Limit Theorem in terms of making assumptions about the statistical distributions of this type of data, and the Causal Hierarchy Theorem, which intrinsically limits the ability of data-centric methods to make statements about generative mechanisms that cross-scales (as is the case from cellular-molecular biology to an individual person’s state of health and disease). Alternatively, we present a rationale for using complex multi-scale mechanism-based simulation models, constructed and operated on to account for perpetual epistemic incompleteness and the need to provide maximal expansiveness in concordance with the Principle of Maximal Entropy. These procedures provide for the generation of SMMTD that minimizes the known shortcomings associated with neural network AI systems, namely overfitting and lack of generalizability. The generation of synthetic data that accounts for the identified factors of multi-dimensional time series data is an essential capability for the development of mediator-biomarker based AI forecasting systems, and therapeutic control development and optimization through systems like Drug Development Digital Twins.\n",
      "        Pouria's review: {'reasoning': 'The input item discusses Large Language Models (LLMs) applied to social cognition and decision-making, but it does not explicitly mention medical imaging data. The abstract mentions using hallucination properties of LLM Agents to assess and enhance their social intelligence through cognitive biases, but there is no connection made to medical imaging data. Therefore, the paper does not meet the criteria.', 'score': 2}\n",
      "        Bardia's review: {'reasoning': 'The article focuses on a robotic surgical system using reinforcement and imitation learning, but it does not discuss large language models or their application to medical imaging data, which is the specified criterion.', 'score': 2}\n",
      "        Brad's review: None\n",
      "        \n",
      "\n",
      "        Title: Towards a Surgeon-in-the-Loop Ophthalmic Robotic Apprentice using Reinforcement and Imitation Learning\n",
      "        Abstract: Robot-assisted surgical systems have demonstrated significant potential in enhancing surgical precision and minimizing human errors. However, existing systems cannot accommodate individual surgeons’ unique preferences and requirements. Additionally, they primarily focus on general surgeries (e.g., laparoscopy) and are unsuitable for highly precise microsurgeries, such as ophthalmic procedures. Thus, we propose an image-guided approach for surgeon-centered autonomous agents that can adapt to the individual surgeon’s skill level and preferred surgical techniques during ophthalmic cataract surgery. Our approach trains reinforcement and imitation learning agents simultaneously using curriculum learning approaches guided by image data to perform all tasks of the incision phase of cataract surgery. By integrating the surgeon’s actions and preferences into the training process, our approach enables the robot to implicitly learn and adapt to the individual surgeon’s unique techniques through surgeon-in-the-loop demonstrations. This results in a more intuitive and personalized surgical experience for the surgeon while ensuring consistent performance for the autonomous robotic apprentice. We define and evaluate the effectiveness of our approach in a simulated environment using our proposed metrics and highlight the trade-off between a generic agent and a surgeon-centered adapted agent. Finally, our approach has the potential to extend to other ophthalmic and microsurgical procedures, opening the door to a new generation of surgeon-in-the-loop autonomous surgical robots. We provide an open-source simulation framework for future development and reproducibility at https://github.com/amrgomaaelhady/CataractAdaptSurgRobot.\n",
      "        Pouria's review: {'reasoning': 'The input item discusses the application of large language models (LLMs) as generative adversarial networks (GANs) for synthesizing tabular data, but it does not specifically mention medical imaging data. Therefore, it does not meet the criteria.', 'score': 2}\n",
      "        Bardia's review: {'reasoning': 'The paper discusses reinforcement learning in health monitoring rather than focusing on large language models applied to medical imaging data, thus it does not meet the specified criteria.', 'score': 2}\n",
      "        Brad's review: None\n",
      "        \n",
      "\n",
      "        Title: Promising and worth-to-try future directions for advancing state-of-the-art surrogates methods of agent-based models in social and health computational sciences\n",
      "        Abstract: The execution and runtime performance of model-based analysis tools forrealistic large-scale ABMs (Agent-Based Models) can be excessively long. Thisdue to the computational demand exponentially proportional to the model size(e.g. Population size) and the number of model parameters. Even the runtime ofa single simulation of a realistic ABM may demand huge computational resourceswhen attempting to employ realistic population size. The main aim of thisad-hoc brief report is to highlight some of surrogate models that were adequateand computationally less demanding for nonlinear dynamical models in variousmodeling application areas.To the author knowledge, these methods have beennot, at least extensively, employed for ABMs within the field of (SHCS) SocialHealth Computational Sciences, yet. Thus, they might be, but not necessarily,useful in progressing state of the art for establishing surrogate models forABMs in the field of SHCS.\n",
      "        Pouria's review: {'reasoning': 'The input item discusses an agentic Large Language Model (LLM) approach applied to precision oncology, which aligns with the criteria of large language models-based AI agents applied to medical imaging data. The paper proposes a system that leverages planning capabilities to synthesize information from various sources and generate accurate responses. While it primarily focuses on question-answering in precision oncology rather than medical imaging specifically, its application of LLMs to address clinical challenges and provide personalized recommendations is relevant.', 'score': 1}\n",
      "        Bardia's review: {'reasoning': 'The article discusses the application of an agent-based approach using Large Language Models in precision oncology, which aligns with the criteria of medical imaging data application, thus meriting a score of 1.', 'score': 1}\n",
      "        Brad's review: None\n",
      "        \n",
      "\n",
      "        Title: PDRL: Multi-Agent based Reinforcement Learning for Predictive Monitoring\n",
      "        Abstract: Reinforcement learning has been increasingly applied in monitoring applications because of its ability to learn from previous experiences and can make adaptive decisions. However, existing machine learning-based health monitoring applications are mostly supervised learning algorithms, trained on labels and they cannot make adaptive decisions in an uncertain complex environment. This study proposes a novel and generic system, predictive deep reinforcement learning (PDRL) with multiple RL agents in a time series forecasting environment. The proposed generic framework accommodates virtual Deep Q Network (DQN) agents to monitor predicted future states of a complex environment with a well-defined reward policy so that the agent learns existing knowledge while maximizing their rewards. In the evaluation process of the proposed framework, three DRL agents were deployed to monitor a subject’s future heart rate, respiration, and temperature predicted using a BiLSTM model. With each iteration, the three agents were able to learn the associated patterns and their cumulative rewards gradually increased. It outperformed the baseline models for all three monitoring agents. The proposed PDRL framework is able to achieve state-of-the-art performance in the time series forecasting process. The proposed DRL agents and deep learning model in the PDRL framework are customized to implement the transfer learning in other forecasting applications like traffic and weather and monitor their states. The PDRL framework is able to learn the future states of the traffic and weather forecasting and the cumulative rewards are gradually increasing over each episode.\n",
      "        Pouria's review: {'reasoning': \"The input item discusses a reinforcement learning-based AI agent applied to monitoring applications, but it does not specifically mention the application to medical imaging data. The proposed PDRL framework is actually used for time series forecasting, such as predicting future heart rate, respiration, and temperature, which can be related to health monitoring in general, but it's not exclusively focused on medical imaging data.\", 'score': 2}\n",
      "        Bardia's review: {'reasoning': 'The article focuses on the social cognition aspects of LLM agents and their irrational decision-making rather than on the application of LLM-based AI agents specifically to medical imaging data, which does not meet the criteria.', 'score': 2}\n",
      "        Brad's review: None\n",
      "        \n",
      "\n",
      "        Title: MALLM-GAN: MULTI-AGENT LARGE LANGUAGE MODEL AS GENERATIVE ADVERSARIAL NETWORK FOR SYNTHESIZING TABULAR DATA\n",
      "        Abstract: In the era of big data, access to abundant data is crucial for driving research forward. However, such data is often inaccessible due to privacy concerns or high costs, particularly in healthcare domain. Generating synthetic (tabular) data can address this, but existing models typically require substantial amounts of data to train effectively, contradicting our objective to solve data scarcity. To address this challenge, we propose a novel framework to generate synthetic tabular data, powered by large language models (LLMs) that emulates the architecture of a Generative Adversarial Network (GAN). By incorporating data generation process as contextual information and utilizing LLM as the optimizer, our approach significantly enhance the quality of synthetic data generation in common scenarios with small sample sizes. Our experimental results on public and private datasets demonstrate that our model outperforms several state-of-art models regarding generating higher quality synthetic data for downstream tasks while keeping privacy of the real data.\n",
      "        Pouria's review: {'reasoning': 'The input item discusses surrogate models for Agent-Based Models (ABMs) in social and health computational sciences, but it does not mention large language model-based AI agents applied to medical imaging data. The abstract highlights the need for computationally less demanding methods for ABMs, but it does not relate to the specific topic of interest.', 'score': 2}\n",
      "        Bardia's review: {'reasoning': 'The article discusses a framework for generating synthetic tabular data using large language models, but it does not address the application of AI agents or large language models specifically to medical imaging data, thus it does not meet the criteria.', 'score': 2}\n",
      "        Brad's review: None\n",
      "        \n"
     ]
    }
   ],
   "source": [
    "for i, row in updated_data.iterrows():\n",
    "    print(\n",
    "        f\"\"\"\n",
    "        Title: {row.Title}\n",
    "        Abstract: {row.abstract}\n",
    "        Pouria's review: {row[\"round-A_Pouria_output\"]}\n",
    "        Bardia's review: {row[\"round-A_Bardia_output\"]}\n",
    "        Brad's review: {None if \"round-B_Brad_output\" not in row else row[\"round-B_Brad_output\"]}\n",
    "        \"\"\"\n",
    "    )"
   ]
  }
 ],
 "metadata": {
  "kernelspec": {
   "display_name": "venv",
   "language": "python",
   "name": "python3"
  },
  "language_info": {
   "codemirror_mode": {
    "name": "ipython",
    "version": 3
   },
   "file_extension": ".py",
   "mimetype": "text/x-python",
   "name": "python",
   "nbconvert_exporter": "python",
   "pygments_lexer": "ipython3",
   "version": "3.9.6"
  }
 },
 "nbformat": 4,
 "nbformat_minor": 2
}
