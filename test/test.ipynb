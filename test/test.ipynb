{
 "cells": [
  {
   "cell_type": "code",
   "execution_count": 2,
   "metadata": {},
   "outputs": [
    {
     "name": "stderr",
     "output_type": "stream",
     "text": [
      "Failed to update token costs. Using static costs.\n",
      "/Users/pouria/Documents/Coding/LatteReview/venv/lib/python3.9/site-packages/tokencost/constants.py:69: RuntimeWarning: coroutine 'update_token_costs' was never awaited\n",
      "  logger.error(\"Failed to update token costs. Using static costs.\")\n",
      "RuntimeWarning: Enable tracemalloc to get the object allocation traceback\n",
      "/Users/pouria/Documents/Coding/LatteReview/venv/lib/python3.9/site-packages/tqdm/auto.py:21: TqdmWarning: IProgress not found. Please update jupyter and ipywidgets. See https://ipywidgets.readthedocs.io/en/stable/user_install.html\n",
      "  from .autonotebook import tqdm as notebook_tqdm\n"
     ]
    }
   ],
   "source": [
    "%reload_ext autoreload\n",
    "%autoreload 2\n",
    "\n",
    "import asyncio\n",
    "import json\n",
    "import nest_asyncio\n",
    "import os\n",
    "import sys\n",
    "from dotenv import load_dotenv\n",
    "import pandas as pd\n",
    "\n",
    "sys.path.append('../')\n",
    "from lattereview.providers.openai_provider import OpenAIProvider\n",
    "from lattereview.providers.ollama_provider import OllamaProvider\n",
    "from lattereview.agents.scoring_reviewer import ScoringReviewer\n",
    "from lattereview.review_workflow import ReviewWorkflow"
   ]
  },
  {
   "cell_type": "markdown",
   "metadata": {},
   "source": [
    "## Setting up the notebook"
   ]
  },
  {
   "cell_type": "markdown",
   "metadata": {},
   "source": [
    "Loading environment variables:"
   ]
  },
  {
   "cell_type": "code",
   "execution_count": 3,
   "metadata": {},
   "outputs": [
    {
     "name": "stdout",
     "output_type": "stream",
     "text": [
      "sk-cq_M0pNgHhCFnlDOCMnagYA1l2X7Yea5CL0ci5pZMNT3BlbkFJ0m0x9wm5M_EstX5SjLu_kdwGMDYjkUdviNPs4pe9cA\n"
     ]
    }
   ],
   "source": [
    "# Load environment variables from .env file\n",
    "load_dotenv('../.env')\n",
    "print(os.getenv('OPENAI_API_KEY'))\n",
    "\n",
    "# Enable asyncio in Jupyter\n",
    "nest_asyncio.apply()"
   ]
  },
  {
   "cell_type": "markdown",
   "metadata": {},
   "source": [
    "Loading a dummy dataset:"
   ]
  },
  {
   "cell_type": "code",
   "execution_count": 4,
   "metadata": {},
   "outputs": [
    {
     "data": {
      "text/html": [
       "<div>\n",
       "<style scoped>\n",
       "    .dataframe tbody tr th:only-of-type {\n",
       "        vertical-align: middle;\n",
       "    }\n",
       "\n",
       "    .dataframe tbody tr th {\n",
       "        vertical-align: top;\n",
       "    }\n",
       "\n",
       "    .dataframe thead th {\n",
       "        text-align: right;\n",
       "    }\n",
       "</style>\n",
       "<table border=\"1\" class=\"dataframe\">\n",
       "  <thead>\n",
       "    <tr style=\"text-align: right;\">\n",
       "      <th></th>\n",
       "      <th>ID</th>\n",
       "      <th>Title</th>\n",
       "      <th>1st author</th>\n",
       "      <th>repo</th>\n",
       "      <th>year</th>\n",
       "      <th>abstract</th>\n",
       "    </tr>\n",
       "  </thead>\n",
       "  <tbody>\n",
       "    <tr>\n",
       "      <th>0</th>\n",
       "      <td>1</td>\n",
       "      <td>Segmentized quarantine policy for managing a t...</td>\n",
       "      <td>Kim, J.</td>\n",
       "      <td>arXiv</td>\n",
       "      <td>2024</td>\n",
       "      <td>By the end of 2021, COVID-19 had spread to ove...</td>\n",
       "    </tr>\n",
       "    <tr>\n",
       "      <th>1</th>\n",
       "      <td>2</td>\n",
       "      <td>AutoProteinEngine: A Large Language Model Driv...</td>\n",
       "      <td>Liu, Y.</td>\n",
       "      <td>arXiv</td>\n",
       "      <td>2024</td>\n",
       "      <td>Protein engineering is important for biomedica...</td>\n",
       "    </tr>\n",
       "    <tr>\n",
       "      <th>2</th>\n",
       "      <td>3</td>\n",
       "      <td>Integration of Large Vision Language Models fo...</td>\n",
       "      <td>Chen, Z.</td>\n",
       "      <td>arXiv</td>\n",
       "      <td>2024</td>\n",
       "      <td>Traditional natural disaster response involves...</td>\n",
       "    </tr>\n",
       "    <tr>\n",
       "      <th>3</th>\n",
       "      <td>4</td>\n",
       "      <td>Choice between Partial Trajectories</td>\n",
       "      <td>Marklund, H.</td>\n",
       "      <td>arXiv</td>\n",
       "      <td>2024</td>\n",
       "      <td>As AI agents generate increasingly sophisticat...</td>\n",
       "    </tr>\n",
       "    <tr>\n",
       "      <th>4</th>\n",
       "      <td>5</td>\n",
       "      <td>Building Altruistic and Moral AI Agent with Br...</td>\n",
       "      <td>Zhao, F.</td>\n",
       "      <td>arXiv</td>\n",
       "      <td>2024</td>\n",
       "      <td>As AI closely interacts with human society, it...</td>\n",
       "    </tr>\n",
       "  </tbody>\n",
       "</table>\n",
       "</div>"
      ],
      "text/plain": [
       "   ID                                              Title    1st author   repo  \\\n",
       "0   1  Segmentized quarantine policy for managing a t...       Kim, J.  arXiv   \n",
       "1   2  AutoProteinEngine: A Large Language Model Driv...       Liu, Y.  arXiv   \n",
       "2   3  Integration of Large Vision Language Models fo...      Chen, Z.  arXiv   \n",
       "3   4                Choice between Partial Trajectories  Marklund, H.  arXiv   \n",
       "4   5  Building Altruistic and Moral AI Agent with Br...      Zhao, F.  arXiv   \n",
       "\n",
       "   year                                           abstract  \n",
       "0  2024  By the end of 2021, COVID-19 had spread to ove...  \n",
       "1  2024  Protein engineering is important for biomedica...  \n",
       "2  2024  Traditional natural disaster response involves...  \n",
       "3  2024  As AI agents generate increasingly sophisticat...  \n",
       "4  2024  As AI closely interacts with human society, it...  "
      ]
     },
     "execution_count": 4,
     "metadata": {},
     "output_type": "execute_result"
    }
   ],
   "source": [
    "data = pd.read_excel('data.xlsx')\n",
    "data.head()"
   ]
  },
  {
   "cell_type": "markdown",
   "metadata": {},
   "source": [
    "## Testing the base functionalities"
   ]
  },
  {
   "cell_type": "markdown",
   "metadata": {},
   "source": [
    "Testing the OpenAI provider:"
   ]
  },
  {
   "cell_type": "code",
   "execution_count": 5,
   "metadata": {},
   "outputs": [
    {
     "name": "stderr",
     "output_type": "stream",
     "text": [
      "/Users/pouria/Documents/Coding/LatteReview/venv/lib/python3.9/site-packages/urllib3/__init__.py:35: NotOpenSSLWarning: urllib3 v2 only supports OpenSSL 1.1.1+, currently the 'ssl' module is compiled with 'LibreSSL 2.8.3'. See: https://github.com/urllib3/urllib3/issues/3020\n",
      "  warnings.warn(\n"
     ]
    },
    {
     "data": {
      "text/plain": [
       "('The capital of France is Paris.',\n",
       " {'input_cost': 1.05e-06, 'output_cost': 4.2e-06, 'total_cost': 5.25e-06})"
      ]
     },
     "execution_count": 5,
     "metadata": {},
     "output_type": "execute_result"
    }
   ],
   "source": [
    "openanai_provider = OpenAIProvider(model=\"gpt-4o-mini\")\n",
    "question = \"What is the capital of France?\"\n",
    "asyncio.run(openanai_provider.get_response(question, temperature=0.9))"
   ]
  },
  {
   "cell_type": "markdown",
   "metadata": {},
   "source": [
    "Testing the Ollama provider:"
   ]
  },
  {
   "cell_type": "code",
   "execution_count": 6,
   "metadata": {},
   "outputs": [
    {
     "data": {
      "text/plain": [
       "('The capital of France is Paris!',\n",
       " {'input_cost': 0, 'output_cost': 0, 'total_cost': 0})"
      ]
     },
     "execution_count": 6,
     "metadata": {},
     "output_type": "execute_result"
    }
   ],
   "source": [
    "ollama_provider = OllamaProvider(model=\"llama3.2-vision:latest\", host=\"http://localhost:11434\")\n",
    "question = \"What is the capital of France?\"\n",
    "asyncio.run(ollama_provider.get_response(question))"
   ]
  },
  {
   "cell_type": "markdown",
   "metadata": {},
   "source": [
    "Testing the ScoringReviewer agent:"
   ]
  },
  {
   "cell_type": "code",
   "execution_count": null,
   "metadata": {},
   "outputs": [
    {
     "name": "stdout",
     "output_type": "stream",
     "text": [
      "Inputs:\n",
      "\n",
      " segmentized quarantine policy for managing a tradeoff between containment of infectious disease and social cost of quarantine\n",
      "autoproteinengine: a large language model driven agent framework for multimodal automl in protein engineering\n",
      "integration of large vision language models for efficient post-disaster damage assessment and reporting\n",
      "\n",
      "\n",
      " Outputs:\n",
      "{'reasoning': 'The input item does not clearly outline specific strategies or measures for segmentized quarantine policy, making it difficult to assess its effectiveness in managing the tradeoff between containment of infectious disease and social cost of quarantine.', 'score': 1}\n",
      "{'reasoning': \"The input item 'autoproteinengine: a large language model driven agent framework for multimodal automl in protein engineering' does not meet the specified criteria, as it is an article title and not a specific task or problem to be evaluated.\", 'score': 1}\n",
      "{'reasoning': 'The input item clearly describes an application of vision language models in post-disaster scenarios, which is relevant and applicable to the field.', 'score': 2}\n",
      "\n",
      "Costs:\n",
      "\n",
      "{'input_cost': 0, 'output_cost': 0, 'total_cost': 0}\n",
      "{'input_cost': 0, 'output_cost': 0, 'total_cost': 0}\n",
      "{'input_cost': 0, 'output_cost': 0, 'total_cost': 0}\n",
      "\n",
      "Total cost:\n",
      "\n",
      "0\n"
     ]
    }
   ],
   "source": [
    "agent = ScoringReviewer(\n",
    "    # provider=OpenAIProvider(model=\"gpt-4o-mini\"),\n",
    "    provider=OllamaProvider(model=\"llama3.2-vision:latest\", host=\"http://localhost:11434\"),\n",
    "    name=\"Pouria\",\n",
    "    backstory=\"an expert reviewer and researcher!\",\n",
    "    input_description = \"article title\",\n",
    "    temperature=0.1, # ineffective for ollama\n",
    "    reasoning = \"brief\",\n",
    "    max_tokens=100, # ineffective for ollama\n",
    "    review_criteria=\"Look for articles that certainly do not employ any AI or machine learning agents\",\n",
    "    score_set=[1, 2],\n",
    "    scoring_rules='Score 1 if the paper does not meet the criteria, and 2 if the paper meets the criteria.',\n",
    ")\n",
    "\n",
    "\n",
    "# Dummy input\n",
    "text_list = data.Title.str.lower().tolist()\n",
    "print(\"Inputs:\\n\\n\", '\\n'.join(text_list[:3]))\n",
    "\n",
    "# Dummy review\n",
    "results, total_cost = asyncio.run(agent.review_items(text_list[:3]))\n",
    "print(\"\\n\\n Outputs:\")\n",
    "for result in results:\n",
    "    print(result)\n",
    "\n",
    "# Dummy costs\n",
    "print(\"\\nCosts:\\n\")\n",
    "for item in agent.memory:\n",
    "    print(item['cost'])\n",
    "\n",
    "print(\"\\nTotal cost:\\n\")\n",
    "print(total_cost)"
   ]
  },
  {
   "cell_type": "markdown",
   "metadata": {},
   "source": [
    "## Testing the main Functionalities"
   ]
  },
  {
   "cell_type": "markdown",
   "metadata": {},
   "source": [
    "#### A multiagent review workflow for doing title/abstract analysis"
   ]
  },
  {
   "cell_type": "markdown",
   "metadata": {},
   "source": [
    "Setting up the agents:"
   ]
  },
  {
   "cell_type": "code",
   "execution_count": null,
   "metadata": {},
   "outputs": [],
   "source": [
    "pouria = ScoringReviewer(\n",
    "    # provider=OpenAIProvider(model=\"gpt-4o-mini\"),\n",
    "    provider=OllamaProvider(model=\"llama3.2-vision:latest\", host=\"http://localhost:11434\"),\n",
    "    name=\"Pouria\",\n",
    "    backstory=\"a radiologist with many years of background in statistcis and data science, who are famous among your colleagues for your systematic thinking, organizaton of thoughts, and being conservative\",\n",
    "    input_description = \"tilte and abstract of scientific articles\",\n",
    "    temperature=0.1, # ineffective for ollama\n",
    "    reasoning = \"cot\",\n",
    "    max_tokens=100, # ineffective for ollama\n",
    "    scoring_task=\"Look for articles that disucss large languange models-based AI agents applied to medical imaging data\",\n",
    "    score_set=[1, 2],\n",
    "    scoring_rules='Score 1 if the paper meets the criteria, and 2 if the paper does not meet the criteria.',\n",
    ")\n",
    "\n",
    "bardia = ScoringReviewer(\n",
    "    provider=OpenAIProvider(model=\"gpt-4o-mini\"),\n",
    "    name=\"Bardia\",\n",
    "    backstory=\"an expert in data science with a background in developing ML models for healthcare, who are famous among your colleagues for your creativity and out of the box thinking\",\n",
    "    input_description = \"tilte and abstract of scientific articles\",\n",
    "    temperature=0.7,\n",
    "    reasoning = \"brief\",\n",
    "    max_tokens=100,\n",
    "    scoring_task=\"Look for articles that disucss large languange models-based AI agents applied to medical imaging data\",\n",
    "    score_set=[1, 2],\n",
    "    scoring_rules='Score 1 if the paper meets the criteria, and 2 if the paper does not meet the criteria.',\n",
    ")\n",
    "\n",
    "brad = ScoringReviewer(\n",
    "    provider=OpenAIProvider(model=\"gpt-4o\"),\n",
    "    name=\"Brad\",\n",
    "    backstory=\"a senior radiologist with a PhD in computer science and years of experience as the director of a DL lab focused on developing ML models for radiology and healthcare\",\n",
    "    input_description = \"tilte and abstract of scientific articles\",\n",
    "    temperature=0.4,\n",
    "    reasoning = \"cot\",\n",
    "    max_tokens=100,\n",
    "    scoring_task=\"\"\"Pouria and Bardia have Looked for articles that disucss large languange models-based AI agents applied to medical imaging data. \n",
    "                       They scored an article 1 if they thought it does not meet this criteria, 2 if they thought it meets the criteria, 0 if they were uncertain of scoring.\n",
    "                       You will receive an article they have had different opinions about, as well as each of their scores and their reasoning for that score. Read their reviews and determine who you agree with. \n",
    "                    \"\"\",\n",
    "    score_set=[1, 2],\n",
    "    scoring_rules=\"\"\"Score 1 if you agree with Pouria, and score 2 if you agree with Bardia.\"\"\",\n",
    ")\n"
   ]
  },
  {
   "cell_type": "markdown",
   "metadata": {},
   "source": [
    "Setting up the review workflow:"
   ]
  },
  {
   "cell_type": "code",
   "execution_count": 9,
   "metadata": {},
   "outputs": [],
   "source": [
    "title_abs_review = ReviewWorkflow(\n",
    "    workflow_schema=[\n",
    "        {\n",
    "            \"round\": 'A',\n",
    "            \"reviewers\": [pouria, bardia],\n",
    "            \"inputs\": [\"Title\", \"abstract\"]\n",
    "        },\n",
    "        {\n",
    "            \"round\": 'B',\n",
    "            \"reviewers\": [brad],\n",
    "            \"inputs\": [\"Title\", \"abstract\", \"round-A_Pouria_output\", \"round-A_Bardia_output\"],\n",
    "            \"filter\": lambda row: row[\"round-A_Pouria_output\"][\"score\"] != row[\"round-A_Bardia_output\"][\"score\"]\n",
    "        }\n",
    "    ]\n",
    ")"
   ]
  },
  {
   "cell_type": "markdown",
   "metadata": {},
   "source": [
    "Applying the review workflow to a number of sample articles:"
   ]
  },
  {
   "cell_type": "code",
   "execution_count": 10,
   "metadata": {},
   "outputs": [
    {
     "name": "stdout",
     "output_type": "stream",
     "text": [
      "\n",
      "Starting review round A (1/2)...\n",
      "Reviewers: ['Pouria', 'Bardia']\n",
      "Input data: ['Title', 'abstract']\n"
     ]
    },
    {
     "name": "stderr",
     "output_type": "stream",
     "text": [
      "                                                       \r"
     ]
    },
    {
     "name": "stdout",
     "output_type": "stream",
     "text": [
      "Number of eligible rows for review: 10\n"
     ]
    },
    {
     "name": "stderr",
     "output_type": "stream",
     "text": [
      "                                                         \r"
     ]
    },
    {
     "name": "stdout",
     "output_type": "stream",
     "text": [
      "\n",
      "Starting review round B (2/2)...\n",
      "Reviewers: ['Brad']\n",
      "Input data: ['Title', 'abstract', 'round-A_Pouria_output', 'round-A_Bardia_output']\n"
     ]
    },
    {
     "name": "stderr",
     "output_type": "stream",
     "text": [
      "                                                       \r"
     ]
    },
    {
     "name": "stdout",
     "output_type": "stream",
     "text": [
      "Number of eligible rows for review: 1\n"
     ]
    },
    {
     "name": "stderr",
     "output_type": "stream",
     "text": [
      "                                                        "
     ]
    },
    {
     "name": "stdout",
     "output_type": "stream",
     "text": [
      "Total cost: \n",
      "0.00374935\n",
      "\n",
      "Detailed cost:\n",
      "{('A', 'Pouria'): 0, ('A', 'Bardia'): 0.00014685, ('B', 'Brad'): 0.0036025}\n"
     ]
    },
    {
     "name": "stderr",
     "output_type": "stream",
     "text": [
      "\r"
     ]
    },
    {
     "data": {
      "text/html": [
       "<div>\n",
       "<style scoped>\n",
       "    .dataframe tbody tr th:only-of-type {\n",
       "        vertical-align: middle;\n",
       "    }\n",
       "\n",
       "    .dataframe tbody tr th {\n",
       "        vertical-align: top;\n",
       "    }\n",
       "\n",
       "    .dataframe thead th {\n",
       "        text-align: right;\n",
       "    }\n",
       "</style>\n",
       "<table border=\"1\" class=\"dataframe\">\n",
       "  <thead>\n",
       "    <tr style=\"text-align: right;\">\n",
       "      <th></th>\n",
       "      <th>ID</th>\n",
       "      <th>Title</th>\n",
       "      <th>1st author</th>\n",
       "      <th>repo</th>\n",
       "      <th>year</th>\n",
       "      <th>abstract</th>\n",
       "      <th>round-A_Pouria_output</th>\n",
       "      <th>round-A_Bardia_output</th>\n",
       "      <th>round-B_Brad_output</th>\n",
       "    </tr>\n",
       "  </thead>\n",
       "  <tbody>\n",
       "    <tr>\n",
       "      <th>0</th>\n",
       "      <td>129</td>\n",
       "      <td>Agent Hospital: A Simulacrum of Hospital with ...</td>\n",
       "      <td>Li, J.</td>\n",
       "      <td>arXiv</td>\n",
       "      <td>2024</td>\n",
       "      <td>In this paper, we introduce a simulacrum of ho...</td>\n",
       "      <td>{'reasoning': 'The input item discusses Agent ...</td>\n",
       "      <td>{'reasoning': 'The article discusses the appli...</td>\n",
       "      <td>{'reasoning': 'The title and abstract of the a...</td>\n",
       "    </tr>\n",
       "    <tr>\n",
       "      <th>1</th>\n",
       "      <td>540</td>\n",
       "      <td>Multi-level adaptation of distributed decision...</td>\n",
       "      <td>Blanco-Fernández, D.</td>\n",
       "      <td>arXiv</td>\n",
       "      <td>2021</td>\n",
       "      <td>To solve complex tasks, individuals often auto...</td>\n",
       "      <td>{'reasoning': 'This article discusses team ada...</td>\n",
       "      <td>{'reasoning': 'The article discusses decision-...</td>\n",
       "      <td>NaN</td>\n",
       "    </tr>\n",
       "    <tr>\n",
       "      <th>2</th>\n",
       "      <td>232</td>\n",
       "      <td>Complexity Synchronization in Emergent Intelli...</td>\n",
       "      <td>Mahmoodi, K.</td>\n",
       "      <td>arXiv</td>\n",
       "      <td>2023</td>\n",
       "      <td>In this work, we use a simple multi-agent-base...</td>\n",
       "      <td>{'reasoning': 'The input item discusses comple...</td>\n",
       "      <td>{'reasoning': 'The paper discusses complexity ...</td>\n",
       "      <td>NaN</td>\n",
       "    </tr>\n",
       "    <tr>\n",
       "      <th>3</th>\n",
       "      <td>274</td>\n",
       "      <td>Perimeter Control with Heterogeneous Metering ...</td>\n",
       "      <td>Yu, J.</td>\n",
       "      <td>arXiv</td>\n",
       "      <td>2023</td>\n",
       "      <td>Perimeter Control (PC) strategies have been pr...</td>\n",
       "      <td>{'reasoning': 'The input item discusses Multi-...</td>\n",
       "      <td>{'reasoning': 'The article discusses traffic s...</td>\n",
       "      <td>NaN</td>\n",
       "    </tr>\n",
       "    <tr>\n",
       "      <th>4</th>\n",
       "      <td>370</td>\n",
       "      <td>Generating synthetic data with a mechanism-bas...</td>\n",
       "      <td>Cockrell, C.</td>\n",
       "      <td>bioRxiv</td>\n",
       "      <td>2022</td>\n",
       "      <td>Machine learning (ML) and Artificial Intellige...</td>\n",
       "      <td>{'reasoning': 'The input item discusses genera...</td>\n",
       "      <td>{'reasoning': 'The article discusses synthetic...</td>\n",
       "      <td>NaN</td>\n",
       "    </tr>\n",
       "    <tr>\n",
       "      <th>5</th>\n",
       "      <td>250</td>\n",
       "      <td>Towards Autonomous Supply Chains: Definition, ...</td>\n",
       "      <td>Xu, L.</td>\n",
       "      <td>arXiv</td>\n",
       "      <td>2023</td>\n",
       "      <td>Recent global disruptions, such as the COVID-1...</td>\n",
       "      <td>{'reasoning': 'The input item discusses Autono...</td>\n",
       "      <td>{'reasoning': 'The article discusses autonomou...</td>\n",
       "      <td>NaN</td>\n",
       "    </tr>\n",
       "    <tr>\n",
       "      <th>6</th>\n",
       "      <td>665</td>\n",
       "      <td>Split Q learning: Reinforcement learning with ...</td>\n",
       "      <td>Lin, B.</td>\n",
       "      <td>arXiv</td>\n",
       "      <td>2019</td>\n",
       "      <td>Drawing an inspiration from behavioral studies...</td>\n",
       "      <td>{'reasoning': 'The input item discusses reinfo...</td>\n",
       "      <td>{'reasoning': 'The article discusses a reinfor...</td>\n",
       "      <td>NaN</td>\n",
       "    </tr>\n",
       "    <tr>\n",
       "      <th>7</th>\n",
       "      <td>649</td>\n",
       "      <td>Range expansion shifts clonal interference pat...</td>\n",
       "      <td>Krishnan, N.</td>\n",
       "      <td>bioRxiv</td>\n",
       "      <td>2019</td>\n",
       "      <td>Increasingly, predicting and even controlling ...</td>\n",
       "      <td>{'reasoning': 'The input item discusses evolut...</td>\n",
       "      <td>{'reasoning': 'The article does not discuss la...</td>\n",
       "      <td>NaN</td>\n",
       "    </tr>\n",
       "    <tr>\n",
       "      <th>8</th>\n",
       "      <td>272</td>\n",
       "      <td>Using a library of chemical reactions to fit s...</td>\n",
       "      <td>Burrage, P.M.</td>\n",
       "      <td>arXiv</td>\n",
       "      <td>2023</td>\n",
       "      <td>In this paper we introduce a new method based ...</td>\n",
       "      <td>{'reasoning': 'The input item abstract discuss...</td>\n",
       "      <td>{'reasoning': 'The article focuses on agent-ba...</td>\n",
       "      <td>NaN</td>\n",
       "    </tr>\n",
       "    <tr>\n",
       "      <th>9</th>\n",
       "      <td>409</td>\n",
       "      <td>Not cheating on the Turing Test: towards groun...</td>\n",
       "      <td>Alberts, L.</td>\n",
       "      <td>arXiv</td>\n",
       "      <td>2022</td>\n",
       "      <td>In this thesis, I carry out a novel and interd...</td>\n",
       "      <td>{'reasoning': 'The input item discusses the de...</td>\n",
       "      <td>{'reasoning': 'The article discusses grounded ...</td>\n",
       "      <td>NaN</td>\n",
       "    </tr>\n",
       "  </tbody>\n",
       "</table>\n",
       "</div>"
      ],
      "text/plain": [
       "    ID                                              Title  \\\n",
       "0  129  Agent Hospital: A Simulacrum of Hospital with ...   \n",
       "1  540  Multi-level adaptation of distributed decision...   \n",
       "2  232  Complexity Synchronization in Emergent Intelli...   \n",
       "3  274  Perimeter Control with Heterogeneous Metering ...   \n",
       "4  370  Generating synthetic data with a mechanism-bas...   \n",
       "5  250  Towards Autonomous Supply Chains: Definition, ...   \n",
       "6  665  Split Q learning: Reinforcement learning with ...   \n",
       "7  649  Range expansion shifts clonal interference pat...   \n",
       "8  272  Using a library of chemical reactions to fit s...   \n",
       "9  409  Not cheating on the Turing Test: towards groun...   \n",
       "\n",
       "             1st author     repo  year  \\\n",
       "0                Li, J.    arXiv  2024   \n",
       "1  Blanco-Fernández, D.    arXiv  2021   \n",
       "2          Mahmoodi, K.    arXiv  2023   \n",
       "3                Yu, J.    arXiv  2023   \n",
       "4          Cockrell, C.  bioRxiv  2022   \n",
       "5                Xu, L.    arXiv  2023   \n",
       "6               Lin, B.    arXiv  2019   \n",
       "7          Krishnan, N.  bioRxiv  2019   \n",
       "8         Burrage, P.M.    arXiv  2023   \n",
       "9           Alberts, L.    arXiv  2022   \n",
       "\n",
       "                                            abstract  \\\n",
       "0  In this paper, we introduce a simulacrum of ho...   \n",
       "1  To solve complex tasks, individuals often auto...   \n",
       "2  In this work, we use a simple multi-agent-base...   \n",
       "3  Perimeter Control (PC) strategies have been pr...   \n",
       "4  Machine learning (ML) and Artificial Intellige...   \n",
       "5  Recent global disruptions, such as the COVID-1...   \n",
       "6  Drawing an inspiration from behavioral studies...   \n",
       "7  Increasingly, predicting and even controlling ...   \n",
       "8  In this paper we introduce a new method based ...   \n",
       "9  In this thesis, I carry out a novel and interd...   \n",
       "\n",
       "                               round-A_Pouria_output  \\\n",
       "0  {'reasoning': 'The input item discusses Agent ...   \n",
       "1  {'reasoning': 'This article discusses team ada...   \n",
       "2  {'reasoning': 'The input item discusses comple...   \n",
       "3  {'reasoning': 'The input item discusses Multi-...   \n",
       "4  {'reasoning': 'The input item discusses genera...   \n",
       "5  {'reasoning': 'The input item discusses Autono...   \n",
       "6  {'reasoning': 'The input item discusses reinfo...   \n",
       "7  {'reasoning': 'The input item discusses evolut...   \n",
       "8  {'reasoning': 'The input item abstract discuss...   \n",
       "9  {'reasoning': 'The input item discusses the de...   \n",
       "\n",
       "                               round-A_Bardia_output  \\\n",
       "0  {'reasoning': 'The article discusses the appli...   \n",
       "1  {'reasoning': 'The article discusses decision-...   \n",
       "2  {'reasoning': 'The paper discusses complexity ...   \n",
       "3  {'reasoning': 'The article discusses traffic s...   \n",
       "4  {'reasoning': 'The article discusses synthetic...   \n",
       "5  {'reasoning': 'The article discusses autonomou...   \n",
       "6  {'reasoning': 'The article discusses a reinfor...   \n",
       "7  {'reasoning': 'The article does not discuss la...   \n",
       "8  {'reasoning': 'The article focuses on agent-ba...   \n",
       "9  {'reasoning': 'The article discusses grounded ...   \n",
       "\n",
       "                                 round-B_Brad_output  \n",
       "0  {'reasoning': 'The title and abstract of the a...  \n",
       "1                                                NaN  \n",
       "2                                                NaN  \n",
       "3                                                NaN  \n",
       "4                                                NaN  \n",
       "5                                                NaN  \n",
       "6                                                NaN  \n",
       "7                                                NaN  \n",
       "8                                                NaN  \n",
       "9                                                NaN  "
      ]
     },
     "execution_count": 10,
     "metadata": {},
     "output_type": "execute_result"
    }
   ],
   "source": [
    "# Reload the data if needed.\n",
    "sample_data = pd.read_excel('data.xlsx').sample(10).reset_index(drop=True)\n",
    "updated_data = asyncio.run(title_abs_review(sample_data))\n",
    "\n",
    "print(\"Total cost: \")\n",
    "print(title_abs_review.get_total_cost())\n",
    "\n",
    "print(\"\\nDetailed cost:\")\n",
    "print(title_abs_review.reviewer_costs)\n",
    "\n",
    "updated_data"
   ]
  },
  {
   "cell_type": "code",
   "execution_count": 11,
   "metadata": {},
   "outputs": [
    {
     "name": "stdout",
     "output_type": "stream",
     "text": [
      "\n",
      "        Title: Agent Hospital: A Simulacrum of Hospital with Evolvable Medical Agents\n",
      "        Abstract: In this paper, we introduce a simulacrum of hospital called Agent Hospital that simulates the entire process of treating illness. All patients, nurses, and doctors are autonomous agents powered by large language models (LLMs). Our central goal is to enable a doctor agent to learn how to treat illness within the simulacrum. To do so, we propose a method called MedAgent-Zero. As the simulacrum can simulate disease onset and progression based on knowledge bases and LLMs, doctor agents can keep accumulating experience from both successful and unsuccessful cases. Simulation experiments show that the treatment performance of doctor agents consistently improves on various tasks. More interestingly, the knowledge the doctor agents have acquired in Agent Hospital is applicable to real-world medicare benchmarks. After treating around ten thousand patients (real-world doctors may take over two years), the evolved doctor agent achieves a state-of-the-art accuracy of 93.06% on a subset of the MedQA dataset that covers major respiratory diseases. This work paves the way for advancing the applications of LLM-powered agent techniques in medical scenarios.\n",
      "        Pouria's review: {'reasoning': 'The input item discusses Agent Hospital, a simulacrum that utilizes large language models (LLMs) to simulate the process of treating illness. While it mentions medical imaging data is not explicitly mentioned in the title or abstract. However, it does discuss applying LLMs to medical scenarios, which can be extended to include applications like image analysis.', 'score': 1}\n",
      "        Bardia's review: {'reasoning': 'The article discusses the application of large language models in a simulated hospital environment, focusing on the evolution and performance of AI agents in treating illnesses, but it does not specifically address the use of these models in medical imaging data.', 'score': 2}\n",
      "        \n",
      "{'reasoning': \"The title and abstract of the article focus on the use of large language models (LLMs) in a simulated hospital environment, specifically discussing the evolution and performance of AI agents in treating illnesses. The abstract highlights the use of LLMs to simulate disease onset and progression and to improve the treatment performance of doctor agents. However, there is no explicit mention of medical imaging data or its analysis in the title or abstract. Pouria's reasoning points out this absence and acknowledges that while the article discusses LLMs in medical scenarios, it does not specifically address medical imaging data. Bardia acknowledges the focus on LLMs in a simulated hospital but also notes the lack of specific mention of medical imaging data. Given the task of evaluating whether the article discusses LLM-based AI agents applied to medical imaging data, Pouria's assessment that it does not meet this criterion is more aligned with the content provided. Therefore, I agree with Pouria's score of 1, as the article does not explicitly discuss medical imaging data.\", 'score': 1}\n",
      "\n",
      "        Title: Multi-level adaptation of distributed decision-making agents in complex task environments\n",
      "        Abstract: To solve complex tasks, individuals often autonomously organize in teams. Examples of complex tasks include disaster relief rescue operations or project development in consulting. The teams that work on such tasks are adaptive at multiple levels: First, by autonomously choosing the individuals that jointly perform a specific task, the team itself adapts to the complex task at hand, whereby the composition of teams might change over time. We refer to this process as self-organization. Second, the members of a team adapt to the complex task environment by learning. There is, however, a lack of extensive research on multi-level adaptation processes that consider self-organization and individual learning as simultaneous processes in the field of management science. We introduce an agent-based model based on the NK-framework to study the effects of simultaneous multi-level adaptation on a team’s performance. We implement the multi-level adaptation process by a second-price auction mechanism for self-organization at the team level. Adaptation at the individual level follows an autonomous learning mechanism. Our preliminary results suggest that, depending on the task’s complexity, different configurations of individual and collective adaptation can be associated with higher overall task performance. Low complex tasks favour high individual and collective adaptation, while moderate individual and collective adaptation is associated with better performance in case of moderately complex tasks. For highly complex tasks, the results suggest that collective adaptation is harmful to performance.\n",
      "        Pouria's review: {'reasoning': 'This article discusses team adaptation and performance in complex tasks, using an agent-based model. However, it does not mention large language models or their application to medical imaging data. The focus is on self-organization and individual learning within teams, rather than AI agents and medical imaging.', 'score': 2}\n",
      "        Bardia's review: {'reasoning': 'The article discusses decision-making agents in complex task environments but does not mention large language models or their application to medical imaging data, making it irrelevant to the specified criteria.', 'score': 2}\n",
      "        \n",
      "nan\n",
      "\n",
      "        Title: Complexity Synchronization in Emergent Intelligence\n",
      "        Abstract: In this work, we use a simple multi-agent-based model (MABM), implementing selfish algorithm (SA) agents, to create an adaptive environment and show, using modified diffusion entropy analysis (MDEA), that the mutual-adaptive interaction between the parts of such a network manifests complexity synchronization (CS). CS has been experimentally shown to exist among organ-networks (ONs) of the brain (neurophysiology), lungs (respiration), and heart (cardiovascular reactivity) and to be explained theoretically as a synchronization of the multifractal scaling parameters characterizing each time series. Herein, we find the same kind of CS in the emergent intelligence (i.e., without macroscopic control and based on self-interest) between two groups of agents playing an anti-coordination game, thereby suggesting the potential for the same CS in real-world social phenomena and in human-machine interactions.\n",
      "        Pouria's review: {'reasoning': 'The input item discusses complexity synchronization in emergent intelligence using multi-agent-based models and diffusion entropy analysis. However, there is no mention of large language models (LLMs) or their application to medical imaging data. The article appears to focus on the synchronization of complex systems, which may be relevant to various fields, including social sciences and human-machine interactions, but does not directly relate to the specified criteria.', 'score': 2}\n",
      "        Bardia's review: {'reasoning': 'The paper discusses complexity synchronization in multi-agent systems and their interactions, but it does not specifically address large language models or apply them to medical imaging data, which does not meet the criteria.', 'score': 2}\n",
      "        \n",
      "nan\n",
      "\n",
      "        Title: Perimeter Control with Heterogeneous Metering Rates for Cordon Signals: A Physics-Regularized Multi-Agent Reinforcement Learning Approach\n",
      "        Abstract: Perimeter Control (PC) strategies have been proposed to address urban road network control in oversaturated situations by regulating the transfer flow of the Protected Network (PN) based on the Macroscopic Fundamental Diagram (MFD). The uniform metering rate for cordon signals in most existing studies overlooks the variance of local traffic states at the intersection level, which may cause severe local traffic congestion and degradation of the network stability. PC strategies with heterogeneous metering rates for cordon signals allow precise control for the perimeter but the complexity of the problem increases exponentially with the scale of the PN. This paper leverages a Multi-Agent Reinforcement Learning (MARL)-based traffic signal control framework to decompose this PC problem, which considers heterogeneous metering rates for cordon signals, into multi-agent cooperation tasks. Each agent controls an individual signal located in the cordon, decreasing the dimension of action space for the controller compared to centralized methods. A physics regularization approach for the MARL framework is proposed to ensure the distributed cordon signal controllers are aware of the global network state by encoding MFD-based knowledge into the action-value functions of the local agents. The proposed PC strategy is operated as a two-stage system, with a feedback PC strategy detecting the overall traffic state within the PN and then distributing local instructions to cordon signals controllers in the MARL framework via the physics regularization. Through numerical tests with different demand patterns in a microscopic traffic environment, the proposed PC strategy shows promising robustness and transferability. It outperforms state-of-the-art feedback PC strategies in increasing network throughput, decreasing distributed delay for gate links, and reducing carbon emissions.\n",
      "        Pouria's review: {'reasoning': 'The input item discusses Multi-Agent Reinforcement Learning (MARL)-based traffic signal control framework applied to urban road network control, which is different from the application of large language models-based AI agents to medical imaging data. Therefore, it does not meet the criteria.', 'score': 2}\n",
      "        Bardia's review: {'reasoning': 'The article discusses traffic signal control using reinforcement learning, which is unrelated to large language models or medical imaging data.', 'score': 2}\n",
      "        \n",
      "nan\n",
      "\n",
      "        Title: Generating synthetic data with a mechanism-based Critical Illness Digital Twin: Demonstration for Post Traumatic Acute Respiratory Distress Syndrome\n",
      "        Abstract: Machine learning (ML) and Artificial Intelligence (AI) approaches are increasingly applied to predicting the development of sepsis and multiple organ failure. While there has been success in demonstrating the clinical utility of such systems in terms of affecting various outcomes, there are fundamental challenges to the ML/AI approach in terms of improving the actual predictive performance and future robustness of such systems. Given that one of the primary proposed avenues for improving algorithmic performance is the addition of molecular/biomarker/genetic features to the data used to train these systems, the overall sparsity of such available data suggests the need to generate synthetic data to aid in training, as has been the case in numerous other ML/AI tasks, such as image recognition/generation and text analysis/generation. We propose the need to generate synthetic molecular/mediator time series data coincides with the advent of the concept of medical digital twins, specifically related to interpretations of medical digital twins that hew closely to the original description and use of industrial digital twins, which involve simulating multiple individual twins from a common computational model specification. Herein we present an example of generating synthetic time series data of a panel of pro- and anti-inflammatory cytokines using the Critical Illness Digital Twin (CIDT) regarding the development of post-traumatic acute respiratory distress syndrome.\n",
      "        Pouria's review: {'reasoning': 'The input item discusses generating synthetic data using a Critical Illness Digital Twin for post-traumatic acute respiratory distress syndrome, but it does not explicitly mention the application of large language models to medical imaging data. However, it does discuss machine learning and AI approaches in general terms, which is related to the field.', 'score': 2}\n",
      "        Bardia's review: {'reasoning': 'The article discusses synthetic data generation for ML/AI in healthcare but does not specifically focus on large language models or their application to medical imaging data.', 'score': 2}\n",
      "        \n",
      "nan\n",
      "\n",
      "        Title: Towards Autonomous Supply Chains: Definition, Characteristics, Conceptual Framework, and Autonomy Levels\n",
      "        Abstract: Recent global disruptions, such as the COVID-19 pandemic and the ongoing geopolitical conflicts, have profoundly exposed vulnerabilities in traditional supply chains, requiring exploration of more resilient alternatives. Among various solution offerings, Autonomous supply chains (ASCs) have emerged as key enablers of increased integration and visibility, enhancing flexibility and resilience in turbulent trade environments through the widespread automation of low level decision making. Although ASC solutions have been discussed and trialled over several years, they still lack well-established theoretical foundations. This paper addresses this research gap by presenting a formal definition of ASC along with its defining characteristics and auxiliary concepts. We propose a layered conceptual framework, called the MIISI model. An illustrative case study focusing on the meat supply chain demonstrates an initial ASC implementation based on this conceptual model. Furthermore, we introduce a seven-level supply chain autonomy reference model, delineating a trajectory towards achieving full supply chain autonomy. Recognising that this work represents an initial endeavour, we emphasise the need for continued exploration in this emerging domain. This work is designed to stimulate further research, both theoretical and technical, and contribute to the continual evolution of ASCs.\n",
      "        Pouria's review: {'reasoning': 'The input item discusses Autonomous Supply Chains (ASCs) and their potential benefits in turbulent trade environments, but it does not mention large language models-based AI agents applied to medical imaging data at all. The topic of the paper is unrelated to our search criteria, which specifically focuses on articles discussing AI agents based on large language models applied to medical imaging data.', 'score': 2}\n",
      "        Bardia's review: {'reasoning': 'The article discusses autonomous supply chains and their implementation rather than large language models-based AI agents applied to medical imaging data, which does not meet the specified criteria.', 'score': 2}\n",
      "        \n",
      "nan\n",
      "\n",
      "        Title: Split Q learning: Reinforcement learning with two-stream rewards\n",
      "        Abstract: Drawing an inspiration from behavioral studies of human decision making, we propose here a general parametric framework for a reinforcement learning problem, which extends the standard Q-learning approach to incorporate a twostream framework of reward processing with biases biologically associated with several neurological and psychiatric conditions, including Parkinson's and Alzheimer's diseases, attentiondeficit/ hyperactivity disorder (ADHD), addiction, and chronic pain. For AI community, the development of agents that react differently to different types of rewards can enable us to understand a wide spectrum of multi-agent interactions in complex real-world socioeconomic systems. Moreover, from the behavioral modeling perspective, our parametric framework can be viewed as a first step towards a unifying computational model capturing reward processing abnormalities across multiple mental conditions and user preferences in longterm recommendation systems.\n",
      "        Pouria's review: {'reasoning': 'The input item discusses reinforcement learning with a two-stream framework of reward processing, but it does not specifically focus on large language models-based AI agents applied to medical imaging data. The abstract mentions neurological and psychiatric conditions, but the primary context is behavioral studies and complex real-world socioeconomic systems, rather than medical imaging.', 'score': 2}\n",
      "        Bardia's review: {'reasoning': 'The article discusses a reinforcement learning framework related to reward processing in human decision making but does not mention large language models or their application to medical imaging data, therefore it does not meet the specified criteria.', 'score': 2}\n",
      "        \n",
      "nan\n",
      "\n",
      "        Title: Range expansion shifts clonal interference patterns in evolving populations\n",
      "        Abstract: Increasingly, predicting and even controlling evolutionary processes is a sought after goal in fields ranging from agriculture, artificial intelligence, astrobiology, oncology, and infectious diseases. However, our ability to predict evolution and plan such interventions in real populations is limited in part by our understanding of how spatial structure modulates evolutionary dynamics. Among current clinical assays applied to predict drug response in infectious diseases, for instance, many do not explicitly consider spatial structure and its influence on phenotypic heterogeneity, despite it being an inextricable characteristic of real populations. As spatially structured populations are subject to increased interference of beneficial mutants compared to their well-mixed counter-parts, among other effects, this population heterogeneity and structure may non-trivially impact drug response. In spatially-structured populations, the extent of this mutant interference is density dependent and thus varies with relative position within a meta-population in a manner modulated by mutant frequency, selection strength, migration speed, and habitat length, among other factors. In this study, we examine beneficial mutant fixation dynamics along the front of an asexual population expanding its range. We observe that multiple distinct evolutionary regimes of beneficial mutant origin-fixation dynamics are maintained at characteristic length scales along the front of the population expansion. Using an agent-based simulation of range expansion with mutation and selection in one dimension, we measure these length scales across a range of population sizes, selection strengths, and mutation rates. Furthermore, using simple scaling arguments to adapt theory from well-mixed populations, we find that the length scale at the tip of the front within which ‘local’ mutant fixation occurs in a successive mode decreases with increasing mutation rate, as well as population size in a manner predicted by our derived analytic expression. Finally, we discuss the relevance of our findings to real cellular populations, arguing that this conserved region of successive mutant fixation dynamics at the wave tip can be exploited by emerging evolutionary control strategies.\n",
      "        Pouria's review: {'reasoning': 'The input item discusses evolutionary processes and spatial structure modulating evolutionary dynamics, but it does not explicitly mention large language models-based AI agents applied to medical imaging data. The focus is on predicting and controlling evolutionary processes, which is a different area of research compared to the application of AI in medical imaging.', 'score': 2}\n",
      "        Bardia's review: {'reasoning': 'The article does not discuss large language models-based AI agents applied to medical imaging data, as it focuses on evolutionary processes and population dynamics instead.', 'score': 2}\n",
      "        \n",
      "nan\n",
      "\n",
      "        Title: Using a library of chemical reactions to fit systems of ordinary differential equations to agent-based models: a machine learning approach\n",
      "        Abstract: In this paper we introduce a new method based on a library of chemical reactions for constructing a system of ordinary differential equations from stochastic simulations arising from an agent-based model. The advantage of this approach is that this library respects any coupling between systems components, whereas the SINDy algorithm (introduced by Brunton, Proctor and Kutz) treats the individual components as decoupled from one another. Another advantage of our approach is that we can use a non-negative least squares algorithm to find the non-negative rate constants in a very robust, stable and simple manner. We illustrate our ideas on an agent-based model of tumour growth on a 2D lattice.\n",
      "        Pouria's review: {'reasoning': 'The input item abstract discusses a method for constructing a system of ordinary differential equations from stochastic simulations arising from an agent-based model, but it does not specifically mention the application of large language models to medical imaging data. The focus is on using a library of chemical reactions to fit systems of ODEs to agent-based models, which is unrelated to the criteria.', 'score': 2}\n",
      "        Bardia's review: {'reasoning': 'The article focuses on agent-based models and ordinary differential equations in the context of chemical reactions and tumor growth, but it does not discuss large language models or AI agents applied to medical imaging data.', 'score': 2}\n",
      "        \n",
      "nan\n",
      "\n",
      "        Title: Not cheating on the Turing Test: towards grounded language learning in Artificial Intelligence\n",
      "        Abstract: In this thesis, I carry out a novel and interdisciplinary analysis into various complex factors involved in human natural-language acquisition, use and comprehension, aimed at uncovering some of the basic requirements for if we were to try and develop artificially intelligent (AI) agents with similar capacities. Inspired by a recent publication wherein I explored the complexities and challenges involved in enabling AI systems to deal with the grammatical (i.e. syntactic and morphological) irregularities and ambiguities inherent in natural language (Alberts, 2019), I turn my focus here towards appropriately inferring the content of symbols themselves-as 'grounded' in real-world percepts, actions, and situations. I first introduce the key theoretical problems I aim to address in theories of mind and language. For background, I discuss the co-development of AI and the controverted strands of computational theories of mind in cognitive science, and the grounding problem (or 'internalist trap') faced by them. I then describe the approach I take to address the grounding problem in the rest of the thesis. This proceeds in chapter I. To unpack and address the issue, I offer a critical analysis of the relevant theoretical literature in philosophy of mind, psychology, cognitive science and (cognitive) linguistics in chapter II. I first evaluate the major philosophical/psychological debates regarding the nature of concepts; theories regarding how concepts are acquired, used, and represented in the mind; and, on that basis, offer my own account of conceptual structure, grounded in current (cognitively plausible) connectionist theories of thought. To further explicate how such concepts are acquired and communicated, I evaluate the relevant embodied (e.g. cognitive, perceptive, sensorimotor, affective, etc.) factors involved in grounded human (social) cognition, drawing from current scientific research in the areas of 4E Cognition and social cognition. On that basis, I turn my focus specifically towards grounded theories of language, drawing from the cognitive linguistics programme that aims to develop a naturalised, cognitively plausible understanding of human concept/language acquisition and use. I conclude the chapter with a summary wherein I integrate my findings from these various disciplines, presenting a general theoretical basis upon which to evaluate more practical considerations for its implementation in AI-the topic of the following chapter. In chapter III, I offer an overview of the different major approaches (and their integrations) in the area of Natural Language Understanding in AI, evaluating their respective strengths and shortcomings in terms of specific models. I then offer a critical summary wherein I contrast and contextualise the different approaches in terms of the more fundamental theoretical convictions they seem to reflect. On that basis, in the final chapter, I re-evaluate the aforementioned grounding problem and the different ways in which it has been interpreted in different (theoretical and practical) disciplines, distinguishing between a stronger and weaker reading. I then present arguments for why implementing the stronger version in AI seems, both practically and theoretically, problematic. Instead, drawing from the theoretical insights I gathered, I consider some of the key requirements for 'grounding' (in the weaker sense) as much as possible of natural language use with robotic AI agents, including implementational constraints that might need to be put in place to achieve this. Finally, I evaluate some of the key challenges that may be involved, if indeed the aim were to meet all the requirements specified.\n",
      "        Pouria's review: {'reasoning': 'The input item discusses the development of artificially intelligent (AI) agents with capacities similar to human natural-language acquisition, use and comprehension. However, it does not specifically focus on large language models-based AI agents applied to medical imaging data. The paper explores the complexities involved in enabling AI systems to deal with natural language irregularities and ambiguities, but its primary emphasis is on understanding how to develop more grounded and cognitively plausible theories of human concept/language acquisition and use.', 'score': 2}\n",
      "        Bardia's review: {'reasoning': 'The article discusses grounded language learning in AI but does not specifically address large language models applied to medical imaging data, which is the focus of the criteria.', 'score': 2}\n",
      "        \n",
      "nan\n"
     ]
    }
   ],
   "source": [
    "for i, row in updated_data.iterrows():\n",
    "    print(\n",
    "        f\"\"\"\n",
    "        Title: {row.Title}\n",
    "        Abstract: {row.abstract}\n",
    "        Pouria's review: {row[\"round-A_Pouria_output\"]}\n",
    "        Bardia's review: {row[\"round-A_Bardia_output\"]}\n",
    "        \"\"\"\n",
    "    )\n",
    "    if \"round-B_Brad_output\" in row:\n",
    "        print(row[\"round-B_Brad_output\"])"
   ]
  },
  {
   "cell_type": "code",
   "execution_count": 12,
   "metadata": {},
   "outputs": [
    {
     "data": {
      "text/plain": [
       "[{'identity': {'system_prompt': \"Your name is <<Brad>> and you are <<a senior radiologist with a PhD in computer science and years of experience as the director of a DL lab focused on developing ML models for radiology and healthcare>>. Your task is to review input itmes with the following description: <<tilte and abstract of scientific articles>>. Your final output should have the following keys: reasoning (<class 'str'>), score (<class 'int'>).\",\n",
       "   'item_prompt': 'Review the input item below and evaluate it against the following criteria: Scoring task: <<Pouria and Bardia have Looked for articles that disucss large languange models-based AI agents applied to medical imaging data. They scored an article 1 if they thought it does not meet this criteria, 2 if they thought it meets the criteria, 0 if they were uncertain of scoring. You will receive an article they have had different opinions about, as well as each of their scores and their reasoning for that score. Read their reviews and determine who you agree with. >> Input item: <<${item}$>> The possible scores for you to choose from are: [1, 2]. Your scoring should be based on the following rules: <<Score 1 if you agree with Pouria, and score 2 if you agree with Bardia.>> If you are highly uncertain about what score to return, return a score of \"0\". You must also provide a reasoning for your scoring . Think step by step in your reasoning. First reason then score!',\n",
       "   'temperature': 0.4,\n",
       "   'max_tokens': 100},\n",
       "  'item': \"Title: Agent Hospital: A Simulacrum of Hospital with Evolvable Medical Agents abstract: In this paper, we introduce a simulacrum of hospital called Agent Hospital that simulates the entire process of treating illness. All patients, nurses, and doctors are autonomous agents powered by large language models (LLMs). Our central goal is to enable a doctor agent to learn how to treat illness within the simulacrum. To do so, we propose a method called MedAgent-Zero. As the simulacrum can simulate disease onset and progression based on knowledge bases and LLMs, doctor agents can keep accumulating experience from both successful and unsuccessful cases. Simulation experiments show that the treatment performance of doctor agents consistently improves on various tasks. More interestingly, the knowledge the doctor agents have acquired in Agent Hospital is applicable to real-world medicare benchmarks. After treating around ten thousand patients (real-world doctors may take over two years), the evolved doctor agent achieves a state-of-the-art accuracy of 93.06% on a subset of the MedQA dataset that covers major respiratory diseases. This work paves the way for advancing the applications of LLM-powered agent techniques in medical scenarios. round-A_Pouria_output: {'reasoning': 'The input item discusses Agent Hospital, a simulacrum that utilizes large language models (LLMs) to simulate the process of treating illness. While it mentions medical imaging data is not explicitly mentioned in the title or abstract. However, it does discuss applying LLMs to medical scenarios, which can be extended to include applications like image analysis.', 'score': 1} round-A_Bardia_output: {'reasoning': 'The article discusses the application of large language models in a simulated hospital environment, focusing on the evolution and performance of AI agents in treating illnesses, but it does not specifically address the use of these models in medical imaging data.', 'score': 2}\",\n",
       "  'response': '{\"reasoning\":\"The title and abstract of the article focus on the use of large language models (LLMs) in a simulated hospital environment, specifically discussing the evolution and performance of AI agents in treating illnesses. The abstract highlights the use of LLMs to simulate disease onset and progression and to improve the treatment performance of doctor agents. However, there is no explicit mention of medical imaging data or its analysis in the title or abstract. Pouria\\'s reasoning points out this absence and acknowledges that while the article discusses LLMs in medical scenarios, it does not specifically address medical imaging data. Bardia acknowledges the focus on LLMs in a simulated hospital but also notes the lack of specific mention of medical imaging data. Given the task of evaluating whether the article discusses LLM-based AI agents applied to medical imaging data, Pouria\\'s assessment that it does not meet this criterion is more aligned with the content provided. Therefore, I agree with Pouria\\'s score of 1, as the article does not explicitly discuss medical imaging data.\",\"score\":1}',\n",
       "  'cost': {'input_cost': 0.0014925,\n",
       "   'output_cost': 0.00211,\n",
       "   'total_cost': 0.0036025}}]"
      ]
     },
     "execution_count": 12,
     "metadata": {},
     "output_type": "execute_result"
    }
   ],
   "source": [
    "brad.memory"
   ]
  }
 ],
 "metadata": {
  "kernelspec": {
   "display_name": "venv",
   "language": "python",
   "name": "python3"
  },
  "language_info": {
   "codemirror_mode": {
    "name": "ipython",
    "version": 3
   },
   "file_extension": ".py",
   "mimetype": "text/x-python",
   "name": "python",
   "nbconvert_exporter": "python",
   "pygments_lexer": "ipython3",
   "version": "3.9.6"
  }
 },
 "nbformat": 4,
 "nbformat_minor": 2
}
