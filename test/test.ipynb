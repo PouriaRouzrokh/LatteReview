{
 "cells": [
  {
   "cell_type": "code",
   "execution_count": 1,
   "metadata": {},
   "outputs": [
    {
     "name": "stderr",
     "output_type": "stream",
     "text": [
      "Failed to update token costs. Using static costs.\n"
     ]
    },
    {
     "name": "stdout",
     "output_type": "stream",
     "text": [
      "sk-cq_M0pNgHhCFnlDOCMnagYA1l2X7Yea5CL0ci5pZMNT3BlbkFJ0m0x9wm5M_EstX5SjLu_kdwGMDYjkUdviNPs4pe9cA\n"
     ]
    },
    {
     "name": "stderr",
     "output_type": "stream",
     "text": [
      "/Users/pouria/Documents/Coding/LatteReview/venv/lib/python3.9/site-packages/tokencost/constants.py:69: RuntimeWarning: coroutine 'update_token_costs' was never awaited\n",
      "  logger.error(\"Failed to update token costs. Using static costs.\")\n",
      "RuntimeWarning: Enable tracemalloc to get the object allocation traceback\n"
     ]
    }
   ],
   "source": [
    "%reload_ext autoreload\n",
    "%autoreload 2\n",
    "\n",
    "import asyncio\n",
    "import nest_asyncio\n",
    "import os\n",
    "import sys\n",
    "from typing import ClassVar, Optional, Any, Dict, List, Union\n",
    "\n",
    "import anthropic\n",
    "from dotenv import load_dotenv\n",
    "import openai\n",
    "import pandas as pd\n",
    "import pydantic\n",
    "\n",
    "sys.path.append('../')\n",
    "from lattereview.providers.openai_provider import OpenAIProvider\n",
    "from lattereview.agents.scoring_reviewer import ScoringReviewer\n",
    "\n",
    "# Load environment variables from .env file\n",
    "load_dotenv('../.env')\n",
    "print(os.getenv('OPENAI_API_KEY'))\n",
    "\n",
    "# Enable asyncio in Jupyter\n",
    "nest_asyncio.apply()"
   ]
  },
  {
   "cell_type": "code",
   "execution_count": 2,
   "metadata": {},
   "outputs": [
    {
     "data": {
      "text/html": [
       "<div>\n",
       "<style scoped>\n",
       "    .dataframe tbody tr th:only-of-type {\n",
       "        vertical-align: middle;\n",
       "    }\n",
       "\n",
       "    .dataframe tbody tr th {\n",
       "        vertical-align: top;\n",
       "    }\n",
       "\n",
       "    .dataframe thead th {\n",
       "        text-align: right;\n",
       "    }\n",
       "</style>\n",
       "<table border=\"1\" class=\"dataframe\">\n",
       "  <thead>\n",
       "    <tr style=\"text-align: right;\">\n",
       "      <th></th>\n",
       "      <th>PMID</th>\n",
       "      <th>PMC ID</th>\n",
       "      <th>Title</th>\n",
       "      <th>Author(s)</th>\n",
       "      <th>Author(s) Full Name</th>\n",
       "      <th>Author(s) Affiliation</th>\n",
       "      <th>Corporate Author</th>\n",
       "      <th>Collaborator(s)</th>\n",
       "      <th>Collaborator(s) Full Name</th>\n",
       "      <th>Collaborator(s) Affiliation</th>\n",
       "      <th>...</th>\n",
       "      <th>Manuscript Identifier</th>\n",
       "      <th>Secondary Source ID</th>\n",
       "      <th>Publishing Model</th>\n",
       "      <th>Comment on</th>\n",
       "      <th>Comment in</th>\n",
       "      <th>Erratum in</th>\n",
       "      <th>Erratum for</th>\n",
       "      <th>Corrected and Republished in</th>\n",
       "      <th>Corrected and Republished from</th>\n",
       "      <th>Owner</th>\n",
       "    </tr>\n",
       "  </thead>\n",
       "  <tbody>\n",
       "    <tr>\n",
       "      <th>0</th>\n",
       "      <td>39618885</td>\n",
       "      <td>PMC11608428</td>\n",
       "      <td>Learning to Generate Context-Sensitive Backcha...</td>\n",
       "      <td>Bilalpur M||Inan M||Zeinali D||Cohn JF||Alikha...</td>\n",
       "      <td>Bilalpur, Maneesh||Inan, Mert||Zeinali, Dorsa|...</td>\n",
       "      <td>University of Pittsburgh, Pittsburgh, Pennsylv...</td>\n",
       "      <td>NaN</td>\n",
       "      <td>NaN</td>\n",
       "      <td>NaN</td>\n",
       "      <td>NaN</td>\n",
       "      <td>...</td>\n",
       "      <td>NIHMS2038099</td>\n",
       "      <td>NaN</td>\n",
       "      <td>NaN</td>\n",
       "      <td>NaN</td>\n",
       "      <td>NaN</td>\n",
       "      <td>NaN</td>\n",
       "      <td>NaN</td>\n",
       "      <td>NaN</td>\n",
       "      <td>NaN</td>\n",
       "      <td>NLM</td>\n",
       "    </tr>\n",
       "    <tr>\n",
       "      <th>1</th>\n",
       "      <td>39596657</td>\n",
       "      <td>PMC11593565</td>\n",
       "      <td>Assessing the Impact and Cost-Effectiveness of...</td>\n",
       "      <td>Liu SH||Weber ES||Manz KE||McCarthy KJ||Chen Y...</td>\n",
       "      <td>Liu, Shelley H||Weber, Ellerie S||Manz, Kather...</td>\n",
       "      <td>Department of Population Health Science and Po...</td>\n",
       "      <td>NaN</td>\n",
       "      <td>NaN</td>\n",
       "      <td>NaN</td>\n",
       "      <td>NaN</td>\n",
       "      <td>...</td>\n",
       "      <td>NaN</td>\n",
       "      <td>NaN</td>\n",
       "      <td>NaN</td>\n",
       "      <td>NaN</td>\n",
       "      <td>NaN</td>\n",
       "      <td>NaN</td>\n",
       "      <td>NaN</td>\n",
       "      <td>NaN</td>\n",
       "      <td>NaN</td>\n",
       "      <td>NLM</td>\n",
       "    </tr>\n",
       "    <tr>\n",
       "      <th>2</th>\n",
       "      <td>39594314</td>\n",
       "      <td>PMC11591420</td>\n",
       "      <td>Bridging Employees' Perceptions of Corporate S...</td>\n",
       "      <td>Wang Z||Carroll S||Wang EH</td>\n",
       "      <td>Wang, Zheni||Carroll, Steve||Wang, Eric H</td>\n",
       "      <td>Department of Management/International-Busines...</td>\n",
       "      <td>NaN</td>\n",
       "      <td>NaN</td>\n",
       "      <td>NaN</td>\n",
       "      <td>NaN</td>\n",
       "      <td>...</td>\n",
       "      <td>NaN</td>\n",
       "      <td>NaN</td>\n",
       "      <td>NaN</td>\n",
       "      <td>NaN</td>\n",
       "      <td>NaN</td>\n",
       "      <td>NaN</td>\n",
       "      <td>NaN</td>\n",
       "      <td>NaN</td>\n",
       "      <td>NaN</td>\n",
       "      <td>NLM</td>\n",
       "    </tr>\n",
       "    <tr>\n",
       "      <th>3</th>\n",
       "      <td>39531013</td>\n",
       "      <td>NaN</td>\n",
       "      <td>The influence of active agent motility on SIRS...</td>\n",
       "      <td>Kailasham R||Khair AS</td>\n",
       "      <td>Kailasham, R||Khair, Aditya S</td>\n",
       "      <td>Department of Chemical Engineering, Carnegie M...</td>\n",
       "      <td>NaN</td>\n",
       "      <td>NaN</td>\n",
       "      <td>NaN</td>\n",
       "      <td>NaN</td>\n",
       "      <td>...</td>\n",
       "      <td>NaN</td>\n",
       "      <td>NaN</td>\n",
       "      <td>NaN</td>\n",
       "      <td>NaN</td>\n",
       "      <td>NaN</td>\n",
       "      <td>NaN</td>\n",
       "      <td>NaN</td>\n",
       "      <td>NaN</td>\n",
       "      <td>NaN</td>\n",
       "      <td>NLM</td>\n",
       "    </tr>\n",
       "    <tr>\n",
       "      <th>4</th>\n",
       "      <td>39527845</td>\n",
       "      <td>NaN</td>\n",
       "      <td>Coupled infectious disease and behavior dynami...</td>\n",
       "      <td>Reitenbach A||Sartori F||Banisch S||Golovin A|...</td>\n",
       "      <td>Reitenbach, Andreas||Sartori, Fabio||Banisch, ...</td>\n",
       "      <td>Sociology and Computational Social Science, Ka...</td>\n",
       "      <td>NaN</td>\n",
       "      <td>NaN</td>\n",
       "      <td>NaN</td>\n",
       "      <td>NaN</td>\n",
       "      <td>...</td>\n",
       "      <td>NaN</td>\n",
       "      <td>NaN</td>\n",
       "      <td>NaN</td>\n",
       "      <td>NaN</td>\n",
       "      <td>NaN</td>\n",
       "      <td>NaN</td>\n",
       "      <td>NaN</td>\n",
       "      <td>NaN</td>\n",
       "      <td>NaN</td>\n",
       "      <td>NLM</td>\n",
       "    </tr>\n",
       "  </tbody>\n",
       "</table>\n",
       "<p>5 rows × 50 columns</p>\n",
       "</div>"
      ],
      "text/plain": [
       "       PMID       PMC ID                                              Title  \\\n",
       "0  39618885  PMC11608428  Learning to Generate Context-Sensitive Backcha...   \n",
       "1  39596657  PMC11593565  Assessing the Impact and Cost-Effectiveness of...   \n",
       "2  39594314  PMC11591420  Bridging Employees' Perceptions of Corporate S...   \n",
       "3  39531013          NaN  The influence of active agent motility on SIRS...   \n",
       "4  39527845          NaN  Coupled infectious disease and behavior dynami...   \n",
       "\n",
       "                                           Author(s)  \\\n",
       "0  Bilalpur M||Inan M||Zeinali D||Cohn JF||Alikha...   \n",
       "1  Liu SH||Weber ES||Manz KE||McCarthy KJ||Chen Y...   \n",
       "2                         Wang Z||Carroll S||Wang EH   \n",
       "3                              Kailasham R||Khair AS   \n",
       "4  Reitenbach A||Sartori F||Banisch S||Golovin A|...   \n",
       "\n",
       "                                 Author(s) Full Name  \\\n",
       "0  Bilalpur, Maneesh||Inan, Mert||Zeinali, Dorsa|...   \n",
       "1  Liu, Shelley H||Weber, Ellerie S||Manz, Kather...   \n",
       "2          Wang, Zheni||Carroll, Steve||Wang, Eric H   \n",
       "3                      Kailasham, R||Khair, Aditya S   \n",
       "4  Reitenbach, Andreas||Sartori, Fabio||Banisch, ...   \n",
       "\n",
       "                               Author(s) Affiliation Corporate Author  \\\n",
       "0  University of Pittsburgh, Pittsburgh, Pennsylv...              NaN   \n",
       "1  Department of Population Health Science and Po...              NaN   \n",
       "2  Department of Management/International-Busines...              NaN   \n",
       "3  Department of Chemical Engineering, Carnegie M...              NaN   \n",
       "4  Sociology and Computational Social Science, Ka...              NaN   \n",
       "\n",
       "  Collaborator(s) Collaborator(s) Full Name  Collaborator(s) Affiliation  ...  \\\n",
       "0             NaN                       NaN                          NaN  ...   \n",
       "1             NaN                       NaN                          NaN  ...   \n",
       "2             NaN                       NaN                          NaN  ...   \n",
       "3             NaN                       NaN                          NaN  ...   \n",
       "4             NaN                       NaN                          NaN  ...   \n",
       "\n",
       "  Manuscript Identifier Secondary Source ID Publishing Model Comment on  \\\n",
       "0          NIHMS2038099                 NaN              NaN        NaN   \n",
       "1                   NaN                 NaN              NaN        NaN   \n",
       "2                   NaN                 NaN              NaN        NaN   \n",
       "3                   NaN                 NaN              NaN        NaN   \n",
       "4                   NaN                 NaN              NaN        NaN   \n",
       "\n",
       "  Comment in Erratum in Erratum for Corrected and Republished in  \\\n",
       "0        NaN        NaN         NaN                          NaN   \n",
       "1        NaN        NaN         NaN                          NaN   \n",
       "2        NaN        NaN         NaN                          NaN   \n",
       "3        NaN        NaN         NaN                          NaN   \n",
       "4        NaN        NaN         NaN                          NaN   \n",
       "\n",
       "  Corrected and Republished from Owner  \n",
       "0                            NaN   NLM  \n",
       "1                            NaN   NLM  \n",
       "2                            NaN   NLM  \n",
       "3                            NaN   NLM  \n",
       "4                            NaN   NLM  \n",
       "\n",
       "[5 rows x 50 columns]"
      ]
     },
     "execution_count": 2,
     "metadata": {},
     "output_type": "execute_result"
    }
   ],
   "source": [
    "df = pd.read_excel('data.xlsx')\n",
    "df.head()"
   ]
  },
  {
   "cell_type": "code",
   "execution_count": 3,
   "metadata": {},
   "outputs": [
    {
     "name": "stdout",
     "output_type": "stream",
     "text": [
      "sk-cq_M0pNgHhCFnlDOCMnagYA1l2X7Yea5CL0ci5pZMNT3BlbkFJ0m0x9wm5M_EstX5SjLu_kdwGMDYjkUdviNPs4pe9cA\n"
     ]
    },
    {
     "name": "stderr",
     "output_type": "stream",
     "text": [
      "/Users/pouria/Documents/Coding/LatteReview/venv/lib/python3.9/site-packages/urllib3/__init__.py:35: NotOpenSSLWarning: urllib3 v2 only supports OpenSSL 1.1.1+, currently the 'ssl' module is compiled with 'LibreSSL 2.8.3'. See: https://github.com/urllib3/urllib3/issues/3020\n",
      "  warnings.warn(\n"
     ]
    },
    {
     "data": {
      "text/plain": [
       "('The capital of France is Paris.',\n",
       " {'input_cost': 1.05e-06, 'output_cost': 4.2e-06, 'total_cost': 5.25e-06})"
      ]
     },
     "execution_count": 3,
     "metadata": {},
     "output_type": "execute_result"
    }
   ],
   "source": [
    "print(os.getenv(\"OPENAI_API_KEY\", \"\"))\n",
    "openanai_provider = OpenAIProvider(model=\"gpt-4o-mini\")\n",
    "question = \"What is the capital of France?\"\n",
    "asyncio.run(openanai_provider.get_response(question, temperature=0.9))"
   ]
  },
  {
   "cell_type": "code",
   "execution_count": 4,
   "metadata": {},
   "outputs": [
    {
     "name": "stdout",
     "output_type": "stream",
     "text": [
      "Inputs:\n",
      "\n",
      " learning to generate context-sensitive backchannel smiles for embodied ai agents with applications in mental health dialogues.\n",
      "assessing the impact and cost-effectiveness of exposome interventions on alzheimer's disease: a review of agent-based modeling and other data science methods for causal inference.\n",
      "bridging employees' perceptions of corporate social responsibility, sense-making for meaningfulness, and work engagement for successful self-regulation.\n",
      "\n",
      "Outputs:\n",
      "\n",
      " {\"score\":1,\"reasoning\":\"The article explicitly discusses generating context-sensitive backchannel smiles for embodied AI agents, indicating a clear use of AI technology.\"}\n",
      "{\"score\":1,\"reasoning\":\"The article discusses agent-based modeling and data science methods, which typically involve AI or machine learning techniques, indicating it does not meet the criteria of not employing such methods.\"}\n",
      "{\"score\":2,\"reasoning\":\"The article focuses on employee perceptions and engagement without any indication of employing AI or machine learning, thus meeting the criteria.\"}\n",
      "\n",
      "Costs:\n",
      "\n",
      "{'input_cost': 2.385e-05, 'output_cost': 1.92e-05, 'total_cost': 4.305e-05}\n",
      "{'input_cost': 2.595e-05, 'output_cost': 2.52e-05, 'total_cost': 5.115e-05}\n",
      "{'input_cost': 2.475e-05, 'output_cost': 1.92e-05, 'total_cost': 4.395e-05}\n"
     ]
    }
   ],
   "source": [
    "agent = ScoringReviewer(\n",
    "    provider=OpenAIProvider(),\n",
    "    name=\"Pouria\",\n",
    "    backstory=\"an expert reviewer and researcher!\",\n",
    "    input_description = \"article title\",\n",
    "    temperature=0.1,\n",
    "    reasoning = \"brief\",\n",
    "    max_tokens=100,\n",
    "    review_criteria=\"Look for articles that certainly do not employ any AI or machine learning agents\",\n",
    "    scoring_set=[1, 2],\n",
    "    support_agent = \"test\",\n",
    "    scoring_rules='Your scores should be either 1 or 2. 1 means that the paper does not meet the criteria, and 2 means that the paper meets the criteria.',\n",
    "    # examples = [\n",
    "    #     {\n",
    "    #         \"input\": \"bridging employees' perceptions of corporate social responsibility, sense-making for meaningfulness, and work engagement for successful self-regulation.\",\n",
    "    #         \"SCORE\": 2\n",
    "    #     }\n",
    "#    ]\n",
    ")\n",
    "\n",
    "# Dummy input\n",
    "text_list = df.Title.str.lower().tolist()\n",
    "print(\"Inputs:\\n\\n\", '\\n'.join(text_list[:3]))\n",
    "\n",
    "# Dummy review\n",
    "print(\"\\nOutputs:\\n\\n\", '\\n'.join(asyncio.run(agent.review_items(text_list[:3]))))\n",
    "\n",
    "# Dummy costs\n",
    "print(\"\\nCosts:\\n\")\n",
    "for item in agent.memory:\n",
    "    print(item['cost'])\n"
   ]
  },
  {
   "cell_type": "code",
   "execution_count": 5,
   "metadata": {},
   "outputs": [
    {
     "data": {
      "text/plain": [
       "{'system_prompt': \"Your name is <<Pouria>> and you are <<an expert reviewer and researcher!>>. Your task is to review input itmes with the following description: <<article title>>. Your final output should have the following keys: score (<class 'int'>), reasoning (<class 'str'>).\",\n",
       " 'item_prompt': 'Review the item below and evaluate it against the following criteria: Input item: <<${item}$>> Review criteria: <<Look for articles that certainly do not employ any AI or machine learning agents>> Now score the article based on your evaluation and by choosing one of the following values: [1, 2]. If you are highly in doubt about what to score, score \"0\". Your scoring should be based on the following rules: <<Your scores should be either 1 or 2. 1 means that the paper does not meet the criteria, and 2 means that the paper meets the criteria.>> You must also provide a brief (1 sentence) reasoning for your scoring. First reason then score!',\n",
       " 'temperature': 0.1,\n",
       " 'max_tokens': 100}"
      ]
     },
     "execution_count": 5,
     "metadata": {},
     "output_type": "execute_result"
    }
   ],
   "source": [
    "agent.identity"
   ]
  },
  {
   "cell_type": "code",
   "execution_count": 6,
   "metadata": {},
   "outputs": [
    {
     "data": {
      "text/plain": [
       "[{'identity': {'system_prompt': \"Your name is <<Pouria>> and you are <<an expert reviewer and researcher!>>. Your task is to review input itmes with the following description: <<article title>>. Your final output should have the following keys: score (<class 'int'>), reasoning (<class 'str'>).\",\n",
       "   'item_prompt': 'Review the item below and evaluate it against the following criteria: Input item: <<${item}$>> Review criteria: <<Look for articles that certainly do not employ any AI or machine learning agents>> Now score the article based on your evaluation and by choosing one of the following values: [1, 2]. If you are highly in doubt about what to score, score \"0\". Your scoring should be based on the following rules: <<Your scores should be either 1 or 2. 1 means that the paper does not meet the criteria, and 2 means that the paper meets the criteria.>> You must also provide a brief (1 sentence) reasoning for your scoring. First reason then score!',\n",
       "   'temperature': 0.1,\n",
       "   'max_tokens': 100},\n",
       "  'item': 'learning to generate context-sensitive backchannel smiles for embodied ai agents with applications in mental health dialogues.',\n",
       "  'response': '{\"score\":1,\"reasoning\":\"The article explicitly discusses generating context-sensitive backchannel smiles for embodied AI agents, indicating a clear use of AI technology.\"}',\n",
       "  'cost': {'input_cost': 2.385e-05,\n",
       "   'output_cost': 1.92e-05,\n",
       "   'total_cost': 4.305e-05}},\n",
       " {'identity': {'system_prompt': \"Your name is <<Pouria>> and you are <<an expert reviewer and researcher!>>. Your task is to review input itmes with the following description: <<article title>>. Your final output should have the following keys: score (<class 'int'>), reasoning (<class 'str'>).\",\n",
       "   'item_prompt': 'Review the item below and evaluate it against the following criteria: Input item: <<${item}$>> Review criteria: <<Look for articles that certainly do not employ any AI or machine learning agents>> Now score the article based on your evaluation and by choosing one of the following values: [1, 2]. If you are highly in doubt about what to score, score \"0\". Your scoring should be based on the following rules: <<Your scores should be either 1 or 2. 1 means that the paper does not meet the criteria, and 2 means that the paper meets the criteria.>> You must also provide a brief (1 sentence) reasoning for your scoring. First reason then score!',\n",
       "   'temperature': 0.1,\n",
       "   'max_tokens': 100},\n",
       "  'item': \"assessing the impact and cost-effectiveness of exposome interventions on alzheimer's disease: a review of agent-based modeling and other data science methods for causal inference.\",\n",
       "  'response': '{\"score\":1,\"reasoning\":\"The article discusses agent-based modeling and data science methods, which typically involve AI or machine learning techniques, indicating it does not meet the criteria of not employing such methods.\"}',\n",
       "  'cost': {'input_cost': 2.595e-05,\n",
       "   'output_cost': 2.52e-05,\n",
       "   'total_cost': 5.115e-05}},\n",
       " {'identity': {'system_prompt': \"Your name is <<Pouria>> and you are <<an expert reviewer and researcher!>>. Your task is to review input itmes with the following description: <<article title>>. Your final output should have the following keys: score (<class 'int'>), reasoning (<class 'str'>).\",\n",
       "   'item_prompt': 'Review the item below and evaluate it against the following criteria: Input item: <<${item}$>> Review criteria: <<Look for articles that certainly do not employ any AI or machine learning agents>> Now score the article based on your evaluation and by choosing one of the following values: [1, 2]. If you are highly in doubt about what to score, score \"0\". Your scoring should be based on the following rules: <<Your scores should be either 1 or 2. 1 means that the paper does not meet the criteria, and 2 means that the paper meets the criteria.>> You must also provide a brief (1 sentence) reasoning for your scoring. First reason then score!',\n",
       "   'temperature': 0.1,\n",
       "   'max_tokens': 100},\n",
       "  'item': \"bridging employees' perceptions of corporate social responsibility, sense-making for meaningfulness, and work engagement for successful self-regulation.\",\n",
       "  'response': '{\"score\":2,\"reasoning\":\"The article focuses on employee perceptions and engagement without any indication of employing AI or machine learning, thus meeting the criteria.\"}',\n",
       "  'cost': {'input_cost': 2.475e-05,\n",
       "   'output_cost': 1.92e-05,\n",
       "   'total_cost': 4.395e-05}}]"
      ]
     },
     "execution_count": 6,
     "metadata": {},
     "output_type": "execute_result"
    }
   ],
   "source": [
    "agent.memory"
   ]
  },
  {
   "cell_type": "code",
   "execution_count": 7,
   "metadata": {},
   "outputs": [
    {
     "data": {
      "text/plain": [
       "0.00013815000000000002"
      ]
     },
     "execution_count": 7,
     "metadata": {},
     "output_type": "execute_result"
    }
   ],
   "source": [
    "agent.cost_so_far"
   ]
  }
 ],
 "metadata": {
  "kernelspec": {
   "display_name": "venv",
   "language": "python",
   "name": "python3"
  },
  "language_info": {
   "codemirror_mode": {
    "name": "ipython",
    "version": 3
   },
   "file_extension": ".py",
   "mimetype": "text/x-python",
   "name": "python",
   "nbconvert_exporter": "python",
   "pygments_lexer": "ipython3",
   "version": "3.9.6"
  }
 },
 "nbformat": 4,
 "nbformat_minor": 2
}
